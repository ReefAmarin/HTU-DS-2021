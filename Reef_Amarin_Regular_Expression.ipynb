{
  "nbformat": 4,
  "nbformat_minor": 0,
  "metadata": {
    "colab": {
      "name": "Reef-Amarin Regular Expression.ipynb",
      "provenance": [],
      "authorship_tag": "ABX9TyOi7gQ/wyx0QdUXmpbmEcPf",
      "include_colab_link": true
    },
    "kernelspec": {
      "name": "python3",
      "display_name": "Python 3"
    },
    "language_info": {
      "name": "python"
    }
  },
  "cells": [
    {
      "cell_type": "markdown",
      "metadata": {
        "id": "view-in-github",
        "colab_type": "text"
      },
      "source": [
        "<a href=\"https://colab.research.google.com/github/ReefAmarin/HTU-DS-2021/blob/main/Reef_Amarin_Regular_Expression.ipynb\" target=\"_parent\"><img src=\"https://colab.research.google.com/assets/colab-badge.svg\" alt=\"Open In Colab\"/></a>"
      ]
    },
    {
      "cell_type": "markdown",
      "metadata": {
        "id": "X1obaChiZDJn"
      },
      "source": [
        "\n",
        "\n",
        "1.  what is regular expressions\n",
        "2.   Module **re**\n",
        "3.   Funtions in regular expressions\n",
        "\n"
      ]
    },
    {
      "cell_type": "markdown",
      "metadata": {
        "id": "7BH3jc09Xu0b"
      },
      "source": [
        "#### A **regular expression** is a special sequence of characters that helps you **match or find other strings or sets of strings**, using a specialized syntax held in a pattern.Regular expressions (regex) are essentially text patterns that you can use to **automate searching** through and replacing elements within strings of text. This can make **cleaning and working** with text-based data sets much easier, saving you the trouble of having to search through mountains of text by hand."
      ]
    },
    {
      "cell_type": "markdown",
      "metadata": {
        "id": "ggQIDfNvNuTL"
      },
      "source": [
        "Below is detailed list of expressions and what they match to. \n",
        "\n",
        "| Expression | Matches With                   |\n",
        "| ---------- | -----------------------------  |\n",
        "| `abc...`   | lowercase letter               |\n",
        "| `123…`     | Digits                         |\n",
        "| `\\d`       | Any Digit                      |\n",
        "| `'\\D'`     | Any Non-digit character        |\n",
        "| `.`        | Any Character                  |\n",
        "| `\\.`       | Period                         |\n",
        "| `[abc]`    | Only a, b, or c                |\n",
        "| `\\.`       | Period                         |\n",
        "| `[abc]`    | Only a, b, or c                |\n",
        "| `[^abc]`   | Not a, b, nor c                |\n",
        "| `[a-z]`    | Characters a to z              |\n",
        "| `[0-9]`    | Numbers 0 to 9                 |\n",
        "| `\\w`       | Any Alphanumeric character     |\n",
        "| `\\W`       | Any Non-alphanumeric character |\n",
        "| `{m}`      | m Repetitions                  |\n",
        "| `{m,n}`    | m to n Repetitions             |\n",
        "| `\\*`       | Zero or more repetitions       |\n",
        "| `\\+`       | One or more repetitions        |\n",
        "| `?`        | Optional character             |\n",
        "| `\\s`       | Any Whitespace                 |\n",
        "| `\\S`       | Any Non-whitespace character   |\n",
        "| `^…$`      | Starts and ends                |\n",
        "| `(…)`      | Capture Group                  |\n"
      ]
    },
    {
      "cell_type": "code",
      "metadata": {
        "colab": {
          "base_uri": "https://localhost:8080/",
          "height": 196
        },
        "id": "tox5mnMipXBn",
        "outputId": "c12c0423-e5de-4d86-a0c0-0010bb7a69a7"
      },
      "source": [
        "import pandas as pd\n",
        "import re\n",
        "import numpy as np\n",
        "df_1=pd.read_csv('/content/world-happiness-report-2019.csv')\n",
        "df_1.head(3)"
      ],
      "execution_count": 22,
      "outputs": [
        {
          "output_type": "execute_result",
          "data": {
            "text/html": [
              "<div>\n",
              "<style scoped>\n",
              "    .dataframe tbody tr th:only-of-type {\n",
              "        vertical-align: middle;\n",
              "    }\n",
              "\n",
              "    .dataframe tbody tr th {\n",
              "        vertical-align: top;\n",
              "    }\n",
              "\n",
              "    .dataframe thead th {\n",
              "        text-align: right;\n",
              "    }\n",
              "</style>\n",
              "<table border=\"1\" class=\"dataframe\">\n",
              "  <thead>\n",
              "    <tr style=\"text-align: right;\">\n",
              "      <th></th>\n",
              "      <th>Country (region)</th>\n",
              "      <th>Ladder</th>\n",
              "      <th>SD of Ladder</th>\n",
              "      <th>Positive affect</th>\n",
              "      <th>Negative affect</th>\n",
              "      <th>Social support</th>\n",
              "      <th>Freedom</th>\n",
              "      <th>Corruption</th>\n",
              "      <th>Generosity</th>\n",
              "      <th>Log of GDP\\nper capita</th>\n",
              "      <th>Healthy life\\nexpectancy</th>\n",
              "    </tr>\n",
              "  </thead>\n",
              "  <tbody>\n",
              "    <tr>\n",
              "      <th>0</th>\n",
              "      <td>Finland</td>\n",
              "      <td>1</td>\n",
              "      <td>4</td>\n",
              "      <td>41.0</td>\n",
              "      <td>10.0</td>\n",
              "      <td>2.0</td>\n",
              "      <td>5.0</td>\n",
              "      <td>4.0</td>\n",
              "      <td>47.0</td>\n",
              "      <td>22.0</td>\n",
              "      <td>27.0</td>\n",
              "    </tr>\n",
              "    <tr>\n",
              "      <th>1</th>\n",
              "      <td>Denmark</td>\n",
              "      <td>2</td>\n",
              "      <td>13</td>\n",
              "      <td>24.0</td>\n",
              "      <td>26.0</td>\n",
              "      <td>4.0</td>\n",
              "      <td>6.0</td>\n",
              "      <td>3.0</td>\n",
              "      <td>22.0</td>\n",
              "      <td>14.0</td>\n",
              "      <td>23.0</td>\n",
              "    </tr>\n",
              "    <tr>\n",
              "      <th>2</th>\n",
              "      <td>Norway</td>\n",
              "      <td>3</td>\n",
              "      <td>8</td>\n",
              "      <td>16.0</td>\n",
              "      <td>29.0</td>\n",
              "      <td>3.0</td>\n",
              "      <td>3.0</td>\n",
              "      <td>8.0</td>\n",
              "      <td>11.0</td>\n",
              "      <td>7.0</td>\n",
              "      <td>12.0</td>\n",
              "    </tr>\n",
              "  </tbody>\n",
              "</table>\n",
              "</div>"
            ],
            "text/plain": [
              "  Country (region)  Ladder  ...  Log of GDP\\nper capita  Healthy life\\nexpectancy\n",
              "0          Finland       1  ...                    22.0                      27.0\n",
              "1          Denmark       2  ...                    14.0                      23.0\n",
              "2           Norway       3  ...                     7.0                      12.0\n",
              "\n",
              "[3 rows x 11 columns]"
            ]
          },
          "metadata": {
            "tags": []
          },
          "execution_count": 22
        }
      ]
    },
    {
      "cell_type": "markdown",
      "metadata": {
        "id": "C9XGbKcJHehc"
      },
      "source": [
        "### A more sophisticated example Why Regex is powerful?\n",
        "\n",
        "But, you might ask, why would you want to use the more complicated and verbose syntax of regular expressions rather than the more intuitive and simple string methods?\n",
        "The advantage is that regular expressions offer *far* more flexibility.\n",
        "\n",
        "Here we'll consider a more complicated example: the common task of matching email addresses.\n",
        "I'll start by simply writing a (somewhat indecipherable) regular expression, and then walk through what is going on.\n",
        "Here it goes:\n",
        "\n",
        "The following table lists a few of these characters that are commonly useful:\n",
        "\n",
        "| Character | Description                 || Character | Description                     |\n",
        "|-----------|-----------------------------||-----------|---------------------------------|\n",
        "| ``\"\\d\"``  | Match any digit             || ``\"\\D\"``  | Match any non-digit             |\n",
        "| ``\"\\s\"``  | Match any whitespace        || ``\"\\S\"``  | Match any non-whitespace        |\n",
        "| ``\"\\w\"``  | Match any alphanumeric char || ``\"\\W\"``  | Match any non-alphanumeric char |\n"
      ]
    },
    {
      "cell_type": "markdown",
      "metadata": {
        "id": "nWEQwh0-0LCL"
      },
      "source": [
        "##Be attention to Uppercases"
      ]
    },
    {
      "cell_type": "code",
      "metadata": {
        "colab": {
          "base_uri": "https://localhost:8080/",
          "height": 794
        },
        "id": "CYnx4HYa0nXh",
        "outputId": "5ac90feb-3137-4207-8d4e-6082449b4ccb"
      },
      "source": [
        "df_1[df_1['Country (region)'].str.count('^[pP].*')>0] #(1)\n",
        "#What the difference between (1) and (2)\n",
        "df_1[df_1['Country (region)'].str.count('[pP].*')>0] #(2)"
      ],
      "execution_count": 25,
      "outputs": [
        {
          "output_type": "execute_result",
          "data": {
            "text/html": [
              "<div>\n",
              "<style scoped>\n",
              "    .dataframe tbody tr th:only-of-type {\n",
              "        vertical-align: middle;\n",
              "    }\n",
              "\n",
              "    .dataframe tbody tr th {\n",
              "        vertical-align: top;\n",
              "    }\n",
              "\n",
              "    .dataframe thead th {\n",
              "        text-align: right;\n",
              "    }\n",
              "</style>\n",
              "<table border=\"1\" class=\"dataframe\">\n",
              "  <thead>\n",
              "    <tr style=\"text-align: right;\">\n",
              "      <th></th>\n",
              "      <th>Country (region)</th>\n",
              "      <th>Ladder</th>\n",
              "      <th>SD of Ladder</th>\n",
              "      <th>Positive affect</th>\n",
              "      <th>Negative affect</th>\n",
              "      <th>Social support</th>\n",
              "      <th>Freedom</th>\n",
              "      <th>Corruption</th>\n",
              "      <th>Generosity</th>\n",
              "      <th>Log of GDP\\nper capita</th>\n",
              "      <th>Healthy life\\nexpectancy</th>\n",
              "    </tr>\n",
              "  </thead>\n",
              "  <tbody>\n",
              "    <tr>\n",
              "      <th>19</th>\n",
              "      <td>Czech Republic</td>\n",
              "      <td>20</td>\n",
              "      <td>20</td>\n",
              "      <td>74.0</td>\n",
              "      <td>22.0</td>\n",
              "      <td>24.0</td>\n",
              "      <td>58.0</td>\n",
              "      <td>121.0</td>\n",
              "      <td>117.0</td>\n",
              "      <td>32.0</td>\n",
              "      <td>31.0</td>\n",
              "    </tr>\n",
              "    <tr>\n",
              "      <th>29</th>\n",
              "      <td>Spain</td>\n",
              "      <td>30</td>\n",
              "      <td>21</td>\n",
              "      <td>107.0</td>\n",
              "      <td>107.0</td>\n",
              "      <td>26.0</td>\n",
              "      <td>95.0</td>\n",
              "      <td>78.0</td>\n",
              "      <td>50.0</td>\n",
              "      <td>30.0</td>\n",
              "      <td>3.0</td>\n",
              "    </tr>\n",
              "    <tr>\n",
              "      <th>30</th>\n",
              "      <td>Panama</td>\n",
              "      <td>31</td>\n",
              "      <td>121</td>\n",
              "      <td>7.0</td>\n",
              "      <td>48.0</td>\n",
              "      <td>41.0</td>\n",
              "      <td>32.0</td>\n",
              "      <td>104.0</td>\n",
              "      <td>88.0</td>\n",
              "      <td>51.0</td>\n",
              "      <td>33.0</td>\n",
              "    </tr>\n",
              "    <tr>\n",
              "      <th>33</th>\n",
              "      <td>Singapore</td>\n",
              "      <td>34</td>\n",
              "      <td>5</td>\n",
              "      <td>38.0</td>\n",
              "      <td>2.0</td>\n",
              "      <td>36.0</td>\n",
              "      <td>20.0</td>\n",
              "      <td>1.0</td>\n",
              "      <td>21.0</td>\n",
              "      <td>3.0</td>\n",
              "      <td>1.0</td>\n",
              "    </tr>\n",
              "    <tr>\n",
              "      <th>39</th>\n",
              "      <td>Poland</td>\n",
              "      <td>40</td>\n",
              "      <td>28</td>\n",
              "      <td>76.0</td>\n",
              "      <td>33.0</td>\n",
              "      <td>44.0</td>\n",
              "      <td>52.0</td>\n",
              "      <td>108.0</td>\n",
              "      <td>77.0</td>\n",
              "      <td>41.0</td>\n",
              "      <td>36.0</td>\n",
              "    </tr>\n",
              "    <tr>\n",
              "      <th>48</th>\n",
              "      <td>Cyprus</td>\n",
              "      <td>49</td>\n",
              "      <td>95</td>\n",
              "      <td>60.0</td>\n",
              "      <td>99.0</td>\n",
              "      <td>90.0</td>\n",
              "      <td>81.0</td>\n",
              "      <td>115.0</td>\n",
              "      <td>39.0</td>\n",
              "      <td>33.0</td>\n",
              "      <td>6.0</td>\n",
              "    </tr>\n",
              "    <tr>\n",
              "      <th>57</th>\n",
              "      <td>Japan</td>\n",
              "      <td>58</td>\n",
              "      <td>43</td>\n",
              "      <td>73.0</td>\n",
              "      <td>14.0</td>\n",
              "      <td>50.0</td>\n",
              "      <td>64.0</td>\n",
              "      <td>39.0</td>\n",
              "      <td>92.0</td>\n",
              "      <td>24.0</td>\n",
              "      <td>2.0</td>\n",
              "    </tr>\n",
              "    <tr>\n",
              "      <th>62</th>\n",
              "      <td>Paraguay</td>\n",
              "      <td>63</td>\n",
              "      <td>90</td>\n",
              "      <td>1.0</td>\n",
              "      <td>39.0</td>\n",
              "      <td>30.0</td>\n",
              "      <td>34.0</td>\n",
              "      <td>76.0</td>\n",
              "      <td>67.0</td>\n",
              "      <td>90.0</td>\n",
              "      <td>81.0</td>\n",
              "    </tr>\n",
              "    <tr>\n",
              "      <th>63</th>\n",
              "      <td>Northern Cyprus</td>\n",
              "      <td>64</td>\n",
              "      <td>35</td>\n",
              "      <td>144.0</td>\n",
              "      <td>90.0</td>\n",
              "      <td>81.0</td>\n",
              "      <td>77.0</td>\n",
              "      <td>29.0</td>\n",
              "      <td>43.0</td>\n",
              "      <td>NaN</td>\n",
              "      <td>NaN</td>\n",
              "    </tr>\n",
              "    <tr>\n",
              "      <th>64</th>\n",
              "      <td>Peru</td>\n",
              "      <td>65</td>\n",
              "      <td>114</td>\n",
              "      <td>36.0</td>\n",
              "      <td>127.0</td>\n",
              "      <td>77.0</td>\n",
              "      <td>61.0</td>\n",
              "      <td>132.0</td>\n",
              "      <td>126.0</td>\n",
              "      <td>76.0</td>\n",
              "      <td>47.0</td>\n",
              "    </tr>\n",
              "    <tr>\n",
              "      <th>65</th>\n",
              "      <td>Portugal</td>\n",
              "      <td>66</td>\n",
              "      <td>73</td>\n",
              "      <td>97.0</td>\n",
              "      <td>100.0</td>\n",
              "      <td>47.0</td>\n",
              "      <td>37.0</td>\n",
              "      <td>135.0</td>\n",
              "      <td>122.0</td>\n",
              "      <td>39.0</td>\n",
              "      <td>22.0</td>\n",
              "    </tr>\n",
              "    <tr>\n",
              "      <th>66</th>\n",
              "      <td>Pakistan</td>\n",
              "      <td>67</td>\n",
              "      <td>53</td>\n",
              "      <td>130.0</td>\n",
              "      <td>111.0</td>\n",
              "      <td>130.0</td>\n",
              "      <td>114.0</td>\n",
              "      <td>55.0</td>\n",
              "      <td>58.0</td>\n",
              "      <td>110.0</td>\n",
              "      <td>114.0</td>\n",
              "    </tr>\n",
              "    <tr>\n",
              "      <th>68</th>\n",
              "      <td>Philippines</td>\n",
              "      <td>69</td>\n",
              "      <td>119</td>\n",
              "      <td>42.0</td>\n",
              "      <td>116.0</td>\n",
              "      <td>75.0</td>\n",
              "      <td>15.0</td>\n",
              "      <td>49.0</td>\n",
              "      <td>115.0</td>\n",
              "      <td>97.0</td>\n",
              "      <td>99.0</td>\n",
              "    </tr>\n",
              "    <tr>\n",
              "      <th>76</th>\n",
              "      <td>Dominican Republic</td>\n",
              "      <td>77</td>\n",
              "      <td>155</td>\n",
              "      <td>66.0</td>\n",
              "      <td>77.0</td>\n",
              "      <td>55.0</td>\n",
              "      <td>43.0</td>\n",
              "      <td>52.0</td>\n",
              "      <td>93.0</td>\n",
              "      <td>69.0</td>\n",
              "      <td>80.0</td>\n",
              "    </tr>\n",
              "    <tr>\n",
              "      <th>99</th>\n",
              "      <td>Nepal</td>\n",
              "      <td>100</td>\n",
              "      <td>128</td>\n",
              "      <td>137.0</td>\n",
              "      <td>134.0</td>\n",
              "      <td>87.0</td>\n",
              "      <td>67.0</td>\n",
              "      <td>65.0</td>\n",
              "      <td>46.0</td>\n",
              "      <td>127.0</td>\n",
              "      <td>95.0</td>\n",
              "    </tr>\n",
              "    <tr>\n",
              "      <th>109</th>\n",
              "      <td>Palestinian Territories</td>\n",
              "      <td>110</td>\n",
              "      <td>110</td>\n",
              "      <td>128.0</td>\n",
              "      <td>140.0</td>\n",
              "      <td>82.0</td>\n",
              "      <td>134.0</td>\n",
              "      <td>90.0</td>\n",
              "      <td>147.0</td>\n",
              "      <td>112.0</td>\n",
              "      <td>NaN</td>\n",
              "    </tr>\n",
              "    <tr>\n",
              "      <th>133</th>\n",
              "      <td>Ethiopia</td>\n",
              "      <td>134</td>\n",
              "      <td>38</td>\n",
              "      <td>100.0</td>\n",
              "      <td>74.0</td>\n",
              "      <td>119.0</td>\n",
              "      <td>106.0</td>\n",
              "      <td>53.0</td>\n",
              "      <td>99.0</td>\n",
              "      <td>135.0</td>\n",
              "      <td>115.0</td>\n",
              "    </tr>\n",
              "    <tr>\n",
              "      <th>136</th>\n",
              "      <td>Egypt</td>\n",
              "      <td>137</td>\n",
              "      <td>66</td>\n",
              "      <td>146.0</td>\n",
              "      <td>124.0</td>\n",
              "      <td>118.0</td>\n",
              "      <td>129.0</td>\n",
              "      <td>89.0</td>\n",
              "      <td>132.0</td>\n",
              "      <td>85.0</td>\n",
              "      <td>101.0</td>\n",
              "    </tr>\n",
              "    <tr>\n",
              "      <th>154</th>\n",
              "      <td>Central African Republic</td>\n",
              "      <td>155</td>\n",
              "      <td>117</td>\n",
              "      <td>132.0</td>\n",
              "      <td>153.0</td>\n",
              "      <td>155.0</td>\n",
              "      <td>133.0</td>\n",
              "      <td>122.0</td>\n",
              "      <td>113.0</td>\n",
              "      <td>152.0</td>\n",
              "      <td>150.0</td>\n",
              "    </tr>\n",
              "  </tbody>\n",
              "</table>\n",
              "</div>"
            ],
            "text/plain": [
              "             Country (region)  ...  Healthy life\\nexpectancy\n",
              "19             Czech Republic  ...                      31.0\n",
              "29                      Spain  ...                       3.0\n",
              "30                     Panama  ...                      33.0\n",
              "33                  Singapore  ...                       1.0\n",
              "39                     Poland  ...                      36.0\n",
              "48                     Cyprus  ...                       6.0\n",
              "57                      Japan  ...                       2.0\n",
              "62                   Paraguay  ...                      81.0\n",
              "63            Northern Cyprus  ...                       NaN\n",
              "64                       Peru  ...                      47.0\n",
              "65                   Portugal  ...                      22.0\n",
              "66                   Pakistan  ...                     114.0\n",
              "68                Philippines  ...                      99.0\n",
              "76         Dominican Republic  ...                      80.0\n",
              "99                      Nepal  ...                      95.0\n",
              "109   Palestinian Territories  ...                       NaN\n",
              "133                  Ethiopia  ...                     115.0\n",
              "136                     Egypt  ...                     101.0\n",
              "154  Central African Republic  ...                     150.0\n",
              "\n",
              "[19 rows x 11 columns]"
            ]
          },
          "metadata": {
            "tags": []
          },
          "execution_count": 25
        }
      ]
    },
    {
      "cell_type": "markdown",
      "metadata": {
        "id": "8Zem70tBreeh"
      },
      "source": [
        "###Extract the first 5 characters of each country using ^(start of the String) and {5} (for 5 characters) and create a new column first_five_letter"
      ]
    },
    {
      "cell_type": "code",
      "metadata": {
        "colab": {
          "base_uri": "https://localhost:8080/",
          "height": 258
        },
        "id": "iyIpAW4Arjwu",
        "outputId": "f08fa099-e480-4ff1-a10e-945ed8d37cb0"
      },
      "source": [
        "import numpy as np\n",
        "df_1['first_five_Letter']=df_1['Country (region)'].str.extract(r'(^\\w{5})') #(1)\n",
        "#What the difference between (1) and (2)\n",
        "df_1['first_five_Letter']=df_1['Country (region)'].str.extract(r'(^\\w{5,6})') #(2)\n",
        "df_1.head() "
      ],
      "execution_count": 29,
      "outputs": [
        {
          "output_type": "execute_result",
          "data": {
            "text/html": [
              "<div>\n",
              "<style scoped>\n",
              "    .dataframe tbody tr th:only-of-type {\n",
              "        vertical-align: middle;\n",
              "    }\n",
              "\n",
              "    .dataframe tbody tr th {\n",
              "        vertical-align: top;\n",
              "    }\n",
              "\n",
              "    .dataframe thead th {\n",
              "        text-align: right;\n",
              "    }\n",
              "</style>\n",
              "<table border=\"1\" class=\"dataframe\">\n",
              "  <thead>\n",
              "    <tr style=\"text-align: right;\">\n",
              "      <th></th>\n",
              "      <th>Country (region)</th>\n",
              "      <th>Ladder</th>\n",
              "      <th>SD of Ladder</th>\n",
              "      <th>Positive affect</th>\n",
              "      <th>Negative affect</th>\n",
              "      <th>Social support</th>\n",
              "      <th>Freedom</th>\n",
              "      <th>Corruption</th>\n",
              "      <th>Generosity</th>\n",
              "      <th>Log of GDP\\nper capita</th>\n",
              "      <th>Healthy life\\nexpectancy</th>\n",
              "      <th>first_five_Letter</th>\n",
              "    </tr>\n",
              "  </thead>\n",
              "  <tbody>\n",
              "    <tr>\n",
              "      <th>0</th>\n",
              "      <td>Finland</td>\n",
              "      <td>1</td>\n",
              "      <td>4</td>\n",
              "      <td>41.0</td>\n",
              "      <td>10.0</td>\n",
              "      <td>2.0</td>\n",
              "      <td>5.0</td>\n",
              "      <td>4.0</td>\n",
              "      <td>47.0</td>\n",
              "      <td>22.0</td>\n",
              "      <td>27.0</td>\n",
              "      <td>Finlan</td>\n",
              "    </tr>\n",
              "    <tr>\n",
              "      <th>1</th>\n",
              "      <td>Denmark</td>\n",
              "      <td>2</td>\n",
              "      <td>13</td>\n",
              "      <td>24.0</td>\n",
              "      <td>26.0</td>\n",
              "      <td>4.0</td>\n",
              "      <td>6.0</td>\n",
              "      <td>3.0</td>\n",
              "      <td>22.0</td>\n",
              "      <td>14.0</td>\n",
              "      <td>23.0</td>\n",
              "      <td>Denmar</td>\n",
              "    </tr>\n",
              "    <tr>\n",
              "      <th>2</th>\n",
              "      <td>Norway</td>\n",
              "      <td>3</td>\n",
              "      <td>8</td>\n",
              "      <td>16.0</td>\n",
              "      <td>29.0</td>\n",
              "      <td>3.0</td>\n",
              "      <td>3.0</td>\n",
              "      <td>8.0</td>\n",
              "      <td>11.0</td>\n",
              "      <td>7.0</td>\n",
              "      <td>12.0</td>\n",
              "      <td>Norway</td>\n",
              "    </tr>\n",
              "    <tr>\n",
              "      <th>3</th>\n",
              "      <td>Iceland</td>\n",
              "      <td>4</td>\n",
              "      <td>9</td>\n",
              "      <td>3.0</td>\n",
              "      <td>3.0</td>\n",
              "      <td>1.0</td>\n",
              "      <td>7.0</td>\n",
              "      <td>45.0</td>\n",
              "      <td>3.0</td>\n",
              "      <td>15.0</td>\n",
              "      <td>13.0</td>\n",
              "      <td>Icelan</td>\n",
              "    </tr>\n",
              "    <tr>\n",
              "      <th>4</th>\n",
              "      <td>Netherlands</td>\n",
              "      <td>5</td>\n",
              "      <td>1</td>\n",
              "      <td>12.0</td>\n",
              "      <td>25.0</td>\n",
              "      <td>15.0</td>\n",
              "      <td>19.0</td>\n",
              "      <td>12.0</td>\n",
              "      <td>7.0</td>\n",
              "      <td>12.0</td>\n",
              "      <td>18.0</td>\n",
              "      <td>Nether</td>\n",
              "    </tr>\n",
              "  </tbody>\n",
              "</table>\n",
              "</div>"
            ],
            "text/plain": [
              "  Country (region)  Ladder  ...  Healthy life\\nexpectancy  first_five_Letter\n",
              "0          Finland       1  ...                      27.0             Finlan\n",
              "1          Denmark       2  ...                      23.0             Denmar\n",
              "2           Norway       3  ...                      12.0             Norway\n",
              "3          Iceland       4  ...                      13.0             Icelan\n",
              "4      Netherlands       5  ...                      18.0             Nether\n",
              "\n",
              "[5 rows x 12 columns]"
            ]
          },
          "metadata": {
            "tags": []
          },
          "execution_count": 29
        }
      ]
    },
    {
      "cell_type": "markdown",
      "metadata": {
        "id": "pcP40hp948-l"
      },
      "source": [
        " # **Pandas Replace**"
      ]
    },
    {
      "cell_type": "code",
      "metadata": {
        "colab": {
          "base_uri": "https://localhost:8080/"
        },
        "id": "NoOEQ4dH4wpW",
        "outputId": "a4bac5c1-a8eb-405e-cb89-b5855a218f80"
      },
      "source": [
        "# Remove the dash(-) followed by number from all countries in the Series\n",
        "S=pd.Series(['Finland-1','Colombia-2','Florida-3','Japan-4','Puerto Rico-5','Russia-6','france-7'])\n",
        "S.replace(r'[\\d -]','',regex=True, inplace = True) # (1) # inplace =True replace on same string\n",
        "#What the difference between (1) and (2)\n",
        "S.replace(r'\\d -','',regex=True, inplace = True) #(2)\n",
        "S"
      ],
      "execution_count": 32,
      "outputs": [
        {
          "output_type": "execute_result",
          "data": {
            "text/plain": [
              "0        Finland-1\n",
              "1       Colombia-2\n",
              "2        Florida-3\n",
              "3          Japan-4\n",
              "4    Puerto Rico-5\n",
              "5         Russia-6\n",
              "6         france-7\n",
              "dtype: object"
            ]
          },
          "metadata": {
            "tags": []
          },
          "execution_count": 32
        }
      ]
    },
    {
      "cell_type": "markdown",
      "metadata": {
        "id": "B6DlibhL-s1t"
      },
      "source": [
        " # **Pandas Contains**\n"
      ]
    },
    {
      "cell_type": "code",
      "metadata": {
        "colab": {
          "base_uri": "https://localhost:8080/"
        },
        "id": "2Tilo-hu-ydr",
        "outputId": "b399775b-6e3d-4ddc-b11d-e39bce27ad13"
      },
      "source": [
        "S=pd.Series(['Finland','Colombia','Florida','Japan','Puerto Rico','Russia','france'])\n",
        "S.str.contains('^[Ff.*]') #(1) #we use [] when we want to match more than one character\n",
        "#What the difference between (1) and (2)\n",
        "S.str.contains('^[Ff.*]') #(2)"
      ],
      "execution_count": 34,
      "outputs": [
        {
          "output_type": "execute_result",
          "data": {
            "text/plain": [
              "0     True\n",
              "1    False\n",
              "2     True\n",
              "3    False\n",
              "4    False\n",
              "5    False\n",
              "6     True\n",
              "dtype: bool"
            ]
          },
          "metadata": {
            "tags": []
          },
          "execution_count": 34
        }
      ]
    },
    {
      "cell_type": "markdown",
      "metadata": {
        "id": "WZT0v7_i2sLx"
      },
      "source": [
        " # **Pandas Match**"
      ]
    },
    {
      "cell_type": "code",
      "metadata": {
        "colab": {
          "base_uri": "https://localhost:8080/"
        },
        "id": "1TzfnNcc2mmj",
        "outputId": "ec379f18-41a7-4d67-9685-bc66bd877a2f"
      },
      "source": [
        "S=pd.Series(['Finland','Colombia','Florida','Japan','Puerto Rico','Russia','france'])\n",
        "S[S.str.match(r'(^P.*)')==True] # retrieve the index of item and Item's value"
      ],
      "execution_count": 73,
      "outputs": [
        {
          "output_type": "execute_result",
          "data": {
            "text/plain": [
              "4    Puerto Rico\n",
              "dtype: object"
            ]
          },
          "metadata": {
            "tags": []
          },
          "execution_count": 73
        }
      ]
    },
    {
      "cell_type": "markdown",
      "metadata": {
        "id": "oAEhLYoWARJC"
      },
      "source": [
        " # **Pandas Split**"
      ]
    },
    {
      "cell_type": "code",
      "metadata": {
        "colab": {
          "base_uri": "https://localhost:8080/"
        },
        "id": "CQgLrl-KAVCr",
        "outputId": "b3198f56-08af-4dff-c4d8-2c75e450435e"
      },
      "source": [
        "s = pd.Series([\"StatueofLiberty built-on 28-Oct-1886\"])\n",
        "\n",
        "s.str.split(r\"[St.*]\", n=-1,expand=True)  # (1)\n",
        "#What the difference between (1) and (2)\n",
        "s.str.split(r\"[St.*]\", n=-1,expand=False) # (2)\n",
        "#n-->limit no of splits in output -1 default all\n",
        "#expand=True return DataFrame/MultiIndex expanding dimensionality.\n",
        "#expand=False  return Series/Index, containing lists of strings.\n",
        "#When using expand=True, the split elements will expand out into separate columns. If NaN is present, it is propagated throughout the columns during the split."
      ],
      "execution_count": 37,
      "outputs": [
        {
          "output_type": "execute_result",
          "data": {
            "text/plain": [
              "0    [, , a, ueofLiber, y buil, -on 28-Oc, -1886]\n",
              "dtype: object"
            ]
          },
          "metadata": {
            "tags": []
          },
          "execution_count": 37
        }
      ]
    },
    {
      "cell_type": "code",
      "metadata": {
        "colab": {
          "base_uri": "https://localhost:8080/"
        },
        "id": "5y_ThGCFJjWO",
        "outputId": "2d6430fc-9eec-41db-8bff-5408156887f6"
      },
      "source": [
        "#    . ^ $ * + ? { } [ ] \\ | ( )\n",
        "\n",
        "regex = re.compile(r'\\$') #compile a regex returns a compiled regular exp obj\n",
        "regex"
      ],
      "execution_count": 38,
      "outputs": [
        {
          "output_type": "execute_result",
          "data": {
            "text/plain": [
              "re.compile(r'\\$', re.UNICODE)"
            ]
          },
          "metadata": {
            "tags": []
          },
          "execution_count": 38
        }
      ]
    },
    {
      "cell_type": "markdown",
      "metadata": {
        "id": "r6p0c0a8ufpN"
      },
      "source": [
        "###First we are counting the countries starting with character ‘F’."
      ]
    },
    {
      "cell_type": "code",
      "metadata": {
        "colab": {
          "base_uri": "https://localhost:8080/"
        },
        "id": "8YAQ6Tefumor",
        "outputId": "c8765c85-166e-413c-9fbc-10db1a7ff7fe"
      },
      "source": [
        "CountF=0\n",
        "i=0\n",
        "for i in df_1['Country (region)'].values:\n",
        "  if re.match(r'(^F.*)',i):\n",
        "    CountF = CountF + 1\n",
        "  \n",
        "    print(f'Item Matched:  ' + i)\n",
        "next\n",
        "print(f'Count of these items:' + str(CountF))"
      ],
      "execution_count": 63,
      "outputs": [
        {
          "output_type": "stream",
          "text": [
            "Item Matched:  Finland\n",
            "Item Matched:  France\n",
            "Count of these items:2\n"
          ],
          "name": "stdout"
        }
      ]
    },
    {
      "cell_type": "code",
      "metadata": {
        "colab": {
          "base_uri": "https://localhost:8080/"
        },
        "id": "YyHfaD8oKtfm",
        "outputId": "b4d40698-dd6d-46d5-d8cd-c474af53eaed"
      },
      "source": [
        "regex.findall(\"the cost is $20 which is 20% of the cost in $\") #(1) #find all the ocurrances\n",
        "#What the difference between (1) and (2)\n",
        "regex.search(\"the cost is $20 which is 20% of the cost in$\") #(2) # the first match index of it\n",
        "#re.search(pattern, string, flags=0)"
      ],
      "execution_count": 86,
      "outputs": [
        {
          "output_type": "execute_result",
          "data": {
            "text/plain": [
              "<re.Match object; span=(12, 13), match='$'>"
            ]
          },
          "metadata": {
            "tags": []
          },
          "execution_count": 86
        }
      ]
    },
    {
      "cell_type": "code",
      "metadata": {
        "colab": {
          "base_uri": "https://localhost:8080/"
        },
        "id": "owG10To7LCr8",
        "outputId": "1c48b818-e3ff-4f48-e37c-0668ee0816f9"
      },
      "source": [
        "regex2 = re.compile(r'[\\d \\s \\W]') #we use r to consider \\ instead to have \\t tab \\n new line\n",
        "regex2.findall('the fox is 9 years old @') #Match any digit \\d  \n",
        "#Match any whitespace \\s  \n",
        "#non-alphanumeric char  \\W"
      ],
      "execution_count": 46,
      "outputs": [
        {
          "output_type": "execute_result",
          "data": {
            "text/plain": [
              "[' ', ' ', ' ', '9', ' ', ' ', ' ', '@']"
            ]
          },
          "metadata": {
            "tags": []
          },
          "execution_count": 46
        }
      ]
    },
    {
      "cell_type": "code",
      "metadata": {
        "colab": {
          "base_uri": "https://localhost:8080/"
        },
        "id": "TaaO8OPyRkdv",
        "outputId": "f6f1b986-6f48-40f8-96a6-674e4859d436"
      },
      "source": [
        "regex2 = re.compile('[a-z]\\d\\d') #(1)\n",
        "#What the difference between (1) and (2)\n",
        "regex2 = re.compile('[a-z]\\d\\d.*')\n",
        "regex2.findall('10438a79888,.. ---- U G2, H6')#(2)"
      ],
      "execution_count": 49,
      "outputs": [
        {
          "output_type": "execute_result",
          "data": {
            "text/plain": [
              "['a79888,.. ---- U G2, H6']"
            ]
          },
          "metadata": {
            "tags": []
          },
          "execution_count": 49
        }
      ]
    },
    {
      "cell_type": "code",
      "metadata": {
        "colab": {
          "base_uri": "https://localhost:8080/"
        },
        "id": "gvd6Dwyf3s0O",
        "outputId": "4eff4048-4c6b-4d2f-f5df-a39609475870"
      },
      "source": [
        " #Sub used to replace occurrences of a particular sub-string with another sub-string.\n",
        " #In a python 'R' or 'r' before a string mean that the string a raw string. When a 'R' or 'r'\n",
        " #is present before a string, a character following a backslash included in the string without any change.\n",
        "#why we use 'r'\n",
        "# example 1\n",
        "import re\n",
        "print (f'1 -' + re.sub('\\s+', ' ', 'hello     there      there')) #replace \\s with single white space\n",
        "print (f'2 -'+ re.sub(r'\\\\w+', 'reef ', 'hell\\wo     there      there'))\n",
        "# prints 'hello there there' - not expected as r prefix is not used\n",
        "# example 2\n",
        "import re\n",
        "print (f'3 -'+ re.sub('(\\b\\w+)(\\s+\\1\\b)+', r'\\1', 'hello     there      there'))\n",
        "print (f'4 -'+ re.sub(r'(\\b\\w+)(\\s+\\1\\b)+', '\\1', 'hello     there      there'))\n",
        "# prints 'hello     there' - as expected as r prefix is used\n",
        "\n",
        "# example 3\n",
        "import re\n",
        "print (f'5 -'+ re.sub('(\\b\\w+)(\\s+\\1\\b)+', '\\1', 'hello     there      there'))\n",
        "print (f'6 -'+ re.sub(r'(\\b\\w+)(\\s+\\1\\b)+', r'\\1', 'hello     there      there'))\n",
        "# prints 'hello     there      there' - as expected as r prefix is not used\n",
        "\n",
        "print (re.sub(r'(\\b\\w+)(\\s+\\1\\b)+', r'\\1', 'hello     there      there'))\n",
        "#is\n",
        "\n",
        "print (re.sub('(\\\\b\\\\w+)(\\\\s+\\\\1\\\\b)+', '\\\\1', 'hello     there      there'))\n"
      ],
      "execution_count": 85,
      "outputs": [
        {
          "output_type": "stream",
          "text": [
            "1 -hello there there\n",
            "2 -hellreef o     there      there\n",
            "3 -hello     there      there\n",
            "4 -hello     \u0001\n",
            "5 -hello     there      there\n",
            "6 -hello     there\n",
            "hello     there\n",
            "hello     there\n"
          ],
          "name": "stdout"
        }
      ]
    },
    {
      "cell_type": "code",
      "metadata": {
        "colab": {
          "base_uri": "https://localhost:8080/"
        },
        "id": "g1X6NJjUYN6k",
        "outputId": "44992866-3947-4eb8-f81e-59ae0566e8b5"
      },
      "source": [
        "import re\n",
        "\n",
        "line = \"Cats are smarter #than dogs\"\n",
        "matchObj = re.match( r'(.*) are (.*?).*',line, re.M|re.I|re.VERBOSE)\n",
        "# are (.*?) .*', line, re.M|re.I)\n",
        "#.* will match any character (including newlines if dotall is used).\n",
        "#(.*) will add that to a capture group.\n",
        "#(.*?) the ? makes the .* non-greedy, matching as little as it can to make a match, \n",
        "#and the parenthesis makes it a capture group as well.\n",
        "\n",
        "if matchObj:\n",
        "   print(\"matchObj.group() : \", matchObj.group()) # return all the object\n",
        "   print(\"matchObj.group(1) : \", matchObj.group(1)) #return first match\n",
        "   print(\"matchObj.group(2) : \", matchObj.group(2)) #return second match\n",
        "  \n",
        "else:\n",
        "   print (\"No match!!\")"
      ],
      "execution_count": 88,
      "outputs": [
        {
          "output_type": "stream",
          "text": [
            "matchObj.group() :  Cats are smarter #than dogs\n",
            "matchObj.group(1) :  Cats \n",
            "matchObj.group(2) :  \n"
          ],
          "name": "stdout"
        }
      ]
    },
    {
      "cell_type": "code",
      "metadata": {
        "colab": {
          "base_uri": "https://localhost:8080/"
        },
        "id": "c2R8BUm5VZ2E",
        "outputId": "6725d231-9d5e-46d9-beb6-6249bbdfdb50"
      },
      "source": [
        "import re\n",
        "email4 = re.compile(r'(?P<user>[\\w.]+)@(?P<domain>\\w+)\\.(?P<suffix>[a-z]{3})') # ?P<user> Labels\n",
        "match = email4.match('guido@python.org')\n",
        "match.groupdict()"
      ],
      "execution_count": 170,
      "outputs": [
        {
          "output_type": "execute_result",
          "data": {
            "text/plain": [
              "{'domain': 'python', 'suffix': 'org', 'user': 'guido'}"
            ]
          },
          "metadata": {
            "tags": []
          },
          "execution_count": 170
        }
      ]
    },
    {
      "cell_type": "code",
      "metadata": {
        "colab": {
          "base_uri": "https://localhost:8080/"
        },
        "id": "M4I6WLd1QzgT",
        "outputId": "b3f998c0-6424-4e6b-d6b7-79f9c78c2bb0"
      },
      "source": [
        "#Match E-mail address\n",
        "import re\n",
        " \n",
        "# Make a regular expression\n",
        "# for validating an Email\n",
        "regex = r'([\\w.]+)@(\\w+)\\.([a-z]{3})'\n",
        " \n",
        "if(re.match(regex, 'reef.amarin@htu.edu.jo')):\n",
        " print(\"Valid Email\")\n",
        " \n",
        "else:\n",
        " print(\"Invalid Email\")\n",
        " "
      ],
      "execution_count": 169,
      "outputs": [
        {
          "output_type": "stream",
          "text": [
            "Invalid Email\n"
          ],
          "name": "stdout"
        }
      ]
    },
    {
      "cell_type": "markdown",
      "metadata": {
        "id": "HdAgiNfBrNn9"
      },
      "source": [
        "![Capture.JPG](data:image/jpeg;base64,/9j/4AAQSkZJRgABAQEAYABgAAD/4RDuRXhpZgAATU0AKgAAAAgABAE7AAIAAAAMAAAISodpAAQAAAABAAAIVpydAAEAAAAYAAAQzuocAAcAAAgMAAAAPgAAAAAc6gAAAAgAAAAAAAAAAAAAAAAAAAAAAAAAAAAAAAAAAAAAAAAAAAAAAAAAAAAAAAAAAAAAAAAAAAAAAAAAAAAAAAAAAAAAAAAAAAAAAAAAAAAAAAAAAAAAAAAAAAAAAAAAAAAAAAAAAAAAAAAAAAAAAAAAAAAAAAAAAAAAAAAAAAAAAAAAAAAAAAAAAAAAAAAAAAAAAAAAAAAAAAAAAAAAAAAAAAAAAAAAAAAAAAAAAAAAAAAAAAAAAAAAAAAAAAAAAAAAAAAAAAAAAAAAAAAAAAAAAAAAAAAAAAAAAAAAAAAAAAAAAAAAAAAAAAAAAAAAAAAAAAAAAAAAAAAAAAAAAAAAAAAAAAAAAAAAAAAAAAAAAAAAAAAAAAAAAAAAAAAAAAAAAAAAAAAAAAAAAAAAAAAAAAAAAAAAAAAAAAAAAAAAAAAAAAAAAAAAAAAAAAAAAAAAAAAAAAAAAAAAAAAAAAAAAAAAAAAAAAAAAAAAAAAAAAAAAAAAAAAAAAAAAAAAAAAAAAAAAAAAAAAAAAAAAAAAAAAAAAAAAAAAAAAAAAAAAAAAAAAAAAAAAAAAAAAAAAAAAAAAAAAAAAAAAAAAAAAAAAAAAAAAAAAAAAAAAAAAAAAAAAAAAAAAAAAAAAAAAAAAAAAAAAAAAAAAAAAAAAAAAAAAAAAAAAAAAAAAAAAAAAAAAAAAAAAAAAAAAAAAAAAAAAAAAAAAAAAAAAAAAAAAAAAAAAAAAAAAAAAAAAAAAAAAAAAAAAAAAAAAAAAAAAAAAAAAAAAAAAAAAAAAAAAAAAAAAAAAAAAAAAAAAAAAAAAAAAAAAAAAAAAAAAAAAAAAAAAAAAAAAAAAAAAAAAAAAAAAAAAAAAAAAAAAAAAAAAAAAAAAAAAAAAAAAAAAAAAAAAAAAAAAAAAAAAAAAAAAAAAAAAAAAAAAAAAAAAAAAAAAAAAAAAAAAAAAAAAAAAAAAAAAAAAAAAAAAAAAAAAAAAAAAAAAAAAAAAAAAAAAAAAAAAAAAAAAAAAAAAAAAAAAAAAAAAAAAAAAAAAAAAAAAAAAAAAAAAAAAAAAAAAAAAAAAAAAAAAAAAAAAAAAAAAAAAAAAAAAAAAAAAAAAAAAAAAAAAAAAAAAAAAAAAAAAAAAAAAAAAAAAAAAAAAAAAAAAAAAAAAAAAAAAAAAAAAAAAAAAAAAAAAAAAAAAAAAAAAAAAAAAAAAAAAAAAAAAAAAAAAAAAAAAAAAAAAAAAAAAAAAAAAAAAAAAAAAAAAAAAAAAAAAAAAAAAAAAAAAAAAAAAAAAAAAAAAAAAAAAAAAAAAAAAAAAAAAAAAAAAAAAAAAAAAAAAAAAAAAAAAAAAAAAAAAAAAAAAAAAAAAAAAAAAAAAAAAAAAAAAAAAAAAAAAAAAAAAAAAAAAAAAAAAAAAAAAAAAAAAAAAAAAAAAAAAAAAAAAAAAAAAAAAAAAAAAAAAAAAAAAAAAAAAAAAAAAAAAAAAAAAAAAAAAAAAAAAAAAAAAAAAAAAAAAAAAAAAAAAAAAAAAAAAAAAAAAAAAAAAAAAAAAAAAAAAAAAAAAAAAAAAAAAAAAAAAAAAAAAAAAAAAAAAAAAAAAAAAAAAAAAAAAAAAAAAAAAAAAAAAAAAAAAAAAAAAAAAAAAAAAAAAAAAAAAAAAAAAAAAAAAAAAAAAAAAAAAAAAAAAAAAAAAAAAAAAAAAAAAAAAAAAAAAAAAAAAAAAAAAAAAAAAAAAAAAAAAAAAAAAAAAAAAAAAAAAAAAAAAAAAAAAAAAAAAAAAAAAAAAAAAAAAAAAAAAAAAAAAAAAAAAAAAAAAAAAAAAAAAAAAAAAAAAAAAAAAAAAAAAAAAAAAAAAAAAAAAAAAAAAAAAAAAAAAAAAAAAAAAAAAAAAAAAAAAAAAAAAAAAAAAAAAAAAAAAAAAAAAAAAAAAAAAAAAAAAAAAAAAAAAAAAAAAAAAAAAAAAAAAAAAAAAAAAAAAAAAAAAAAAAAAAAAAAAAAAAAAAAAAAAAAAAAAAAAAAAAAAAAAAAAAAAAAAAAAAAAAAAAAAAAAAAAAAAAAAAAAAAAAAAAAAAAAAAAAAAAAAAAAAAAAAAAAAAAAAAAAAAAAAAAAAAAAAAAAAAAAAAAAAAAAAAAAAAAAAAAAAAAAAAAAAAAAAAAAAAAAAAAAAAAAAAAAAAAAAAAAAAAAAAAAAAAAAAAAAAAAAAAAAAAAAAAAAAAAAAAAAAAAAAAAAAAAAAAAAAAAAAAAAAAAAAAAAAAAAAAAAAAAAAAAAAAAAAAAAAAAAAAAAAAAAAAAAAAAAAAAAAAAAAAAAAAAAAAAAAAAAAAAAAAAAAAAAAAAAAAAAAAAAAAAAAAAAAAAAAAAAAAAAAAAAAAAAAAAAAAAAAAAAAAAAAAAAAAAAAAAAAAAAAAAAAAAAAAAAAAAAAAAAAAAAAAAAAAAAAAAAAAAAAAAAAAAAAAAAAAAAAAAAAAAAAAAAAAAAAAAAAAAAAAAAAAAAAAAAAAAAAAAAAAAAAAAAAAAAAAAAAAAAAAAAAAAAAAAAAAAAAAAAAAAAAAAAAAAAAAAAAAAAAAAAAAAAAAAAAAAAAAAAAAAAAAAAAAAAAAAAAAAAAAAAAAAAAAAAAAAAAAAAAAAAAAAAAAAAAAAAAAAAAAAAAAAAAAAAAAAAAAAAAAAAAAAAAAAAAAAAAAAAAAAAAAAAAAAAAAAAAAAAAAAAAAAAAAAAAAAAAAAAAAAAAAAAAAAAAAAAAAAAAAAFJlZWYgQW1hcmluAAAFkAMAAgAAABQAABCkkAQAAgAAABQAABC4kpEAAgAAAAM0NgAAkpIAAgAAAAM0NgAA6hwABwAACAwAAAiYAAAAABzqAAAACAAAAAAAAAAAAAAAAAAAAAAAAAAAAAAAAAAAAAAAAAAAAAAAAAAAAAAAAAAAAAAAAAAAAAAAAAAAAAAAAAAAAAAAAAAAAAAAAAAAAAAAAAAAAAAAAAAAAAAAAAAAAAAAAAAAAAAAAAAAAAAAAAAAAAAAAAAAAAAAAAAAAAAAAAAAAAAAAAAAAAAAAAAAAAAAAAAAAAAAAAAAAAAAAAAAAAAAAAAAAAAAAAAAAAAAAAAAAAAAAAAAAAAAAAAAAAAAAAAAAAAAAAAAAAAAAAAAAAAAAAAAAAAAAAAAAAAAAAAAAAAAAAAAAAAAAAAAAAAAAAAAAAAAAAAAAAAAAAAAAAAAAAAAAAAAAAAAAAAAAAAAAAAAAAAAAAAAAAAAAAAAAAAAAAAAAAAAAAAAAAAAAAAAAAAAAAAAAAAAAAAAAAAAAAAAAAAAAAAAAAAAAAAAAAAAAAAAAAAAAAAAAAAAAAAAAAAAAAAAAAAAAAAAAAAAAAAAAAAAAAAAAAAAAAAAAAAAAAAAAAAAAAAAAAAAAAAAAAAAAAAAAAAAAAAAAAAAAAAAAAAAAAAAAAAAAAAAAAAAAAAAAAAAAAAAAAAAAAAAAAAAAAAAAAAAAAAAAAAAAAAAAAAAAAAAAAAAAAAAAAAAAAAAAAAAAAAAAAAAAAAAAAAAAAAAAAAAAAAAAAAAAAAAAAAAAAAAAAAAAAAAAAAAAAAAAAAAAAAAAAAAAAAAAAAAAAAAAAAAAAAAAAAAAAAAAAAAAAAAAAAAAAAAAAAAAAAAAAAAAAAAAAAAAAAAAAAAAAAAAAAAAAAAAAAAAAAAAAAAAAAAAAAAAAAAAAAAAAAAAAAAAAAAAAAAAAAAAAAAAAAAAAAAAAAAAAAAAAAAAAAAAAAAAAAAAAAAAAAAAAAAAAAAAAAAAAAAAAAAAAAAAAAAAAAAAAAAAAAAAAAAAAAAAAAAAAAAAAAAAAAAAAAAAAAAAAAAAAAAAAAAAAAAAAAAAAAAAAAAAAAAAAAAAAAAAAAAAAAAAAAAAAAAAAAAAAAAAAAAAAAAAAAAAAAAAAAAAAAAAAAAAAAAAAAAAAAAAAAAAAAAAAAAAAAAAAAAAAAAAAAAAAAAAAAAAAAAAAAAAAAAAAAAAAAAAAAAAAAAAAAAAAAAAAAAAAAAAAAAAAAAAAAAAAAAAAAAAAAAAAAAAAAAAAAAAAAAAAAAAAAAAAAAAAAAAAAAAAAAAAAAAAAAAAAAAAAAAAAAAAAAAAAAAAAAAAAAAAAAAAAAAAAAAAAAAAAAAAAAAAAAAAAAAAAAAAAAAAAAAAAAAAAAAAAAAAAAAAAAAAAAAAAAAAAAAAAAAAAAAAAAAAAAAAAAAAAAAAAAAAAAAAAAAAAAAAAAAAAAAAAAAAAAAAAAAAAAAAAAAAAAAAAAAAAAAAAAAAAAAAAAAAAAAAAAAAAAAAAAAAAAAAAAAAAAAAAAAAAAAAAAAAAAAAAAAAAAAAAAAAAAAAAAAAAAAAAAAAAAAAAAAAAAAAAAAAAAAAAAAAAAAAAAAAAAAAAAAAAAAAAAAAAAAAAAAAAAAAAAAAAAAAAAAAAAAAAAAAAAAAAAAAAAAAAAAAAAAAAAAAAAAAAAAAAAAAAAAAAAAAAAAAAAAAAAAAAAAAAAAAAAAAAAAAAAAAAAAAAAAAAAAAAAAAAAAAAAAAAAAAAAAAAAAAAAAAAAAAAAAAAAAAAAAAAAAAAAAAAAAAAAAAAAAAAAAAAAAAAAAAAAAAAAAAAAAAAAAAAAAAAAAAAAAAAAAAAAAAAAAAAAAAAAAAAAAAAAAAAAAAAAAAAAAAAAAAAAAAAAAAAAAAAAAAAAAAAAAAAAAAAAAAAAAAAAAAAAAAAAAAAAAAAAAAAAAAAAAAAAAAAAAAAAAAAAAAAAAAAAAAAAAAAAAAAAAAAAAAAAAAAAAAAAAAAAAAAAAAAAAAAAAAAAAAAAAAAAAAAAAAAAAAAAAAAAAAAAAAAAAAAAAAAAAAAAAAAAAAAAAAAAAAAAAAAAAAAAAAAAAAAAAAAAAAAAAAAAAAAAAAAAAAAAAAAAAAAAAAAAAAAAAAAAAAAAAAAAAAAAAAAAAAAAAAAAAAAAAAAAAAAAAAAAAAAAAAAAAAAAAAAAAAAAAAAAAAAAAAAAAAAAAAAAAAAAAAAAAAAAAAAAAAAAAAAAAAAAAAAAAAAAAAAAAAAAAAAAAAAAAAAAAAAAAAAAAAAAAAAAAAAAAAAAAAAAAAAAAAAAAAAAAAAAAAAAAAAAAAAAAAAAAAAAAAAAAAAAAAAAAAAAAAAAAAAAAAAAAAAAAAAAAAAAAAAAAAAAAAAAAAAAAAAAAAAAAAAAAAAAAAAAAAAAAAAAAAAAAAAAAAAAAAAAAAAAAAAAAAAAAAAAAAAAAAAAAAAAAAAAAAAAAAAAAAAAAAAAAAAAAAAAAAAAAAAAAAAAAAAAAAAAAAAAAAAAAAAAAAAAAAAAAAAAAAAAAAAAAAAAAAAAAAAAAAAAAAAAAAAAAAAAAAAAAAAAAAAAAAAAAAAAAAAAAAAAAAAAAAAAAAAAAAAAAAAAAAAAAAAAAAAAAAAAAAAAAAAAAAAAAAAAAAAAAAAAAAAAAAAAAAAAAAAAAAAAAAAAAAAAAAAAAAAAAAAAAAAAAAAAAAAAAAAAAAAAAAAAAAAAAAAAAAAAAAAAAAAAAAAAAAAAAAAAAAAAAAAAAAAAAAAAAAAAAAAAAAAAAAAAAAAAAAAAAAAAAAAAAAAAMjAyMTowODowNSAxMjoyNjoyMAAyMDIxOjA4OjA1IDEyOjI2OjIwAAAAUgBlAGUAZgAgAEEAbQBhAHIAaQBuAAAA/+ELHmh0dHA6Ly9ucy5hZG9iZS5jb20veGFwLzEuMC8APD94cGFja2V0IGJlZ2luPSfvu78nIGlkPSdXNU0wTXBDZWhpSHpyZVN6TlRjemtjOWQnPz4NCjx4OnhtcG1ldGEgeG1sbnM6eD0iYWRvYmU6bnM6bWV0YS8iPjxyZGY6UkRGIHhtbG5zOnJkZj0iaHR0cDovL3d3dy53My5vcmcvMTk5OS8wMi8yMi1yZGYtc3ludGF4LW5zIyI+PHJkZjpEZXNjcmlwdGlvbiByZGY6YWJvdXQ9InV1aWQ6ZmFmNWJkZDUtYmEzZC0xMWRhLWFkMzEtZDMzZDc1MTgyZjFiIiB4bWxuczpkYz0iaHR0cDovL3B1cmwub3JnL2RjL2VsZW1lbnRzLzEuMS8iLz48cmRmOkRlc2NyaXB0aW9uIHJkZjphYm91dD0idXVpZDpmYWY1YmRkNS1iYTNkLTExZGEtYWQzMS1kMzNkNzUxODJmMWIiIHhtbG5zOnhtcD0iaHR0cDovL25zLmFkb2JlLmNvbS94YXAvMS4wLyI+PHhtcDpDcmVhdGVEYXRlPjIwMjEtMDgtMDVUMTI6MjY6MjAuNDYzPC94bXA6Q3JlYXRlRGF0ZT48L3JkZjpEZXNjcmlwdGlvbj48cmRmOkRlc2NyaXB0aW9uIHJkZjphYm91dD0idXVpZDpmYWY1YmRkNS1iYTNkLTExZGEtYWQzMS1kMzNkNzUxODJmMWIiIHhtbG5zOmRjPSJodHRwOi8vcHVybC5vcmcvZGMvZWxlbWVudHMvMS4xLyI+PGRjOmNyZWF0b3I+PHJkZjpTZXEgeG1sbnM6cmRmPSJodHRwOi8vd3d3LnczLm9yZy8xOTk5LzAyLzIyLXJkZi1zeW50YXgtbnMjIj48cmRmOmxpPlJlZWYgQW1hcmluPC9yZGY6bGk+PC9yZGY6U2VxPg0KCQkJPC9kYzpjcmVhdG9yPjwvcmRmOkRlc2NyaXB0aW9uPjwvcmRmOlJERj48L3g6eG1wbWV0YT4NCiAgICAgICAgICAgICAgICAgICAgICAgICAgICAgICAgICAgICAgICAgICAgICAgICAgICAgICAgICAgICAgICAgICAgICAgICAgICAgICAgICAgICAgICAgICAgICAgICAgICAKICAgICAgICAgICAgICAgICAgICAgICAgICAgICAgICAgICAgICAgICAgICAgICAgICAgICAgICAgICAgICAgICAgICAgICAgICAgICAgICAgICAgICAgICAgICAgICAgICAgIAogICAgICAgICAgICAgICAgICAgICAgICAgICAgICAgICAgICAgICAgICAgICAgICAgICAgICAgICAgICAgICAgICAgICAgICAgICAgICAgICAgICAgICAgICAgICAgICAgICAgCiAgICAgICAgICAgICAgICAgICAgICAgICAgICAgICAgICAgICAgICAgICAgICAgICAgICAgICAgICAgICAgICAgICAgICAgICAgICAgICAgICAgICAgICAgICAgICAgICAgICAKICAgICAgICAgICAgICAgICAgICAgICAgICAgICAgICAgICAgICAgICAgICAgICAgICAgICAgICAgICAgICAgICAgICAgICAgICAgICAgICAgICAgICAgICAgICAgICAgICAgIAogICAgICAgICAgICAgICAgICAgICAgICAgICAgICAgICAgICAgICAgICAgICAgICAgICAgICAgICAgICAgICAgICAgICAgICAgICAgICAgICAgICAgICAgICAgICAgICAgICAgCiAgICAgICAgICAgICAgICAgICAgICAgICAgICAgICAgICAgICAgICAgICAgICAgICAgICAgICAgICAgICAgICAgICAgICAgICAgICAgICAgICAgICAgICAgICAgICAgICAgICAKICAgICAgICAgICAgICAgICAgICAgICAgICAgICAgICAgICAgICAgICAgICAgICAgICAgICAgICAgICAgICAgICAgICAgICAgICAgICAgICAgICAgICAgICAgICAgICAgICAgIAogICAgICAgICAgICAgICAgICAgICAgICAgICAgICAgICAgICAgICAgICAgICAgICAgICAgICAgICAgICAgICAgICAgICAgICAgICAgICAgICAgICAgICAgICAgICAgICAgICAgCiAgICAgICAgICAgICAgICAgICAgICAgICAgICAgICAgICAgICAgICAgICAgICAgICAgICAgICAgICAgICAgICAgICAgICAgICAgICAgICAgICAgICAgICAgICAgICAgICAgICAKICAgICAgICAgICAgICAgICAgICAgICAgICAgICAgICAgICAgICAgICAgICAgICAgICAgICAgICAgICAgICAgICAgICAgICAgICAgICAgICAgICAgICAgICAgICAgICAgICAgIAogICAgICAgICAgICAgICAgICAgICAgICAgICAgICAgICAgICAgICAgICAgICAgICAgICAgICAgICAgICAgICAgICAgICAgICAgICAgICAgICAgICAgICAgICAgICAgICAgICAgCiAgICAgICAgICAgICAgICAgICAgICAgICAgICAgICAgICAgICAgICAgICAgICAgICAgICAgICAgICAgICAgICAgICAgICAgICAgICAgICAgICAgICAgICAgICAgICAgICAgICAKICAgICAgICAgICAgICAgICAgICAgICAgICAgICAgICAgICAgICAgICAgICAgICAgICAgICAgICAgICAgICAgICAgICAgICAgICAgICAgICAgICAgICAgICAgICAgICAgICAgIAogICAgICAgICAgICAgICAgICAgICAgICAgICAgICAgICAgICAgICAgICAgICAgICAgICAgICAgICAgICAgICAgICAgICAgICAgICAgICAgICAgICAgICAgICAgICAgICAgICAgCiAgICAgICAgICAgICAgICAgICAgICAgICAgICAgICAgICAgICAgICAgICAgICAgICAgICAgICAgICAgICAgICAgICAgICAgICAgICAgICAgICAgICAgICAgICAgICAgICAgICAKICAgICAgICAgICAgICAgICAgICAgICAgICAgICAgICAgICAgICAgICAgICAgICAgICAgICAgICAgICAgICAgICAgICAgICAgICAgICAgICAgICAgICAgICAgICAgICAgICAgIAogICAgICAgICAgICAgICAgICAgICAgICAgICAgICAgICAgICAgICAgICAgICAgICAgICAgICAgICAgICAgICAgICAgICAgICAgICAgICAgICAgICAgICAgICAgICAgICAgICAgCiAgICAgICAgICAgICAgICAgICAgICAgICAgICAgICAgICAgICAgICAgICAgICAgICAgICAgICAgICAgICAgICAgICAgICAgICAgICAgICAgICAgICAgICAgICAgICAgICAgICAKICAgICAgICAgICAgICAgICAgICAgICAgICAgICAgICAgICAgICAgICAgICAgICAgICAgICAgICAgICAgICAgICAgICAgICAgICAgICAgICAgICAgICAgICAgICAgICAgICAgIAogICAgICAgICAgICAgICAgICAgICAgICAgICAgPD94cGFja2V0IGVuZD0ndyc/Pv/bAEMABwUFBgUEBwYFBggHBwgKEQsKCQkKFQ8QDBEYFRoZGBUYFxseJyEbHSUdFxgiLiIlKCkrLCsaIC8zLyoyJyorKv/bAEMBBwgICgkKFAsLFCocGBwqKioqKioqKioqKioqKioqKioqKioqKioqKioqKioqKioqKioqKioqKioqKioqKioqKv/AABEIArgCWwMBIgACEQEDEQH/xAAfAAABBQEBAQEBAQAAAAAAAAAAAQIDBAUGBwgJCgv/xAC1EAACAQMDAgQDBQUEBAAAAX0BAgMABBEFEiExQQYTUWEHInEUMoGRoQgjQrHBFVLR8CQzYnKCCQoWFxgZGiUmJygpKjQ1Njc4OTpDREVGR0hJSlNUVVZXWFlaY2RlZmdoaWpzdHV2d3h5eoOEhYaHiImKkpOUlZaXmJmaoqOkpaanqKmqsrO0tba3uLm6wsPExcbHyMnK0tPU1dbX2Nna4eLj5OXm5+jp6vHy8/T19vf4+fr/xAAfAQADAQEBAQEBAQEBAAAAAAAAAQIDBAUGBwgJCgv/xAC1EQACAQIEBAMEBwUEBAABAncAAQIDEQQFITEGEkFRB2FxEyIygQgUQpGhscEJIzNS8BVictEKFiQ04SXxFxgZGiYnKCkqNTY3ODk6Q0RFRkdISUpTVFVWV1hZWmNkZWZnaGlqc3R1dnd4eXqCg4SFhoeIiYqSk5SVlpeYmZqio6Slpqeoqaqys7S1tre4ubrCw8TFxsfIycrS09TV1tfY2dri4+Tl5ufo6ery8/T19vf4+fr/2gAMAwEAAhEDEQA/APfqKK8b8O+OPFOseI0kTWrF5/7RNtdeF5YY4JIIckF0kYhpGULuIGf6ULWVgekeY9korkZ/iJp8XjKXw1Dper3d9DJEkrW1sHjjVwDvZt3yoMjJIHXvWD8SvHGr+D/F2gfYS0umvHLLf2yxqxeNSoLA4yNoJPB7c8UdvMHpfyPTKK4ez8Wyz/Eq8tjqMZ0FNDj1CMlVCjLcyb8Zxt9TipNH+KOiazq1tZpZ6paQ3rMllfXloY7e7YHpG+eSeSMgdMdeKdn/AF62/QV1/Xpf9TtKYf8AXL/un+lPph/1y/7p/pSGPooooAKKKKACiiigAooooAKKKKACiiigAooooAKKKKACiiigAooooAKKKKACivMPi74s8ReGb7RF8NXQiEy3E1xEYkbzUiVXIywJHy7umKp+OPH+t2/jLQbXw3eLDp0htWvCI0fzPPc7VyynHyoeQR1+lC1t5uw2rfdc9boritW+KWiaTq9zZG01S8isXCX19Z2hlt7Mk8iR88Y6nAPp1BFW9c+IOlaLfWVnHbahq1zeQ/aEi0u389lh/wCehwR8v0zR0uI6qivJvD/jvUtS0fR7u71mcfbfEMlohisYmE0P8MbZ2lBj+IAt7Vnz/EDxDfeIfFEovNW0bTNJgbZF/Y0UnlkKBl2dhhyTuCk4I9KV7K77X/BP9RXu7edvxa/Q9porjr74g2WjWmnQPaarrV/cWaXLxadZeZIsZH+sdQcICewJ5pNV+J2h6Za6PcQw3+pR6yjtZ/YIPMZyoHy7SQdxJxjHXriqas7AndX+Z2VFU7e9kvNFjvYLSaGWaASpbXS+XIpK5CuOdp7H0rzD4a+MvEniHxFCt5qh1SCSKU6hbDTvITS5A3yIJR98tyMZJwD6UW97lBuyuet0Vz3jzVLzRfAer6jpk3k3dtbl4pNobacjnBBB/EVxV1qHjjwn4dsfFepeJ4tc00iF7yxk06OApHJgFldOSwLD0H8qlau3p+P/AAw3/Xy/4c9Workdb+JGkaJqb2Rs9Uvzbosl5LYWhljskYZDSnI2jGTxk4Bpuu/EvR9Fngigs9T1h5rQXp/su284RwHpIxJACnnn25xxTA7CiuX1X4g6Lpuj6bqEQu9SOqjdY2thAZJ7gYySqHHQcnOKo3HxW0C30Kz1Qwag63V2bE2yW4M8E4GTG6ZyG7YGeoo7gdtRXC2njN7rxlGkranZW50V75tKu7CNGXbIRuZ9+4NgfcxjHOabpfxd0HVbjTlWx1e2ttScRQXtzZ7bcykkCPfkgtkY4yPfrR1t/XVfoD01/rv+p3lFeWQfEq/v08YxzWup6YumI7W10NPVhbhFHDBmwZCTkKSAQO1dBdfEKw0bTdHilh1PWtSvrRLgW2n2Yedk2gmVkBwoz2BPPTIGaSd1f0/H/hg2dvX8P+HOzorjrn4n+H7bQ9M1Yfa5rbUbn7IiwwFpIpecq6Z3AgjGACemMg5q74V8b6f4smvra2tL/T7ywZRcWeoweVKgYZU4yeD+ftyM1YVzpKKKKQwooooAKKKKACiiigAooooAKKKKACiiigAooooAKKKKACiiigAooooAnsv9dL/ur/WrlU7L/XS/7q/1q5QBlsCVIU7SRwcdK8b1bwj4z8QTW2nazoGny39veJIPFqTxRuYlbcP3aAPnHy46Z7fxV7LRQtHcHqrHFaNo2raZ4/8AF+sNY+ZBexW5s/3yDz2SMgr1yvOBkgVDe6Lq+ueOPC+sX+kC3torG5j1CFp0kEDSKBsJB+fuMgYru6KO3l/k1+oPX+vT/I8d0L4XaxYeIfE2nTu39i3elyWOnXbSKxRHbcEK53fKWYZI5x9KuWnh7xjrMfhzQNd0W102w0C4infUortJBdeSNqBIwMru6844z06V6tRTTat5fpd3/ELLXz/VW/QoaZd6hdPeDUdM+wLDcNHbt9oWX7REOknH3c/3TyKuH/XL/un+lPph/wBcv+6f6UgH0UUUAFFFFABRRRQAUUUUAFFFFABRRRQAUUUUAFFFFABRRRQAUUUUAFFFFAHFeL/DV7rfjjwxdRW3m6faLdJeSb1GxZI9o4Jyc+2a4TS/hp4ltPDdul3a+fqC6/aysTNHkWcC7EbOccAn5c59q9wooWn9edxtt/16r9Tyi48PeMtGi8R+H9G0W01LTtfuZp49Re7WL7J53DiRCNz7Rz8v69Bb/wCEX8Q+DvEGmal4Z06LXY10iPS7iKS6W3ZChyJctkEewya9Moo2/rsrfkxPX+vn+h4/pPgnxPFpmgrf6dGtzbeJZNQuhHNHtSJv4x83Iz26+1amp+EtbuLD4hRw2W59ZaM2I81B52IwD3+XkfxYr0yik0nFx8rfgl+iElaXN53/AD/zPGfFHw3v7jVdP1RvDEXiRDpUNpNZNqP2VraZFA37gwDL2xk1tWXgjUtN1bwIbfT7eK30kXTXotZmMUDSLwF8xy7DcT6/hXplFUm07+d/z/zBKyt5W/Cxh+MtGu/EPg3U9K065Ftc3UBSOQkgZ9CR2PQ+xryY+BfGNxqVjf6J4XtfC5sEi+0wQ6qAuplGBHEQwDweW556kivdaKS0lzIb1Vn/AF/VjnfHOmX2t/D/AFXT7CAS3tzbFEiWQAFuOAzYH4nFcZcaf428WeG7PwpqfhiLQ9PAhS7vpNSjnLxxlSVVE5DHaOvHX616rRQtJX9Pw/4cO39b/wDDHi/i74Z3s3jPU7+28K23iKHUljME02otbCxcKFO9VZTIvAPHPHWr/izwRqanSRpvha21X7Fp628Fzp+pPY3NlKv8SvI5DIOqg7iOcn19ZopWsrf1/X4j63PMJPDXjHTbPwprWyLX9a0aKaG6tnuvLM6y8AiRuNyjGSeuO9WdS0vxf4i/4Rm91fTLW3ntNaF1LbW8wP2a3AIG9i2Hb12/lXo1FVfW/nf8bkculvl+Fjgdd0PUT8Rb3XBb/wDEtHh2W1M+9f8AWbi23bnd074xXH+FtO8U+KfAvhXRm0m1t9Ggmiu31VblSWSN2IQRY3B+2eR+de2OiSxtHIqujAqysMgg9iKjtLO2sLWO1sbeK2t4xhIYUCIg9ABwKlaP7vwbf5sqXvf15JfoeZah4c8UCfx3p0GirPZ64jzWl4t3GuZPLVRGUJB555OAMd81N/YXinwzq+ma9omjQ6xI2jw6deWDXaQSRMgzuVzlSM8Hr/Uem0UJcqSXl+Ca/Jg7N/15P80eTW3gHXraDQ7ia3iku5PEjaxqEcMihLVXH3QSRuxgZxnnOM9a6nQ9D1Gz+KXifV7m32WN9Darby71O8omG4ByMH1ArsKKq+v9dkvyQd/P/O/5hRRRSAKKKKACiiigAooooAKKKKACiiigAooooAKKKKACiiigAooooAKKKKAJ7L/XS/7q/wBauVTsv9dL/ur/AFq5QBR+yz+kf/fZ/wAKPss/pH/32f8ACr1FAFH7LP6R/wDfZ/wo+yz+kf8A32f8KvUUAUfss/pH/wB9n/Cj7LP6R/8AfZ/wq9RQBR+yz+kf/fZ/wphtpvPUYjyVJ+8fUe1aNRN/x9x/7jfzWgCt9ln9I/8Avs/4UfZZ/SP/AL7P+FXqKAKP2Wf0j/77P+FH2Wf0j/77P+FXqKAKP2Wf0j/77P8AhR9ln9I/++z/AIVeooAo/ZZ/SP8A77P+FH2Wf0j/AO+z/hV6igCj9ln9I/8Avs/4UfZZ/SP/AL7P+FXqKAKP2Wf0j/77P+FH2Wf0j/77P+FXqKAKP2Wf0j/77P8AhR9ln9I/++z/AIVeooAo/ZZ/SP8A77P+FH2Wf0j/AO+z/hV6igCj9ln9I/8Avs/4UfZZ/SP/AL7P+FXqKAKP2Wf0j/77P+FH2Wf0j/77P+FXqKAKP2Wf0j/77P8AhR9ln9I/++z/AIVeooAo/ZZ/SP8A77P+FH2Wf0j/AO+z/hV6igCj9ln9I/8Avs/4UfZZ/SP/AL7P+FXqKAKP2Wf0j/77P+FH2Wf0j/77P+FXqKAKP2Wf0j/77P8AhR9ln9I/++z/AIVeooAo/ZZ/SP8A77P+FH2Wf0j/AO+z/hV6igCj9ln9I/8Avs/4UfZZ/SP/AL7P+FXqKAKP2Wf0j/77P+FH2Wf0j/77P+FXqKAKP2Wf0j/77P8AhR9ln9I/++z/AIVeooAo/ZZ/SP8A77P+FH2Wf0j/AO+z/hV6igCj9ln9I/8Avs/4UfZZ/SP/AL7P+FXqKAKP2Wf0j/77P+FH2Wf0j/77P+FXqKAKP2Wf0j/77P8AhR9ln9I/++z/AIVeooAo/ZZ/SP8A77P+FH2Wf0j/AO+z/hV6igCj9ln9I/8Avs/4UfZZ/SP/AL7P+FXqKAKP2Wf0j/77P+FH2Wf0j/77P+FXqKAKP2Wf0j/77P8AhR9ln9I/++z/AIVeooAo/ZZ/SP8A77P+FH2Wf0j/AO+z/hV6igCj9ln9I/8Avs/4UfZZ/SP/AL7P+FXqKAKP2Wf0j/77P+FH2Wf0j/77P+FXqKAKP2Wf0j/77P8AhR9ln9I/++z/AIVeooAo/ZZ/SP8A77P+FH2Wf0j/AO+z/hV6igCj9ln9I/8Avs/4UfZZ/SP/AL7P+FXqKAKtrG8c8ok252qflOe5q1US/wDH3J/uL/NqloAQ52naATjgE4rjfCtzrz+O/EFv4hvIZSlraSw21ru8m2DGbKqW5Y/KMuQM+gAAHZ1i2WjXFt401bV5HiNve2ttDGoJ3hozIWyMYx84xye9NdQ6f13NqiiikAUUUUAFRN/x9x/7jfzWpaib/j7j/wBxv5rQBLRRXnkPxM1O7+IGreHrDwo89lo9xGl/qrX6RxwRMm4ybSuSRz8oJ6ZyKV1ewdLnodFeR6B8ftO1vxRZWL6XHb6ZqVx9msb0apBLO0hOF8y1U+ZEpIIyc9V9eOg+Leo3um6BosmnXlxaPJr1lE7QSshdGkwykg8gjqOhp62T7tL8v8w7+Wp3lFFFABRRRQAUUUUAFFFFABRRRQAUUUUAFFFFABRRRQAUUUUAFFFFABRRRQAUUUUAFFFFABRRRQAUUUUAFFFFABRRRQAUUUUAFFFFABRRRQAUUUUAFFFFABRRRQAUUUUAFFFFABRRRQAUUUUAFFFFABRRRQAUUUUAFFFFAES/8fcn+4v82qWol/4+5P8AcX+bVLQAUUUUAFFFFABRRRQAVE3/AB9x/wC4381qWom/4+4/9xv5rQBLXF+HvBV1p3ivxpf6lJbyWXiGWIwpC7b1RYijBsgAHnjBNdpRSsne/VW/r7g7feeL+Efg3rWga3p1vdp4TfRtLuDNHfR6Sj6ldAElEkd0KrgkfMp3fKMHuOr8UeFvFHizQ7e11CXSIp7TX4r2EwNKFNpHJuUNkE+bjrj5c9672inva/8AW3+QrL+vn/mFFFFAwooooAKKKKACiiigAooooAKKKKACiiigAooooAKKKKACiiigAooooAKKKKACiiigAooooAKKKKACiiigAooooAKKKKACiiigAooooAKKKKACiiigAooooAKKKKACiiigAooooAKKKKACiiigAooooAKKKKACiiigCJf+PuT/AHF/m1S1Ev8Ax9yf7i/zapaACiiigAooooAKKKKACom/4+4/9xv5rUtRN/x9x/7jfzWgCWiivJVh8Iy/ELxgfFHhv+17gX0Ply/8I9LqGxfssXy70icLzk4yPXHNK+th20uetUV5RZ+KLnwfoukaJdXWn+Hn1Ge8ntJNek/d2NkkmYoyvmKWfa6KqbxtGc/d21o23xC1DVNGjXRZNIvb9daTSXvIXMtpKGj3+cm188AglNxIIZd3Rqfp/WqX5uwnpf8Arv8Aorno1FeTapPf6R8SNV1zxC2m6sNC0CK7iij05ldWJlB8lmlfymZl5IByu0fw5PU2+ueItJ1rSLXxSdMmi1kvFF9ghkja1nWMybGLO3mqVVxvATlR8vzcLpf+uv8AkD0dv62T/U7CivM7Xxn4wn8L+HNVZNF83xDeQ20VuLeXFsrxyEyM/mfP9xW2gLgZXJ++HXXizxpZWnieWc6G48MHzJXW1lH29PJWbaq+afJIU43EyZJ+6Mct6Xv0/wCB/mVyO/L/AF1X5o9KorzzWPHt7b+JW05NR0XQh9nimtE1uORV1LcAWEc4dVTBYJjbI2eduOD2PiDWV8P+Gb/V54WlFlbtMYkPLkDO0HHc8ZxR0uStXZGlRXMxXXivTrK5v9Y/si9hS0ecQWqvavFIoyIy8jsrqeQXPl4xnBzgc7oPxDvL3xVaaab7TNchvIZiJdKspo4oZY0V/LW4Z3in4JB2kEHGRzgIOifc9Iorz7wb48uvEE3mXmq6GSsMsl5oyRSQX+msnVHV3YybT8pbZGDwR1xWbpHxZS9k0m9l1nw3Pb6tcxwLo9rcA31oJW2xsx8w72BK70Ea7dx5O35qs72/rXb7/uB6JtnqdFYfjK9/s/wrcXP2a3utskI8q5j3ocyoMke2cj3ArmNW8W+KYE8W39gNISx8NTkeVPBK8l2iwRTMu4SARt87ANtYHI+UbSWm+/lr/X3js3seh0V55rPj28t/Ez6dHqOi6GPIims01yKRV1PcAWEc4dVTBYJjbI2eduMAu1/4hfZPFN9o9vr/AIb0R9Nijab+2pfmuZHXeEjHmR7VC4y+G5b7vynL23/qwlrseg0Vwdp4x1rxLdaHH4bTT7OLVNKe/kmvEa48hldF2gI6bwdxGcjpn2NKf4jahH4b0q6u3sNJae8uLG+1W5tpJrO2lhkMQyodSqyMDgs4C9yTjJsr/wBb2/MV1/Xpf8j0miuKOtXt4vhkiTQr26v5blItRtUa4gUrDIVlj+YEZ2jcoY8Fl3H71YHg3UNXi8LeFUum0+/vL66vfIuJrV90JCSsDkyEliwOSCMq2MdyPS4uZM9UoridP8eS6hp/hpkihS81GOWbUIiGb7MkCkT4weol2oM+vfFYWkfFlL2TSb2XWfDc9vq1zHAuj2twDfWglbbGzHzDvYErvQRrt3Hk7fmdnzcv9ditldnqdFc14z13U9FTRotFitXuNT1NLEm6DFY1aORt+FIJIKA4zyARkZyOauvFnjSytPE8s50Nx4YPmSutrKPt6eSs21V80+SQpxuJkyT90Y5m6s32/wCB/mVyu6S6/wDBX5o9Korz7xP46vdP1AW1lqOk6c5tEngtri1kv7q9ZwxwkEEiyIiheXKsDk8ALzQs/EWp63428H62tzDaade+Hbi+lsjC8hXmAuNwcAn5hhtvADcHdxVvw/yb/RkX00/rb/M9QorlPDupeJ9atNP1qb+y00vUIhMLHyZUuLeNl3ITLuKyN0yvlp1PzfL83K+CdZ8QaL4N8GSXf9mvpN+0NiLaOF/tEYZW2SeaX2tkqCV2DAbG445Wt7PyXzY9OVyPVaK87sfE2rvYaPbaFZaVaS6lrGo2khMDCKFYpJz5uxWBZiYwWGRuLHlc5EsHjbWDNJoMosG17+120yO6WB1tiBALjzTHvLcRnGzfy38QHR2d2l/W3+a/q4r/ANff/kzv6K5Xwtreu3fibXdG8QpYltLFuYbizjZBOsisdxVmbb0xtyeh5ORXVUgCiiigYUUUUAFFFFABRRRQAUUUUAFFFFABRRRQAUUUUAFFFFABRRRQAUUUUAFFFFABRRRQAUUUUAFFFFABRRRQBEv/AB9yf7i/zapaiX/j7k/3F/m1S0AFFFFABRRRQAUUUUAFRN/x9x/7jfzWpaib/j7j/wBxv5rQBLWRpGg/2VrOt3/2nzf7WuUuPL8vb5W2JI8Zyc/cznjriteigDC17w9PqOpWOraTfR2Gq2KvHFNNb+fE8UmN8bxhlJBKqQQykFRzjINdfCt1LDZNqOsSXd3Dqa6jNI0ZEbEKV8uNCx8tACMDLdCTkkmuloo/r8b/AJg9TmtU8FWus6vrFzqE7Pa6tpaabLbou1lVWkJcPnr+89OMd6ZYeFtTbVNPvPEetx6mNLVhZJDZfZzvZChllO9g77SQNoRfmb5eRjqKKOlgeu/9f1Y5O28D/Z/D/hbTP7Q3f8I/cxz+Z5GPtGyN0xjd8ud+c5PSpb/wb9usfFlv9u8v/hI027vJz9n/ANHWHpu+b7u7t1x7109FJpNNPr/X6F88ubm6/wDBv+ZymteFta1Own0uDXbRdKurZbea3u9LE7INu1jGwkUDI5+dZMN7fKNe+8PWOo+FZvD10JGsZrT7I3z/AD7Nu3O71x39a1KKb1v5kLS1uhyVz4U1vV9HvNJ8QeI47iwns3tQtpp6wyNuGA8jM7hmAHRQikk5BGAIo/B2uXHiTR9Y1jxJBM+lpNGkFnp3kRuske0thpHw4IBz0wMbec12VFArI5FfB+o32t6be+JtXs9Tj0sS/ZfK03yJ2LoYyZJPMYEFSchEQE4OAABTtI8I6ppUdhpo8QFtD01gba2itjHcMi/6uKSYSEOijAwEUsFXcT827rKKB77nM3ngLQjpF3ZaHpmn6M920TSzWdkiF9kgcBtu3PQ9Txmm3Xgz7TpHi2x+37f+EjeR9/k5+z7rdIcY3fNjy93brj3rqKKVtGu6t8hptO/zOU1rwtrWp2E+lwa7aLpV1bLbzW93pYnZBt2sY2EigZHPzrJhvb5QN4Qv9Nv5Lnwpq8OnC5gihukvLM3QcxqESRSJEKvtGCTuBwvHBz1dFN6u4v6/r7jDsvDQstasL4X09x9j05rH/SSZJJcsjeY0hPJ+Tnjv26VQsPCusaJpK22ha9DDL9turp/tWn+dFIs8rSbSokVgVLYDBwDzlTkY6uinfS39b3Dz/ra35HJaT4GGmSaZMb1Hmtb64v5/KthHHLJMjKwRAx8tRuyBljxySSTTdE8EXGlLpEUuqRzwaPdzzWwW1KM0ciuAjneQWBcncAAcY2jrXX0UhcqOT0PwFb6N4r1zWGvGuYtUG2GzaPatorEtKFOed7nceBRpHhHVNKjsNOHiEtoemsDbW0VsY7gov+rikmEhDoowMBFLBV3E/Nu6yihaJJdP0G9bt9TI17Qf7buNHl+0+R/ZmoLe48vd5m1HTb1GPv5zz06Vn3/g37dY+LLf7d5f/CRpt3eTn7P/AKOsPTd833d3brj3rp6KTSaa7/1+hSk001/WtzjpvBmqRX19Jo2vxWUGpwRRXgex82ZSieXuhk8wBCVxgMrgNzjkio9L+H8ulR+GhHqscx0XTpNMm820OLqB9mcAONjfu15+Ycniu1op/wBfn/myelv6/rQ5fQ/DOsaHHZabBr8Z0SwUJBbixAuGjAwsckxcqygY5WNWO0c9csg8EeR4X8OaP/aG7+w7iCfzvJx5/lA8Y3fLnPXJx711dFHW/wA/uDo49Gctpvgv+zm0s/b/ADP7P1C8vf8AU48z7Q0p2/e42+b15zt6DPGPr/hwaLdXWtxvezXVxrCX9vPZ6c119hb7MID5kSNvljYKQdgyN46Y3D0Gind3v/XR/oH9f195wfgmw1iW/wDEmtz3Enn6m8K2897p8lup8tMErbMwkRMkgKzbiQWyQQa7yiikJKwUUUUDCiiigAooooAKKKKACiiigAooooAKKKKACiiigAooooAKKKKACiiigAooooAKKKKACiiigAooooAKKKKAIl/4+5P9xf5tUtRL/wAfcn+4v82qWgAoqLdP/wA84/8Av4f/AImjdP8A884/+/h/+JoAloqLdP8A884/+/h/+Jo3T/8APOP/AL+H/wCJoAloqLdP/wA84/8Av4f/AImjdP8A884/+/h/+JoAlqJv+PuP/cb+a0bp/wDnnH/38P8A8TUbNN9qT93HnY3/AC0PqvtQBZoqLdP/AM84/wDv4f8A4mjdP/zzj/7+H/4mgCWiot0//POP/v4f/iaN0/8Azzj/AO/h/wDiaAJaKi3T/wDPOP8A7+H/AOJo3T/884/+/h/+JoAloqLdP/zzj/7+H/4mjdP/AM84/wDv4f8A4mgCWiot0/8Azzj/AO/h/wDiaN0//POP/v4f/iaAJaKi3T/884/+/h/+Jo3T/wDPOP8A7+H/AOJoAloqLdP/AM84/wDv4f8A4mjdP/zzj/7+H/4mgCWiot0//POP/v4f/iaN0/8Azzj/AO/h/wDiaAJaKi3T/wDPOP8A7+H/AOJo3T/884/+/h/+JoAloqLdP/zzj/7+H/4mjdP/AM84/wDv4f8A4mgCWiot0/8Azzj/AO/h/wDiaN0//POP/v4f/iaAJaKi3T/884/+/h/+Jo3T/wDPOP8A7+H/AOJoAloqLdP/AM84/wDv4f8A4mjdP/zzj/7+H/4mgCWiot0//POP/v4f/iaN0/8Azzj/AO/h/wDiaAJaKi3T/wDPOP8A7+H/AOJo3T/884/+/h/+JoAloqLdP/zzj/7+H/4mjdP/AM84/wDv4f8A4mgCWiot0/8Azzj/AO/h/wDiaN0//POP/v4f/iaAJaKi3T/884/+/h/+Jo3T/wDPOP8A7+H/AOJoAloqLdP/AM84/wDv4f8A4mjdP/zzj/7+H/4mgCWiot0//POP/v4f/iaN0/8Azzj/AO/h/wDiaAJaKi3T/wDPOP8A7+H/AOJo3T/884/+/h/+JoAloqLdP/zzj/7+H/4mjdP/AM84/wDv4f8A4mgCWiot0/8Azzj/AO/h/wDiaN0//POP/v4f/iaAJaKi3T/884/+/h/+Jo3T/wDPOP8A7+H/AOJoAloqLdP/AM84/wDv4f8A4mjdP/zzj/7+H/4mgCWiot0//POP/v4f/iaN0/8Azzj/AO/h/wDiaAJaKi3T/wDPOP8A7+H/AOJo3T/884/+/h/+JoAloqLdP/zzj/7+H/4mjdP/AM84/wDv4f8A4mgCWiot0/8Azzj/AO/h/wDiaN0//POP/v4f/iaAJaKi3T/884/+/h/+Jo3T/wDPOP8A7+H/AOJoAloqLdP/AM84/wDv4f8A4mjdP/zzj/7+H/4mgCWiot0//POP/v4f/iaN0/8Azzj/AO/h/wDiaAJaKi3T/wDPOP8A7+H/AOJo3T/884/+/h/+JoAF/wCPuT/cX+bVLUERc3UnmKqnYv3Wz3b2FT0AFFQ3kc81jPHZzi2uHjZYpjHvEbEcNtyM4POK5K3t/wCxPHGlaZpup6heST20suoxXd3JcLsAASXDkiMl+AF2ggtx8owdbA9Fc7OiiigAooooAKib/j7j/wBxv5rUtRN/x9x/7jfzWgCWiiigAooooAKKKKACiiigAooooAKKKKACiiigAooooAKKKKACiiigAooooAKKKKACiiigAooooAKKKKACiiigAooooAKKKKACiiigAooooAKKKKACiiigAooooAKKKKACiiigAooooAKKKKACiiigAooooAKKKKACiiigAooooAKKKKAIl/4+5P8AcX+bVLUS/wDH3J/uL/NqloAraj9t/sy5/skQG+8pvs/2kkR78fLuwCcZ64rm/CWla9ozldS07TXkunMt/qK6nJNPPJjg7DboMDgBdwCjp79bRQtAeoUUUUAFFFFABUTf8fcf+4381qWom/4+4/8Acb+a0AS155D8TNTu/iBq3h6w8KPPZaPcRpf6q1+kccETJuMm0rkkc/KCemcivQ64vw94KutO8V+NL/UpLeSy8QyxGFIXbeqLEUYNkAA88YJpa3du346f8EHt8/w1OX0D4/adrfiiysX0uO30zUrj7NY3o1SCWdpCcL5lqp8yJSQRk56r68bHxk1O/wBL0jw2+mXtxZtN4js4ZWt5WjMkbFtyNg8qe4PBrm/CPwb1rQNb063u08Jvo2l3Bmjvo9JR9SugCSiSO6FVwSPmU7vlGD3G/wCOvCPjTxh4at4Fl0GLUrDXkv7Qlplha3j3eWJOC2/kbsYHoaellbuvuuv+CON7u/Z/fZ/8A9Jorj/C/wDwsn+1z/wmn/CK/wBneU2P7J+0+d5mRj/WfLtxnPfpXYUCCiiigAooooAKKKKACiiigAooooAKKKKACiiigAooooAKKKKACiiigAooooAKKKKACiiigAooooAKKKKACiiigAooooAKKKKACiiigAooooAKKKKACiiigAooooAKKKKACiiigAooooAKKKKACiiigAooooAKKKKAIl/4+5P9xf5tUtRL/wAfcn+4v82qWgAooooAKKKKACiiigAqJv8Aj7j/ANxv5rUtRN/x9x/7jfzWgCWiiigAooooAKKKKACiiigAooooAKKKKACiiigAooooAKKKKACiiigAooooAKKKKACiiigAooooAKKKKACiiigAooooAKKKKACiiigAooooAKKKKACiiigAooooAKKKKACiiigAooooAKKKKACiiigAooooAKKKKACiiigAooooAKKKKAIl/wCPuT/cX+bVLUS/8fcn+4v82qWgAooooAKKKKACiiigAqJv+PuP/cb+a1LUTf8AH3H/ALjfzWgCWvN73Wr3w/deOdQ0uCC4u11bT4o4rgkI3mRW0ZBI5HDHnnHXB6V6RXK6h4K+3/23/p/l/wBq39pef6nPleR5Py/e53eT14xu6HHK6/13RcGluY+sa14nt4vEGh317pv2xNFbULS9tLOWMIAWV0ZDMTu4G1ww5OSOMHPt/G8+i6V4b0G68QeH9KvJNIjvJtQ1RCkXlkbY40iMylnODlt+BtJx8wA7LUvCqanr13qEt2yJdaS+mNEqcgMxYuGz74xis218G6vp8emXVhrdlFq9lZDT5Z301mguYFOUDRecGDKeQwkxy3HIAI36/wBW5rfnH+rmb3/rry//AGxnWPjrV/EUeiweHzpKzXs13BcXZ3XMCmAj95GEdd6t2G4Y3Dn5TmWXxH4wlbxFc2EWkfZdBuWjWGWKTzL5ViSRlDiQCE/MQGIcZI4GOd2z8Ly29/pN5darNeT2P2hpXmXJmebBOOfkVSMKozgYHbJ5nT/DOv6lqvjG3bUn07StR1NkkimsizyQm3iDPBJuUJn5lLFXGRwAQci5tbb2/G6/4I9NL7X/AA1/4HU1rPxRqmreJbhbJrO30W0sbW+kkmgeSaVZVdigw4CkBAdxDdcYPWud0r4si9bSr19a8NzQatcxwJpFtOGvrQSttjZz5h8wgld6BE27j8x289zYeGrew1a/uY2U215awWq2wTAjSIOMZzzkP6DGKzdI8I6ppUdhpw8QltD01gba2itjHcFF/wBXFJMJCHRRgYCKWCruJ+bdXu83l+l9fwtb5krm5Nd/+B/n+nQ47SfE+veG/Bt3e6jfWcqzeIbq2m1KSwmeKwQSyAySIJSzIWVUHzKEDDLHHPonhbU59W0UXVxqOk6oDK6x3ukOTBMoPBwWbaw6Eb25Gc84GZZeFdZ0i1vIdG1+CBZdQlvYBNp/mgCVmZ45f3gLjLZUoYyMDO4ZBv8Ahjw4+gjUZ7u5hub7U7s3V1Jb232eLdtVBtj3MRwoySzEkk55wFH4dey/Jf8ABLlbmdu7/N/8D+rj/F2rXeg+GLnVbGOKRrQpLMsqkjyQ480jBHITcR2yB1rn9Q8f3NlrviG2+yRtaWGn+dYOAS11OoXzF64IBlhUDg5LV2d9Zw6jp1zZXSB4LmJopFYZDKwII/I1xCfC6NtL8NWt7rE11No10bm5uHiw19lhIUb5vlG9Iz34jApbuz2/z/y3C6S/r+tdi5/bPinVdVvdP0U6VayaTDEt3Jd28kq3Fw8Yk8tAsi+WoBHzEufm6cc19K8Y6x4m1XTU0dLGws5tNW+umu4mmeNhK0bwrtdB1U4foNucNnjTv/DGpprt7qfhvWYtNbUo0W9juLL7QGZBtWSPDpsfbxzuU4X5eDmbRPCNvoOoW81lcSNBb6algkco3M21y29nzyTnnjrRrdP+tn+F7f1cnZWXl+a/S/8AVjh/EereIfEXhHS9bI09dFvdZsHhtUif7RFF9rj2SNLvKsWwCU2Lt3/eO35tqLxxf3HjW40htR0TTZoL1YE0fUo5Irm7hJwJopt+1twBYKsbdNpYE5Drj4d6lJYWmjweIki0Oxv4by2tjYbplWOYSCFpfMwUGCFwgYYXJbB3aOt+E9W155LLUNbtZtFkukuPIk00G5QKwcIswcKACMBvLLAfxZ+aqjsl5/8AyP8Ak/6sOWt7f1v/AMD+rnWVxfjDxdc6LrEVhBqWl6ZvhV4zd273s927MVEcVrDIspxjJYAjkYHBI7SuZ1HwzqbeJrjWND1iCxe9to7a6W4sfPO2MsVaJg67G/eN94OucHHXMu4+hkaT421bxNp2gQ6PDaWWo6nZy3dxNdQSSxW6xOsbARhkYlmbgFlIAOckYrQuNX8SjUNO8PxnS4tXuIJrme98mWW3SKNlUERblbc5cfL5ny4PzNjmnpXw8u9B0vRxpWuL/aukxT28d5dWhkjnglk3lJIw6kkEKdwccjOMHFX5/CurSXFlq0euxHXrVJojcy2Ia3eKVlZo/JV1YKCi7T5hYY5LZNVpf7/1tb8L/MlXt/Xz/W3y8yK61nxOup6b4ehXS49WuIZrm4vjFLJbpDGyqCItytvcuvyl8L83zNgZzZvGuvGC3023h05dbXXBo93I6OYADA0wmRQwb7uxthb1Xd/FWtceFNWlubDVo9fjGvWizRm5lsA1vJFKQWiMKurBQUUqfM3DbyzZOUt/A/lfYZ59SM17Fqx1a8nMIAuJTC0W1Vz8ihWULyxAQAknJpK2l/n96/8Abb/Mrv8AP8n+tvl8zK1PV/E+rWPiK10x9KaLR4Da3RktpA19OYBI4jxIfJUB1Az5hyT6c5dp4nuNA8JT3FlZWL3Gm+DLS+imkiO+RsS4R2BBKDZkDjlm55rp9V8HajPd6w2h64mm22tr/p0Uln5zK/liMyRNvUIxQKDuDj5QQBzmtcfDnz9FvNP/ALU2/avD0WieZ9nzt2b/AN7jdznzPu+3WiHxXfW35Sv+LVg0v/XeP6J3/wCGGXPi/WPDWrFPFf2Cazm0q51FPsEDo9v5GwtGxZ2EmQ4wwCcr93nhn/CReLrDXfDEeqLo8ljr1w0ci28MqyWn7h5Qm4uRIflxv2p90/L8w27HiHwtDquoQ6jdB7qG1027s5LCNBuuVmCZAZmAB/d4GePm6jFcfo1rq+veKvDDy3epXFjojSTFbzQ5dPKAwNGolaQ4mly45iAUYckfMuHDV6/1q/0sJ6QX9a2Vv1PVa8ybXdX8PeLfG+pXU1vqEFuLOK1s1heNi8nywrvLsFGXwxCck7gB0PptclqfgYapqmuST6hssdZghEsSQfvoZov9XKkhbaAMA7Sh5Gc44qXcOw+x1jXdN8TWOj+J5NOuv7Tgke3nsLd4BHJGAWjZXkfcCpyGBH3SCORXVVzmmeHdTGtwar4k1eHUrm0geC1W1szbRoHxvdlMj7nO0DIIAGcDmujpiPGw+v8A9i6o91d2eoXA8ZQRwKIXhAcTRgkkyOdmNuFAyAp5ORjoNS8f6l4VXXrbxG2nXd1p8VpLbXEEbWkDi4kaJRIHeTYFdSS24jb2yK1V8ETrNeL/AGpH9jn1mLVo4/sp8yN1ZWdC+/DAlRg7Rt77qk1jwJBrWsarfXF7JH9utbWKIRRgNbS28rypKCSQx3ODtIx8vOc0R0gk/L/0mK/Rh9tv+vib/JlHwr46GqeKBoU2uaDr0kto11Hd6I4Cx7GVWjkj82Qg/OCG3c8jAxk9zWHpGk6xDqRvtf1tL6VYfJihs7ZrWBQSCXaMyPuc4A3E4A4AGWJ3Kb2QHJaJq3ibX1h1izOlR6RNcMqWU0MonaFWKeZ527aGON4TysYwu4feqpJ411FfAba2IbX7SNZNhs2Ns8sX5t843Z3bOeuM9scVe03wtrGjOljpWvxQaJHcGZLc2Ae5RSxcxCYvt2biRzGWCnG7OGrMuvh1qE9nLpcXiFYdHOqDU44BY5mD/aBO0bSmTDIW3YARWGV+YgEMLZJ/1t/X9Ir+vz/4A678VeIE/wCExvIBpsdj4cEqxRvBI8lw62qTDLCQBQC4B4OR/dxk1tU8capokej2et6v4d0u+1hHuhdXaNHbWcKKhMZ3TAzSbnABDR5GW2jGDvTeD/N0vxZZ/bsf8JG8jb/J/wCPffbpD03fNjZu7dce9Sap4YnuJtLv9J1COy1XTImgjnmtzNFJE4XejxhlJBKKQQwIKjkjIJ/kvvs7/jb5bBpb5v8AS34X/U5y1+IeoanpEQ0ZtIv71daTSpLqCUvazK0e/wA6PaxI4IOwscEMuT96qPjDW/Ecng3xfpF3eWCX2mRwN9rtbWREmglH3dhlJRshgTuYEdueOuXwrdSw2TajrEl3dw6muozSNGRGxClfLjQsfLQAjAy3Qk5JJqHWPA41c+JC1+Yv7ctoYRiHPkGINhvvfMCSOOOnXvUO9n/XRfrf/hhO99P61f6W/wCHOls1uEsoVvZY5bgIBJJFGY0ZsckKWYge2T9TXL+Kb2PTfGGhX04Yx21pfzOF6kLGhOPyrqLNLmOyhS+limuFQCSSGIxozdyFLMVHtuP1rN1fw7FrOq2V1cy/ubeG4hkg2581ZVCnnPGAPQ9aKnM0+XcIWVrnPWvibxLZromp69Hpv9m6zMkP2W2hkWaxMoJi3SM5EvZWwiYLZHAwbnh7V/EniGC11y2bSk0e7kJjs3hlE4gyQsnnbtu4gBtnljrt3fxU3T/BeoRNpdrq2ui+0vR5BJZQLaeVK5UFY/Pk3kSbQf4UTJAJ6YqXSfCur6J5Gn6br8UOhW8xeO2+wBrlU3FvJ84vt2ZOP9Xu28bs/NV6X0+Xppv+PyFrbXt+Ov8AwOxzF18Tr611qFftmkXKNqUdnPpVnbyXE1ojzeSrS3ccjRRvn5tjIvdQSRmnXPi5PCs2soLmxs59S8SNbR3WpSbLe3H2aN2kc5XOFU4Xcu4kDI61dl+G+rS6NZaIviaKLStOvI7u1jj03EzeXMJFSaQykOOvKqhJwxJwQdW78DmWae8tdS+z6iNVOp2dwYN6wOYhEyMm4b1ZQwPKn5uCCAaUdtf61j/k/wDPYJb6f1pL/NCeCvGKeI77VNNbUdK1WbTvKf7dpD5gmSTdt+Xe+xgUYFd7dAcjdgddWLpul6xaw3k17rMd3qNyVw/2ZktoVXgBIfMJHcklyST1wABtU2Bwnxa8O6Jf/D3xDqd/o9hc39vpc3k3c1qjyxYViNrkZGCcjBqr4l8P6b4f8K6a/hXQ9MsbqfVNP3CCBIFlYTLguUXJAyT374612HijRP8AhJPCmqaL9o+zf2hayW/nbN/l7lI3bcjOM9Mim6voX9q6fYW32jyvsd3b3O7Zu3+U4bbjIxnGM9vehaW9V+eoTu4v0f5aHJ6j4m1ayXXdI1+LStTuLBLK5ikjs3jhkjmm2YaJpHO5WRiCGx93pin33jm/j8cXeinUtD0h7eaFLax1eOSOTU43x+8in3hRklkCqkhBTnrgauseCP7W1fVr7+0PK/tG1tLfZ5O7y/ImeTOdwzu34xxjGeaTxL4T1bxJBe6Zca1aNol+VE1rcaYJZo14ysUodVXpkFkdlY5ycABL4k2PTVf1/X3HWVx3izxBNomq3k1rZ2ck9r4fvL6OaWIl90bIQm4EHYTyR3wOa7BVCIFHRRgZOa53xF4S/t+4u5ftv2f7TpFzpmPK3bfNK/vOozjb0756iplfp5/k7fjYqNrrm7r81f8AC5l2uveKItZ0qz1V9JA1yzmktvs9tJmymRFcByZP3y4JyQIzkDgZ45fQPGd74e8BeHrbU9b0e3vdXuLlo9Q1JWihgiRyXL7pcyOWOAA6ff8A9k59Dn8OefrGg3/2rb/Y8cqeX5f+u3xhM5z8uMZ71i2XgG907TbCOy1mBL7SbiZtOuWsSyrDKcvFMnmfvM/3lMfKqQBgg1L4tNv+D/XyM4X+1/Whm2/xD1HUbAW+i3Gi6jfpq8WnNfWzmS0lSSMuJVVXJBXuhc8qRu5BGiuq+M7zxFqej2EuiL/ZltbyNdTWkpFxLIrEoEE2Yx8v3izYzjDdRor4VvJ1tZtU1lrq8i1JL+RhEVi+VCgjijLny1wQerEnJOc8ZB0bxFN8RvEd1pOo/wBmW9xbWke+5sTPHJhXy0Z3oA6565YcjKniod7ed/0X63/4Yb/r73+lv+HJbTxdrXiDUdDg0WKysItQ01764e8iadoSkiIYwFdN2SxG7PbOD0rCHxdQh9U/tnw39jF79nXRftAGoGLzPL83d5mN3V/K8vO3A3Z5rtNK8IWui6jpsunysttp2mtp8cDLksCyNvLZ6/JzxznNUrTwdqmn406w8QfZ9AW6NwtrHalbpFLbzCtwJMCMtn/lnu2kru/irRbr5/n/AJf1cWuvy/L/AD/qxh6fq2t6RrHj+/urywuorS9hSFJ820cIMMWGaR5SqoqtlgACSGIxuC1TPjrVdXtNf0uy1bT71k0ea8tdWs9MuLeLKMUdV3ykSj+7JHJgHscc9HqfgKa/utbeHVkgh1S4t71Fa03tDcweXsYneA8f7pcptBOT8wpB4H1O98QXOra94gS5e60qXTJLe1svIiRHYEOgaRyGHzZyTnI6YxWTi3C3k1+Dt+P9dDW6UrruvzV/w/rqY9l4ln8NaDpdzqltaX8tr4Xe9M1vbmOVwpi2xKSzYBDDPqwB46VuW+ueItJ1rSLXxSdMmi1kvFF9ghkja1nWMybGLO3mqVVxvATlR8vzcMj+H32vTYLLX9QjvI00aTSJfs1sYN8bFMOMu+1gEHrk88dKt2HhbU21TT7zxHrcepjS1YWSQ2X2c72QoZZTvYO+0kDaEX5m+XkY3qNNtrz/ADf6W/q5hBSUbPy/Jfrf+rGDovjHxRNpfhjW9XXSfsGt3Eds9pbQSCWEyK22QSGQgglQSmwYDY3EjJ9GrlIPBHkeF/Dmj/2hu/sO4gn87ycef5QPGN3y5z1yce9dXUd/X8LL9bmkvj02/wCC/wBLES/8fcn+4v8ANqlqJf8Aj7k/3F/m1S0AFFFFABRRRQAUUUUAFRN/x9x/7jfzWpaib/j7j/3G/mtAEtFFeP8AjfUNWkt/E+q6R/a0h0rzfL1BtVaws7Tyo1OxIY3b7Q+/OfMjCtkruwAKTklv6jSuelah4o0jS9TFhe3LJOIDcSbYJHSGIZ+eV1UrGvytguQDg4zirOk6ta63p0d9YC48iT7huLWS3Yj12SKrY9DjB7V5N4q0i31DWPGN7cTXwmbwfFcERahPGhcifjYrhdvyj5cbeTx8xzaje7fV7Hw7BZeJNQ0yx0S3uhHpereTK0szOC0k0lxHIyqEwqhioycjhcNdU9/+DL/IGtE1/Wkf/kj1yq8+oWtteWtpPOqXF2WEEZ6ybV3Nj6Adfp615xot9q3iK90TQvEF9dQxm2v55jbXqxT3BhuFijV5bZ8BlVsuEcfMMHgEVa1bw3Ba/EPwWj3+q3JiN35bzahLkKqblU7WG/GcEtlmAActTat/XyJbsei0V5noranofiOxXxfHr0N9cXj266lDqP2jTr4spKKYCx8jPQARrgqBvIJz6W6h0ZTkBhg7SQfzHIpdLj62M0eI9JYWxS9RxdXj2MLIpYNOm/cmQOMeW/J4461p14no+iRf8I3oVrb3d/CJ/Gd4jyfbJHcKpu1wrOxKEqMFlw2SWzu5rQ1jU9U0CTXfD+lXWq3MD6pYW8J+1+ddQxzpmVI5Zn4J2EKWf5S5IPAo8vO332/zHK0bfP8ABy/yPXKK4fwhJqdt4rvLB7PVrLS2s0njttZ1GK7njl3lSysJ5ZNjDH3jgFeOproPF2oNpfhHUruO5ltZI4CI5oYRLIrnhdqMQGbJAAJAzjPFD0VxLV2NZ3WONnc4VQST6CoNN1G11fS7XUdPl860u4Vmhk2ld6MMqcEAjg9CK8z0ibVtN8eQWE1tqOn2N/pV3IbXU9be/nkMRjCyMrM6wn524jkYEHkAgAVfBVg+uTeH9Nu9X1K3sIvB+nziys76S23yEuvmbo2VuAACAcHK5zgU0rq/9fa/+RH0v/W8V+p6tNqNrb6ha2M0u25uw7QptJ3hAC3OMDGR1qzXlVgt34kvfCsGqajeHyZ9VtnuYZDBLdRRP5akumGUkKpLIQSRxgHFKupXcOlz6H9r1q+8vxDNZQQ2s+by5gWLzfLNw8iFAM8yF921QucnNTfVr+t0v1E9N/63/wAj0jU9VstGsxd6lN5MBlji37C3zu4RRgAnlmA/GrleIXcmrXHh3xJoepTy2Jt9V0nyUOpPqElkZZYiR50q5Yg4bByAScEitvxXqWoeAZ9RttAvr+5SfRZLpFvbl7tradZo4lkVpmJ5EpOwttzGOBlqf9fhcNLX/rex6oSACScAdSapWer2WoQWk9jK1xBeIXhmijZo2Ud9wGBntkjPbNcBp1vqUGuW2mm08SWWnX1lPHejWdZimklZVBWWFkuXlRhyCI9q4YHjArM8KXU/h/wP4MksJbp0bRru6kgkuZHWR1hRlGGJwAegHAycAVMpKKbfT/g/5DinKyR6/RXJ+EtCzp+la4+tatc3lzbLNdGS+eSC5MiBj+5bKRgE5HlqhGAOhIO54gv5tK8M6nqFpD589paSzxxYPzsqFgOPUiqqfu079BQ/eW5epoUV5fLZ3Omal4Ev4PEOqyy6reqL6Ka/keK73W0j5EZbagDDO1Aq8jjhcVobjUYfBVxqq61qC32o6/JpZuZLp3W1gbUGh/dxnKKwUYDFSQSOcACq5Xe3W9vnp/mK6sn0av8An/kes0V5T4zlvPCEOt6doup6k1vceHLu9BuL+WeS0miKKrpJIzOu4SHjdgFMgA5z0HiLUbqHxvo9vb3kyRS6LqEzxpKQrsvk7WIB5IycHtk1EnaHP6/hf/IqKvLl/rp/mdtRXl2ipd6XoPgjXI9e1LUL3VXtoLwXN5JNFdpLES2IyxRCu0MGQA4U7icsT6jVyVm12dv6+8hSul5q/wDX3FCbXNOg1BrKW4xOrRIw8tiqtISEUsBgE46ZzyP7wzfrzzQIJtW+Hmu38SqdTuNUvbpeMfvoJ2WEH6CGNfoKoavqeqX02t6Ho+q3ME+vLa3ml3HmtugikjPmiM5yuBAx+XgGQetRstf6/rXXsi7a+X+X9I9SorivAuvS+LdQutbiuXNgtla2yQBjsE5TzZWx0J/eIuf9k1q+N797DwtK0M91BLNNDbxmyjV53LyKuyPcyhWYEgMSAud3aqkmtCU7/wBf1sdBRXjjahrekzeLLJhfaVH/AMIzPfW9tc63Lf3EDqXVZC7EmJiP4Udl4BByDWpeyX3hC+0e8stR1PUJr3S7yS6ivLx5knkjhEqsqMdsZ3AjCBRhiMdMQ5JRcnt/w/8AkVbZdb2/L/5JHod9qtlp1xZQ3s3lyX0/2e3XYTvk2s2OBx8qscnA4q5XlU+ji3vfh9qj61qF9cXuorJcfabt5Y53e1mbekZJWPGTgRhRg4IOBj1Wrs1dPdO35CunZrqr/izMTxFpcn9l7brnVsiyBjYeaQhcjkfKQoJw2Dwe9EfiPSZfFEvhyO9Q6tDbC7e12tkRE7Q2cY69s55HrXGa6Dp+iXkmAh8Na3HfozDpbOweQj0AjlmX/gHpVRZvst3a+OZiqxT67NDKxJ4tHX7MhBPQF4oX/E1KfV/1tb8X+DB+X9b/AKL8Ud7b+JdJudQNlDd5nFy9pgxuFMyIHZAxGCQpzwezf3TjUrzI20ll8FYNUKNHfyXEes/K3zedJcCXbnvkPs9wce1em09tHv8A1+txXT2/r+kFFc/43v3sPC0rQz3UEs00NvGbKNXncvIq7I9zKFZgSAxIC53dq4fSj4nXxFrmhaa8+jT3WiG5sYNR1iTUpLeXzWRJHZ9/lkjqqtIvAPJBpLV/10V/yG9Pw/F2/M9YorgvBF2bPXf7K1Kx8RaRqU9iJzZ6pqR1C3l2ttd4pi7nILAFcpwynZ3HReMYL648G6oukTyQX6W7S27xuynzE+dRlSDglcEdwSKcrRV3sCTbsbdFeS6h45u49UuPENnetJpeo6a1nptsXPltdhI5I2UDILM0rpn/AGAKe51a58R3+iz23ijU4tDtLW2gm0vVI7cmRogzTyl542lYnAwwdflPcmh6b/1v/wAD7xJqW39bf18mei6j4g0zSZJk1C58lobOS+kHls22GPG9uAemRx1PYVoRSpNCksR3I6hlOOoPSvIdWvb7UfD7XerPFJey+CL9pnidGV2ynzAxkpz1+Ukc8V6tpf8AyCLP/rgn/oIoW39d5L9Bv+vui/1LVFea+LZb7VfEmqWunJq14LC3jUvBqzaXaWDFGdmeSN/MlcrsOPLZVG3pljVKCTxLr3hnwvrN7b6rrOn3OjxtdRaNqRsbmO4KbjNhXjEoPA27xg5IU54V7pv+uv8AkHX+vL/M9XorL8M6hBqnhfT7y0ubm6ikgXE14gSZiOD5gAAD5BBAA5Brl/Fepaho3im6itbuVRrOk+TYqzMUhu0lCAgZwCwuFJwMkR+1N6OyCNmrneUV46virV4PDd3JaanLJdeE9Fuort5WZ/NuhIYkkk/vECB3wcn5wa6Y2c3hXxL4aSw1XU79dWkktr1L6+ecSYgaUTqHJEZDJjEYVcPjHC4Htfp/X9fNC233/wCG/wAzvKqQapZ3OqXenQTbrqzWNp49pGwOCV5Iwc7T0ry7RFvX8I+DEn1rVnm8TTomoXj38pfy1hllEcfzYiLbFQsgDEZJO7muj8HacmlfETxZaw3lzdRrFZFPtU7TSRgpJ8pdss3rliTz1ptWf9f1/Xpdy912Ot1TVbLRdPa91ObyLdXRC+xmwzuEUYAJ5ZgPxq5XHfFWJrj4eXUKTm3aS6s0EwAJjJuohuweOOvPFYHijUL3wBcX0Wh6leTpLoN3e7NRuZbvyZoWjCyhpCzAHzDlfu/KMAc5UdXb1/BXK5dLnqFFcGbObwr4l8NJYarqd+urSSW16l9fPOJMQNKJ1DkiMhkxiMKuHxjhcZ1lrF83w68AXL6jcG4vNQs455TO2+cENuVjnLZxyD6UdUvNL73Yi/uuXZX/AAb/AEPTaralqFrpOl3Oo6hL5NraxNNNJtLbEUZJwASeB2rypDf2/hEeJ/7a1aTUIvEb26K9/KYfIOotCYjFu2MuwnkgsOMEBVAk8V2kviDwT481a+1bULaex+2WtvDFdukMMcUeNrRKdj7wSSXBOHGCuBiZOyfdX/C3+ZpGN5JPq7fn/kesRSpNCksR3I6hlOOoPSnV5hrD32q6g1lp8WrXv2PT7cEW+qtpdrZMyMzPJLG/mSMVC4URuq4HTcTTPDFzqHiybwg2ratfeXP4ea8uUtbp4BcTCSIB2MZU924GAc88cVdk5OK7/wCb/Qyv7nN6fp/mepUV5i2oaquoJ4KN/dm9bXfM+1CZvNGn83IO/OcceR+denUlqr/1siutiJf+PuT/AHF/m1S1Ev8Ax9yf7i/zapaACiiigAooooAKKKKACom/4+4/9xv5rUtRN/x9x/7jfzWgCWua1L4e+GtXnvJNQsJZEvyWurdbyZIJ2Khd7Qq4jL4A+YruBUHOQDXS1zFh480ifW9R0rUryy026ttR+wW0VxeIr3Z8uN8opwScyhcDP64oSu7f10/4A7tal9/CeiyJcq9mWF1YLps2Zn+e3UMAmd3+23zdeetJqPhLR9TW0+0QzxPZx+VBNaXk1tKkeBlPMidWKnAypOCQD1FWdT8QaNokkEes6vY6e9ySsC3dykRlIxkKGIz1HT1FUdW8W6foevRWOrz21javZvcte3VysSIRIiBDuwOd/XPbpRu/X/gv/MWy9P8AgL/L7vIlufCWiXWm2dibM28NiMWrWc0lvJAMYISSNldcjg4PPfNRr4M0OOKxSO1ljNhO1xBLHdSrL5jffZ5A26Tdn5t5YN3zV258QaNZ6PHq15q1jBpsoUx3ktyiwuG+6Q5O057c80+11rSr6G0lstTs7iO93fZXinVxPtyW2EH5sYOcdMUdWLQzbLwRoOn6hDeWttOGt3Z7eB72Z7e3YggmOFnMcfBIG1RgEgYzW/VG51WCG6jto7myM3nJHLFLchHTcCRgYJLHBwpxkA88VGfEWiDXBop1jTxqp6WH2pPP+7u/1ed33eenTmha7D31K1v4Q0S1uBNBayKVvTfohuZSkc5DhnVC21c+Y+QAASckZ5qW78L6NfjUxeWKzDVVRbwM7fvNgwhHPyleoK4IIB6jNTtr2kLqf9nNqtkL47sWpuE835QGb5M54BBPHAIrO0jxSNW/syZbTyrPVUlks5mk5dVwUJXAxvTc4GcgDnvg/r+vu/AL63Lmj+HdN0Jp3sI52muCvmz3V1LcyuF+6pklZm2jJwucDJwOTVvUdOtNX0240/UrdLm0uUMcsUgyHU9qwfDXjzSPECxwS3llZ6nLPcRR6a14jTOsUske8JwxBEZbpxz1xmulkkSGJpJXVI0UszscBQOpJ7CiW2oLR6HP2XgPw/Y6pFqcVtcy38UbxJdXV/PcSiNwAybpHYleOFPAJJGCSayW+Gunv4qhutjQaZZ6PDp1otrfTwXEWx3JHmIwbYVZRyxyRyOAa6Ow8U+H9Vs7m70zXdNvba0XdcTW95HIkIwTl2BIUYBPPoaksPEOi6pfT2WmavYXl3bf6+C3uUkki5x8ygkjnjmjr/Xn/mx3sv68v8kLDoOmWz6e1tZxw/2bG0VoseVWJGABAUcdAOtU7vwboV7DKk1o6mW8N8ZYbmWKVJyu0ukiMGQlePlIGCR3NVtV8c6TY6na6dZXllqF9LfxWVxaw3aGW23kjcyDJGCOhx161r3+pfYL3ToXiLJezmDzAf8AVtsZxkY6HYR25I9aSs/e/ro/8hdeX5/n/wAExl+HPhUWt9bvpQli1EwteCaeWT7S0TbkZyzEsc9SeW6Nmr2n+EtF0yO7SG0af7ZH5Vw99PJdPLHgjyy0rMdnJ+TO3k8cmsv/AISfxDfeINZ0/QtC024i0qdIHmvNVkgaRmiSThVt3AGHx97tVq38YQz+H9K1prR4LO9nWCcyyDdauzGMZxkMPMwuQe4PSnuvX9QejsWNG8IaNoNwZ9PgnaXyfIR7q8muTFF/cTzXbYvAyq4B2rnoMO03wlo2kC1FjayItn5n2ZXuZZFhEgAZVDMQFwBhRwOwFbNFD13AwbDwVoOmahFeWdrMrQMzW8L3c0kFsWyCYoWcxxcEgbFGASBwSK251ke3kWFkWRlIRpE3KDjjIyMj2yPrT6KHqrB1uec6H4AvY/EWk6jqen6dp66U7yxiy1O5u1ZmjZNkUcqKttH85bYmc7UHRa7IeGtH/sO40ZrCOTTrl5Xmt5curtI5dz8xPVmJ9u2MCtSim3dWDrcxLHwholhBeRJaPci+j8m5e+uJLuSWPBHll5WZtnJ+XOBknHJqpB4B0PT2a50+2mN+lpJaw3N3ez3DpG4HybpHY7MqCF6DkgDJz01FS1dNMadnocj4K8A2HhfRtIWaLzNRsbNIWYXUskEcmwLI0Ubnam4g5KqpOTnqa66iirlJyd2SkkrIx9G0eXR9S1UROjafez/a4kz80Ur/AOtXGMbSQHznOXb2p0XhfRoNR0+/jslFzpsD29pIXY+VG+NyjJwc7RyeR26mtaip7eQ3qUNG0PTvD9i1no9qttbtNJOyKxOXdizHJJPJJ+nQcU/VtIsdc02Sw1SAT28hBK7ipDAgqyspBVgQCGBBBAINXKKAOai+H3huGW6m+xTSz3lm9jcz3F7PNLNC/VGd3LN04JOVHAIrXk0XT5ruwupLfdNp6ulsxdv3YZdrDGcHIGOc1eoo8v6/rUP6/r7jmrX4feGrPUrS+gsJBNYymWzV7yZ47UkEERRlykakMflUBeBxwMdLRRQG5RutF0+9N6bq38z7fbC1uQXbEkQ3fLjOB/rG5HPPXgVUuPCOhXXg8eFp9PR9FEC24tC7YCLjaN2d2Rgc5znvWzRQO73MbWtDbVk06x/dppsFxHPcISdz+UQ0aAem8KSSei4wd2RcsbSe3vdQmmlLpcTh4k81nCKI1Xo3C5IJwvHfqTV2ij+v6+4RT1bSLHXNNksNUgE9vIQSu4qQwIKsrKQVYEAhgQQQCDWPB8P/AA1BcT3Dae1zPc2zWlxLeXUty88TEEo7SMxccDGckDgYFdJRQBj6R4V0vRLyS7s1u5bmSMRGa9v57t1QHO1WmdiozyQMZwM9BWxRRRuBgReBvDcGl6dpsWlRrZ6Xdi9s4g7YimBZt/XnlicHI/IVLq/hLR9cvFu7+GdbgReS0treTWzSR5zscxOu9c5+VsgZPqa2qKAuZV14Y0e8jaOexTyzYvp2yNmRRbvjdGApAA+UcjkY4IrTiiSGFIohtRFCqM9AOlOooD+v6+5GDqngrQtY1GW9v7WZpZ0WO4SO7miiuVXOFljRwko5Iw4PHHTioT4A8PCzs7a3trq0SytxawtZahcW7+UDkRs8cis6g5wGJxk46mukoo8h3ZBY2NtpthBZWECW9tboI4ooxhUUDAAqvqWh6dq91YXGo2qzy6bcfabVmYjy5NpXdgHnhj1yO/UCr9FHW4uljNtPD2k2MupyW1lGratKZr3dlhOxUIcg5GNoAwOOvHJqro/g7Q9CuhcadayiRIvJhM91LOLePukQkZhEvA+VNo+VeOBjcooAx38K6NJ4cg0JrP8A4l9sEEEYlcNCUOUZZAd6sCMhgcj1pdE8LaR4euLqfSreSOe82faZpbiSaSYrkKWZ2YkgEjJOenoK16KAeu5R1jRtP8QaVLpus2qXdnMVMkLk7X2sGGcdRlRx0PQ8VU0zwno2ki4+zWrzNcx+VK95cSXTtH/zz3SsxCcn5AdvJ45rZooHd2sYej+DtE0K6W4061kEscfkwme6lnFvHxlIhIzCJeB8qbR8q8cDFeH4f+G4LyK5jsJC1vc/ardHu5mjt5dxbdFGXKx5JOQgAPQiukoo8xbqxknwto7aOdLNn/oRujeeV5r/AOt87zt2c5/1nzYzjtjHFUtZ8BeHNfnupdUsZJftiBLqKO7miiuMDAMkaOEdgMYZgSMLgjAx0dFG+402tjAv/BGgalefabq0l8xoUglWK7miS4jTO1JURwsqjJGHDDBI6GrGk+FtH0JbMaVZ+QLG2a0tx5rt5cTMGK/MTnkDryMY6Vr0UCOasPDtw/jy88T6rDaRTC0Gn2aW7mQ+SHLl3YquGYlRtGQu37xzx0tFFHSwbu5Ev/H3J/uL/NqlqJf+PuT/AHF/m1S0AFFFFABRRRQAUUUUAFRN/wAfcf8AuN/NalqJv+PuP/cb+a0AS15Fc6l4bto/iLp2pJE2pajeSRx2jr++1A/ZoxGkQ6yEMcYXJUnJxkE+u0Umr381b8v8hp2aa6O/5/5njrT6joXibUv+Em17Q9Je8020ijbWrFrj7VGsOJY43E8YYiQuSgBY7wehFbPhTSltfE3hSO8jlkuLPw3MI2uofLljzJEMFNzbTt+XG4kDjPWvSaKpP3ub1/Jr9SOX3eX0/C3+R4jY6iNOstKjbUdO0CNdQ1qODWdSQvFaH7UyiKNTIkYkKlipfIARgFIJFO0mRT4L8Qa5Y3FzezeHvEz6ms1xCsck0YRDK21FUfPC8hGFAO4GvbKKS0d1v/wU/wBCnro9r/5r9Ty3Td97o+h+IZwRNr/iRL8ZHIhKOkA9v3SR8epNZwutOPw7fwupQeL/AO0t5sQP9LF19pDi528MVC4fzPu7O5Fex0Ukkn5f8Mv0E7vX+uv+Z5r9inm0v4p/2Yn/ABMJ7mSKN04diLCHaM/Vjj61uXUtufAOiazYbGg09La9iYdBDtCuR/2yd8V11UtJ0q30WwFlZFxbI7NFExGIVJzsXA4UZ4HYcdAKq/5R/wDJf8xv/P8AE8is77RJ/h1PoWmCI+Ip9bkmgslGLgzC9JFwB1KKq5Mn3QFIJ4Ir0L4j3AtvAt48lvFPF5kIl+0BzFEnmpulkCMpKIMswyAQpB4zXUUVPSwLR3PCtQ1OK91zxK48SJ4hkm8H32by1t447UYfPlQsmdwQMMhncjd15IrsdRsltde8EQaTFHbSLp15BB5ahQo+zqVXj+HIU49hXolFJq8eX+t5f5jb1T87/wDpP/yJ4ymp+HpNB+H2jweX/bOn6rarPadZ7KUKwlMo5K7mzy33iQRnrXpviyGSTwzdS26GSe0C3cKD+J4mEgH4lcfjWzRVtvV9W7/l/kQopPytb8/8zyG3vPBsvjjxbL4k8Tf2W813A8Mf/CQS6f5kZtYsNsSVA31IPpVzyruD9ne8tLgyBlt5bbTWnXbI0fmlLQsMA7ivldgeemeK9Sqlf6XDqUto1y0hS1nE6xAja7gfKW4ydp+YdOQD2oWisvL8Cm29Sa3uoZmkhS4ilntyqTojgmNioYBh2JBBwexFT0UUg2CiiigAooooAKKKKACiiigAooooAKKKKACiiigAooooAKKKKACiiigAooooAKKKKACiiigAooooAKKKKACiiigAooooAKKKKACiiigAooooAKKKKACiiigAooooAiX/AI+5P9xf5tUtRL/x9yf7i/zapaACiiigAooooAKKKKACom/4+4/9xv5rUtRN/wAfcf8AuN/NaAJaKKKACiiigAooooAKKKKACiiigAooooAKKKKACiiigAooooAKKKKACiiigAooooAKKKKACiiigAooooAKKKKACiiigAooooAKKKKACiiigAooooAKKKKACiiigAooooAKKKKACiiigAooooAKKKKACiiigAooooAKKKKACiiigAooooAiX/j7k/3F/m1S1Ev/AB9yf7i/zapaAIvs0H/PCP8A74FH2aD/AJ4R/wDfAoubmGztZbm6kWKCFDJJIxwFUDJJ+grG0nxXDql7DbS6bqGntdQme0a8jQLcoMZK7WYqQGU7XCtg9ODgA2fs0H/PCP8A74FH2aD/AJ4R/wDfAqWigCL7NB/zwj/74FH2aD/nhH/3wKlooAi+zQf88I/++BUbW8P2pB5MeCjHG0eq1ZqJv+PuP/cb+a0AH2aD/nhH/wB8Cj7NB/zwj/74FS0UARfZoP8AnhH/AN8Cj7NB/wA8I/8AvgVLRQBF9mg/54R/98Cj7NB/zwj/AO+BUtFAEX2aD/nhH/3wKPs0H/PCP/vgVLRQBF9mg/54R/8AfAo+zQf88I/++BUtFAEX2aD/AJ4R/wDfAo+zQf8APCP/AL4FS0UARfZoP+eEf/fAo+zQf88I/wDvgVLRQBF9mg/54R/98Cj7NB/zwj/74FS0UARfZoP+eEf/AHwKPs0H/PCP/vgVLRQBF9mg/wCeEf8A3wKPs0H/ADwj/wC+BUtFAEX2aD/nhH/3wKPs0H/PCP8A74FS0UARfZoP+eEf/fAo+zQf88I/++BUtFAEX2aD/nhH/wB8Cj7NB/zwj/74FS0UARfZoP8AnhH/AN8Cj7NB/wA8I/8AvgVLRQBF9mg/54R/98Cj7NB/zwj/AO+BUtFAEX2aD/nhH/3wKPs0H/PCP/vgVLRQBF9mg/54R/8AfAo+zQf88I/++BUtFAEX2aD/AJ4R/wDfAo+zQf8APCP/AL4FS0UARfZoP+eEf/fAo+zQf88I/wDvgVLRQBF9mg/54R/98Cj7NB/zwj/74FS0UARfZoP+eEf/AHwKPs0H/PCP/vgVLRQBF9mg/wCeEf8A3wKPs0H/ADwj/wC+BUtFAEX2aD/nhH/3wKPs0H/PCP8A74FS0UARfZoP+eEf/fAo+zQf88I/++BUtFAEX2aD/nhH/wB8Cj7NB/zwj/74FS0UARfZoP8AnhH/AN8Cj7NB/wA8I/8AvgVLRQBF9mg/54R/98Cj7NB/zwj/AO+BUtFAEX2aD/nhH/3wKPs0H/PCP/vgVLRQBF9mg/54R/8AfAo+zQf88I/++BUtFAEX2aD/AJ4R/wDfAo+zQf8APCP/AL4FS0UARfZoP+eEf/fAo+zQf88I/wDvgVLRQBF9mg/54R/98Cj7NB/zwj/74FS0UARfZoP+eEf/AHwKPs0H/PCP/vgVLRQBBFGkd1II1VRsU4UY7tU9RL/x9yf7i/zapaAIbu6isbKa7uSywwRtJIVQuQoGTgAEn6AZrkbuWIePPDuqWl82qJqiSxwRMUKW0BiDmWLaAcEpGCX3ffABGcHtKoafoWkaTcTz6XpdlZS3BzNJbW6RtKck/MVAzyT19aFo7h0L9FFFABRRRQAVE3/H3H/uN/NalqJv+PuP/cb+a0AS0UV4joPhWw1n4wfEDWLi2kutR0i7gm01DM4SObyMhtoIDHIA+bIpN2v5K/5f5h0+dj26uY8fePdL+HXh+PWNbgvJ7eS4W3C2iKz7iGIOGZRj5T3r50+Ha6nN4s8N64mv+HodavtQ2Xqi8vZNTu13HzIp4sNGowMglVUbVO6vWfjVe6frHhzw6tndW17Eniu0t5/JkWQK4LhkbBOCOhB5ptOytve35f5ji0279m/wf+Rv+Kfi74c8JeD9I8SX6Xs9pq4RrWO2jQykMm/JDMAMDAPPUiu0tLlLyyguogwSeNZFDdQCMjP518o6tb3V94f8Q6HfxOYfAOn3VrC7gfO01yBGfwiXAOP/AK/1LoP/ACLmm/8AXpF/6AKE1JNrbRr0d/8AK5LvGSi+l0/VW/zL9FFFAwooooAKKKKACiiigAooooAKKKKACiiigAooooAKKKKACiiigAooooAKKKKACiiigAooooAKKKKACiiigAooooAKKKKACiiigAooooAKKKKACiiigAooooAKKKKACiiigAooooAKKKKACiiigAooooAKKKKAIl/4+5P9xf5tUtRL/wAfcn+4v82qWgAooooAKKKKACiiigAqJv8Aj7j/ANxv5rUtRN/x9x/7jfzWgCWq1tptjZ3dzdWllbwXF2wa4miiVXmIGAXIGWIHHNWaKAM238OaJaaxLq1po+nwalNnzbyK1RZpM9dzgbjnA6ntSHw3obQ+S2jaeYvtX2zYbVNvn5z5uMff/wBrr71p0UAZ0vh7RZ1vlm0iwkXUSDeh7ZCLnHTzOPnx75q/HGkUaxxIqIgCqqjAUDoAKdRQAUUUUAFFFFABRRRQAUUUUAFFFFABRRRQAUUUUAFFFFABRRRQAUUUUAFFFFABRRRQAUUUUAFFFFABRRRQAUUUUAFFFFABRRRQAUUUUAFFFFABRRRQAUUUUAFFFFABRRRQAUUUUAFFFFABRRRQAUUUUAFFFFABRRRQBEv/AB9yf7i/zapaiX/j7k/3F/m1S0AFFFFABRRRQAUUUUAFRN/x9x/7jfzWpaib/j7j/wBxv5rQBLWFpfi/TdW8Var4fgE8d9pbKJBKoCygqrEoQTkDzFBzg5NbteOXmoReGvF2v+K5yEt9O8RLBePtJPkTWUC9v+mgiP4UK19e36pL8wadtP60b/Q9KtPFOn3vi++8OW/nNeWFuk877P3YDkgKDnluMnjHI5zxWw7BEZj0UZOK8g8yXw/qWu3+pm4huz4SF7dm1lCSJLJPO7BHYELtLYBIwAB6UzTNPbw/8TNAh+y6BpEmoWV3ustIDPJNEsSkPPOdvnEuCQTGCDnluaTuo676/hf/ACHKylptp+KX+Z6noOs2/iLw/ZaxZJKlvewrNGswAcKRkZAJGfxNaFeJ/DT7WIdC/wCElgimnGiCXw0UYtCm1SJAVIH+kEFSTz8hIXGGLN8MWl+2j+FdcWx0Ox1O9vIftOrrqU0l7euzf6RDKgt8scCQGNnKxlByAmRVvet/Wrt/w/6ilpf+ulz26kZgqlmIAAySe1eUaTpy+Gtf07UL7TtH1qK/1VobTxHp10UvpPMDYWdcfvgDuU4kIAVTsG3j1WYoIJDKMxhTuABORjngVOvLcF8VjktJ+I1lq2tRWq6Zf29ldbRY6lKEMN0W3lcBWLKGEbFSwGcdiVDdhXkGg3TeGdZ0+bwlrX9r+G9RFja21jdRAypFI8+PKkG1gIwCSsis21WBIIr1uf8A49pf9w/ypy91N9r/ANMS1diSivEdB8I6LJ4W+G101kv2m/lEV7OCRJdxG2lcxSt1ePKKNjErtULjHFW2jtrK41bwzZafFNZS+KEt7TSmuBbWeDZpM0cmEfERbc2xV+ZiB0Jy2tWl/WqX6lNW/r1/yPVtZ1e10HRrrVNQLC3tULvsXcx9gPUniroORmvArnTraPw58RNFvI9EmFgllM1lplp5drazsvzbI2ZsNgAFhjOOgORXeQ+HtA1jxtq+l69pdjcWumWNqunWVxApht4GVtzxoeFJYbSygY2KM8VN9f6/r/gak31sdjBrVvceIr3RkSUXFnbw3EjEDYVlMgUA5zn902eO461oV5lD4d8OeJfHWsLd29vrWnx6DYfZTcSfakZS1yBIGYtubA4kyW5PPJz0/wAN7me8+Gfh6e7leaZ9PiLySNlmO0ck9z71bVm16fqP+vwRfvfEthY3moWknmvPp9j9vnRE6REsBgnAJOxuPatG0uUvLKC6iDBJ41kUMOQCMjP515pruk6cvxB8Y3q6fai7/wCEXSTzxCvmbm+0KzbsZyVVQT3AA7UQ6LZ+HNW8GXWgWccF9e2U8VzMq/vLzFtvHmt1kO9VOWyfTrWSlo2+n+cl+iHJWkkv60j/AJnqNFeI+GLS/bR/CuuLY6HY6ne3kP2nV11KaS9vXZv9IhlQW+WOBIDGzlYyg5ATI9rmZ1gkaIbnCkqPU44rSXupt9BLV2H0V4d4dtdRfQfDmvPY6JY6vd6hAtzrI1GZ765laT99BJGttk8B1MZfbHtzkBMi1e6FpsfgfxF4iW0jOsWviG4ktr5hma3K32AI2PKL1yo4O5sg5NFtdf62/wAwlpFy/rr/AJHr+oXsem6ZdX06s0VrC8zhACxCgk4z34o0+9j1LTLW+gDLFdQpMgcYYBgCM47815hr2n6Lqtn8QL/xQsTX2m70t55v9ZYwfZ1aMwk4KbmLHK/ebIJOMV6D4T/5EvRf+wfB/wCi1pR1Tb/u/jcTdpJev4W/zNasi98Qx2niOz0SKyury6uYmnYweWFt4gwUu5d1yMt0UMeDxXET6boOtap44u/F4hludLlAgmuSA+n2wt0dJITnMeX8xt64JZep2jDPDOnpf+PvDeq69p1q2tv4XWe4ne3XzBNujUtnGQwBI9gSOlC1kl/WsW/01CT5U/66pfroeo0Vz3j29XT/AALqkzm4AMQiBt7jyHy7BB+8wfLGWGXwdoye1cP4YsD4f+Mlrpy2ugaQ11o9xLNpmhxsqqqyxiJpXO3zWxvw3loR8w560R1lb+tmxvRXPS9a1aDQtEu9Uu0keC1jMjrEAWIHoCQP1qzDM8s0yNbyxLGwCSOV2yggHK4JOATj5gDkHtgnnviN/wAk31z/AK9GrivElul1P4nt5S4SXxPoyMUcq2CLQHBHIPuKcVeSj3/zS/UO77K563RXjvia3/4RK88YWng61i0u3bR7K4eCzH2eOMtPJHLKNg+Q+UOXAyNoPOK2vDGlyaN450+Ky0zQtCtrjT5XltNHvpJxdqCmyVl+zxqCCcBy2WDEc44lO/8AXr/kOSa/r0/zPR2YKpZiAAMkntVPSNVg1rS4tQs1kFtPkwu4H71M4WQYJ+Vhhh3wRwKx/iPNc2/wx8Ry2JZZ002cqydV+Q5I9wM1i65oelar418H6feWsV1p6abeFbaRcxSKBbhQydGUcHBBGQD1Ap/1+Y0r2+f4WO/qjrGsWmhad9tv2ZYvNjhGxcktI4RR+LMK8r0+1snvrHw3qCqPDi+I7+3Wyc/uHKqHhgYE4Kbi5CHIyoGOBiv4k0fSv7O8R6Ta2VpNolhrmmC2tjErRWs0kkXnxxgjCghwSo4zI/qRSTuk11t+Nv8AP+rkrV27X/C/+R7VUNtPJOshltpbYrIyASlDvAOA42seD1GcH1Ap8UUdvCkMEaxRRqFREXCqBwAAOgryiwdYjp0kh2oPHt4Cx6AsLhR+ZIH1NP7Vv63S/Uq3uOT/AK0b/Q9aqjrGsWmhad9tv2ZYvNjhGxcktI4RR+LMK801e1HiHxH40stO1PTorhbzT40hvzutruVYifs0oBBZW6EDJ9jgiqGvWGlTeE9V0S78Kadpkuna1pzPbW0oubT97LEN0QKqIyULBk2L97JzvyUrv8P0/wA/6RK3t/XX/I9orAuvGWmWrXakTymz1G302YIg+WaYxhepGQPNQk/XGa3Ioo7eFIYI1iijUKiIuFUDgAAdBXi+oaFpaTeLlt7GC2abxfpkLyWyCJ9jNaMQGXBHzMzcHqxPU1cFzTUfT80v1E9I3/rZv9D2uivIPEVt/wAIld+NbTwbbR6VF/YVtc+TYr5KRuZJUeZQowjCNeWA/hB5xWn4Z0p9H8a6Oun6boGh21zYzNLb6RqElx9viATbKy/Z0UlWK4kZsneRzmpjr/Xr/kOXu6f10/zPTKK5n4jXd/Y/DnW7jSXeO6S2O2SNirRqSAzhgCVIUk7sHGM9q5LRtKfR/E2nrp+m6Bodtc6ZcNLb6RqElx9viCrtlZfs6KSrFcSM2TvI5zUt2v5f8H/IdtUu56nWbruuW3h/T47u9SV45LmG2AiAJ3SyLGp5I4ywz7eteXeHdE0/RtB+GGq6XZxQale+TDc3aj97cRvZOxSR+rLlVwDkLtXGMCqdzpuiS/D3QNfvUhHiS712zW6uyR9oluPta+bAzdWVNpAQ5CiNcD5RWvLapyPo7fiv8yfs38r/AJ/5Ht9FFeN/YtNb4eN4oCxHxgNT2C/PN0Lv7R5Yt93LBduE8vpsPQCovrYZ6bZ+Ior/AMSX2kWlldSCw2rc3n7sQpIVDiPl95bawOQpXnrnirOq6va6PDbyXhYC5uYrWIIuSXkYKv0HOSfQVyXgfSNNs/Hnje5tNOtILg6hGpligVWw1vE7DIGcFiWPqST1qT4n6Vp+p2OgrqVhbXijW7RALiFZMKz4YcjoRwR3pX+Hzcfxa/zCWik+yf4I6fTNat9VvNTtrdJVfTLr7LMXAAZ/LSTK4JyMSDrjkGtCvHdc8PaVdaT8TdVubGKW+sLl3srh1y9o6WUDK0R/5ZtuAOVwTtXPQVLd2154i8ZauuraJousJZ2Ns9r/AGvqD25t4ni3PNEogkAJk3AyAqRsA7U5NK3on96uOz/F/g1/meu0Vh+CZLqbwPo8l/di9na0Qtc5c+bxw2XVWORjkqCeuK4rxpow/t3WtemsdE8TWdrbK09td3f2e80oogb9xKAwj3Ll+sZ3EHd0wS912YldrQ9Ci1m0m8QXOjRsxu7W3juJRt+UJIzqvPc5jarTyutxFGtvI6OG3SqV2x46Zyc89sA9OcV5HrVlpk2uePNVttOhinm8HxTLK8AWYGRLncSeu4hVB5ydoz0rorHRdO0TxD4Rh0uzithLa3UszIoDTSGKPMjt1dzjljknuaJe6nfdf8H/ACDomuv+S/zO/orxnQNC03SvBnw+1uwtI4tWnvraOW+A/fSRyK6tGz9WTBwFPAAGAMCqup6dpFx8OtH17U4oU8T3Wt20dxcg4uJZ/tih4GbqyqFIEZyFCLgfKDRu7edvy/zG1aTj8/z/AMj2O11SC61O908K8dzZ7C6OB8yOMq64JypIYduVbirtcreFk+LWleR0l0e6FxjuFlh2E/Qs+Pqal+IN4ln4LufMEzefLBbBYrjyNxklRArSbW2Id2GIBIUnHNGvKn3/AM7BbW39bXOlorwu7szoWr+LdK8rQtNkm8I3dxNpehwtHFFhmEZcnAkfaT8+xDg9MYrpv7Fs/DXibwvN4bso7a8vtPu0uZEHz3hEKuplbrI28A7myeTzyanmSjzf11X6A1ay87f+k/5ne6vrdtov2H7Ukr/bryOzj8sA4d84JyRxx7/StGvGU0zw/HoPw+1iDy/7Z1DVbVp7vpPeylWMolPBba2eG+6QAMdK9mq7NXv0bX4L/MhSu/Kyf4v/ACIl/wCPuT/cX+bVLUS/8fcn+4v82qWkUFFFFABRRRQAUUUUAFRN/wAfcf8AuN/NalqJv+PuP/cb+a0AS1Tk0jTZY7lJdPtXS8cSXKtCpEzAABnGPmICqMn0HpVyuZ1D4ieGNLurmC+1F4zZzrBdSC0maK1dtu3zZAhSMHeuGYgHnng4OtgN9rG0e6e5a1haeSIQvKYxuaPJOwnqVyScdOTWfYeE/DmlMh0vQNLsjG5kQ29nHHtYrtLDaBglSRn04pmneL9D1Se5htrwo9rD58guYJIMw5I81TIqh4+D865X3qLT/Gmi6rd/ZLGa4W5eFp4VurGe3E6LjLRtIiiQDI5Ungg9KT0Dc0l0bTFhs4V060EViwa0QQLtt2AIBQY+U4JHGOCajg8PaLa6xLq1tpFhDqUwIlvY7ZFmkBxnLgbj0HU9qxvC3jS31bQvDr6pJGmrazaC4W2tonYAYyzYG7YgJA3McZIGcmrln410C/1RbC1vXaWSR4opWtpVgnkXO5I5iojkYYb5VYn5W9Dh9QfmW4PDOhW2svq9tounQ6nISXvY7RFmYnrlwNxz9a06wrbxnoV5qsenwXUxllkaKGVrSZYJnXOVScqI3YbW4ViflPoan8SatLpOmx/YhG1/dzpa2aSjKmRz1IBBKqAzkAg4U0r6KwW1Cz8LaBp+uXGs2OjWNvqdyCJruK3VZHycnLAZySck9+M5wK1iAQQRkHqDWboGrDW9EgvdojlO6OeIHPlSoxWRPwZSKyLj4k+FLSeWO51RokguWtJ7hrWYQQTBtpSSbZ5cZyP4mGQQRwQS/INbcxvx6Vp8MNpDDY20cVkc2qLCoWA4K5QY+XgkcdiRUN3oGj39tdW99pNjcwXkgluYprZHWdwAAzgjDEBVwT6D0qnZeMdCv4L6ZLxrddPQS3QvbeS1aKMgkOVlVTsODhsYODzwagg8daJdJdC3N8J7a2N0bafTLmGWSMcbkjeMNIM4B2A4yPUUPTcerf8AX9dTRt/Deh2lrLbWujafDBNCLeWKO1RVeIZxGQBgr8zcHj5j61FeeEvDmoWVrZ3/AIf0u6trJdtrBNZRukA44RSMKOB09BWLoXxF02/8HaNrGpLcQXOqQiRbO3sbiWUnaCxSNULsgyPnA28jnkU26+IlhB4g0mOGX7Rpmo2FzOrQWs01w0sckSbFiQF8je+5dm5dhzjaarlfNb+tLslPS6/rodYllax3ElxHbQpNLGsckixgM6LnapPUgbmwO2T6061tbextY7Wygit7eJQscMKBERR0AA4AqDSdXsdd0uHUdKnFxazA7H2lTkEggqQCpBBBBAIIINcPP8T/APiX6rdxW5to9O1y2093vLWaJPIeWJHcs4Ubhuc4H3flyCCMpay5ev8AwUv1Hsr/ANf1odvdaNpd9eJd3um2lzcxxtEk00Cu6owwyhiMgEdR0NTGwtDJbObWEva5+zsYxmHI2nb/AHeOOO1Zen+MNE1KG+liu3txpyh7tb62ltHgQgkOyzKrBSAfmxjg88Gn6N4q0jXp2g0+acTLGJRFdWkts7xngOqyqpZc8blyPel5B5k8Hh7RbXWJdWttIsIdSmBEt7HbIs0gOM5cDceg6ntWjWXrHiTTdCkgiv5J2nuAxit7S0luZWVcbm8uJWbaMgFsYBIGeRWLd/ECxTxD4bsNPSa7ttbEji5itJnVVCnAyq4B3feyfkAO4DqBdkD0N2Lw9osGtSaxBpFhHqcoxJepbIJnGAOXA3HgDv2qZtK097OW0ewtWtppDJLCYVKSOW3FiuMElucnvzWXF440CfVIrGO7m3zzG3hnazmW3mkGfkScp5TN8rDAY5II6iszxJ8StJ0fQ9cudPFxqF3pEMpkjisp2iSVONjyKhVTnBOT907unNK6toO13Y6DUPDuiateRXeq6PYXtzCpWKa5tUkeMHqAzAkDntV+GGO3hSGCNYoo1CoiLhVA4AAHQVBp9/Hf6VBfKJI0miEmJomiZeO6uAy/iKydP8c+H9UuhBY3c0jSI7wObOZY7oJ94wuUCzcc/uy2RyOKe10SrP3jQv8Aw/o2qX1te6npNjeXVqQbee4tkkeEg5BViCV5GeKtm0tzeC8NvF9pWMxCfYN4QnJXd1xkA4rlvh/4qvPGFhfalcBYrYXUsNvb/wBnzQPGqSOmWkkOJCQoJ2qu05U8ji/e+ONA0+/e0u7uZTFKsMs62cz28MjEAK86oY0OWXhmGMjPWi1mkN9TbuLeG7tpbe6ijmgmQpJFIoZXUjBBB4II7Vn6b4Y0DRmRtI0PTbBoyxQ2tpHEVLABiNoGMhVz67R6VS1Xx34e0a8u7W+vJhNZKr3SwWc032dGXcHcohCpjPzHA4PPBrTt9b0661C4sre6R7i2hjnlXBAEcm7Y4PQg7W5BPShPS6DyLNzbQXltJb3cMc8Eg2vFKgZWHoQeDUL6Vp8rSNJYWztLKk0haFSXkTGxzxyy7Vweo2jHSoINattR8MjWdJkE9tLbG4t5GRlDrtyDg4ODWLp3jS1Gjx6jrd/bWypo1vqV1EltJ+5WTdl9+SCuVICgZG0kk5FGz9P+D/kH9fl/mjphZ2ovHuxbQi5kjETzeWN7ICSFLdSASTj3PrVTSfD2jaCJRoekWOmiYgyiztkh8wjoTtAz1PWq+leLdG1q/ls7C4m8+KITbZ7WWDzIyceYhkVRImf4lyORzyKj0vxnoWsXyWlheSPJKGMDyW0sUdyF+8YZHUJKB1yhbjnpzQF9Lm1NFHcQPDMgeORSjqejAjBFZui6FDpOn2VvKY7uTT42gtbiSL95HCSMJuJJJ2qgJyNxUEim+JNYk0fTovsiLJfXtwlpaI4yplc/eYZBKqAzkA5wpxVTU/HXh/Rrq6tdQvJftFkqvdrBZTTeQpXcHfYjbExn5iccHng0rr+v68/xH/X9f10NS40PSbqxubK60yzmtbtzJcQSW6NHM+QdzqRhjkA5PoKRdC0lNFOjppdkumFChshboIdpOSPLxtxnnGKqar4u0XR5IIrq5llmuIjPHDZWst1IYhjMmyJWYJyBuIxk4zWbf+PbKDxH4b0+xWS9ttbV5Fu7e2lmj2bfkKuileTjJJ+UcnAOae+gr21OnS3W3shb2KRW6xx7IVEfyRgDCjaMcDjgYrC0Xwha2fhu50rXBbawL66mu7sS2oEMrySGQgRMWwoOMAk9M5rQ1HU47LVdKtHvIoGvp3iSJ4HdpysbPtVgQEIC7ssCCAR1INRv4n0hNIj1NrvFnJci0SXyn5lMvlBcYz9/jOMd+nNFtfUL20+Y9fDWhJp0tgmi6etnNGsclsLVPLdF+6pXGCB2HaiDw3odro8ukW2jafDps2fMso7VFhfPXKAbTnHpVQeNNCOrrpwupjK05thMLOb7OZRn935+zyt2QV27s7vl68VB4T8XJ4ovNbhS2uIBpt8bZPNtZot6hV5JdQC2d3A5A256glLX7v8AL/MH7v8AX9djooIIra3jgtokhhiUJHHGoVUUDAAA6ADtVKXQdHn1B76bSrGS7k2b7h7ZDI2xgyZbGTtIBHoQCK5DXPiPJYzeMbays3E/h/TRdQvcWkwjkfa5O5sKu3hcYb5vmIJwcdHpPjDRtavmsbK5k+0rD54Wa1lhEseceZGzqBImSPmQsORzyKrf3haLQ1hZ2y3j3i28QuZIxG84Qb2QEkKW6kAkkD3NVNJ8O6JoLTNoej2Gmm4IMxs7VIfMxnG7aBnGT19TVPS/GehaxfJaWF5I8koYwPJbSxR3IX7xhkdQkoHXKFuOenNXdY1yw0K3jm1KWRfNkEcUcMLzSyvgnakcYZ2OAScA4AJPANLYfkaFZul+G9D0Pz/7F0bT9O+048/7JapF5uM43bQM9T19TXPa58R9O0/T9Lu9PjurtL7UVspAthcM8GD84aMJuVwOiMATnIBxWneeONA0++e1uruZTHKsMs62czW8MjEAK84QxocsvDMMZGetC1/L8v8ANBe35/n/AJM1l0vT0htIUsbZYrEg2qCFQtuQpUbBj5cKSOMcHFVJPC3h+bVJNSl0LTXv5Spkums4zK5UqVJfGTgqpHPBUegqrqHjTR9P1C609nuri+tI/MmgtbGecxjZuBYxowUEdCepBAyQRTvBXiP/AISzwbputtA9u95AsjxNE6BWIyQu8Asvow4PUGhO+q/r+rA9NGbtZ/8Awj+jDXDrI0ix/tQjBvvsyeeRjbjzMbunHXpVCPxv4fl1YadHeu0pnNsJhbS/ZzMOsQn2+UXyCNu7OQRjPFZ3hXxbd+JfFmv2yr5FhpVx9lSKTTZ45HbYjbzM5CdWYeWF3Y2tnBGRavT+v6ugem51UNpbW8081vbxRS3DB5nRArSsAFBYjqcADJ7AUzUNNsdWsZLLVbO3vrWTG+C5iWRGwcjKsCDyAa4nXPiPJYzeMbays3E/h/TRdQvcWkwjkfa5O5sKu3hcYb5vmIJwcdHpPjDRtavmsbK5k+0rD54Wa1lhEseceZGzqBImSPmQsORzyKN1cL2f9f11NH+ydO+zXVv9gtfIvP8Aj5i8lds/yhPnGMN8oC89gB2qDUvDeh6z9n/tfRtPv/sv+o+1WqS+T0+7uB29B09BVTS/GehaxfJaWF5I8koYwPJbSxR3IX7xhkdQkoHXKFuOenNXdY1yw0K3jm1KWRfNkEcUcMLzSyvgnakcYZ2OAScA4AJPANHmHkaFZmoeGdB1e/hvtV0TTr67gAEVxc2iSSRgHI2swJGCc8d65/XPiPp2n6fpd3p8d1dpfaitlIFsLhngwfnDRhNyuB0RgCc5AOKu6n440a3j1WGDUDFcabFI1zO2nzzw2hVN/wC8KADoQdu4Fu1C12/rb/ML9O/9fobF3oek6hdC6v8ATLO5uBC0Almt0dxGwwyZIztIJyOhzVg2dsZYZTbxGS3UrC5QZjBGCFPYEAdPSsPU/Hnh7R7q6tr68m86zRXulgsppvIRl3B32I2xMfxHA4PPBq1qvivR9H8kXlxI7TxmZFtbaW5byx1kIiViqcj5zhfelpYC6ulaetrbWy2FssFoyvbxCFdsLL90oMYUjtjpXIn4dy3evC+1e90u6UXKTtcRaOkF9OI5A8Uctwr4ZQVTIEa5CDpWo/jC0nstI1nS7iG70O+uPsslwFYEMzbI3UnHy+YNp453gg4HPS1SunzL+n/Vgvdepm2ukCDXr7Vp5fOnuUSGP5cCGFckIOTklmZieM5Ax8oq7dWtvfWktrewRXNvMhSWGZA6SKeCCp4IPoalopdLB1uZNr4T8O2MBhstA0u3iMckRjis40Uo+N64A6NgZHQ4GavtY2rTW8zW0JltgRA5jG6IEYIU/wAORxxU9FAGWnhfQI9Sk1FND01b6SQSvdLaRiV3ByGL4ySD3rUooo6WDrciX/j7k/3F/m1S1Ev/AB9yf7i/zapaACiiigAooooAKKKKACom/wCPuP8A3G/mtS1E3/H3H/uN/NaAJa8yvtGvZvC/xIgOmzyPfai728ZgYm4X7PAAUGPmGQRxnkGvTaKa0bflb8U/0B6q39df8zz/AMYWGqy+I76fStNN458MXEEQkgDxPKZFIjIb5WJGflJ5+lYdhbTT+P8Aw9e2qeKtSjEd0t1fatay28cLtAAkawFI0QfKfmVACSBuYmvXKKi3u8vr+Lb/AFFbX+uiX+R5B8PfDur+E7HShNDfzR6/pi29w1xAzTabcorFFJChkh2kjB4VgD1ckt8O6FqJ0vw54e1C58US3Wlz25uLOSzghs4PIYHzFufs37xCVGFWQuwbDY+Yj2Giru73/rR3Q3rfz/4Y8x0yK70jxHaWnhJ/EdvBNqLNe6Nqens1nbxEHzGjuCmFGQGVUldSWwF5OPSJrO2uJ4Jri3illtmLwSOgZomIKkqT0JBIyOxIqaiktrC63Ibe0trTzfstvFB50hlk8tAu9z1Y46k+teavot63gPXbc6bcGabxUbhYvIbdJH9vjbzAMZK7Bnd0wM9K9QooWjv/AFun+hSelvO/5/5nm/i2x1c+I/E11punS3HmaHaRxv8AZRMrFZ5TJsVgVkkVDuCHOTt45rP0eynn+JlreWkfifULdtJvIZdT1mCWJWmZ4mEaxOiLEAq9VjRW9WKnHrFFJKy+/wDG/wDmNu7v6fhb/I8o8GvdeHrTw1qGp6Xqv2e20JdKuFTTp5Jba4RlYjylUuUbGN6qVyg55Gelge41b4i6Lq66XfWtr/ZF6m66gKFSZrfZuHOwsqlgrYbGcgEEDsqK05nzcz8/xvf8zPlSVl5fhb/I5b4f2lzZaLqCXlvLbu+sX0irKhUsjXDlWAPYggg9xXK3lhevHrdh/Z160zeLbK+GLSQo8BntzvV9u1gAjFsE7cc4r1Oioh7soy7WX3NP9Cpe9fzbf33/AMzzLxt4c1bXNe8TR6bBODPo1ksMqqAsrR3MkjxKzDYWK8YPHzDPBq54btptT8Y2WpNd+Jb9LK0lVptasYrIQtIU/dqgto2kJ25JBKjaOpIr0GilFW/r1/zHJ3/ryS/Q4zxtZ2R1bTNQmbxFYXdssiw6nods1wVBxuhkjVJNytgN80ZUFB8wOAce2k8QNL4J1XxBa3VzcRPdxSzR2DhiJFKwPLEgJiLKFLZwqkkHb0r0uin0t/X9f1qJ6nh6Wmoy2/hkz2Xie51O01Oz+22YsntbDTUWQ7/KjREilUMeGHmEKN24AV1moaNf3Hwy8dWVvYzG7vZ9QMEXlkNNuB2lc9c8YPevRKKNr28/x5f/AJEN5Jvy/C/+Zg3sD+Ivh7d2th51vLfadJBEbiF4HRmjKjcjgMvPqBXMwyz+IF8KaZBouo2FxpF1FPem5tHhjtRFGyFUkYbJdxO0eWzAqSScV6JRR9q/o/u1Qre6o+q++yf5HK/DizubHwd5N7by20v9oXz+XMhRtrXUrKcHsQQQe4INec+LLPU7vQdft5rHxLcaot3O1vpOnWbwWPlmYOJvMiRVnYxgMVd3JZmAUHp7hRR9q4+lvO/5/wCZxi2Nyb3xtKLSYfa7eIQMYiDNi2xheOcE4wO9cp4h07UdO8J+Fn0+KW31DVtMi8O3K42SRiWMEOQcHMZWQ+o3N6V69VCbRLG41qDVbiOSW7tlKw753McWQQWWPOwPhiN4G7BIzg4qVFXd+tvwv+d7Bslbpf8AT8mriT2Mdp4aksbKLEcNoYYo1HYJgACvMLnQ9Tk8N30J0u7ZpPBtjaiP7OxLSq0u6PGOWGRleozXr9FXd83N/WzX6h0sv61T/Q4Lxfomoav4vtorCOWITeHdStFuwrCOGWQwhAWHQ8Ejv8px0rI8PabeXl54bs7mfxRNJpMiyT21/YwWttZFImT5ZVtl84ZO0COQ5ByTgc+qUUlpb+urf6g9Vb+tkn+RyPjSMxa94Q1GQgW1pq+yYk8KZYJIkP8A326j/gVMNhc/2j44kFpL/pUEawN5Z/fYt8YU/wAWDxx3rqb+xt9TsJrO9j82CZSrrkg49iOQe4I5B5FTqNqgDOAMcnNTOPPBxfn+I07SUux5n4bNz4Rvra/1fStSe3vdAsLdZLSxluJIZYVfdE8cYZkz5gIJXGQwJBwCzStJ1HQ7rwdc6jYXaKL3UJJooYWnNn9pZnjRvLDbQAwUt90EdQMV6hRWkpc0rszUEopdv0OP8Xf8jx4G/wCwlcf+kc1cldHUT4StvDQ0PVW1C28QxzzFbKQwrANQEolEuNjgqVOFJYZOQArEemzaHYXGu2+sTxySXltG0cJaeQpGG6kR7tgYjjdjdjjOK0KE7NPt/nct2f3W/P8AzPMGju9I8SNH4PPiOzuLjVQ91pF3p5l090aTM0qzlCsYKlpBsl+9wU3ErXR+DUltNa8UWl1bXMMj6q91G8lu6xyRuiBSshGxvunIBJHcCusoqVpr5W/L/L8wlr+f5/5nl/jCyvXn+INrFp99NJqmiR/YzDaSSJMUjkVlDqpXdlh8pO454BrT8YaHqGreJNPg0+OSISaDqVqLkIwSCSQQhMsPungkd+DjpXe0Umk48r8/xKjJxlzL+tv8jyvw9pt5eXnhuzuZ/FE0mkyLJPbX9jBa21kUiZPllW2Xzhk7QI5DkHJOBz1fjuxsrzT7GS+j1qN7a6EsF/okbST2T7SN2xQzMrAlCAjjDcgDkdTRVNt6/Mlabeh5bNLr914dsr3VV1LUraw8SRTwXEmlvHeSWinG+S3RA2QzEcIpKgNtHWsDxXaale+H9egmsfE1xqYup3t9J0+ykt7Ly2mDibfGirOxjAYq7uS7MNoPT3GikrL+vJL9PztYHq/68/8AM5bSrKf/AISPxVM1tIi3QtxC7xlRJiADgnrg5HsaT4arLD8NdEsrm3ubW5srOO2niubd4mWREAYAMBkZ6MMg9ia6qihbNd/0v/mLt5HlMFrfP8PrTwK+kagurwXEUUk5tXFuFScSG5W4wYzlRuADb9xxgHOOs8G2dza6x4ue5t5YUuNaMsLSIVEqfZ4BuXPUZBGR3BrqqKadrvuv8v8AIb1/r1/zPL/GFlevP8QbWLT76aTVNEj+xmG0kkSYpHIrKHVSu7LD5SdxzwDWn4w0PUNW8SafBp8ckQk0HUrUXIRgkEkghCZYfdPBI78HHSu9oqWk48r8/wASoycZcy/rb/I8r8PabeXl54bs7mfxRNJpMiyT21/YwWttZFImT5ZVtl84ZO0COQ5ByTgc9X47sbK80+xkvo9aje2uhLBf6JG0k9k+0jdsUMzKwJQgI4w3IA5HU0VTbevzJWm3oeWzS6/deHbK91VdS1K2sPEkU8FxJpbx3klopxvkt0QNkMxHCKSoDbR1q1q+l3svgP4jRQWFw09/NcNbxrA2+4zbRqCoxlskY49MV6RRRF8ruv6+H/5EW8lL+uv+Zxiafci88av9kmBureJYW8s/vsW2MLx82Dxx3rH8OLdeE7q11DVdP1KaG+0CwtY0trKSd4ZoQ+6J1UEpnzBywC5ByR39LrE1bwho+s6h9uu47qK6MQheayv57VpEBJCuYnXeAScBs4ycdTUpNXt1t+F/8/62C2iXb/gf5HBaVDLJ8CdJsltvIub6/jSGBCD5RN7v4xwdigtkcYXPSvU4rlJpZo0WQNC4Ri8TICcA/KSAGGD1XIzkdQRVWLRNNgaw8i0jiXTkMdpHHlUhBAX5UHy5wMA4yASBgE5v09AWwUUUUDCiiigAooooAiX/AI+5P9xf5tUtRL/x9yf7i/zapaACiovtCekn/fpv8KPtCekn/fpv8KAJaKi+0J6Sf9+m/wAKPtCekn/fpv8ACgCWiovtCekn/fpv8KPtCekn/fpv8KAJaib/AI+4/wDcb+a0faE9JP8Av03+FRtOn2pDiT7jf8s29V9qALNFRfaE9JP+/Tf4UfaE9JP+/Tf4UAS0VF9oT0k/79N/hR9oT0k/79N/hQBLRUX2hPST/v03+FH2hPST/v03+FAEtFRfaE9JP+/Tf4UfaE9JP+/Tf4UAS0VF9oT0k/79N/hR9oT0k/79N/hQBLRUX2hPST/v03+FH2hPST/v03+FAEtFRfaE9JP+/Tf4UfaE9JP+/Tf4UAS0VF9oT0k/79N/hR9oT0k/79N/hQBLRUX2hPST/v03+FH2hPST/v03+FAEtFRfaE9JP+/Tf4UfaE9JP+/Tf4UAS0VF9oT0k/79N/hR9oT0k/79N/hQBLRUX2hPST/v03+FH2hPST/v03+FAEtFRfaE9JP+/Tf4UfaE9JP+/Tf4UAS0VF9oT0k/79N/hR9oT0k/79N/hQBLRUX2hPST/v03+FH2hPST/v03+FAEtFRfaE9JP+/Tf4UfaE9JP+/Tf4UAS0VF9oT0k/79N/hR9oT0k/79N/hQBLRUX2hPST/v03+FH2hPST/v03+FAEtFRfaE9JP+/Tf4UfaE9JP+/Tf4UAS0VF9oT0k/79N/hR9oT0k/79N/hQBLRUX2hPST/v03+FH2hPST/v03+FAEtFRfaE9JP+/Tf4UfaE9JP+/Tf4UAS0VF9oT0k/79N/hR9oT0k/79N/hQBLRUX2hPST/v03+FH2hPST/v03+FAEtFRfaE9JP+/Tf4UfaE9JP+/Tf4UAS0VF9oT0k/79N/hR9oT0k/79N/hQBLRUX2hPST/v03+FH2hPST/v03+FAEtFRfaE9JP+/Tf4UfaE9JP+/Tf4UAS0VF9oT0k/79N/hR9oT0k/79N/hQBLRUX2hPST/v03+FH2hPST/v03+FAEtFRfaE9JP+/Tf4UfaE9JP+/Tf4UAS0VF9oT0k/79N/hR9oT0k/79N/hQBLRUX2hPST/v03+FH2hPST/v03+FAAv/H3J/uL/NqlqCJw91IVDD5F+8pHdvWp6ACiiuV03xfLqvxAudFtbZDptvaO63mcmaZJAjqvP3VJ2kkcsD6cm7sD0VzqqKKKACiiigAqJv8Aj7j/ANxv5rUtRN/x9x/7jfzWgCWiiigAooooAKKKKACiiigAooooAKKKKACiiigAooooAKKKKACiiigAooooAKKKKACiiigAooooAKKKKACiiigAooooAKKKKACiiigAooooAKKKKACiiigAooooAKKKKACiiigAooooAKKKKACiiigAooooAKKKKACiiigAooooAKKKKAIl/wCPuT/cX+bVLUS/8fcn+4v82qWgCrqlvc3ek3VvYXf2K5liZIrny9/lMRgNtyM464zXGaNoGu6V4+09ZZ7KTT7bSXh32+myxLjzFwm5pn+cn5snOQDxzkd7RQtJJ/1s1+oPVW/rdf5BRRRQAUUUUAFRN/x9x/7jfzWpaib/AI+4/wDcb+a0AS1yk3xN8IQeLP8AhGZdYUaz9oW2+yeRKW8xgCBkLjGCOc4966uvM/CegXw8f/Eqaazms/7RlhS0vJIWUSDySMo2PmAJ7HrSu7vyV/y0B7fO35nQ6Z8T/BmseKZPDmm6/bXGqIWXyVDBXK9QrkbHPspJ4Poat+OvFH/CGeB9T8QC1a8NlFvWFTjcxYKMnsMkEn0zXg/gXwLqsWt+HdF1XS/HK3ejX/nzPPeqmkW/lsSJISY235yBtGCdzfNjNez6/rOs6z4F1uTw14daXULeWS2Sw1212x3qqwDlV3DcjLnaSQD6USXuXT/rTX8Rxfv2a/rsZngDxh4u1fVktPFOnaXcWV5ZC8s9X0EySWnDbWhdmJG/vwex616JXhPw30Rk+KsGp+DvCHiDwjopsnGsW+qo0MU8pyY/KRiScEnkYAHZc/N7tVvZf11Ij1X9bBRRRUlBRRRQAUUUUAFFFFABRRRQAUUUUAFFFFABRRRQAUUUUAFFFFABRRRQAUUUUAFFFFABRRRQAUUUUAFFFFABRRRQAUUUUAFFFFABRRRQAUUUUAFFFFABRRRQAUUUUAFFFFABRRRQAUUUUAFFFFABRRRQAUUUUARL/wAfcn+4v82qWol/4+5P9xf5tUtABRRRQAUUUUAFFFFABUTf8fcf+4381qWom/4+4/8Acb+a0AS0UUUAFFFFABRRRQAUUUUAFFFFABRRRQAUUUUAFFFFABRRRQAUUUUAFFFFABRRRQAUUUUAFFFFABRRRQAUUUUAFFFFABRRRQAUUUUAFFFFABRRRQAUUUUAFFFFABRRRQAUUUUAFFFFABRRRQAUUUUAFFFFABRRRQAUUUUAFFFFABRRRQBEv/H3J/uL/NqlqJf+PuT/AHF/m1S0AFFFFABRRRQAUUUUAFRN/wAfcf8AuN/NalqJv+PuP/cb+a0AS1xmh+NLy++I+t+Hb+2hS2tpSljPGCGcpFC7q+SQT++BGMcA8d67OvJtX07W7C98R6/pWk3V1fWHiKK7tIFRlN1E1pFBJt4+YYZjxxlPahb69v1S/UGtP67M6rTfGkt94/1jSpUt4dJ06yEyXTNhnYSOkpJzgKpQj6qTmtDT/Gmi6rd/ZLGa4W5eFp4VurGe3E6LjLRtIiiQDI5Ungg9K4258O6vpd5q0Gn2LahMvhJLdJJoA8V1c+bMzg7vkZiW3FSed3PBqpYW00/j/wAPXtqnirUoxHdLdX2rWstvHC7QAJGsBSNEHyn5lQAkgbmJqXflt5P83/kOWktPL8l/mzsvC3jS31bQvDr6pJGmrazaC4W2tonYAYyzYG7YgJA3McZIGcmrln410C/1RbC1vXaWSR4opWtpVgnkXO5I5iojkYYb5VYn5W9Djz74e+HdX8J2OlCaG/mj1/TFt7hriBmm025RWKKSFDJDtJGDwrAHq5Jb4d0LUTpfhzw9qFz4olutLntzcWclnBDZweQwPmLc/Zv3iEqMKshdg2Gx8xF6c1v63/T9egpaXt/Wn6/p1PRLbxnoV5qsenwXUxllkaKGVrSZYJnXOVScqI3YbW4ViflPoa0dU1ay0WxN3qMpji3BFCo0juxOAqooLMxPRVBJ9K890yK70jxHaWnhJ/EdvBNqLNe6Nqens1nbxEHzGjuCmFGQGVUldSWwF5OOi8fm+Wz0qSyW6SCO/Vrq6sbFbu5tY/LcB4o2R+dxVSQjEKzcdTU68qf9dA6tf11NnRfEWm6+tx/ZsspktXCTwXFtJbyxEgMN0ciqwyDkEjB7VS1PxxoGkalPp95dzG7tkWWeG3s5p2ijYZDt5aNtTj7x4Hc1zXw4s5bXxd4kZbPXEspobM215rJmaS7Cq4Zsy/Mp3fwELgEHaAQKcNei0X4n+KRPpV/deba2WySys3uCzBZMRsEBK5zkM2F65I7kna1v6/r/AIG4r/1/X9fI6vUvFWj6XDaST3Lz/blL20dlbyXUkygZLqkSsxUAjLYwMjnkVHc+M9AtNOsb57/zINQYpafZ4ZJmmYAkoqIpYsMH5cZyCMZFefQeG9Y8M3Wg3d/faxYQpoq2Mr6FYpeG3mEhkKGMwysEIYAMi4zGMn7ta2i6FdW1x4XmazvyDqt7eSveKhkQSRS7XkEcaLGW3A7cDBbBJOae/wDXn+q1CWn9eX+eh06+LtLt7XUry+1KMQWl0lvsFpLHLG7RxssOw5aSQ7wQFUH5gu3IOZrbxfodzpN7qX237PbWGftf2uF7d7fjPzxyKrrkEEZHORjNcTd6XqVt4kvda/s27ntbDxSL2SKOFmeWA6ekJkjXrJtZs4XJO1gASMUzW9M1HxHfax4i0vTLz7Kp00xW08Bgmvha3LTSYikCsODtXeBkg9iCXppr2+Wi/wA/61Kt/XfVq36nTaX43h1rx0ujaeGFuunNdSrdWk1vcI4kVV+SQKQpBODt5xweDWtq2ry2ur6XpVisbXV9IzsZASscEeDI2AQc8qo9C4JyBg87pl82t/FVNRtdK1KCxj0Z4ftd5Yy2weQzIdmJFVuBzyBnJxnBxdv4zb/FnSLqUDyrrSrm0ic/wyh45Nv4qrH/AIBSW0fn+Dlb77JEX1l8vyX/AASp4o+JGn6VCYdJmE96NQgst0trMbdmaZEkRZgBG0iqzHaGJBU5HBFbGpeOPD+kajLZX166yQbPtLx2sskVrv8Au+dKilIs9fnZeOenNcBe/bbbwDZeEjoOq3GqWmq23muljI0JjW7WQ3AmC+WwK8kAlgScgYYjWnkudHs/Fuhz6FqF9d6tcTzWJgtHkgu1mQKqvKAUiwRtbzCuAAeQalN22v8Artp+LNbK6X9LfX+u5vf8Je91481DwtZQPHPb6elxFczWczRGVi+MsAF2AKOQ3zEkA5U1seH9YXXdDgvgnlSEtHPFnPlSoxSRM98MpGe+K5bw/p13ofj+KC9iuZUk8P2lol2sLvG8sLSlw0gBCnDAjcRnPGa0/ASs2jX93grDe6rd3EAI4MbSsFYezY3f8CqtNvX8JW/L8jO99fT8Y3/P8xr/ABL8JxyIsmqMkbztbC4e1mWATKWBiMpTYH+Q/KWyeMDkZv2njDQ73T768S8aCLTzi7W7t5LaSDIDDdHIquMgjHHPbNcXpui3o+H+mW02mziePxQblongbcqf2g7iQjGQNpDbumOelS+JLPV01Xxdc2GnzyrKumFJFsxOSiOTK8SOpWSRFywGD8wXgnApPRfO34LX8f8Agh9q39btfodDc/EHR00nVLm2F89zp1qbprOfTrmCZ05CsI3jDlNwwWCkDnOMUtl470x/Dmkahfm6S51K3EqWkGn3EkzYA3sIVQybAT97G3lefmGeHtdNurvxZqjafbeJb+C78OXUK6jrMcsfnXDSA+WI5FQQjBGAqIpwcA7Sa1tDu5dIvtH1u907VmsJNBh05tmm3DzWs8bEsGgCeYA2fvbMfuxzyuXHz/r4vzsvvQPfT+vh/K7+5m1dfEHT7fX9PiSb7Rp19YS3MRtraWed5EkRdqxoC3AZtw25XHOMGul0rVbLW9Lg1HS5xPa3C7o5ApXPYgggEEHIIIBBGDXOWbzap4+03WP7MvLSBtHuEBuoNjJmaIqG67SwXdtOGx1AIIEnw7s7my8M3MV7by28jarfyBJUKEq11Iytg9iCCD3BzVJe7rvr+bFrd/L8kWn8caBHqYsXu5gxuPsv2j7HN9m87OPL+0bPK3bvlxuzu+XrxUd98QfDWm3t3a3d9KsljKIrtks5pEtWKqwMrqhWNSHB3MQvXn5TjzLWLTUrrSI0uLPxPc6rBqsUsmm29k9vYWkYvA7OnlIsdwCuDy0rc7sLhiOq1HSr5/C/xOjjsbhpb6aY2qrCxa4BsYVGwY+b5gRxnkEVCfuOT6Jv8v8ANmnLeaj52/M7iPW9Pkur+2W5Al05Va6VlK+WrLuDZIwQRnkZHBHUGpLTVbK90aHVYJwLGaAXCzSqYx5ZG7cQwBUY55xivN/HWmXcc2jw6ehSTxNax6De84ZU/wBZvxn+GP7QPX5h6V2njDRrjVPh/q2j6QiCeexeC3jLbVJ24C57A9PxqmrJ/wBf10Jjq1/X9dShqHxB0w+H9WutGldry006e9tkvLOaFLgRoTuQuq+amduShPDDnkGruheNdH124gs7a5k+2S2/2hA9rLFHOgwGaJ3ULKoLDlCwwQc81j65rx1/wRrWl6domtC5fSLlWSbTpIVjfyiBGC4HmMScDy94464IJk1Kxvf+Ei8HS21lI62ttdLJ+7OyNjAAoc9FyeOam9rv0/X/AIA38Me7b/8Abf8AgmtbeN9Au9ThsYbqYvcStDBM1nMtvO4BJWOcoI3PytwrHODjpRF448PzTX6R3zldNMi3cxtpRDCyNtZGlK7N+f4M7iCCAQQa8xt7O/mPhN5bXxPd6haajaC+t5LJ7Sy01V3BhHEiJFIoY43jzCFGS4HXpZLLVbX4e64trp832h9euJypsxLIIftu4zRxOpDsEG9ODkhcA8U+j+f/ALb/AJ/huH/A/wDbr/kvvOu0zxdo2rXFxBbzzwT20QnlhvrOa0dYySPM2zIpK5BG4cCqEvxE0E6fdXFpJdTtDbPcwobC4QXaKOWhJj/eryDuj3AAg9Oa8/m0K/1nXNat9Hj8R3Kaj4bu7ZNV1tZohLcNIDs2OqCEYIACoikZwDtJru49e/trQ59Js9F1eC6awkSVbmweCOB9mNnmPhXy3AMZcd845qKl/Ztrez/X/JP+kEbc6T2v/l/m/uH6b4+02Xwto2p6l9pjudTgEiWkGn3EkrMFBcrCqGQoCfv424K88jN+58Z6BaadY3z3/mQagxS0+zwyTNMwBJRURSxYYPy4zkEYyK87s7TULeTw9rL3PiTS7RdBi0yU6fpJlngnjOWV4ZIJHCt2dVwSgycFa2dF0K6trjwvM1nfkHVb28le8VDIgkil2vII40WMtuB24GC2CSc1rKzk7ef5/qtf8zNNqKv5fl+j0/qx6JFKs0KSoGCuoYB0KsAfVTgg+x5rCm8X6VprXzapqkIjg1BbEBLaRTHK0SOsR672O7IKgA7guMjnZtryG7adYCxa3lMMgaNlwwAPcDIwwORwc1582lXzeIr6RrC4MbeL4LlWMLYMQs418wHH3QwI3dMjFStXp5fjKK/J3K2jf1/J/qjrbPxhod5pt9frem3t9ObbefbYZLZ7c7Q3zpKqsuQQRkc54rN1Lx5Z/wBh3lzoxk+22phJttQsp7Z9kkqpv8uRUYryQGHGRjtisHxJomq3uueJ5rKwnmAl0m5jQDaLpYJfMkjRjgE4XGM9SM4rT8R6z/wk3he+tdI0rWG2NbsXuNOlt8nz0JVUkVXYgAkkKVA79qV7r+vvA6SXxJpMFnq11LdbYdGZlvm8tz5JWNZDxjLfIyn5c9cdaq6t4z0TR3SO6upDK8H2jENrLMIou0kpRT5SdfmfaODzwccP4ka/sdL+IekpouqXd3rJefTxa2ckkc6taRxn96BsUho2+VmDHjAJIB1reefwxreqS32k6leLqtnbG1a0s3ny8cWwwOUX93zyDIVX5z8wwcKW2nZffZ3/ABNElder/NW/M0fDXjRdT8O6Vqer3VtBJdaOdSnght5DhV27nVskBRnG3BY5BB4rR0rxroOtahFZ6ddyPLPCZ4GktZY47iMYy0UjqFkA3D7pPWuA0PRtUi8JaTFLpd3DLH4MuLZ4jAwKTEx4iIx97g4XrxXQaro97dSeDILaCaEQ208Usixti2LWhRS2Pu8nHOOeKcm0m0tv85L9EZ9bf1tH/NmyvxA8NNqVvYi/kEt1P9ntna0mEVzJnGI5SmyTB6lSQO9bOqarZ6Np8l7qU3kwRkAnaWZmJwqqqglmJIAUAkkgAE15hLdP/ZngHw9Lo95b3um6laRXLTWzRwwtFE4PlyFQsu4KceWTxycdK7Lx/wDbhotm9glxtS/ha4ntLNbq4togTmSKJkfcwO0cKxALEDinp662+Wmv4guZvbpf566fgaejeJdM1+S5i06WcT2pUT291ay20sYYZUmOVVbBwcHGDg4PBqrq3jbQtE1Gawvrm4N3BCtxLBbWU9w6RNuAkIjRvlyjZPQcZxkZ5T4f2csHxB125jttfaxn060WG/1pZt906PNvOJADHy3+r2oB1ChSCegtbK4X4k+IrtraUQTaVZRxTGM7XZXuSyhuhI3LkDpketOStG67DW7Xp+hoX3i7RbCzsLmS7edNRXfZrZ28l1JcLt3bkjiVmKgEEsBgZGTyKlsfE+j6ncWkNherO95BJcQbUbDJGyq+TjAZWYAqcMDnjg48v0rRdW0jT/CGpXcuvaXDFoX2CZtM09bme3l3B9skLwysFYLjKrwVAYjirlxouq6Z4Ystd0ex1S41L+07iQR3UcZuZI7pTHvZI40WMbvLlZdoKhTu5yKPTz/Oy+/f+rg9N/60u/8AL9eh6Da+LNEvrG0vLO/WWC8uns7d1Rv3kylwygYzx5b89MDOcVkeH/Gi32iaPf6xd21tJd6RJqM9tHbSH5UKbnVtxAVd+NpBY7hg8HOJ4b8M3mmfEB9LFg0egaOhvLCYo2xpZoUi2qTxlds5IGceaPWsvTtF1RNA0KN9NvFeLwbfW0imBgUlYwbYyMcMdpwvU4PpUt2Ta7N/cn+q/rcuKTWvdfi/8vx+49A0rxpoOt6hFZaddySSzwme3L2sscdxGMZaKR1CyAbh90nrRZ+NdAv9UWwtb12lkkeKKVraVYJ5FzuSOYqI5GGG+VWJ+VvQ4wtQ0q9muvBMdvbTRi3gmjldY2AtybQqN2Pu88c965nw7oWo/wBl+HPD1/c+KJLrS57c3FnJZwQWcHkMD5i3Itv3iEqMKshdg2Gx8xFWXPy+f9P5f00ZJtw5v62PYaKiguEuDJ5ayDynMbeZEyZI9NwG4c9Rke9S0igooooAKKKKACiiigAooooAiX/j7k/3F/m1S1Ev/H3J/uL/ADapaACiiigAooooAKKKKACom/4+4/8Acb+a1LUTf8fcf+4381oAlooooAKKKKACiiigAooooAKqQaXZ22qXeowQ7bq8WNZ5NxO8ICF4JwMZPSrdFABRRRQAUUUUAFVr3T7bUFhW7j3+RMs8ZDFSjqcgggg+xHQgkHIJFWaKACiiigCO5t47u1lt5t/lzIUfY7I2CMHDKQQfcEEUW9vDaWsVvaxrFDCgSONBhUUDAAHoBUlFABRRRQAUUUUAFFFFABRRRQBRbRrJ9bTVpI5JLyOMxxl5nZIwepWMnYrHoWABI4JxV6iigAooooAKKKKACiiigAooooAit7WG18zyE2+bIZHOSSzHqef88VLRRQAUUUUAFFFFABSOiyIySKGVhhlYZBHpS0UAc/pfgjQdGvILmxtrjdagrbRz3088VsCMfuo5HZI+Mr8oGASBwSK6CiigAooooAKKKKACiiigAooooAKKKKACiiigAooooAKKKKACiiigCJf+PuT/AHF/m1S1Ev8Ax9yf7i/zapaAIvtCekn/AH6b/Cj7QnpJ/wB+m/wqWigCL7QnpJ/36b/Cj7QnpJ/36b/CpaKAIvtCekn/AH6b/Cj7QnpJ/wB+m/wqWigCL7QnpJ/36b/Co2nT7UhxJ9xv+Wbeq+1Waib/AI+4/wDcb+a0AH2hPST/AL9N/hR9oT0k/wC/Tf4VLRQBF9oT0k/79N/hR9oT0k/79N/hUtFAEX2hPST/AL9N/hR9oT0k/wC/Tf4VLRQBF9oT0k/79N/hR9oT0k/79N/hUtFAEX2hPST/AL9N/hR9oT0k/wC/Tf4VLRQBF9oT0k/79N/hR9oT0k/79N/hUtFAEX2hPST/AL9N/hR9oT0k/wC/Tf4VLRQBF9oT0k/79N/hR9oT0k/79N/hUtFAEX2hPST/AL9N/hR9oT0k/wC/Tf4VLRQBF9oT0k/79N/hR9oT0k/79N/hUtFAEX2hPST/AL9N/hR9oT0k/wC/Tf4VLRQBF9oT0k/79N/hR9oT0k/79N/hUtFAEX2hPST/AL9N/hR9oT0k/wC/Tf4VLRQBF9oT0k/79N/hR9oT0k/79N/hUtFAEX2hPST/AL9N/hR9oT0k/wC/Tf4VLRQBF9oT0k/79N/hR9oT0k/79N/hUtFAEX2hPST/AL9N/hR9oT0k/wC/Tf4VLRQBF9oT0k/79N/hR9oT0k/79N/hUtFAEX2hPST/AL9N/hR9oT0k/wC/Tf4VLRQBF9oT0k/79N/hR9oT0k/79N/hUtFAEX2hPST/AL9N/hR9oT0k/wC/Tf4VLRQBF9oT0k/79N/hR9oT0k/79N/hUtFAEX2hPST/AL9N/hR9oT0k/wC/Tf4VLRQBF9oT0k/79N/hR9oT0k/79N/hUtFAEX2hPST/AL9N/hR9oT0k/wC/Tf4VLRQBF9oT0k/79N/hR9oT0k/79N/hUtFAEX2hPST/AL9N/hR9oT0k/wC/Tf4VLRQBF9oT0k/79N/hR9oT0k/79N/hUtFAEX2hPST/AL9N/hR9oT0k/wC/Tf4VLRQBF9oT0k/79N/hR9oT0k/79N/hUtFAEX2hPST/AL9N/hR9oT0k/wC/Tf4VLRQBF9oT0k/79N/hR9oT0k/79N/hUtFAEX2hPST/AL9N/hR9oT0k/wC/Tf4VLRQBBE4e6kKhh8i/eUju3rU9RL/x9yf7i/zapaAIrq4S0tJriUhY4UZ2JOAABk1yfgjxJeeJIILmfxB4fvC1uss9hp0JMtuzDIDP579DkH5Rk+ldRqSNJpd0iWkV6zQuBazMFSbg/IxIIAPTkHrXJQyf294h8OSaZpN9pg0ne90biye3WGNoin2dSwAfLFT8m5f3ec/dyR3a/rqD2O2ooooAKKKKACom/wCPuP8A3G/mtS1E3/H3H/uN/NaAJaKK5Sb4m+EIPFn/AAjMusKNZ+0LbfZPIlLeYwBAyFxjBHOce9HWwPRXZ1dFcppnxP8ABmseKZPDmm6/bXGqIWXyVDBXK9QrkbHPspJ4Poah+I/i6/8AB+n6LPpkVvK1/rNtYSi4VmCxybtxXBHzccZyPajez7jtuu36HY0Vx3ivxdf6F498H6JaRW722uT3Edy8qsXQRxhhsIIA5POQa7Ghaq4NW/r+uwUUUUCCiiigAooooAKKKKACiiigAooooAKKKKACiiigAooooAKKKKACiiigAooooAKKKKACiiigAooooAKKKKACiiigAooooAKKKKACiiigAooooAKKKKACiiigAooooAKKKKACiiigAooooAKKKKACiiigAooooAiX/j7k/wBxf5tUtRL/AMfcn+4v82qWgAooooAKKKKACiiigAqJv+PuP/cb+a1LUTf8fcf+4381oAlrzPwnoF8PH/xKmms5rP8AtGWFLS8khZRIPJIyjY+YAnsetemUUnFO9+qa++3+QdvJ3PmfwL4F1WLW/Dui6rpfjlbvRr/z5nnvVTSLfy2JEkJMbb85A2jBO5vmxmvSPiRHqXjLwR9s0TQdS+1+H9cjulsbqLyZLxYGO4xddysCSp6nHAzwfUKKptta+vz0/wAgjZPT0+Wv+Z5DFqGq/EX4qeFtSt/Cmt6Lpvh8XE1zPrdp9nLtLHsVY1yd3I69vyz69RRR0sGreoUUUUgCiiigAooooAKKKKACiiigAooooAKKKKACiiigAooooAKKKKACiiigAooooAKKKKACiiigAooooAKKKKACiiigAooooAKKKKACiiigAooooAKKKKACiiigAooooAKKKKACiiigAooooAKKKKACiiigAooooAiX/j7k/wBxf5tUtRL/AMfcn+4v82qWgAooooAKKKKACiiigAqJv+PuP/cb+a1LUTf8fcf+4381oAloorl/+Eyt7C88SPr88Flp2j3cEC3BVuBLFE2XPP8AHJjOAAOvQmgaTex1FFctcfEDRxo+r3ln9sln0u2+0SWkthcRSlTnYwRowxQlSN4BAwSTwaWz8d6YfDej6jqBukuNTgEiWsOn3EkzEKC5WFUMmwH+LGMFTnkZO/8AW9/8hf8AB/D/AIc6iisG58beH7Wzsblr5po9RDG0W2t5J3nK43KqRqWLDPK4yMNkcHEFz8QvDNpeXFtPfyq9rIIrphZzMlqxAI85wm2IEMPmcgdeeDg3dg6XOlorJl8UaTFr40Tz5ZNQKoxhhtZZdivnazsqlUU4PzMQPeq9r420C91IWNteu0jyPFFIbaVYZ3TO5I5ivlyMNrfKjE/K3HBwAb1FcXoPxJ07U9Fu9Rv47q0EWoy2UMP2C4Mk212ChE2bnchSzKoJXByBg10uka1Y67ZNdabK7osjROssLwyRuvVXjcBlPfBA4IPQijdA9C/RWX4m1ObRfCer6parG89lZTXEayAlSyIWAIBBxkeoqnd+M9I0tbaPU55Rcy2y3MkdraTXHlIf438tW8tM5+ZsDg88Glf+vv8A8h2aV/60t/mdBRXJah49tbLxnpujRw3FzbXunzXv2q2tJpwwXZt2GNCGBDEkgnHyjqwzH4f+Imn6l4Mt9e1NZ7P7RcPbpALOcySPuO1Y02b5TtGSUBHDdNpAf9fjb8xdbHY0VgyeNvD8Wjpqct8yWz3H2UBreQSrNz+6aLbvVzjhSoJJAxyMx3fjvQbAL9qmvE/dLNLjTrhvsyN0abEf7kYBP7zbwCexoA6KikVldA6MGVhkEHIIqhrGuWGhW8c2pSyL5sgjijhheaWV8E7UjjDOxwCTgHABJ4BoA0KKwo/Gmgy6LLqgvWW3hn+zOklvIkyzZAEXksok8w5GE27jkYByKE8aaC2lz3zXkkUcEqwyQz2ssU6yNjYnkMokLNkbVC5bIxmgDdorBHjbQP7Kn1CS9eGK3lWGWKe2linWRsbU8llEhZsjau3LZGM0qeNNAbR7vVJL5re1sXCXf2q3kgktycY3xuodc7gckAYOenNAG7RXPz+N9Et7W1mle+Bu95htxplybh1T7z+SI/MCDI+Yrt5HPIzneFPGn/CQ6bYXc11Zx/bdRvLaBYYXcXEcTyBCrbsKdqBiTkHkADIw7aXB6HY0VzWmfEHw1rF1Zwadfyy/biVtZms5khmYKWKLKyBC4Ctld24bSCMg0upfEDw1pFzLDqF/JEIZRC8wtJmhWU4/d+aqFN/P3N272pA9NzpKKK5m/wDGCWXxE0zwx9lnb7baTXDTi2lZVKsgUbgu3HzNkk4GFBxuGTd2Dpc6aisCy8b+H9Q1OOxtL53kmkeKGY20qwTuudyRzlRHIww3CsT8rehxv0eYeQUVxep+PTaeJ9c0W3tJfN03SftySyWs3lvJhzgttC7cIOd3JJAOVIrR8P8AjfSNdeztYbh/ttxai4QG1ljimAC7jFIyhZACw+4zdaSd9v63/wAmD0ev9bf5o6OisGz8a6Bf6otha3rtLJI8UUrW0qwTyLnckcxURyMMN8qsT8rehxvU+lw8gorCt9buZfiBf6GyRC2t9OgukcA7y7ySqQTnGMIMcetVJPGMOna94hi1uWC00zSIrWT7QVbI83dkseeMgdhjnNK6tcHo7f1qdRRXPweMtIv4dSWzu5IJ7C2NxKLyxniKR4bEgR1VpE+U8rwcYzS3vjLR9LS3S8uZrieW3FwUsbCe4YRn/loyRq7RqecFsdCMnBp/1/X3Ab9Fc/qHjnw9pvkeZfPc+fb/AGtBYW0t4fI7SkQq21D2Y4B5weDU9/4t0XTreymku2uFv132q2MEl286YBLqkSsxXBHzYwMjnkUbAbNFcboHxBsr7ws+tapPEIZNSuLO0+xwyStcKkrKmyNdzuxVcnaD0JwAK6XSdYsdbszdabMZI1cxurxtG8bjqrowDIw9GAPIo3B6OzLtFNkkSGJpJXVI0UszscBQOpJ7CuXm8faTcaXfSaRO73MVlNdWv2m0mhjuVRc7o2dVEq/dOUJGCDnBBqZSUU2+g0m3Y6qiuc8P+N9I117O1huH+23FqLhAbWWOKYALuMUjKFkALD7jN1qSLxxoE+qRWMd3NvnmNvDO1nMtvNIM/Ik5Tymb5WGAxyQR1FW1Z2JTTVzforBg8a6Bcz38cV823TfNF5O1vIsFuYzh1eUqEDDrt3Zxg4wQadpnjLRNWupbaCe4t54oPtDR39lNaMYgcF1EyLuUHGSMgZGcZFIe2jNyiuWl+ImgnT7q4tJLqdobZ7mFDYXCC7RRy0JMf71eQd0e4AEHpzTdO8fabJ4V0XVNS+0RXGqQho7WGwuHmdguX2QqhkKD+9jGCDnkZO/9b3/yYHV0VhXHjXw/a6XZai+ob7a/kMNqYYZJWlkAYmMIilt42sNuM5BGM8VtQTLcW8c0YcLIoZRIjIwBGeVYAg+xAIoFdD6KydY8TaZoc0cN89w88ql1gtLOa6k2DgsUiVmC5ONxGM8ZqK78YaHZ2NhdteNcR6iu6zWzt5LmSddu4sscSsxAGMnGBkZxkUXGbdFcfrPxC0+wPh19OWW/t9avDbia3tZpRGoVi3CKcOGXaUOGHzEj5Wx2FABRUF8l3JZSrps8NvdEfu5biEyop90DKT/30K43RNR8Z6j4n1jTbjVdCEOkXEMcjR6PMGnV4lkOM3R2HDY/i9fajrYOh3NFcV4e+I+nX0awavN5F4+pXFirRWk32cMk8kcaNNgxrIyqp2lgSWGB8wFa0nizTbFtQN9qCy/Zr4WiwW1nK0okMSP5QRdzTNht2UXAU9PlJp2/r7v80Hl/X9aG/RVDSNasddsmutNld0WRonWWF4ZI3XqrxuAynvggcEHoRS61qaaLod5qUsUkq2sLSmOKNnZsDoAoJ/IHHWpk1FXY0ruyL1FcH4R8a6jqraa+sy2i295pUuoySCxms/J2tGNuJXOVAZvn4DcEYHXoNL8ZaLrGoJZWU9ytxLEZoVubGe3E6DGWjaRFEgG4HKk8EHpVNW/r1/yIUk/6/rublFc2vxA8NNqVvYi/kEt1P9ntna0mEVzJnGI5SmyTB6lSQO9dJS3VyutiJf8Aj7k/3F/m1S1Ev/H3J/uL/NqloAKKKKACiiigAooooAKib/j7j/3G/mtS1E3/AB9x/wC4381oAlrzXXdKv518XiOwuZBc61pkkQWFj5qL9l3svHzAbWyRwNpz0r0qil1uVGXKcN4i0u+vPGWqtbWk0iTeGJraOQIdjSmQ4Td03e2a5yK2v4rvQNc+0+JNMsv7Cj06Q6fpJlngmjbLCSCWCSQK3ZlTBKDJwVr1yiiK5f6/xf8AyTIerb/r7P8A8ijznw3od1Z6v4euJLS/2NNqN1JJeKhkUykFWcRxosbOMnZgEEkHJzVGLVwJPH+jQaLeXd3e6hLDbmK0eSGd3tYl2ySAFYwMjJkIGDxnBA9UqnY6TZabPezWUPlSX9x9puTvY75Nqpu5PHyoowMDijlWqezVvy/yHdqzW97/AJ/5nL+H9DvLHXNZgkVwx0ixtUvChCyOiSqSG74JB9s+9cl4d0LUf7L8OeHr+58USXWlz25uLOSzggs4PIYHzFuRbfvEJUYVZC7BsNj5iPYaKvmfNzej+7UlRSjyr+uh5VFpsB8O3lnrdh4htriy8Q3V3Fe6XaS+ba+ZLI0c0eFPmqVbaQiyAb/mUDJHXeBrrWLqxvzq813dW6XbLYXV/ZC0uJodqnMkW1cYYsoOxchQcc5PT0VMdFbyt+X+Rcnd3/rr/mYfja3mu/APiC3tYpJp5tNuEjijUszsYmAAA5JJ7Vw02n6lovifUby51DxJZW+pWts1v/Y2mx3YYxxBGifdBK0bA8jO1DvPOQ1eq0Uravz/AOD/AJj5tEvX8bf5Hm+k6Pc+H/EXgsTWF6lvBo9zZOVU3PkSu8DKkjxIFAwrfNtVPl+lYdnpeqQ6H4XuT/bmnDQri9tr77Fp/mTxtK3yyJHJE4lTsWjVuH4OA1eyUU3rby/zv+rIW9/62seYWWi3Utxb6iItXvFuvENvObjUoEjmkSOEp5rQpDH5QBGPmGTtBOMgVZ8ZQfYfEF7qWizeJ9K1qSz2RvpunG9tL9gPkEibHRWUjbljEcMfmxyPRqKSVtF/WiX6D63/AK3b/Ur6e12+mWrakkcd40KGdIjlVkwNwHtnNcn4+F4LzRmifUrSxDzLc32k2Au7qAmPCBR5cjIrfNl1XIIUZGc12lFOWrCOiseL6Hpeo2moXGrR6PrYsLHxKt95V6Jprme2ax8kTDeS8hBbcU5cAFdu4ba63XdRm1qXRdZ0/SdVex0bVBPcLNZSRSyxmCSMvHCwEjbDIDjbk4O0N0ru6Kd3p5W/C3+X9aB/wfxv/mcHr+oS61Lout6fo+qyWWi6mJ50lsnilljaCSMvHC+JG2GQEjaCcHaG6Vl6zY3fiGTxHrVlpl6tpd29haQRT2rxS3JiuGd3MLKHCgPgFgCcMcYwT6hRSDdW/re5x2qzSaB8Qv7bu7K+utPu9MWzWSytJLlreVJGfBSNWcBw/wB7GMpgkZFc/wCE9P1LyfDc1xpF5Yldb1SeWGWEgwJIZyhbqADuGDnByME5Feo0UfZ5f63uEve/D8FY8zsdJv4/hz4BtTp9yk9rf2b3EXksGhADbi4xlQM8k1k6+0+lfDO88K3ml3kt/wD2lnzzbP8AZ3SS9DrN5xGwk7x8ud+7jHevYq56LwL4fh1EXkdrOCtwbpbY3s5tllJ3bxbl/KDbjuzt4b5uvNC3+d/y/wAgmlJ839df8/62fQ1xfiS1uT8R9FuVguTby6Xe2X2iGB5FilkaEpvKg7AQjHc2Bx1rtKKVv69Vb9R3t/XzPLbKG9v/AAf4Y8Iro2o2ep6XcWX2yR7V0gt1tnUu6TkbHDhMKEZm/ecgYbHqVFFW5N3v1d/np/kSklt6Hn3iK1ul8ZeIitldyJqPhsW9tJDbPIjyIZyyFlBCnDrgMRnPGam1DSr2a68Ex29tNGLeCaOV1jYC3JtCo3Y+7zxz3ru6Ky5VyuPf/Nv9Sm25KX9bJfoePeHdC1H+y/Dnh6/ufFEl1pc9ubizks4ILODyGB8xbkW37xCVGFWQuwbDY+Yj2GiitHJvf1/r7ibanH6kzeHviBLrt1aX1xYX2nR2hksrSS5aGSOR2AaOMM+GEnDBSAVOSMjOJqenXus6Z4o1ePTbpY9UmsorW3lt2WaSKF1y7RkblBLPwwBwuSBmvS6Km2lv63uOWrv/AFtY4TxXp97ceK7+W3tJ5Yn8MXUCukTMrSFwQgIH3j2HWodJuZfCes3Vzq+nalJb6hYWf2eWzsJroq0UZV4nWNWKEE5GQAdx5yDj0GilGPKrf1vJ/wDt34A7N3f9aJfocJBqc2g+LdU1PU9E1YQ6zbW8tv8AZ7Nrp43jQq0Egh3hGBIIJ+Q5PzcGsvw7p994JuNHvta029eCTSntZEsrdrtrGUzNKI9sSs23a23coKgxjpkV6fRTtrdf1uv1/rW50t/Xf9Dxiz0jWRZ6Vrclvreiw22sapJPDZWaTXUC3EpMcgiaOTeMDBKKxw+Rxk13XgSwkhbV9RlbVJRqF0rpcapHHDNOEjVN5hSKPy+mAGG4hQTjIFdbRTWisOTu7/1/Wpi+MtLutb8D61penMFuryxmghJbaNzIQAT261i3Ov8A9s+Fb7S7PRNZiujpkyyxzadJEkLiMjYHcBZCTwPKLg9c45rtKKmUeaLi+o07NPt/wP8AI4i50+8XUvAjQWUpWzilEuIyFhP2UqA3Hy88c1wyWmoy2/hkz2Xie51O01Oz+22YsntbDTUWQ7/KjREilUMeGHmEKN24AV7hRV3vPn80/udzNRtDk8rfhY87Njqtt8N/E0dpp0jXkuq3sqRPaiRmja5J8xI3GJDsyygghiF65rltQ0G/17xBdxaMvia9+2+H9QtDqmtxTQK1xIYysYjZEWEYGMrGqt/tFTj22ipSt91vwsaOV5OXnf8AG5yMevf21oc+k2ei6vBdNYSJKtzYPBHA+zGzzHwr5bgGMuO+cc1x9vaX8P8Awi+smbxFplrDog0yZ9P0nzbi3mUqSHhlgkcI2zG9ExlVycEV69RT+05f11X/ALcyLK1u3/A/VI8y0rQ7uG48LXItNTdZdfur6Z76NPNVXtpwJJFjjRYtxKnaQCC+D8xIr02iim3ol2Drf+t2/wBTifGlpZrrlhqLS+JNMvoYXSLUtEtGuldT1hliWOUMMncN0eARwwPFc7LbeJBf+H/EPiG61mxkfSns7ifR9NjnmjkMgdTJAYpigdVGdgIVlwSBivWKKlaf16/5jeu/9bf5HlkelXWnaZ4e1JrPV5Yh4jk1C4M8AluRHJFKglaGCJdm4spKhMru+bBzj06C4S48zy1kHluY28yJkyR6bgNw56jI96lop7af1sl+gPV3/rdv9QrlvDdpcweOPGE89vLHDcXVs0MjoQsoFsikqTwcEEcdxXU0UdR3PL5NI1D/AIVW9oun3P2k+I2n8kQNvMf9qF9+3Gduz5s9NvPSnaho0Uk/iKbWLLXYF/4SFLmzv9Jhdp7Y/Y4UEyKoLOpO5DtRxycjAJHp1FO9m33/AOB/kDd1/Xn/AJnMeBrrWLqxvzq813dW6XbLYXV/ZC0uJodqnMkW1cYYsoOxchQcc5OxrsbzeHdRjiRnke1lVUUZLEocADuav0VE4qcXHysEXyu55bLpespoeniy0l57qPwbJbCG4t9yecfKxEyvhS3B+RsZwc96oQ6fc6j400SaxPiq9EkF5Fcanq1tNbx2zvb7UVYNkaRjg/OqAE4G5ia9hpHRZEZJFDKwwysMgj0qp+/e/W/4tv8AUiMeW3lb8El+h5NLdP8A2Z4B8PS6PeW97pupWkVy01s0cMLRROD5chULLuCnHlk8cnHSvWq5/S/BGg6NeQXNjbXG61BW2jnvp54rYEY/dRyOyR8ZX5QMAkDgkV0FNu92927/AJf5AopNW6K33X/zIl/4+5P9xf5tUtRL/wAfcn+4v82qWkUFFFFABRRRQAUUUUAFRN/x9x/7jfzWpaib/j7j/wBxv5rQBLXD+LPiDceFVvLy40yzi0yyfy2m1DUfsk12wUOwtozGRLhTgZdcsCO2a7ivMtd+H+t3beJ49MtNANxrqzKmt3Rf7XDG8YXySojOVG3aCJAACDtJGGlt9OxUbdSh4v1rxK3ijX7nTAi22leHRfWWNWmgCFxLmVoljKSN8vCPlRsUgjccbnh/W9XstO07Q9L0uPUNX+wrfXn23W55I4UckJ+/kjeRmcqSE2gLhucAZmvvBeqXn9tsZbNX1Lw3HpSDe2FmAlyT8v3P3g568Hiq2rfDvz9Vs9V/sPQPEE66dFY3FrrIwieXkrJFJ5UhHLMCpXkbTkYwaVldf1vL/gCeqT6/8CP/AAf631IvHb6nHp9voGl+fql6s7NaXtx9nW2EDiOXzHVXPDkKNqtk88DmqWo674p/4TTwnatplvZQ3TXH2yBtQzvKLglSsZ3KFO5c7SxIDKhGafZ+DdU8PjSL7Qhpct7ZW89vPZBPsNrIk0iyHZ5SNs2MoAyrFhnJyd1W7rR/Ed5q3h7WLhdLa7sJ5/tFtHNIkaQyrt+VyhLsoA6qgb/YpvfT+v6RL8v6/r+kL4Z8Y3/ieSK7stItn0eWWSH7RFqIe4t2XPE0JQBDxgqrswLLkdSGfEHVNc0xdBGgR27fadWhhm866aHcCchMiN/lbHJ7Y6HJqivg3UrvxhYave6V4fsLq0ujNNrGmvItzertK7Hj8sYVgRkNJJjGBk4I3vGGjX+r2WnvpIt3utP1CG9SK5laNJQhOVLqrFeCedp6fjSX2X5r81cJX95Ls7fc7HL/APCX61or+LL9tM+36XpWpM1xNPflHihEMTMIE2MH2gsxBKDJwMknG7d+LtQm1O/t/Deix6pDpaob2WS88htzIJPLiXYwdwhBwxQZZRu64r6l4Q1G98JeMdMSW1W4155mtyXbYm+FEG87cjlT0B4rK1P4bE65qF9baB4Z1ptTWNnm1qLdJZyrGseU/dP5iYVW2EpyD83zfKfZS62X32Q1u/V/dc7NdWg1bwh/a2myP5F1ZG4gfBVgGTcD7GuQ8FeLNag8MeE/+Ek0pktdStoLdNQa9M07TmIENNGUG0OVbDB2OSuQMnHY22k/Y/CsekQOjGKzFsriJYlJCbc7EAVR7KAB2FctpPhXxK+n+HNJ8QTaatloRhla4s5ZGkvHij2opRkAjAJySGbdtHC5wK0UpJbXX3a3/Al35V3s/v0t+JZh8eXUttHrH9jL/wAI3Lci3jv1u905Bfy1mMOzAiL9/MLbSG29hl/8JfrWiSeLb86Z9v0rStSZriae+MbxQiKJmECbGD7QWYgsgycDJJxX0z4VppklvYQ6B4X+y210JU1p7VJL5og+8IY2hK7/AODzPM6fMFB4G7qfhC/vfCfjLTIprYTa7JM1szM21A8KIN/y5HKnoDxUx3u+36x/4JUld28/0f8AwBPFPjq58Px3V1Hp1kLC0Vd11quo/YRcOybxHBmNhI20dyozxng4vab40tb/AFJ4ZYDa2zaVDqsFxK4/eQvnfkfwlMLnk/eFc9qHgXWTrGsXNha6HPPqcAih1e8ZjdacDCImSNPLIdOCwG9OXbIPdmu/DrV9W8J+GLCG7s7e+sbVdO1ORWfZLaOirOkZxnJKKVyB+FFnr/W9/wAnb/g7i7fj+H56mhD4+t47b+2NS066tVOix6h5S3DOdjyEJGIzhd5+Xnjk4JwM1ftPFWqQarBp/ibRINNlvbZ57Nra+NyrtGMvE5MabXAIIxuBAbnjmPxB4Ll1y+vvLuY7S3uNLSzhdAS0UqSmRW28AqPl4yCcY460kWieIdY1iy1DxMumWp063lSCGwneYTTSKFMjM6IUAGQEAb73Lcczryu3n+bt+n9XGvi18vyV/wBf6saHg7X7/wAT+H7bWLzS4tOtr2COe1QXRlkZGXPzjYoXtjBbIPODxWbeeN79P7UvdM0Jb3R9HlaK8uTebJnaP/W+TEEIcJ0+Z0JIIA6E7XhPSZ9B8G6NpN40b3FjYw28rRElSyIFJBIBxkdwK5258L+Ire31rRtIl046VrM80xu55XE9l52fNCxBCsvJYqS6Y3YIOObqaTahtrb9P1FD4VzeV/Tr+hBo99qWtfF/UWlcPpNlp9rNZ+RqcypiXzcOYVUJIWA/jJ27VKk542tY1W90PWNRmhie+V9Ka6trMyFQ0sBO9QcHBYSR9B/CTTtE8My6P4t1K/RovsNxp9naW6AnevkebncMYxh1xg9j0rS1XTZb28025t2VXs7ku4c8PGyMjL0/2gR7qKJ9o/1/W4433l5fpt+RkJ47s5fE2l6XHATBqGmm/wDthfCx5G5ExjksqyN1GAnTmtfw9qza74estUa2NqLyISpEW3EIeVOcDquDjHGcV5/N8LtZbwZLpcGqW8N9HqANlcIzDyLIIYQmcZLiF39tx645r0K0uPK1STSYYEWC1tYnR1kJIyWUKVxgcJwcnPPA4yaO7/rvr+XyYrW/X8v+D8zK1WK7uNa1DS0vbi3TVdKb7NJFIVa3lQlWZDngkSxkY/uE1xut67reu+CfD39kXdzaasljJqt0lvKVMjWyAGFiM5VpWAI7gGvRdU06W7vdMurZ1SSyufMbccB42RkZen+0CPdRWF4V8H3Wg+JtdvbqeGSyu5MafChYmGNneWXdkYyZJG6Z4C1OvT+rbfn9y7lO3X+r7/l+Itnqcuu/EK0ksrqQaZaaMLl40c7JpLhx5ZYDglUiYjOfv8VteJFuT4dvHsXkW5hTz4vLYqWZCHC8dm24I7gkGuZ8L6BfeAfDerS3Ztr2bzgtokcjKPsyAJBEWKk7sexG5uvNd1Tlt7v9X1/AS0ev9W0/Hc8/uNe1yT4nGPw5arqVtPoMFysdzfNBbR5lk+fKo/zsNoGF5AOSMDPW+Htbi8Q6JFqEUMluzM8UsEuN0MqOUdDjg4ZSMjg9a5Oy8MeKdA14X+jpo91bx6eunpa3FzLCfLSaVom3rG2NqOgK7Tk55GAW2tBsZvCthpukySJfT3t1cTXU+SmHcvMzKuD8u47QCRgEck01a33/AJv9Bz+L7vyV/wAS5r1xJY3WlXqzOkC3iwXCBiFdZQY1yOnEhj/X1rz9r3Tbjxh4uj1+58WytbX6JbLpUmqGKKP7NE20C2/dqdxY4PPOTxXpWuae2q6HeWUTBJZYiInbojjlW/BgD+FcvY6X4v0TXNeurDTtEvodVu0ulafVJYGjIgjjKlRbuDzGTnd0NSuvp/l/kw7f13NjwJqE2reAtGv7m8F7LcWqO1xxlyR/FgABuxGByDW/WH4a0S48N6HZ6bGYbn97LNdzbimHkdpGKLhsjexABYYHc4wdyrla7sTHawUUUVIwooooAKKKKACiiigAooooAKKKKACiiigAooooAKKKKACiiigAooooAKKKKACiiigAooooAKKKKACiiigCJf8Aj7k/3F/m1S1Ev/H3J/uL/NqloAKKKKACiiigAooooAKib/j7j/3G/mtS1E3/AB9x/wC4381oAlooooAKKKKACiiigAooooAKKKKACiiigAooooAKKKKACiiigAooooAKKKKACiiigAooooAKKKKACiiigAooooAKKKKACiiigAooooAKKKKACiiigAooooAKKKKACiiigAooooAKKKKACiiigAooooAKKKKACiiigAooooAKKKKACiiigCJf+PuT/cX+bVLUS/8AH3J/uL/NqloAi81/+feT81/xo81/+feT81/xqWigCLzX/wCfeT81/wAaPNf/AJ95PzX/ABqWigCLzX/595PzX/GjzX/595PzX/GpaKAIvNf/AJ95PzX/ABqNpX+1IfIk+43GV9V96s1E3/H3H/uN/NaADzX/AOfeT81/xo81/wDn3k/Nf8alooAi81/+feT81/xo81/+feT81/xqWigCLzX/AOfeT81/xo81/wDn3k/Nf8alooAi81/+feT81/xo81/+feT81/xqWigCLzX/AOfeT81/xo81/wDn3k/Nf8alooAi81/+feT81/xo81/+feT81/xqWigCLzX/AOfeT81/xo81/wDn3k/Nf8alooAi81/+feT81/xo81/+feT81/xqWigCLzX/AOfeT81/xo81/wDn3k/Nf8alooAi81/+feT81/xo81/+feT81/xqWigCLzX/AOfeT81/xo81/wDn3k/Nf8alooAi81/+feT81/xo81/+feT81/xqWigCLzX/AOfeT81/xo81/wDn3k/Nf8alooAi81/+feT81/xo81/+feT81/xqWigCLzX/AOfeT81/xo81/wDn3k/Nf8alooAi81/+feT81/xo81/+feT81/xqWigCLzX/AOfeT81/xo81/wDn3k/Nf8alooAi81/+feT81/xo81/+feT81/xqWigCLzX/AOfeT81/xo81/wDn3k/Nf8alooAi81/+feT81/xo81/+feT81/xqWigCLzX/AOfeT81/xo81/wDn3k/Nf8alooAi81/+feT81/xo81/+feT81/xqWigCLzX/AOfeT81/xo81/wDn3k/Nf8alooAi81/+feT81/xo81/+feT81/xqWigCLzX/AOfeT81/xo81/wDn3k/Nf8alooAi81/+feT81/xo81/+feT81/xqWigCLzX/AOfeT81/xo81/wDn3k/Nf8alooAi81/+feT81/xo81/+feT81/xqWigCLzX/AOfeT81/xo81/wDn3k/Nf8alooAi81/+feT81/xo81/+feT81/xqWigCLzX/AOfeT81/xo81/wDn3k/Nf8alooAi81/+feT81/xo81/+feT81/xqWigCLzX/AOfeT81/xo81/wDn3k/Nf8alooAgiYtdSFkZPkXhserelT1Ev/H3J/uL/NqloAzvEGrJoPhzUNWlXellbvMVzjdtUnH41zPhrWLy51q0ifxG2om4heSeC5sTbxtwCHs3Ea+agJAPzyfKVO716TxJo48QeF9S0kyeV9ttnhD4ztJGAfwNYYtdZ1zXtCkvtIbS4tGleeaZ543WdzE0QWIIxOz5ycuEOAo25Jw42v8A15g9v68jr6KKKQBRRRQAVE3/AB9x/wC4381qWom/4+4/9xv5rQBLRRXED4qaVJ46uvCltpGtXN7Z3CQ3M8FoHggDLuEjvu+VPcgHg8UdbA9Fc7eiuD0n4v8Ah/WNet9Phs9Xgtb2UwWOrXFiUsr2QZ+SKXPJOGxkDO0+2dX4hL4lXwfc3Xgm7EGq2ZFwkTQrILpV5aIhgcbh0IwcgcjNJuy5nsNauyOnory34ceOdd+Jnia41u0SbS/CllAtuLWWOMvdXZALktgkKmcDBGflz3A9SqmmtyU7hRRRSGFFFFABRRRQAUUUUAFFFFABRRRQAUUUUAFFFFABRRRQAUUUUAFFFFABRRRQAUUUUAFFFFABRRRQAUUUUAFFFFABRRRQAUUUUAFFFFABRRRQAUUUUAFFFFABRRRQAUUUUAFFFFABRRRQAUUUUAFFFFABRRRQBEv/AB9yf7i/zapaiX/j7k/3F/m1S0AFFFFABRRRQAUUUUAFRN/x9x/7jfzWpaib/j7j/wBxv5rQBLXn/hrwnqVv4x+IE+p25t7HXJYhaTCRGMiCEoxwCSME9wK9AopNJ3T6q35f5B28nc+d/BPwa1HR/Euk2+peBtNjOmXfnTeJG1aZ/tKo25DHbpINj/d5YbeDkdj6R4vuPHWueD7zTND0E6ZqF7fNZC6N/E4gtM4N1wQclc4QZYdeoGfQKKb1Vn/W3+VgWjujy3wZ4E1T4Z+OPsPhy3lvfCOp2ytcF513WV0i434Zssrgc7QeT2CjPqVFFNtvcSSWwUUUUhhRRRQAUUUUAFFFFABRRRQAUUUUAFFFFABRRRQAUUUUAFFFFABRRRQAUUUUAFFFFABRRRQAUUUUAFFFFABRRRQAUUUUAFFFFABRRRQAUUUUAFFFFABRRRQAUUUUAFFFFABRRRQAUUUUAFFFFABRRRQAUUUUARL/AMfcn+4v82qWol/4+5P9xf5tUtABRRRQAUUUUAFFFFABUTf8fcf+4381qWom/wCPuP8A3G/mtAEtFFeVvqXhp/HfimDxh4sl017e8hW1t38ST2KrGbeMnbGkyDG4tzjrmlfWw7aXPVKK878OeK9Ti0PTtOtbaXVtQvri7/s46hO0G+xikwk8smxmxsaMA7WZ9yk9S1aM3jy5j05RHojPqy6oulT2JucJHMyb1YSbfmjIKtu2g7SflyNtP+v0/N29RbX/AK2/4Y7OiuGv/G+vW11q9naeGbW5utGsoru7/wCJmyRsHRmKRt5JLMNh6qoPcjpVzSvGl3fatpUF9o32K01q2e40+X7UJJcKquVljCgISrZG13HHOKV1r5f1+gm7f1/XdHW0V5jpHivWL3xL4SNnaiLRrzQ7i8kgl1CSaX5Wi5JaMl2XdgZb5tzE4wM9H4R8Xah4qt7XUYtJtBo97Gzw3VtqQnkiI6JNGUUI3YhWfawIPrVW0v8A1u1+g5e67M6uisDxNompax5X9marPp+y2uYm8qZk3PJHtRuO6n5gex5FUV8Q6uLu50zQNJi1c6OkcN9Pc3/kNJKY1fZENjb32kE7ygywGepEp6/1/X/Dj/r+v66HW0VhJ4lLSa6jWTIdIiSQq0gzJui8zBwCFx04J9a5q08W6veeONKuJYba20Ofw8dRlVrxsxglCWK+Xhiv3R8w4JPB+UnMr2/rZv8ARi6X/rdL9UehUVx+m+Nb+4OlXeqaD9h0rWpBHYzrdeZMhcFo/Pi2AR7gP4WfDEA4zmo7PUdb8b6ck9rb/wBi2cGoqVmW+bzpxBc7ZFKBAAjqjD7xznBAHNVbWz/4YTaO0orN8P6fd6Xo0dpqF5JezrJIxnkcuzBpGZRk88KQPwrmofH98+hy6q+gqsMl21hp8K3mZru4ExiAK7AqISpbfuJCgnbxyvIDt6K5GTxxJpK6jD4o0xbK8srZLpI7O4+0R3SO+xVjdljO/fhSrKMFl5IPESeM9ZtPE0Oja94dhtJJ7Ce+jnttQM8ZEWzKcxId3z88YAxgtk4TaSv/AF/WhSTen9f1qdnRXMjxhm18KTfYf+RidUx53/Hvm3eb+7833Nvbrn2rI0fxNqdn4RtpI7YX87z30kt3qN20FtbxRTuMyT7H28YCjB4B6BTVSTjuSmpWt1O9orgrb4mNqHh6wvdK0uC+u7zVm0nyoL9WgEgV28xZgp3R4QHIXOCflJG09Zfauui+Gp9W11Y7ZbS2M90sDmVU2rlgrFVLeg4GfQUnor/13GtWkuv+dvzRo0Vytl4q1YX9jaa7oMWnPqsbmwKX3nZkVC/lTfu18t9oJ+XzB8rc8DdX0f4gHWtTg0y00z/iYQLI2sQtccaaUJUKTt+csw+UYXK5bjgEem4HZUVw2jfEDUb/AE3RtY1Pw6un6Rq7xQxTC+82aKSThC8ewAIzcBgxPzLlRk7ZIPH9w2iahrV3owh062upLK3CXe+e7nW4MCqqbAoDNgAl8g9RjmnZh1sdrRXG3Xjq50KK9XxXowtLi30+XUYk0+5N0k8UeA6hmSMhwWXIIxhgQx5xJF4yv7Xwzfa9rWkW39n29ib2G40jURexzqASVBKRndjkEArj+IUul/6/rQPL+v61Ouorjn8T6lL4P1XVNU0i0+xR6ZJeQXGk6wZo7hQhJQShI3RsDhlBHOQcjFSP4s1O4vZrHwzokWotYW8Ut411fmAKzpuWJDscu+3k7to5X5uTg2dv66/5Buk/66f5nW0Vxo8d3Gp3WlW/hfSFvm1PT3vkku7o2yQhHRWSQhHIbL44B5GOmSNvwvrw8SaBFqBtzay+ZJBPAX3+VLG7RuobA3AMpwcDI5wKdna/9dhX/r8TXorkdI8ZX+u6tcJpWkWs+nWl+9jcuNRAu4GQlS7wFMBdwyP3m4qQwXPy0j+O9mi3FwdO/wCJjDq40kWInzulMoVDu28AxssnTgH2zSWu39bf5ob03/rf/JnX0Vw134/1K2g1LUB4ejOk6VftZ3dw99tlKq6qZI4/LIYANkgsp4IGe7LHxHr0HjLxh9tsPtlhp0UBtbeynaWZiVJVVjMajL5JJLfKQBkjkJNNX+YPR2O8oridN8eXl34nuvDdzY6T/bEdlJcxwWOsfaFVkKgxzHylaJiXXHytkbvTBseHfHieKNWgstL09iYbcvqzSS4/s6bO0W5AB3yblfIyAFUN/EoNb/16/wCX9XQbHXUUV5Vda94kt9KtDpbpctN4vuLWQ3V68Z8sXL7IgRG5CYXBxjAAABBICWslHv8A5pfqNq0HLt/k3+h6rRWP4p1BdL8Nz3csMkyo8QKRXDQsd0ir99eR1z79O9Y2teNtQs01m50XQl1Sy0PK3shvPKkZwgdliTYwfarDJLLzkDJFS5Jbglc7GiuJTxxrGoXrWmheHYLqWPSrbUna51EwIBMJP3YIiYlgY+OADzkrgAzQ+OptXh0ZPC+lLe3mqWI1Ax3l19njtoeBl3VHJbcQoCqc4JyAObaafK9/+H/yZKaautv+G/zR2FFcV/wn11Pb6bDY6H5mq3l9Np89pNdeWlrPEjO26QI2UwuQwXJDKcc4qe48X6q15qEWj6DFqEejhV1FxfeW3mlBI0UA8s+ayqR94xglgM9cLb+vx9PMfWx11FcUPiBLqmq/Y/CmnWmpsljDfmO41AW000MgyphQowfjAJZkUMQM9x0muanNpPhq/wBUt7Jrqa0tnuBal9pkKqW25AbB4xwDQ9Nwj7zSXU0aK5f/AITqyPiu00gRH7PcaYdQ+2s+EXuqYxySgduvAXpzWHZ+Kdf1TxLY3Gk6TvN/oMd4LK7vmhhhzKcFmCMd5UjonYgkYpPR2/rr/k/zFdNXX9bf5o9Eorho/Gb6tFo1zp2nMt7fadeypFNfNHHDLCY1eNwqsr/MSA+042nA+Y1T8J+Mdbm8GeFbZrGDUvEGq2H2r95elI/JVV3TSyeWSpJdRtVG5bGcAkNa3/rv/kPon3PRaK4i6+I32axt430+GDVpdTOlSW95eCK3huAnmfNOEb5WXBQhMsXUbVJOLWp+LdZ0my0tbnw2G1PUb82K20d8rRg7HcSiTbkx/JzlVYDJ2nABP6/r7w/r7r/5M62iuUi8X6gI9Rs7nQW/tyxeFfsVrcGaKRZjiOUS7FIjyG3MUBXY3B4zn2HxOtW/t6PVYrLz9EhSeYaRqC3qOGLKI9xWPbLuUgowHVeeeADu6K5aTxTq2j6Ze6j4s0GKytLa2NwslhffaizA48oqyRkSEkBdu5Sc5YcZk0zxLqn9s2mmeJdFi0ye/heW1a2vDcoSgBeNyUTa4DZAAYEBvm45dgOlornPFt/Kr6To1pLJDPrF35DSxMVeOFUaSUqw5UlU2hhyCwI5qlfeNL+OfVpdJ0IahpeiMY724N3smd1UPIsEWwiQqpH3nTLZA6ZpXX9f15jt0OworjNY+I1vot0YrmyMovbVJ9E8mXc2pu2AYgCo2OGdO5+Vt3ZgLU3iXW5tQfTdG0Ozur+zto5tQWfUjFFC8gJWJHETF2+UnJVBjae+A7MR1NFcrceKtVuNWfTdB0Bbm6tbWO4vkvb4W4tzJkpCCiyB5MKxIyFHy/NzVSPx9d6rfaZa+GdD+1vqGntfB725+zLbhXCNHIVRyGBOOA3IPbml1t/XX/IOl/6/rU7WivOdU8Ya1f3/AIROj2kdsLnV5rPUba4uijLJHFLujyI23KCpYMMZwvADEj0an0uHWxEv/H3J/uL/ADapaiX/AI+5P9xf5tUtIAooooAKKKKACiiigAqJv+PuP/cb+a1LUTf8fcf+4381oAlrC0LQ7nTPEHiK+uHiaLVLyOeEISWVVgjjIbI4OUPTPGK3aihu7e5kmjt54pXt38uZUcMY3wG2sB0OGBwexB70dQvocp408Fp4h1TTNVTTdK1afT1li+waumYJUk2kkNsfY4KKQ21uNwxzkV9O8D3FlY2Kw22kaeyawuoy2mnwLDDCgQp5aFUUyN0O9gCST90YUdxUVxcwWcBmu5o4IlIBklcKoycDk+pIFC0/rzv+YPX+vkc8/hu8bWvFF2JIPL1eziggG45VkR1JbjgZcdM96ii8L3sd54RlMtvt0S1khuAGbLs0KoNnHIyO+OK6e5uYLO1lubuaOCCFC8ksrhVRQMkkngADvT1ZXQOjBlYZBByCKnlWvn/wf82JpOz/AK6f5I4PRvBms6LN4TmiksZpNJ0yXTrsNK4A3mM+YnyfPgx/dOzOeopNO8F6h/wm1jrt3pGg6TcWpma6vtHlkEupF1wRLGY1AUn5/meQgqAD1au+oq02v6/ruU222+4VyTaP4h0XXdXu/Dcem3kGsSrcSLf3MkLWsojWMkBI38xSEU7coQQeTn5etopC6HE6j4d8TjUNaOlzaXLDrlrHFNNO0kbWsqxmNnWMK3mKRghS64x1NRweCtQin0dJTazW0egHRr/E7I6ZC/PF8hD8qRg7cdeeldy7rGjPIwVVGWZjgAetN82PyfO8xfK27t+flx1zn0qeVa3/AK0a/JsOq/rs/wBEedeHPhzJpOoaWsvh/wAKWiaY246pZWim6vNoKplWiHkk8MzCRzkYHXI7DwrpE+h6AljdvG8qzzyExElcPM7jqB2YZ96Lbxf4avZbWOz8Q6VcSXhYWyRXsbGcjqEAb5sd8VsVbbYrK+gVwt74Al1D4fx6Ld/YZ7q2v3voY7hDLbSt57yLHIpGSpV9p44JyM4we6oqRnmV34KtLHw5rt5qmmaD4Yga3j2Loln5whMTiQTSOsUbuNwXKYCgISSc/LFpF/eeNfiJbXTXmj3NnZ6RdQSPol4byKJ5WiALSlVAZgrER44CZJOePUqie6t47qK2kniW4mVmjiZwHcLjcQOpA3DPpketPR77f8B/5jTa2/rb/I4LTvCfinzvCVvqkmkrZ+GpRmSCaR5LxRbvCH2lFEZ+YEplwdx+YbRuhl8AajGNImksNE1w2D3hNjqUrpCpmn81JUbyn+dQNvKfxHDDv6RRTcm3dk8qtb5Hn+keCdet2t5NVu7CaWPxJJq7vDvUGJ4XTaAR94M+OuCBnOeK63xJocPiXwzqOi3UjRRX9u8DSIMlNwxkZ9K06Kmy5eXp/wABL9Cru9/63b/Nnn/h/wAD3GmarbX58NeEtLnsYXCS6XbqHvJSu0EsYQ0C9SQpc/NjOAdztF8Ga1oGqJrQ1CK6vdTRz4hjkmfy5HxlHg448v7gGFDIeeRXfUUO7QloeWeBNI17xB8P/Cdrqn9nppFqtteieGV/Pn8oh4ozHtCphguW3tu2fdG75duXwBJf/Du78O6jLbGWTUJ72MlDLCSbtriNXUgbl5UMv1APeu4oq3JtW87/ADDrf+uv+bOF0HwbeaZfXOpWWh+FvDt39ja3gi021EySOSD5kkgjifb8oARcDkkknG2LQ/BepaZr15rGn6VoHhqZ7A2yW2mySTwXMhbcskyCOEfLyBgbiHb5uAK7+ilf+v69Q8jzNPh1eyf25LbaRofhttQ0abTxa6Tcu8NzI+dsko8mMDZkgEKzYdueAK2k0HxHoeq3l14dGm3SalDCLiO9nki+zzRxiPzEKo3mKVC5Q7OV+9zx1sl3bw3MNvLcRJPPu8mJnAaTaMnaOpwOTjpRLd28NxDBNcRRzXBIhjdwGkIGSFHU4HPFL+vz/wAxuTf9en+SOZ0DwdLoGp6S8Vwk9vYaVJZyOw2vLK8iOX2gYAJVj14yOtXfB2h3Ph7RJ7O9eJ5JL+7uQYiSNss7yKOQOcMM+/rW9RTvpb+t7k2X9eljgNY8G6nrXiS3vLjS/D9vPb30c6a/avJHfCJGz5ezy+65jOZSpBLbf4RBFpsGs/GyS+066judN0+ET3iREMseoKHhUEg43iJjuU8rtT1FejUjusaM8jBVUZZmOAB60loU9b/1/X+RxuoeD9Qu/BXiHSI5rYXGqXk08LMzbFV3DAMduQcDsDVbXvBer6ld+J47WSy+ya3bW+1pZXDCSLgxOgXBjccFg2QGPymu4trmC8tYrmzmjnt5kEkUsThldSMhgRwQR3FSUuW2nbT7haX5vmed2HhPxHZeJrTVrLTPDelW1jpt1aW2lWUziJZJGRw5cQrwzJggJxjOWLYF3wt4M1XwpqqXVvqK36alGZNb+0yvmS7xkTxDBAB+4U4AUJjlcHt6igu7e6aUW1xFMYZDFKI3DeW4wSrY6HkcH1qr/wBf15v8uyD+v6+78wtmna1ja8jjinKgyJFIZFVu4DFVJHvgfSuKuPB2rpoipZtZS3lv4ik1eKOWZ445EaZ3CM4Rip2v2VhkY967qoobmC4aVbeeOVoX8uUI4by2wDtOOhwQcH1FL7V/63T/ADSB6xcXs/8AJr8mzM8UaTca54bmsLZoo55HiYGRjtG2RWPIGeintXnXizWE0P8A4S7RtH1XShPqheQ2t3K6XqTyQqu23gKf6SHwu0hgAzEfNjA9dqK5urezh868nigi3Ku+Vwq5YhVGT3JIA9SRUuKe/XQcXZp9jmfDnhi70rVLi7meLyptGsbFE3EurwiXcW4xj94uMHseBWXo3g/xB4ZsdAn0ptOvL6x0wabe2txcSRQyqDuDpIEYghs8FDkMemOe7uLiG0t5Li6mjghjUs8kjBVQDqSTwBUlaSblLne//D/5smKSjy/1pb/I4zTPBt/aX+l391c28tympXOo35QFV3SxMgSMY5CgquTgkLngnFZesfDfzfEWrX1poHhnVxq7rMbnWYA01jJsCEqPKfzUwoYIWTncM/Nkej0VFv8AL5DWn5/M4DxL4Iu9U0uLSU0Lw1qtrBZi2tLq+DW01idu0sgjjYdQrAIYsYwOxHa2Nm1rpNvZXE73bRQLE80v3pcLgsfc9atEgAknAHUmorW6t761jurKeK4t5lDxzQuHR1PQgjgim9b36itaz7HmT/C7WG8GR6Ump28V3DqA8uaNmAWxEZtxHnGd/kE+g398c13EOiyweMTqiGMWg01LNUBO4MshbpjGMEd614po5lLQyLIoYqSjAgEHBH1BBB9xT6Ot/wCtrf156jeun9b3OG0PwRqOnSaKbme1K2EGoxTGNmJJuJVdCuVGcBTnOOemayI/hpe/2L4bGpaVoGsXmg2bacbO/dpLa5hITEoZoSYpAUBxsYYLLnnI9QpjSxpIkbyKryZ2KTgtjrgd6S91WX9b/wCb+8e6scXb+ELzT/Ccmn22ieF51u7oz3ejtbCGzKEDaiusZyVKqd7xsWx0TjbzN54c1TwtF4di06PT7O5uvEz3Nvp0UrvZ2qtbS5hRioIVsMSQgCs5wpAwfXaKq7TuvL8Lf5BfS3r+Kf8Amee6t4H1bXYL/UNTi0uTUby4tGfTHlkks5ILdmKwPIUBbcXdi3l4BKjawGTBH8P9Zv7zVzfnStIs77S4LK0ttMLOLFoZGdMZRA65bPAT+7jjcfSaKX9fhb8hf1+NzjtS0TxH4u0G+0bxLFpGn2lxbGPdZzSXTSS5BVyHSMKgK8p827ONy45r+FvBcmm69DqNx4c8LaGbeBo/+JLbqz3LtgFi5hRo1AB+QFs7uW+XnuaKNncHqcv4yhNtd6H4gJIh0e8L3J4wsEkbRu59l3KxPYKa5zVPhoZNY1aWz0HwvqSatMbhdR1W3ElxZO4AfCGJhMoxuUF06kHjmvS6KVle/wDXT/If9f195weveA9S13UEnGorYDRoI/7A+zuQIrgD5pZUUKpBAEewZGwv0LcXRpnijTtYuNX0y20m5n1S3hF7aXF7LFHBNGu3dHIImLqQcYKqflBzzgdfRT/r+v67CVl/X9f16nneseALm616XWZtC8L+I7q9tY47pdWhMSwzRjAeImOY7GB5Q4Pyg7jnitHp2seH/HujafoCaZdSW3h+RZoJE+xQy/v0yU8tH8vBOQoUjHBOea9MZgqlmIAAySe1R2t1b31pFdWU8dxbzIHimicOjqeQQRwQfUUraprpf8U1+omrq39aNP8AQ4p/Beq29tolzazWl1qNlrE2qXaTSvFHI0ySq6owViAvmjbkchecZ47qoDf2itIGuoQYpVhkBkHySNjah9GO5cDqdw9anqulh9bsiX/j7k/3F/m1S1Ev/H3J/uL/ADapaQBRRRQAUUUUAFFFFABUTf8AH3H/ALjfzWpaib/j7j/3G/mtAEtedX3iDX5tR1CysdSW3ZfE8OnRyNAj+XbtaxyMoBHJyzEE55x1HFei1g/8IfYfb5rvzrnzJtUTVGG5cCVYliCj5fu7VBx1z37ULfXy/wDSk/yuD20/rR/rY5i51XxVp8PijStOu7nXLzTTaywTtDALnyZf9aFVVSN3VVdkyoBJAIPeOLxVPH4X1h7DxHf317ay2pMOq6YtreWgkdAQ6eWgZSCcHZ13fM3GOtufCttPfapeRX1/aXOpLAHltpgjQmLOxk49+Q25W6EEZBpjwLazQ339p6rqOpXV8IUkvLgxLIscT70RRHGqBdxYn5cnccnphK9nf+v6/ph0OU8YS654h8E+Nr+DWXsrSxju7OHTxbxmKZIkIkaRmXfuY7tpRlAwpw3OXXHiu8uNbutLg1TWNLh0q0t0T+zNEkvvPmeISZlYQyAIAVAUFGPzHPSuk1z4d2OtrqkH9q6rYWWrqft9lZyxrHO5XaXyyMykgLkKwVtvzA5ObV54NilvPtWm6vqWkTSQJb3LWLRf6SijC7xJGwDAZAZdrYPXgYSTS+777PX7ym0/x/G1vwRf8N6leap4XsL/AFW0ayvJoFeeB0aPy37/ACuAyjPODzjrXnNv4z1xtS0a+t77U7+2vdQhguj/AGfFFpapKzKFheREnkIwpDjep74zgeoWOm2mm6VBptlAsVpBEIY4gSQqAYA55PFcoPhjYmHTLaXXNZlstIuYrnTrRpoglqY2yqgrGGdQvyfvCx2k4Oeav7afS6+6+v4f13h/A11/4BqeOL3WNP8ADL3OgW91PKkqGcWUSSXKw5+doUf5WkA6Ag59CeK5K78by2PhS5XTfEF3qd4+pw2Alu9IZLyw80AkvbrGpkYLuZMRAHKghsEn0HVdOOqWXkJfXdhIrh47izkCujD2IKsP9llZT6Vi/wDCCWM1hfRajf6hf3l7JHK2ozOiXEbx/wCqMZjRVTYeRhcEk5zk5lf1+H/B7eo35f1v/XX0OJ8QapqmoeDPF+mfb9budPTRZLmLUdQ0c2cwcBg8Db4ER1YYwVQMAW5zgj0K2gktvAixTXUt262BzNMEDv8AJ32Kq+3AFVk8FWktnqkWr6hf6vNqlsbSe5u2jV1hwRsQRIiKMsxyFySeScDGimmy2nhh9OW6nv5VtmiSa4EYeTggZ2Kq+g4AqZr3JLuv8/8ANFRfvR9f8v8AJnn1p/yT/wCFH/X1Y/8ApHJXZeMtVvtPtNNs9JmS2u9Wv47FLl0D/Zwys7OFPBYKhwDkZIyCODymn6Tr7+HPh9pc/h68tpNGnge+lkntikQigeMn5ZSWyWBGAeOuDxXea7odr4g037JeNNEUkWaGeB9kkEqnKyIexB9QQehBBIreo05ya25m/loQtor+7b5+9/wDiNe1vxF4aGr6TDqz3862lveWV/d28W+MvOInjkEaojDoRhQcFueAa7i3sb220V7VtWuby7KOFvbiOIOGOcHaiKnHb5e3Oayf+EGs5bW9XUdQv9Qu77yhNfXDRiUpE+9EARFRVBzwFGdxzk8101ZWdrMa3ueZ2PjrVprnwrLcSRx2nkLHru5V4ncSRpzgAASwuDtx95e1QQPrfiHW/Bl3JqsljcahZajdefFBGZYbd3heONQylNwQxqSyt0bjJBHSXfwz0K90XXdMme7EGt3gvJysoDROGVgIzj5RuUt3OWbnmt19BtG1jTtRUyRyabby28EaEBNkmzORjPHlrjBHfrT31f8AWn6P8Bx916bf1+Z53N411i3tbXRbnUbv7S2s3VjNqtppv2i4MEA3grDHGy+YdyKTsKgbmwOMTz+KfEa+H7yK0urxXi1ewtrLVNS0l7Z54ppo1cPE8aBiuWUlFUEFcYPNdTN4F094pjBd3trdtqL6lDewOglt5XGGCZUqVI4KsrAg89sOXwRZNp7QXd7fXdxLfwX897M6ebNJC6sgO1AgUbFXaqqMZ7kkuHTm8r/hf9f6ZLvrbz/W36Fbw9d6pZ+ONV8P6jq0+rQQ2VveQXF1FEkqF2kRkPlIikfuwR8uRk8njGZ4o8UXI8cNoEWoatpdva2Md1JPpOktfTSvI7qqnEMqogEZPKgsSMEYOevi0S2i8TXOuK8pubi1jtXQkbAiM7AgYznLnPPpVXV/DCalqcep2WpX2j6gsXkPc2PlFpY85COsqOrAEkg7cjJwQCcz0V/P9bfoU7XdvL9L/qcdN4l8VXWjaJc3lvrOnWkslxFf3elaVvuVZH2wv9nmjd1idQzHEbMDtGQOty18Q3mvSeHdH0bxKZUvrS4urjWLe0jSZ1hdECiOQMqOWkG/KcbWAVc/LvHwfFb6fZ2ui6vqmj/ZA4EtrKjmbedzmRZUdHYt828ruyTggEgxDwHYQ2NmllfX9nf2ckssepxOhuGeVt0xbchRt55IKbQcbQuBitL/ANf1+XYX9f1/T7mX4k1LVdBttO0241+8mmm89/N03TBNqFwqY2KsYjeIfeAeRlRfu4C7sjEsvEvivULLT9OF/NYXjeI5dMmuLq3t2nNuIHk+YR5i8wcYK/LlQSCMqevm8ELI1pcxeINZh1O180f2kJYnlkWTBdGV42iCkohAVFAKjGOc89qXwy+ynS7fQ7rUnjfXzqt5cvdL5sDm3dTIpI5y+0lcMCWPG3ilHR6/1qv0vfb9R7rTz/J/rYj1rxhrHhSHW9Kmvn1O6tnsRZ38tqHlRbuRo/nihVRIyFGICKNwKjBOSW/8Jpq2iw6s0L6xrVpBpkl3Ddaxo0lkYrhWVREzeTErI24MMLuG18kgjHVjwRp0uk39nqVxeajNqDrJcX1xIqzl0x5bKY1VUKYBXYowRnqSStv4MtGW8/ty9vNekvLY2kkmoeWCID1jVYkRQCeScbjxk8DB/X4f56/1YX9fj/X9anOS6ZrFh8SPCDaprsmrLJHeFvOgijMcnkjPl+Wq/IeeG3EYHzHNX/G9pe33jHwhDp18bCQ3F0WuFRXdE8g52BgV3dgWBA64PSrtj4FgtNd07VrvW9W1K40yOSK0W7kiKxo6hSuEjXdwB8zEtxyTV7xB4Yg8QXWn3T319Y3OnO8ltNZyKrKzLtJIZWDDHYgg9waUtv67/wBf1qQk7M5W68Ra7o9rqazaiL1fDup25vLho41e4spEVn8wBQqugctlAuQg45IrovDOq3mta1r9y027S7e7FlZRhVwTGv72TcBk5divJwPL46mornQE0bwvqlvZ2N1r93qm4XbTSRCS5d02bpCSiBQoAwoGAOFNXvB3h4eFfB+m6N5vnSWsIE03P72U/NI/PPzMWPPrTj1v/T/4FvxKfS39f1f8Di/GPifWIdR1qPRdS1Rp9NT91a6RYRSQx4h8wtdTXCBAckfJHIG2kYBJ47aO+fU/A638qqj3WnCZlXoC0eSB+dZmqeALTVJtTU6tqtrY6vk39hbyxiKdigQtkoZEyAuQjqDjkcnO5ZaRDZeHYNHWWaWGG1W1EshBkZQu3JIAGce2PaoabpyXX/h7/oUnaafT/hrfqee+FDrnhjwl4IubjWze2l7Ha2M2nvDGscSvFhGiYKH3KVXO9mBBbAHGKlz411yK8tdRstQ1O+hfVYra4WPT449LSKS48kKksqJNI2DnfGzruHOFIFdjo/w/sdI/syNtT1O/s9IA/s+zvJUaO3YJs3gqgZjtLAb2YLu+UDAxUl+F9hPaW1jJrmtHTbK5S6srESxLHaukm9QpEe9lHKhXZgAfUAjZyvU5nte/y00/P79zOKahbyt89dfyH6bLrnie81K/s9fl0yGy1GWztrNLWGSKQQttZptwLkswb7jphdvfJPLaRr1+3jrVvDOnzy6SLzXZ5ZNUeAMJNscZ+zwlgUMpAJO4cKDgE/d7i48GRPf3U9hrWraXb3svnXdnZSxpHO/AZtxQyRlgACY3T14JJpt34E0y6sb23NxdxSXWojU0uY3Xzba4G3DRkqQOFxyDkFgcg1nFWkm+1n63j/k2XLW9u/4Wdvzsc9ceItVsfF08fiHV9S0ONb9I7RW0xJtMuoGbagM4Qskjd90iYYrhWHBim1iXSv7cWDUHsGu/EjQtJb2r3NyV+zIxEESxvuf5f4lKgbieldRe+DF1C5kF3ruryadLOJ5NLeWNoXIIbbuMZlCbhnYHC9gAvFJeeCLO5kknt7+/srxtQOoR3Vu6b4ZDGI2ChkZSpQYIZW6564wR0Wvb9Y/5P/IUtXp/Wkv81/mzj7PxR4vl0LxJBa2+rXF3p0trJF9st7UagLeVQ0m2OM+U0iqGKKQDnAZSRgs1nWDqngPV7W08Q3OpXltqGn4j1fTfstzaM1xCVEsYSLcp6ghFyMjceo62y8AWthJqtxBrWs/bdVaGS4u/tKiQSxZ2yABAvPAKFTGQANuMgv8A+EEtJ7e8Gp6pqOo3V5LbvJeXBiWQLBIJI4wI41QKGBJ+XJ3Hnpiv+B+n9dP0Kjo03/X9f13K+lyalaeN7vw5q2qza1Z3Glrdq13BCjxnzDG6fukUMpBHUZGDyc8W/AF1LceEY4J3aRrC5uLAO5JLrDM8akk9TtVcn1zV290pYNYn8RWkU1zqKWBtY7ZXVUkG7eBzjBJ4yTjFP8M6OdB8O21hI6yzrukuJFGBJM7F5GA7AuzGlH4dd/8Agu34Evd/10V/xPOdf8a63ayXupaXf6neCyvijw2lhENNjiWdYysk0yLJI5BOfJdtrA8YHN7WNW8S/ZvHGq2niGW1i8O3DGztEtYWSQJbRSskpZCxUliBtKsNx5PGNjUvhjYanp91pk2t6zHpVxO1wthFNEI4ZS/mblby95w+WCszLk9MAY15/B9hcaZ4hsZJrny/EDO10wZdyFoUhOz5ePlQHnPOfpSV1B97aeun/B/plK3Pd7X/AA1/4BjNea14n1nU4NN1eTRrfTbaHakVvHJ9omkj8z94ZFOYwCowhUn5vmHGLPwzjeT4R+Ho/NaKRtNjXzI8EodvUZBHHuCKtX3gq3urv7RZ6pqWmSS2y2t19ikjX7XEvCh9yMVIBYB02tz14GNPw/olt4b8O2GjWDyvbWMCwRNMQXKqMDJAAz+FPTX+u4leyv8A1seY+F31qx8I+FdO07X7qL+1tZu4Zp3ggZ441Fw5Cfu9oJaPOWDck9vlq7feK9Um1vW7S21jWrZtFdLW2S10B72O8lESuz3DxwMAGLgbIzGQAT3GOs0/wNY6dJYeXfX0sWnX819aQyNHtiMiSKyZCAlP3rEZJbOOccU7UfBcF7qN3dWmq6lpa6gFF/BYyRql3gbctuRmRtvyloyjEAc8AhdF6fj/AF6gkl/Xm/8AgHN6n4p1a/l06GKXWNOu59Ngum0vR7BJbtZZSQRM1xGYYUXacbmQkhueMHK0K91XxJ4s8D6ze6jcQ3UukX3mwJHCI2aOSJWz8rEb+N2G42jaRznubrwTbPfC50vU9Q0YNbR2k0Ng0YSaJM7FIdGK4DMAyFWwevAxX0v4d6bo0Gixabf6hD/YwmjgbzEZnilcM0TkoflyFAIwwAHzdSW7Xuu/+f8An/XVK/Xt/l/l/XTF8I+ItTl12ytfFOr6nYatcCVJtH1HTEjtndQCfss6IAwHUZkkJXOQDyOn8Tand6fqHhyKzl8tL3VRb3A2g74/IlbHI45RTkYPFRWng1YdSs7q91zVtTi092ks7W9kiZIHKlQ25YxJIQrMAZHY85OTzV/xBoEHiGzhhmuLi0mtrhLm2urYqJIJV6Mu5WU8EghlIIJ4ofT5fmUt35p/fqcf4k8Ta7aT+K4dNvkhksbnTIrMyQK6xedIivkcFgdx759CKi1vxNrXge61uGfU5ddEWjrfWpvII1aKYy+VtIhRdyEspxjdwcE5434/h7pwj1L7Rf6jcz6pPa3F3cTSIXeS3ZWQgBAqg7QCAAMdAK0dS8J6Zq+qXF7qKST/AGmwOnywFsI0Zfdngbg2e4PHbnmps/z/AC/zF9nzv+q/S5ymja9ryaxDZWV3rGupcWczSS6voUtitvcIoKbX8iJfLY7gVO5gduD1qHw94vurYyPr+r6smpJYXE8+i6vpaW5LxfeNtKiKroOf4pSVZTkYOep07wfHaXQudQ1rVdXmit2trd72VFa3RsbtpiRDuOF+dstxwRk5S08Gxx38Nzqus6nrQto3it4dQMJSEONrH5I1LsV+XLljgn1JLlfW3b/P/gdwWlr/ANbf109CroUOvf2bZ69qPiXz0uLX7Rc2MttCttHuTcBE6KHUKcDLtJlc8ZII5XSPF+uN4g8OSfbtW1Cz1a48i6kudOitrEM0LyAW25EuCAUGGYMpUnJJ6dhZ+B4LREtZNa1e60qKNoodMmnQQxoyldpZEWRwFJAEjsOh6gEVYfhzbLeaPPd6/rV7/Ykyy2CXE0W2IBSm07Y1LgqcEuWbjhhls1dOV1tp919fw/4cWvLZ72f320/EwrHWfE9v4Pt/Fmoa/wDaAL7ypNONvEkDwG5MI+YJv83BBBDbcgDb1JgvvG2rXd5rt1pt7rEU2mXctrY6ba6BNc21yYTg+bMsDnLsCPkkXaNuRnOdbwf8P5bPRbWPXLu/WOK9lu20lpYnt/N89nR8hS/91tu/bnnbmti+8DWl7dXpj1LUbSx1Ft1/p1u8YguiRhidyF13AANsZc/UknOKdv68v+D3/wAmrW/rbX/gdV698qS813xRqOtJYapNokOlQxRrbC3jfzpnhWVvO8xSdgDquEKH73zdMWvAc32T4LaDN9rt7PytGhb7TcjdFFiIfM/zLlR1PzDjuKvan4Ktb/UJrq01LUdKN1AtveR2Dxqt1GuQobcjFSASN0ZRsHrwMaeiaLb6D4bstFspJmt7K2W2ikkILlVXAJIAGfwrS/uyS62/X/MFur/1t/keRad4r+2XVgsnj/waftmrSXc0Rt/m+QlUJ/0o9dse1eCOOTtOfbqy7Dw/Z6fJYPC0jGwszZw7yPuEoWJwPvHy1yfbpWpRolZf10/JISWt/wCu/wCpEv8Ax9yf7i/zapaiX/j7k/3F/m1S0hhRRRQAUUUUAFFFFABUTf8AH3H/ALjfzWpaib/j7j/3G/mtAEtFFeH+P4U1DTPGWuJa6PEumSyRDVdUc3F5DKkabIrZFCfZxvIKtvY7ju2ndUuVvz/L/MpRvp8j3CivJfEWledcah4juLPRPFNpBYRSXEF3eeRe6Yyxq2YJQGCbly/WM7iDu6Y7rxHq8Nr8OtR1cG8hiXTnnBicRzoDHkYZshWGepzg8npVPRPy/r9CY6tef9fqdBRXkGiae3h/4q+G4fsugaRJqFrc7rLSAzyTRLGpDzznb5xLgkExgg55bmur8VW9rqvj/wAPaPrkMdxpFxbXcn2W4XdDcXCeXsVlPyuQhlYKQem7quQ7bL+uv+X36Ci73/r+v6Z2lFeb3+l+HpfGWgeGwltN4d2XpOnNJ5lsbxGiKwlCSvyq0jLFjC4yFGBjAurG2ubm30WL59Ag8Zpb2kKsfLWP7IxlhXt5YkLqV6Abl6DFJa28/wDNL9fu9Srb+V/yb/T+rHs9FeMar4S0Kz0n4kSW2mwR/wBlDztNRVwlhJ9jjk3wKOImL8lkwTgZ6Crt54f0zxJq/jKTXbSO/ZNFtGi89Q4icwSkyID91+nzDniolNRjzdtfwb/QfK7pd/8Agf5nrVFeV6dp0Ojar4LvtIgC6jqWlzm8uOWlvmFujqZWPMh3AEFiSO1Yvhi0v20fwrri2Oh2Op3t5D9p1ddSmkvb12b/AEiGVBb5Y4EgMbOVjKDkBMjXl97l87fe7GUZc0Odf1pc9uqjY6xaahqOo2VqzNLp0qw3GVwAzIHAHr8rD868kXRNOtfAo8RQ2ka6zF4ofyr/ABmaNTqjIUV+oQqzAoPlO5uOTXX+CNJ06z8d+OLiz0+1t5jqMSmSKFVYhreJ2GQM4LEsfUknrU9bf10/zNLaHdUV5brnhvSdf8VePP7Zsor0Q6XbmFZ1DCFvKl+dAfuv0+Yc8UaXYWWiaz4I1CziMV1qGmTnUblctNeYt0fMrHmRgwyC2SO1SpLW/T/g/wCRLeqS6/8AA/zPUqztf1y28O6O+pXqSyQpJFGVhALZkkWMdSB1YZ56Zrxu0i+y3fgnX0g0bTW1XUbfyZ0c3Gp36yKxkae5ARcEMAybXGcYYYAq1eaTbQ/CHWdWs7O3bV7jXJE+0zD5mC6rhYy+CwQbRwOBycZq7O130dvy/wAxp3kl3t+N/wDI9rorxi/nvbPwb4ne72jxal9BBrF0Z2jH2R5lw0cgXdFb+UWwQDsw5O5gWL9T02fRrfxDa22naJoNtJ4XvJZtN0e7kmSU7QI52X7PGiN99d2dzj12cTsr/wBbXKjHmkl5/rb+vl3PZKKx/C2i6domgW0Ol2cVsJY0lmZFAaaQqMyO3V3OOWOSe5rYq5KzsRF3VwoooqRhRRRQAUUUUAFFFFABRRRQAUUUUAFFFFABRRRQAUUUUAFFFFABRRRQAUUUUAFFFFABRRRQAUUUUAFFFFABRRRQAUUUUAFFFFABRRRQAUUUUAFFFFAES/8AH3J/uL/NqlqJf+PuT/cX+bVLQAUUUUAFFFFABRRRQAVE3/H3H/uN/NalqJv+PuP/AHG/mtAEtZV34W8P3+pNqN9oWm3N6yGNrmazjeQoVKlSxGcFSRj0OK1aKAMm78J+Hb+4tri+0DS7ma0RUt5JrON2hVTlVQkZUA9AOlarosiMkihlYYZWGQR6UtFG4GTp/hPw7pLxtpWgaZZNFIZYzbWccZRyu0sNoGCVJGfTirmpaXp+s2LWer2Ntf2rkFoLqFZUJByCVYEcGrVFG4GbJ4c0SbRV0ebR9Pk0tMbbF7VDAuDkYjxtHPPSpo9I02K1tLaLT7VILJg1rEsKhbcgEAoMYUgEjjHBNXKKAKsmmWEqXaS2Vs6XwxdK0SkXA27fn4+b5QBzngYpV02xRpmSzt1a4RY5iIlzIgBAVuOQASAD61ZoosBXGnWSvbMtnAGtFK2xEQzCCMEJx8owMcdqrQeHtFtdYl1a20iwh1KYES3sdsizSA4zlwNx6Dqe1aNFHW4dLFQ6Tpxs/shsLU23m+d5Pkrs8zfv37cY3b/mz1zz1pU0uwj1STU0sbZb+SMRPdiFRK6DkKXxkj2zVqigCubCzMtxKbSDzLpQk7+WMyqAQAx/iABIwfU0DTrJXtmWzgDWilbYiIZhBGCE4+UYGOO1WKKAMeHwj4btrmS4t/D+lRTyyrNJKllGrPIrblckDJYNyD1B5q6dJ05rFrI2FqbVpDK0BhXYXL7y23GM7/mz1zz1q3RR0sBWbTrJr17xrO3N1JD5DzmJd7R5zsLYyVyScdKq2PhnQdLsLix0zRNOs7S6BFxb29pHHHMCMHcoADccc9q06KA8yH7Fa/aIp/s0PnQoY4pPLG6NDjKqeoB2rwPQelTUUUAFFFFABRRRQAUUUUAFFFFABRRRQAUUUUAFFFFABRRRQAUUUUAFFFFABRRRQAUUUUAFFFFABRRRQAUUUUAFFFFABRRRQAUUUUAFFFFABRRRQAUUUUAFFFFAES/8fcn+4v8ANqlqJf8Aj7k/3F/m1S0AFFFFABRRRQAUUUUAFRN/x9x/7jfzWiigCWiiigAooooAKKKKACiiigAooooAKKKKACiiigAooooAKKKKACiiigAooooAKKKKACiiigAooooAKKKKACiiigAooooAKKKKACiiigAooooAKKKKACiiigAooooAKKKKACiiigAooooAKKKKACiiigAooooAKKKKACiiigAooooAKKKKAIl/4+5P9xf5tUtFFAH/2Q==)"
      ]
    },
    {
      "cell_type": "code",
      "metadata": {
        "colab": {
          "base_uri": "https://localhost:8080/",
          "height": 399
        },
        "id": "Nyc0qma7_9m2",
        "outputId": "c7f1e84a-bb4c-45ba-ba01-5b632ca8991b"
      },
      "source": [
        "df_1[df_1['Country (region)'].str.contains('^[Ii.*]')==True]"
      ],
      "execution_count": 112,
      "outputs": [
        {
          "output_type": "execute_result",
          "data": {
            "text/html": [
              "<div>\n",
              "<style scoped>\n",
              "    .dataframe tbody tr th:only-of-type {\n",
              "        vertical-align: middle;\n",
              "    }\n",
              "\n",
              "    .dataframe tbody tr th {\n",
              "        vertical-align: top;\n",
              "    }\n",
              "\n",
              "    .dataframe thead th {\n",
              "        text-align: right;\n",
              "    }\n",
              "</style>\n",
              "<table border=\"1\" class=\"dataframe\">\n",
              "  <thead>\n",
              "    <tr style=\"text-align: right;\">\n",
              "      <th></th>\n",
              "      <th>Country (region)</th>\n",
              "      <th>Ladder</th>\n",
              "      <th>SD of Ladder</th>\n",
              "      <th>Positive affect</th>\n",
              "      <th>Negative affect</th>\n",
              "      <th>Social support</th>\n",
              "      <th>Freedom</th>\n",
              "      <th>Corruption</th>\n",
              "      <th>Generosity</th>\n",
              "      <th>Log of GDP\\nper capita</th>\n",
              "      <th>Healthy life\\nexpectancy</th>\n",
              "      <th>first_five_Letter</th>\n",
              "    </tr>\n",
              "  </thead>\n",
              "  <tbody>\n",
              "    <tr>\n",
              "      <th>3</th>\n",
              "      <td>Iceland</td>\n",
              "      <td>4</td>\n",
              "      <td>9</td>\n",
              "      <td>3.0</td>\n",
              "      <td>3.0</td>\n",
              "      <td>1.0</td>\n",
              "      <td>7.0</td>\n",
              "      <td>45.0</td>\n",
              "      <td>3.0</td>\n",
              "      <td>15.0</td>\n",
              "      <td>13.0</td>\n",
              "      <td>Icela</td>\n",
              "    </tr>\n",
              "    <tr>\n",
              "      <th>12</th>\n",
              "      <td>Israel</td>\n",
              "      <td>13</td>\n",
              "      <td>14</td>\n",
              "      <td>104.0</td>\n",
              "      <td>69.0</td>\n",
              "      <td>38.0</td>\n",
              "      <td>93.0</td>\n",
              "      <td>74.0</td>\n",
              "      <td>24.0</td>\n",
              "      <td>31.0</td>\n",
              "      <td>11.0</td>\n",
              "      <td>Israe</td>\n",
              "    </tr>\n",
              "    <tr>\n",
              "      <th>15</th>\n",
              "      <td>Ireland</td>\n",
              "      <td>16</td>\n",
              "      <td>34</td>\n",
              "      <td>33.0</td>\n",
              "      <td>32.0</td>\n",
              "      <td>6.0</td>\n",
              "      <td>33.0</td>\n",
              "      <td>10.0</td>\n",
              "      <td>9.0</td>\n",
              "      <td>6.0</td>\n",
              "      <td>20.0</td>\n",
              "      <td>Irela</td>\n",
              "    </tr>\n",
              "    <tr>\n",
              "      <th>35</th>\n",
              "      <td>Italy</td>\n",
              "      <td>36</td>\n",
              "      <td>31</td>\n",
              "      <td>99.0</td>\n",
              "      <td>123.0</td>\n",
              "      <td>23.0</td>\n",
              "      <td>132.0</td>\n",
              "      <td>128.0</td>\n",
              "      <td>48.0</td>\n",
              "      <td>29.0</td>\n",
              "      <td>7.0</td>\n",
              "      <td>Italy</td>\n",
              "    </tr>\n",
              "    <tr>\n",
              "      <th>91</th>\n",
              "      <td>Indonesia</td>\n",
              "      <td>92</td>\n",
              "      <td>108</td>\n",
              "      <td>9.0</td>\n",
              "      <td>104.0</td>\n",
              "      <td>94.0</td>\n",
              "      <td>48.0</td>\n",
              "      <td>129.0</td>\n",
              "      <td>2.0</td>\n",
              "      <td>83.0</td>\n",
              "      <td>98.0</td>\n",
              "      <td>Indon</td>\n",
              "    </tr>\n",
              "    <tr>\n",
              "      <th>98</th>\n",
              "      <td>Ivory Coast</td>\n",
              "      <td>99</td>\n",
              "      <td>134</td>\n",
              "      <td>88.0</td>\n",
              "      <td>130.0</td>\n",
              "      <td>137.0</td>\n",
              "      <td>100.0</td>\n",
              "      <td>62.0</td>\n",
              "      <td>114.0</td>\n",
              "      <td>118.0</td>\n",
              "      <td>147.0</td>\n",
              "      <td>Ivory</td>\n",
              "    </tr>\n",
              "    <tr>\n",
              "      <th>116</th>\n",
              "      <td>Iran</td>\n",
              "      <td>117</td>\n",
              "      <td>109</td>\n",
              "      <td>109.0</td>\n",
              "      <td>150.0</td>\n",
              "      <td>134.0</td>\n",
              "      <td>117.0</td>\n",
              "      <td>44.0</td>\n",
              "      <td>28.0</td>\n",
              "      <td>54.0</td>\n",
              "      <td>77.0</td>\n",
              "      <td>NaN</td>\n",
              "    </tr>\n",
              "    <tr>\n",
              "      <th>125</th>\n",
              "      <td>Iraq</td>\n",
              "      <td>126</td>\n",
              "      <td>147</td>\n",
              "      <td>151.0</td>\n",
              "      <td>154.0</td>\n",
              "      <td>124.0</td>\n",
              "      <td>130.0</td>\n",
              "      <td>66.0</td>\n",
              "      <td>73.0</td>\n",
              "      <td>64.0</td>\n",
              "      <td>107.0</td>\n",
              "      <td>NaN</td>\n",
              "    </tr>\n",
              "    <tr>\n",
              "      <th>139</th>\n",
              "      <td>India</td>\n",
              "      <td>140</td>\n",
              "      <td>41</td>\n",
              "      <td>93.0</td>\n",
              "      <td>115.0</td>\n",
              "      <td>142.0</td>\n",
              "      <td>41.0</td>\n",
              "      <td>73.0</td>\n",
              "      <td>65.0</td>\n",
              "      <td>103.0</td>\n",
              "      <td>105.0</td>\n",
              "      <td>India</td>\n",
              "    </tr>\n",
              "  </tbody>\n",
              "</table>\n",
              "</div>"
            ],
            "text/plain": [
              "    Country (region)  Ladder  ...  Healthy life\\nexpectancy  first_five_Letter\n",
              "3            Iceland       4  ...                      13.0              Icela\n",
              "12            Israel      13  ...                      11.0              Israe\n",
              "15           Ireland      16  ...                      20.0              Irela\n",
              "35             Italy      36  ...                       7.0              Italy\n",
              "91         Indonesia      92  ...                      98.0              Indon\n",
              "98       Ivory Coast      99  ...                     147.0              Ivory\n",
              "116             Iran     117  ...                      77.0                NaN\n",
              "125             Iraq     126  ...                     107.0                NaN\n",
              "139            India     140  ...                     105.0              India\n",
              "\n",
              "[9 rows x 12 columns]"
            ]
          },
          "metadata": {
            "tags": []
          },
          "execution_count": 112
        }
      ]
    },
    {
      "cell_type": "markdown",
      "metadata": {
        "id": "dWWsSAkSoGof"
      },
      "source": [
        "#Jordan Mobile Number"
      ]
    },
    {
      "cell_type": "code",
      "metadata": {
        "colab": {
          "base_uri": "https://localhost:8080/"
        },
        "id": "xRpyzhecZWPn",
        "outputId": "c50aa937-6c31-4429-e0e8-7b1913de9728"
      },
      "source": [
        "#Match Mobile Number\n",
        "import re\n",
        " \n",
        "# Make a regular expression\n",
        "# for validating an Mobile Number\n",
        "MobileNumber = r'(^009627)[7-9]{1}[0-9]{7}$'\n",
        "if(re.match(MobileNumber, '00962787493702')):\n",
        " print(\"Valid Mobile Number\")\n",
        " \n",
        "else:\n",
        " print(\"Invalid Mobile Number\")\n",
        " "
      ],
      "execution_count": 197,
      "outputs": [
        {
          "output_type": "stream",
          "text": [
            "Valid Mobile Number\n"
          ],
          "name": "stdout"
        }
      ]
    },
    {
      "cell_type": "markdown",
      "metadata": {
        "id": "LJIGwFq2hdP-"
      },
      "source": [
        "-----------------\n",
        "<p><img alt=\"Colaboratory logo\" height=\"30px\" src=\"/img/colab_favicon.ico\" align=\"left\" hspace=\"10px\" vspace=\"0px\"></p>\n",
        "\n",
        "**Hands-on - 10m:**\n",
        "\n",
        "Write a function to check if password is valid considering the following:\n",
        "\n",
        "* Should have at least 8 values.\n",
        "* Should have at least one uppercase and one lowercase character.\n",
        "\n",
        "\n",
        "\n",
        "\n",
        "\n",
        "\n"
      ]
    },
    {
      "cell_type": "code",
      "metadata": {
        "id": "CeHD8Dx0hpp_"
      },
      "source": [
        "def is_password_strong():\n",
        "   # Your code is here\n",
        "\n",
        "# One way to solve it \n",
        "import re\n",
        "def is_password_strong():\n",
        "    password = input('Enter a password to test: ')\n",
        "\n",
        "    length_regex = re.compile(r'.{8,}')\n",
        "    uppercase_regex = re.compile(r'[A-Z]')\n",
        "    lowercase_regex = re.compile(r'[a-z]')\n",
        "    digit_regex = re.compile(r'[0-9]')\n",
        "\n",
        "    return (length_regex.search(password) is not None\n",
        "            and uppercase_regex.search(password) is not None\n",
        "            and lowercase_regex.search(password) is not None\n",
        "            and digit_regex.search(password) is not None)"
      ],
      "execution_count": null,
      "outputs": []
    }
  ]
}