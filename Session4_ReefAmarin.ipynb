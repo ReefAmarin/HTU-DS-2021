{
  "nbformat": 4,
  "nbformat_minor": 0,
  "metadata": {
    "colab": {
      "name": "Session4-ReefAmarin.ipynb",
      "provenance": [],
      "authorship_tag": "ABX9TyPETMzoKv4AoQE7Rm5zwXNA",
      "include_colab_link": true
    },
    "kernelspec": {
      "name": "python3",
      "display_name": "Python 3"
    },
    "language_info": {
      "name": "python"
    }
  },
  "cells": [
    {
      "cell_type": "markdown",
      "metadata": {
        "id": "view-in-github",
        "colab_type": "text"
      },
      "source": [
        "<a href=\"https://colab.research.google.com/github/ReefAmarin/HTU-DS-2021/blob/main/Session4_ReefAmarin.ipynb\" target=\"_parent\"><img src=\"https://colab.research.google.com/assets/colab-badge.svg\" alt=\"Open In Colab\"/></a>"
      ]
    },
    {
      "cell_type": "markdown",
      "metadata": {
        "id": "GoZECVg0jRyk"
      },
      "source": [
        "Session 4 - Reef Amarin"
      ]
    },
    {
      "cell_type": "code",
      "metadata": {
        "id": "E5gqb1_UjWI6"
      },
      "source": [
        "import numpy as np\n",
        "import pandas as pd\n",
        "import matplotlib.pyplot as plt\n",
        "from sklearn.impute import SimpleImputer\n",
        "from sklearn.compose import ColumnTransformer\n",
        "from sklearn.preprocessing import OneHotEncoder\n",
        "from sklearn.preprocessing import StandardScaler\n",
        "from sklearn.model_selection import train_test_split\n",
        "from sklearn.linear_model import LinearRegression\n",
        "from sklearn.metrics import r2_score"
      ],
      "execution_count": 73,
      "outputs": []
    },
    {
      "cell_type": "code",
      "metadata": {
        "colab": {
          "base_uri": "https://localhost:8080/",
          "height": 1000
        },
        "id": "CoQbrN3Ojj0y",
        "outputId": "4a58e827-10f0-4315-e04c-f7a183dbd705"
      },
      "source": [
        "df_1=pd.read_csv('Exercise_dataset_session4.csv')\n",
        "df_1"
      ],
      "execution_count": 4,
      "outputs": [
        {
          "output_type": "execute_result",
          "data": {
            "text/html": [
              "<div>\n",
              "<style scoped>\n",
              "    .dataframe tbody tr th:only-of-type {\n",
              "        vertical-align: middle;\n",
              "    }\n",
              "\n",
              "    .dataframe tbody tr th {\n",
              "        vertical-align: top;\n",
              "    }\n",
              "\n",
              "    .dataframe thead th {\n",
              "        text-align: right;\n",
              "    }\n",
              "</style>\n",
              "<table border=\"1\" class=\"dataframe\">\n",
              "  <thead>\n",
              "    <tr style=\"text-align: right;\">\n",
              "      <th></th>\n",
              "      <th>Rent</th>\n",
              "      <th>Bills</th>\n",
              "      <th>OtherExpenses</th>\n",
              "      <th>Occupation</th>\n",
              "      <th>MonthlySavings</th>\n",
              "    </tr>\n",
              "  </thead>\n",
              "  <tbody>\n",
              "    <tr>\n",
              "      <th>0</th>\n",
              "      <td>1653</td>\n",
              "      <td>1368.98</td>\n",
              "      <td>943.57</td>\n",
              "      <td>Engineer</td>\n",
              "      <td>384.52</td>\n",
              "    </tr>\n",
              "    <tr>\n",
              "      <th>1</th>\n",
              "      <td>1626</td>\n",
              "      <td>1513.78</td>\n",
              "      <td>887.80</td>\n",
              "      <td>SalesRepresentative</td>\n",
              "      <td>383.58</td>\n",
              "    </tr>\n",
              "    <tr>\n",
              "      <th>2</th>\n",
              "      <td>1534</td>\n",
              "      <td>1011.46</td>\n",
              "      <td>815.87</td>\n",
              "      <td>Teacher</td>\n",
              "      <td>382.10</td>\n",
              "    </tr>\n",
              "    <tr>\n",
              "      <th>3</th>\n",
              "      <td>1444</td>\n",
              "      <td>1186.72</td>\n",
              "      <td>766.40</td>\n",
              "      <td>Engineer</td>\n",
              "      <td>365.80</td>\n",
              "    </tr>\n",
              "    <tr>\n",
              "      <th>4</th>\n",
              "      <td>1421</td>\n",
              "      <td>913.92</td>\n",
              "      <td>732.34</td>\n",
              "      <td>Teacher</td>\n",
              "      <td>332.38</td>\n",
              "    </tr>\n",
              "    <tr>\n",
              "      <th>5</th>\n",
              "      <td>1319</td>\n",
              "      <td>998.15</td>\n",
              "      <td>725.72</td>\n",
              "      <td>Engineer</td>\n",
              "      <td>313.98</td>\n",
              "    </tr>\n",
              "    <tr>\n",
              "      <th>6</th>\n",
              "      <td>1346</td>\n",
              "      <td>1471.99</td>\n",
              "      <td>255.43</td>\n",
              "      <td>SalesRepresentative</td>\n",
              "      <td>312.25</td>\n",
              "    </tr>\n",
              "    <tr>\n",
              "      <th>7</th>\n",
              "      <td>1303</td>\n",
              "      <td>1455.30</td>\n",
              "      <td>647.75</td>\n",
              "      <td>Teacher</td>\n",
              "      <td>311.51</td>\n",
              "    </tr>\n",
              "    <tr>\n",
              "      <th>8</th>\n",
              "      <td>1205</td>\n",
              "      <td>1487.19</td>\n",
              "      <td>623.23</td>\n",
              "      <td>Engineer</td>\n",
              "      <td>304.42</td>\n",
              "    </tr>\n",
              "    <tr>\n",
              "      <th>9</th>\n",
              "      <td>1233</td>\n",
              "      <td>1086.79</td>\n",
              "      <td>609.96</td>\n",
              "      <td>SalesRepresentative</td>\n",
              "      <td>299.52</td>\n",
              "    </tr>\n",
              "    <tr>\n",
              "      <th>10</th>\n",
              "      <td>1019</td>\n",
              "      <td>1105.94</td>\n",
              "      <td>458.32</td>\n",
              "      <td>Teacher</td>\n",
              "      <td>292.24</td>\n",
              "    </tr>\n",
              "    <tr>\n",
              "      <th>11</th>\n",
              "      <td>1007</td>\n",
              "      <td>917.91</td>\n",
              "      <td>499.49</td>\n",
              "      <td>SalesRepresentative</td>\n",
              "      <td>288.52</td>\n",
              "    </tr>\n",
              "    <tr>\n",
              "      <th>12</th>\n",
              "      <td>939</td>\n",
              "      <td>1273.20</td>\n",
              "      <td>499.68</td>\n",
              "      <td>Teacher</td>\n",
              "      <td>283.17</td>\n",
              "    </tr>\n",
              "    <tr>\n",
              "      <th>13</th>\n",
              "      <td>920</td>\n",
              "      <td>1354.95</td>\n",
              "      <td>505.33</td>\n",
              "      <td>SalesRepresentative</td>\n",
              "      <td>268.61</td>\n",
              "    </tr>\n",
              "    <tr>\n",
              "      <th>14</th>\n",
              "      <td>1199</td>\n",
              "      <td>1565.47</td>\n",
              "      <td>513.03</td>\n",
              "      <td>Teacher</td>\n",
              "      <td>265.21</td>\n",
              "    </tr>\n",
              "    <tr>\n",
              "      <th>15</th>\n",
              "      <td>1145</td>\n",
              "      <td>1226.17</td>\n",
              "      <td>523.55</td>\n",
              "      <td>Engineer</td>\n",
              "      <td>259.83</td>\n",
              "    </tr>\n",
              "    <tr>\n",
              "      <th>16</th>\n",
              "      <td>780</td>\n",
              "      <td>1215.98</td>\n",
              "      <td>528.69</td>\n",
              "      <td>SalesRepresentative</td>\n",
              "      <td>253.99</td>\n",
              "    </tr>\n",
              "    <tr>\n",
              "      <th>17</th>\n",
              "      <td>947</td>\n",
              "      <td>1450.78</td>\n",
              "      <td>565.15</td>\n",
              "      <td>Engineer</td>\n",
              "      <td>250.74</td>\n",
              "    </tr>\n",
              "    <tr>\n",
              "      <th>18</th>\n",
              "      <td>917</td>\n",
              "      <td>1141.76</td>\n",
              "      <td>589.84</td>\n",
              "      <td>Teacher</td>\n",
              "      <td>248.53</td>\n",
              "    </tr>\n",
              "    <tr>\n",
              "      <th>19</th>\n",
              "      <td>864</td>\n",
              "      <td>1535.14</td>\n",
              "      <td>0.00</td>\n",
              "      <td>Engineer</td>\n",
              "      <td>245.55</td>\n",
              "    </tr>\n",
              "    <tr>\n",
              "      <th>20</th>\n",
              "      <td>763</td>\n",
              "      <td>1138.67</td>\n",
              "      <td>597.33</td>\n",
              "      <td>SalesRepresentative</td>\n",
              "      <td>236.95</td>\n",
              "    </tr>\n",
              "    <tr>\n",
              "      <th>21</th>\n",
              "      <td>784</td>\n",
              "      <td>1537.73</td>\n",
              "      <td>599.47</td>\n",
              "      <td>Engineer</td>\n",
              "      <td>222.63</td>\n",
              "    </tr>\n",
              "    <tr>\n",
              "      <th>22</th>\n",
              "      <td>740</td>\n",
              "      <td>1227.83</td>\n",
              "      <td>606.64</td>\n",
              "      <td>Teacher</td>\n",
              "      <td>220.70</td>\n",
              "    </tr>\n",
              "    <tr>\n",
              "      <th>23</th>\n",
              "      <td>675</td>\n",
              "      <td>1057.51</td>\n",
              "      <td>609.54</td>\n",
              "      <td>Teacher</td>\n",
              "      <td>217.47</td>\n",
              "    </tr>\n",
              "    <tr>\n",
              "      <th>24</th>\n",
              "      <td>770</td>\n",
              "      <td>992.81</td>\n",
              "      <td>281.15</td>\n",
              "      <td>Engineer</td>\n",
              "      <td>217.10</td>\n",
              "    </tr>\n",
              "    <tr>\n",
              "      <th>25</th>\n",
              "      <td>647</td>\n",
              "      <td>1395.53</td>\n",
              "      <td>275.93</td>\n",
              "      <td>SalesRepresentative</td>\n",
              "      <td>214.81</td>\n",
              "    </tr>\n",
              "    <tr>\n",
              "      <th>26</th>\n",
              "      <td>753</td>\n",
              "      <td>1441.36</td>\n",
              "      <td>268.10</td>\n",
              "      <td>Teacher</td>\n",
              "      <td>211.47</td>\n",
              "    </tr>\n",
              "    <tr>\n",
              "      <th>27</th>\n",
              "      <td>721</td>\n",
              "      <td>1278.65</td>\n",
              "      <td>706.37</td>\n",
              "      <td>Engineer</td>\n",
              "      <td>210.02</td>\n",
              "    </tr>\n",
              "    <tr>\n",
              "      <th>28</th>\n",
              "      <td>661</td>\n",
              "      <td>1826.46</td>\n",
              "      <td>236.30</td>\n",
              "      <td>Teacher</td>\n",
              "      <td>206.56</td>\n",
              "    </tr>\n",
              "    <tr>\n",
              "      <th>29</th>\n",
              "      <td>656</td>\n",
              "      <td>1530.32</td>\n",
              "      <td>214.28</td>\n",
              "      <td>Engineer</td>\n",
              "      <td>202.01</td>\n",
              "    </tr>\n",
              "    <tr>\n",
              "      <th>30</th>\n",
              "      <td>620</td>\n",
              "      <td>1156.41</td>\n",
              "      <td>182.26</td>\n",
              "      <td>Teacher</td>\n",
              "      <td>199.88</td>\n",
              "    </tr>\n",
              "    <tr>\n",
              "      <th>31</th>\n",
              "      <td>611</td>\n",
              "      <td>1527.02</td>\n",
              "      <td>176.44</td>\n",
              "      <td>Engineer</td>\n",
              "      <td>194.97</td>\n",
              "    </tr>\n",
              "    <tr>\n",
              "      <th>32</th>\n",
              "      <td>634</td>\n",
              "      <td>1292.20</td>\n",
              "      <td>92.17</td>\n",
              "      <td>SalesRepresentative</td>\n",
              "      <td>194.86</td>\n",
              "    </tr>\n",
              "    <tr>\n",
              "      <th>33</th>\n",
              "      <td>555</td>\n",
              "      <td>1030.57</td>\n",
              "      <td>429.27</td>\n",
              "      <td>Teacher</td>\n",
              "      <td>193.56</td>\n",
              "    </tr>\n",
              "    <tr>\n",
              "      <th>34</th>\n",
              "      <td>464</td>\n",
              "      <td>1576.94</td>\n",
              "      <td>421.60</td>\n",
              "      <td>SalesRepresentative</td>\n",
              "      <td>193.43</td>\n",
              "    </tr>\n",
              "    <tr>\n",
              "      <th>35</th>\n",
              "      <td>460</td>\n",
              "      <td>850.47</td>\n",
              "      <td>411.04</td>\n",
              "      <td>Engineer</td>\n",
              "      <td>192.96</td>\n",
              "    </tr>\n",
              "    <tr>\n",
              "      <th>36</th>\n",
              "      <td>287</td>\n",
              "      <td>1270.56</td>\n",
              "      <td>402.25</td>\n",
              "      <td>Teacher</td>\n",
              "      <td>181.42</td>\n",
              "    </tr>\n",
              "    <tr>\n",
              "      <th>37</th>\n",
              "      <td>441</td>\n",
              "      <td>512.83</td>\n",
              "      <td>394.06</td>\n",
              "      <td>SalesRepresentative</td>\n",
              "      <td>179.90</td>\n",
              "    </tr>\n",
              "    <tr>\n",
              "      <th>38</th>\n",
              "      <td>202</td>\n",
              "      <td>659.48</td>\n",
              "      <td>370.53</td>\n",
              "      <td>Engineer</td>\n",
              "      <td>162.46</td>\n",
              "    </tr>\n",
              "    <tr>\n",
              "      <th>39</th>\n",
              "      <td>386</td>\n",
              "      <td>829.82</td>\n",
              "      <td>350.00</td>\n",
              "      <td>SalesRepresentative</td>\n",
              "      <td>162.01</td>\n",
              "    </tr>\n",
              "    <tr>\n",
              "      <th>40</th>\n",
              "      <td>288</td>\n",
              "      <td>1185.46</td>\n",
              "      <td>345.59</td>\n",
              "      <td>SalesRepresentative</td>\n",
              "      <td>156.48</td>\n",
              "    </tr>\n",
              "    <tr>\n",
              "      <th>41</th>\n",
              "      <td>279</td>\n",
              "      <td>847.11</td>\n",
              "      <td>328.94</td>\n",
              "      <td>Teacher</td>\n",
              "      <td>155.60</td>\n",
              "    </tr>\n",
              "    <tr>\n",
              "      <th>42</th>\n",
              "      <td>236</td>\n",
              "      <td>961.90</td>\n",
              "      <td>296.00</td>\n",
              "      <td>SalesRepresentative</td>\n",
              "      <td>143.00</td>\n",
              "    </tr>\n",
              "    <tr>\n",
              "      <th>43</th>\n",
              "      <td>155</td>\n",
              "      <td>1273.82</td>\n",
              "      <td>71.07</td>\n",
              "      <td>Engineer</td>\n",
              "      <td>139.52</td>\n",
              "    </tr>\n",
              "    <tr>\n",
              "      <th>44</th>\n",
              "      <td>222</td>\n",
              "      <td>1548.06</td>\n",
              "      <td>56.67</td>\n",
              "      <td>SalesRepresentative</td>\n",
              "      <td>130.40</td>\n",
              "    </tr>\n",
              "    <tr>\n",
              "      <th>45</th>\n",
              "      <td>10</td>\n",
              "      <td>1241.53</td>\n",
              "      <td>3.81</td>\n",
              "      <td>Engineer</td>\n",
              "      <td>129.85</td>\n",
              "    </tr>\n",
              "    <tr>\n",
              "      <th>46</th>\n",
              "      <td>13</td>\n",
              "      <td>1158.16</td>\n",
              "      <td>594.23</td>\n",
              "      <td>Teacher</td>\n",
              "      <td>98.98</td>\n",
              "    </tr>\n",
              "    <tr>\n",
              "      <th>47</th>\n",
              "      <td>0</td>\n",
              "      <td>1354.27</td>\n",
              "      <td>0.00</td>\n",
              "      <td>SalesRepresentative</td>\n",
              "      <td>85.12</td>\n",
              "    </tr>\n",
              "    <tr>\n",
              "      <th>48</th>\n",
              "      <td>5</td>\n",
              "      <td>517.43</td>\n",
              "      <td>0.00</td>\n",
              "      <td>Engineer</td>\n",
              "      <td>71.35</td>\n",
              "    </tr>\n",
              "    <tr>\n",
              "      <th>49</th>\n",
              "      <td>0</td>\n",
              "      <td>1169.84</td>\n",
              "      <td>90.35</td>\n",
              "      <td>SalesRepresentative</td>\n",
              "      <td>29.36</td>\n",
              "    </tr>\n",
              "  </tbody>\n",
              "</table>\n",
              "</div>"
            ],
            "text/plain": [
              "    Rent    Bills  OtherExpenses           Occupation  MonthlySavings\n",
              "0   1653  1368.98         943.57             Engineer          384.52\n",
              "1   1626  1513.78         887.80  SalesRepresentative          383.58\n",
              "2   1534  1011.46         815.87              Teacher          382.10\n",
              "3   1444  1186.72         766.40             Engineer          365.80\n",
              "4   1421   913.92         732.34              Teacher          332.38\n",
              "5   1319   998.15         725.72             Engineer          313.98\n",
              "6   1346  1471.99         255.43  SalesRepresentative          312.25\n",
              "7   1303  1455.30         647.75              Teacher          311.51\n",
              "8   1205  1487.19         623.23             Engineer          304.42\n",
              "9   1233  1086.79         609.96  SalesRepresentative          299.52\n",
              "10  1019  1105.94         458.32              Teacher          292.24\n",
              "11  1007   917.91         499.49  SalesRepresentative          288.52\n",
              "12   939  1273.20         499.68              Teacher          283.17\n",
              "13   920  1354.95         505.33  SalesRepresentative          268.61\n",
              "14  1199  1565.47         513.03              Teacher          265.21\n",
              "15  1145  1226.17         523.55             Engineer          259.83\n",
              "16   780  1215.98         528.69  SalesRepresentative          253.99\n",
              "17   947  1450.78         565.15             Engineer          250.74\n",
              "18   917  1141.76         589.84              Teacher          248.53\n",
              "19   864  1535.14           0.00             Engineer          245.55\n",
              "20   763  1138.67         597.33  SalesRepresentative          236.95\n",
              "21   784  1537.73         599.47             Engineer          222.63\n",
              "22   740  1227.83         606.64              Teacher          220.70\n",
              "23   675  1057.51         609.54              Teacher          217.47\n",
              "24   770   992.81         281.15             Engineer          217.10\n",
              "25   647  1395.53         275.93  SalesRepresentative          214.81\n",
              "26   753  1441.36         268.10              Teacher          211.47\n",
              "27   721  1278.65         706.37             Engineer          210.02\n",
              "28   661  1826.46         236.30              Teacher          206.56\n",
              "29   656  1530.32         214.28             Engineer          202.01\n",
              "30   620  1156.41         182.26              Teacher          199.88\n",
              "31   611  1527.02         176.44             Engineer          194.97\n",
              "32   634  1292.20          92.17  SalesRepresentative          194.86\n",
              "33   555  1030.57         429.27              Teacher          193.56\n",
              "34   464  1576.94         421.60  SalesRepresentative          193.43\n",
              "35   460   850.47         411.04             Engineer          192.96\n",
              "36   287  1270.56         402.25              Teacher          181.42\n",
              "37   441   512.83         394.06  SalesRepresentative          179.90\n",
              "38   202   659.48         370.53             Engineer          162.46\n",
              "39   386   829.82         350.00  SalesRepresentative          162.01\n",
              "40   288  1185.46         345.59  SalesRepresentative          156.48\n",
              "41   279   847.11         328.94              Teacher          155.60\n",
              "42   236   961.90         296.00  SalesRepresentative          143.00\n",
              "43   155  1273.82          71.07             Engineer          139.52\n",
              "44   222  1548.06          56.67  SalesRepresentative          130.40\n",
              "45    10  1241.53           3.81             Engineer          129.85\n",
              "46    13  1158.16         594.23              Teacher           98.98\n",
              "47     0  1354.27           0.00  SalesRepresentative           85.12\n",
              "48     5   517.43           0.00             Engineer           71.35\n",
              "49     0  1169.84          90.35  SalesRepresentative           29.36"
            ]
          },
          "metadata": {
            "tags": []
          },
          "execution_count": 4
        }
      ]
    },
    {
      "cell_type": "code",
      "metadata": {
        "colab": {
          "base_uri": "https://localhost:8080/"
        },
        "id": "c2yDSKdzjvTj",
        "outputId": "927539ad-fbb2-415c-bbb8-ddcdb3099d02"
      },
      "source": [
        "df_1['Occupation'].isnull().values.any()"
      ],
      "execution_count": 7,
      "outputs": [
        {
          "output_type": "execute_result",
          "data": {
            "text/plain": [
              "False"
            ]
          },
          "metadata": {
            "tags": []
          },
          "execution_count": 7
        }
      ]
    },
    {
      "cell_type": "code",
      "metadata": {
        "colab": {
          "base_uri": "https://localhost:8080/"
        },
        "id": "bxyqMP7qmO4r",
        "outputId": "0696ed78-37cc-4c9d-9f73-8e2aa8f9c9af"
      },
      "source": [
        "df_1['OtherExpenses'].isnull().values.any()"
      ],
      "execution_count": 8,
      "outputs": [
        {
          "output_type": "execute_result",
          "data": {
            "text/plain": [
              "False"
            ]
          },
          "metadata": {
            "tags": []
          },
          "execution_count": 8
        }
      ]
    },
    {
      "cell_type": "code",
      "metadata": {
        "colab": {
          "base_uri": "https://localhost:8080/"
        },
        "id": "WBTA72gLmRNy",
        "outputId": "db57d04c-8ae7-4efc-b43c-0daadbee9d09"
      },
      "source": [
        "df_1['Bills'].isnull().values.any()"
      ],
      "execution_count": 9,
      "outputs": [
        {
          "output_type": "execute_result",
          "data": {
            "text/plain": [
              "False"
            ]
          },
          "metadata": {
            "tags": []
          },
          "execution_count": 9
        }
      ]
    },
    {
      "cell_type": "code",
      "metadata": {
        "colab": {
          "base_uri": "https://localhost:8080/"
        },
        "id": "zr0ciqvymSZJ",
        "outputId": "f12d3ef5-42ee-447f-eff3-cb3ba1bffff3"
      },
      "source": [
        "df_1['Rent'].isnull().values.any()"
      ],
      "execution_count": 10,
      "outputs": [
        {
          "output_type": "execute_result",
          "data": {
            "text/plain": [
              "False"
            ]
          },
          "metadata": {
            "tags": []
          },
          "execution_count": 10
        }
      ]
    },
    {
      "cell_type": "code",
      "metadata": {
        "colab": {
          "base_uri": "https://localhost:8080/"
        },
        "id": "n_kjcAvGmVuY",
        "outputId": "5c605910-65c0-4871-ef03-6706a6ca9aa8"
      },
      "source": [
        "x = df_1.iloc[:, :-1].values\n",
        "y = df_1.iloc[:, -1].values\n",
        "x\n",
        "y"
      ],
      "execution_count": 27,
      "outputs": [
        {
          "output_type": "execute_result",
          "data": {
            "text/plain": [
              "array([384.52, 383.58, 382.1 , 365.8 , 332.38, 313.98, 312.25, 311.51,\n",
              "       304.42, 299.52, 292.24, 288.52, 283.17, 268.61, 265.21, 259.83,\n",
              "       253.99, 250.74, 248.53, 245.55, 236.95, 222.63, 220.7 , 217.47,\n",
              "       217.1 , 214.81, 211.47, 210.02, 206.56, 202.01, 199.88, 194.97,\n",
              "       194.86, 193.56, 193.43, 192.96, 181.42, 179.9 , 162.46, 162.01,\n",
              "       156.48, 155.6 , 143.  , 139.52, 130.4 , 129.85,  98.98,  85.12,\n",
              "        71.35,  29.36])"
            ]
          },
          "metadata": {
            "tags": []
          },
          "execution_count": 27
        }
      ]
    },
    {
      "cell_type": "code",
      "metadata": {
        "id": "cc-N2l7cmvdr"
      },
      "source": [
        "x= df_1.iloc[:, :-1].values\n",
        "\n",
        "ct = ColumnTransformer(transformers=[('encoder', OneHotEncoder(drop = 'first'), [3])], remainder='passthrough')\n",
        "x = np.array(ct.fit_transform(X))\n"
      ],
      "execution_count": 59,
      "outputs": []
    },
    {
      "cell_type": "code",
      "metadata": {
        "id": "hyBrNYSDm43w"
      },
      "source": [
        "X_train, X_test, y_train, y_test = train_test_split(x, y, test_size = 0.2, random_state = 0)"
      ],
      "execution_count": 74,
      "outputs": []
    },
    {
      "cell_type": "code",
      "metadata": {
        "colab": {
          "base_uri": "https://localhost:8080/"
        },
        "id": "2ojlvsfDnAVx",
        "outputId": "e1f519f2-19de-46ff-f2aa-9ebf6d08973f"
      },
      "source": [
        "sc = StandardScaler()\n",
        "X_train[:,2:] = sc.fit_transform(X_train[:,2:])\n",
        "X_test[:,2:] = sc.transform(X_test[:,2:])\n",
        "X_test"
      ],
      "execution_count": 75,
      "outputs": [
        {
          "output_type": "execute_result",
          "data": {
            "text/plain": [
              "array([[0.0, 1.0, -0.12038404708892873, 2.2889205543443616,\n",
              "        -0.6803103568514964],\n",
              "       [1.0, 0.0, 0.6287684761623181, -1.220676830922308,\n",
              "        0.38557973776993965],\n",
              "       [0.0, 1.0, 0.6547506445987775, -0.49434410696469183,\n",
              "        0.21884583756261972],\n",
              "       [0.0, 1.0, -0.9474830756495538, -1.4941670019386306,\n",
              "        -0.3051287072229778],\n",
              "       [0.0, 1.0, 1.7698187066634945, -0.8593066967616155,\n",
              "        1.666883389642465],\n",
              "       [0.0, 0.0, 0.009526795093368408, 0.17280967038317735,\n",
              "        1.223420623727927],\n",
              "       [0.0, 0.0, -1.1142019897835018, -2.2189545836871147,\n",
              "        -0.1366938539409173],\n",
              "       [0.0, 0.0, -0.228643082240843, 1.1322270965883199,\n",
              "        -0.9227366688847772],\n",
              "       [0.0, 1.0, 0.050665228451095834, -0.023500647287014394,\n",
              "        0.8195252662424761],\n",
              "       [0.0, 1.0, 1.5251532872201683, -1.2360896244583974,\n",
              "        1.3285962221827268]], dtype=object)"
            ]
          },
          "metadata": {
            "tags": []
          },
          "execution_count": 75
        }
      ]
    },
    {
      "cell_type": "code",
      "metadata": {
        "colab": {
          "base_uri": "https://localhost:8080/"
        },
        "id": "R7-D4Z3lndU0",
        "outputId": "d51ed38b-d9dc-4b34-b3ff-1f000ae2f2da"
      },
      "source": [
        "regressor = LinearRegression()\n",
        "\n",
        "regressor.fit(X_train, y_train)"
      ],
      "execution_count": 76,
      "outputs": [
        {
          "output_type": "execute_result",
          "data": {
            "text/plain": [
              "LinearRegression(copy_X=True, fit_intercept=True, n_jobs=None, normalize=False)"
            ]
          },
          "metadata": {
            "tags": []
          },
          "execution_count": 76
        }
      ]
    },
    {
      "cell_type": "code",
      "metadata": {
        "colab": {
          "base_uri": "https://localhost:8080/",
          "height": 279
        },
        "id": "mRUsM4MinyJk",
        "outputId": "cccc7359-b34a-43c4-d518-f21bfdd02545"
      },
      "source": [
        "\n",
        "y_pred = regressor.predict(X_test)\n",
        "x_range = list(range(len(y_test)))\n",
        "y_pred.sort()\n",
        "plt.scatter(x_range,y_pred,label = 'Predicted')\n",
        "y_test.sort()\n",
        "plt.scatter(x_range,y_test,label = 'Actual',color = 'r')\n",
        "\n",
        "plt.grid()\n",
        "plt.legend()\n",
        "plt.xlabel('Predicted Profit')\n",
        "plt.ylabel('Actual Profit')\n",
        "plt.show()"
      ],
      "execution_count": 77,
      "outputs": [
        {
          "output_type": "display_data",
          "data": {
            "image/png": "[encoded data removed]",
            "text/plain": [
              "<Figure size 432x288 with 1 Axes>"
            ]
          },
          "metadata": {
            "tags": [],
            "needs_background": "light"
          }
        }
      ]
    },
    {
      "cell_type": "code",
      "metadata": {
        "colab": {
          "base_uri": "https://localhost:8080/"
        },
        "id": "Iq8ZlUR3oHav",
        "outputId": "73f52ebb-010e-4e27-d1f4-1960309a73d9"
      },
      "source": [
        "r2_score(y_test, y_pred)"
      ],
      "execution_count": 78,
      "outputs": [
        {
          "output_type": "execute_result",
          "data": {
            "text/plain": [
              "0.9388124572821621"
            ]
          },
          "metadata": {
            "tags": []
          },
          "execution_count": 78
        }
      ]
    },
    {
      "cell_type": "code",
      "metadata": {
        "colab": {
          "base_uri": "https://localhost:8080/"
        },
        "id": "KtjaUc34oPsW",
        "outputId": "9bb5c722-12b4-489d-eca8-5e2c5dc59e8d"
      },
      "source": [
        "y_pred = regressor.predict(X_train)\n",
        "r2_score(y_train, y_pred)"
      ],
      "execution_count": 79,
      "outputs": [
        {
          "output_type": "execute_result",
          "data": {
            "text/plain": [
              "0.9502521148808548"
            ]
          },
          "metadata": {
            "tags": []
          },
          "execution_count": 79
        }
      ]
    }
  ]
}