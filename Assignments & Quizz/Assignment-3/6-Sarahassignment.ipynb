{
  "nbformat": 4,
  "nbformat_minor": 0,
  "metadata": {
    "colab": {
      "name": "assignment.ipynb",
      "provenance": []
    },
    "kernelspec": {
      "name": "python3",
      "display_name": "Python 3"
    },
    "language_info": {
      "name": "python"
    }
  },
  "cells": [
    {
      "cell_type": "code",
      "metadata": {
        "id": "YYTCK_umvng4"
      },
      "source": [
        "#usual preamble\n",
        "%matplotlib inline\n",
        "import pandas as pd\n",
        "import matplotlib.pyplot as plt\n",
        "import numpy as np\n",
        " \n",
        "# Make the graphs a bit prettier, and bigger\n",
        "plt.style.use('ggplot')\n",
        "plt.rcParams['figure.figsize'] = (15, 5)\n",
        " \n",
        "# This is necessary to show lots of columns in pandas 0.12. \n",
        "# Not necessary in pandas 0.13.\n",
        "pd.set_option('display.width', 5000) \n",
        "pd.set_option('display.max_columns', 60)"
      ],
      "execution_count": 1,
      "outputs": []
    },
    {
      "cell_type": "code",
      "metadata": {
        "id": "Dob4rzFSv-H6"
      },
      "source": [
        "#loading the data\n",
        "url='https://drive.google.com/file/d/1ggRw-tVMCSCiqz5sw8If5f3vhPlHxW2f/view?usp=sharing'\n",
        "RawData = 'https://drive.google.com/uc?export=download&id='+url.split('/')[-2]\n",
        "complaints = pd.read_csv(RawData, dtype='unicode')"
      ],
      "execution_count": 3,
      "outputs": []
    },
    {
      "cell_type": "code",
      "metadata": {
        "colab": {
          "base_uri": "https://localhost:8080/",
          "height": 248
        },
        "id": "3LQ1K3_zwYSC",
        "outputId": "af9367f5-1c95-4ff6-e688-5ed39ed4eee4"
      },
      "source": [
        "#let's take a look at the data\n",
        "complaints.head(2)"
      ],
      "execution_count": 4,
      "outputs": [
        {
          "output_type": "execute_result",
          "data": {
            "text/html": [
              "<div>\n",
              "<style scoped>\n",
              "    .dataframe tbody tr th:only-of-type {\n",
              "        vertical-align: middle;\n",
              "    }\n",
              "\n",
              "    .dataframe tbody tr th {\n",
              "        vertical-align: top;\n",
              "    }\n",
              "\n",
              "    .dataframe thead th {\n",
              "        text-align: right;\n",
              "    }\n",
              "</style>\n",
              "<table border=\"1\" class=\"dataframe\">\n",
              "  <thead>\n",
              "    <tr style=\"text-align: right;\">\n",
              "      <th></th>\n",
              "      <th>Unique Key</th>\n",
              "      <th>Created Date</th>\n",
              "      <th>Closed Date</th>\n",
              "      <th>Agency</th>\n",
              "      <th>Agency Name</th>\n",
              "      <th>Complaint Type</th>\n",
              "      <th>Descriptor</th>\n",
              "      <th>Location Type</th>\n",
              "      <th>Incident Zip</th>\n",
              "      <th>Incident Address</th>\n",
              "      <th>Street Name</th>\n",
              "      <th>Cross Street 1</th>\n",
              "      <th>Cross Street 2</th>\n",
              "      <th>Intersection Street 1</th>\n",
              "      <th>Intersection Street 2</th>\n",
              "      <th>Address Type</th>\n",
              "      <th>City</th>\n",
              "      <th>Landmark</th>\n",
              "      <th>Facility Type</th>\n",
              "      <th>Status</th>\n",
              "      <th>Due Date</th>\n",
              "      <th>Resolution Action Updated Date</th>\n",
              "      <th>Community Board</th>\n",
              "      <th>Borough</th>\n",
              "      <th>X Coordinate (State Plane)</th>\n",
              "      <th>Y Coordinate (State Plane)</th>\n",
              "      <th>Park Facility Name</th>\n",
              "      <th>Park Borough</th>\n",
              "      <th>School Name</th>\n",
              "      <th>School Number</th>\n",
              "      <th>School Region</th>\n",
              "      <th>School Code</th>\n",
              "      <th>School Phone Number</th>\n",
              "      <th>School Address</th>\n",
              "      <th>School City</th>\n",
              "      <th>School State</th>\n",
              "      <th>School Zip</th>\n",
              "      <th>School Not Found</th>\n",
              "      <th>School or Citywide Complaint</th>\n",
              "      <th>Vehicle Type</th>\n",
              "      <th>Taxi Company Borough</th>\n",
              "      <th>Taxi Pick Up Location</th>\n",
              "      <th>Bridge Highway Name</th>\n",
              "      <th>Bridge Highway Direction</th>\n",
              "      <th>Road Ramp</th>\n",
              "      <th>Bridge Highway Segment</th>\n",
              "      <th>Garage Lot Name</th>\n",
              "      <th>Ferry Direction</th>\n",
              "      <th>Ferry Terminal Name</th>\n",
              "      <th>Latitude</th>\n",
              "      <th>Longitude</th>\n",
              "      <th>Location</th>\n",
              "    </tr>\n",
              "  </thead>\n",
              "  <tbody>\n",
              "    <tr>\n",
              "      <th>0</th>\n",
              "      <td>26589651</td>\n",
              "      <td>10/31/2013 02:08:41 AM</td>\n",
              "      <td>NaN</td>\n",
              "      <td>NYPD</td>\n",
              "      <td>New York City Police Department</td>\n",
              "      <td>Noise - Street/Sidewalk</td>\n",
              "      <td>Loud Talking</td>\n",
              "      <td>Street/Sidewalk</td>\n",
              "      <td>11432</td>\n",
              "      <td>90-03 169 STREET</td>\n",
              "      <td>169 STREET</td>\n",
              "      <td>90 AVENUE</td>\n",
              "      <td>91 AVENUE</td>\n",
              "      <td>NaN</td>\n",
              "      <td>NaN</td>\n",
              "      <td>ADDRESS</td>\n",
              "      <td>JAMAICA</td>\n",
              "      <td>NaN</td>\n",
              "      <td>Precinct</td>\n",
              "      <td>Assigned</td>\n",
              "      <td>10/31/2013 10:08:41 AM</td>\n",
              "      <td>10/31/2013 02:35:17 AM</td>\n",
              "      <td>12 QUEENS</td>\n",
              "      <td>QUEENS</td>\n",
              "      <td>1042027</td>\n",
              "      <td>197389</td>\n",
              "      <td>Unspecified</td>\n",
              "      <td>QUEENS</td>\n",
              "      <td>Unspecified</td>\n",
              "      <td>Unspecified</td>\n",
              "      <td>Unspecified</td>\n",
              "      <td>Unspecified</td>\n",
              "      <td>Unspecified</td>\n",
              "      <td>Unspecified</td>\n",
              "      <td>Unspecified</td>\n",
              "      <td>Unspecified</td>\n",
              "      <td>Unspecified</td>\n",
              "      <td>N</td>\n",
              "      <td>NaN</td>\n",
              "      <td>NaN</td>\n",
              "      <td>NaN</td>\n",
              "      <td>NaN</td>\n",
              "      <td>NaN</td>\n",
              "      <td>NaN</td>\n",
              "      <td>NaN</td>\n",
              "      <td>NaN</td>\n",
              "      <td>NaN</td>\n",
              "      <td>NaN</td>\n",
              "      <td>NaN</td>\n",
              "      <td>40.70827532593202</td>\n",
              "      <td>-73.79160395779721</td>\n",
              "      <td>(40.70827532593202, -73.79160395779721)</td>\n",
              "    </tr>\n",
              "    <tr>\n",
              "      <th>1</th>\n",
              "      <td>26593698</td>\n",
              "      <td>10/31/2013 02:01:04 AM</td>\n",
              "      <td>NaN</td>\n",
              "      <td>NYPD</td>\n",
              "      <td>New York City Police Department</td>\n",
              "      <td>Illegal Parking</td>\n",
              "      <td>Commercial Overnight Parking</td>\n",
              "      <td>Street/Sidewalk</td>\n",
              "      <td>11378</td>\n",
              "      <td>58 AVENUE</td>\n",
              "      <td>58 AVENUE</td>\n",
              "      <td>58 PLACE</td>\n",
              "      <td>59 STREET</td>\n",
              "      <td>NaN</td>\n",
              "      <td>NaN</td>\n",
              "      <td>BLOCKFACE</td>\n",
              "      <td>MASPETH</td>\n",
              "      <td>NaN</td>\n",
              "      <td>Precinct</td>\n",
              "      <td>Open</td>\n",
              "      <td>10/31/2013 10:01:04 AM</td>\n",
              "      <td>NaN</td>\n",
              "      <td>05 QUEENS</td>\n",
              "      <td>QUEENS</td>\n",
              "      <td>1009349</td>\n",
              "      <td>201984</td>\n",
              "      <td>Unspecified</td>\n",
              "      <td>QUEENS</td>\n",
              "      <td>Unspecified</td>\n",
              "      <td>Unspecified</td>\n",
              "      <td>Unspecified</td>\n",
              "      <td>Unspecified</td>\n",
              "      <td>Unspecified</td>\n",
              "      <td>Unspecified</td>\n",
              "      <td>Unspecified</td>\n",
              "      <td>Unspecified</td>\n",
              "      <td>Unspecified</td>\n",
              "      <td>N</td>\n",
              "      <td>NaN</td>\n",
              "      <td>NaN</td>\n",
              "      <td>NaN</td>\n",
              "      <td>NaN</td>\n",
              "      <td>NaN</td>\n",
              "      <td>NaN</td>\n",
              "      <td>NaN</td>\n",
              "      <td>NaN</td>\n",
              "      <td>NaN</td>\n",
              "      <td>NaN</td>\n",
              "      <td>NaN</td>\n",
              "      <td>40.721040535628305</td>\n",
              "      <td>-73.90945306791765</td>\n",
              "      <td>(40.721040535628305, -73.90945306791765)</td>\n",
              "    </tr>\n",
              "  </tbody>\n",
              "</table>\n",
              "</div>"
            ],
            "text/plain": [
              "  Unique Key            Created Date Closed Date Agency                      Agency Name           Complaint Type                    Descriptor    Location Type Incident Zip  Incident Address Street Name Cross Street 1 Cross Street 2 Intersection Street 1 Intersection Street 2 Address Type     City Landmark Facility Type    Status                Due Date Resolution Action Updated Date Community Board Borough X Coordinate (State Plane) Y Coordinate (State Plane) Park Facility Name Park Borough  School Name School Number School Region  School Code School Phone Number School Address  School City School State   School Zip School Not Found School or Citywide Complaint Vehicle Type Taxi Company Borough Taxi Pick Up Location Bridge Highway Name Bridge Highway Direction Road Ramp Bridge Highway Segment Garage Lot Name Ferry Direction Ferry Terminal Name            Latitude           Longitude                                  Location\n",
              "0   26589651  10/31/2013 02:08:41 AM         NaN   NYPD  New York City Police Department  Noise - Street/Sidewalk                  Loud Talking  Street/Sidewalk        11432  90-03 169 STREET  169 STREET      90 AVENUE      91 AVENUE                   NaN                   NaN      ADDRESS  JAMAICA      NaN      Precinct  Assigned  10/31/2013 10:08:41 AM         10/31/2013 02:35:17 AM       12 QUEENS  QUEENS                    1042027                     197389        Unspecified       QUEENS  Unspecified   Unspecified   Unspecified  Unspecified         Unspecified    Unspecified  Unspecified  Unspecified  Unspecified                N                          NaN          NaN                  NaN                   NaN                 NaN                      NaN       NaN                    NaN             NaN             NaN                 NaN   40.70827532593202  -73.79160395779721   (40.70827532593202, -73.79160395779721)\n",
              "1   26593698  10/31/2013 02:01:04 AM         NaN   NYPD  New York City Police Department          Illegal Parking  Commercial Overnight Parking  Street/Sidewalk        11378         58 AVENUE   58 AVENUE       58 PLACE      59 STREET                   NaN                   NaN    BLOCKFACE  MASPETH      NaN      Precinct      Open  10/31/2013 10:01:04 AM                            NaN       05 QUEENS  QUEENS                    1009349                     201984        Unspecified       QUEENS  Unspecified   Unspecified   Unspecified  Unspecified         Unspecified    Unspecified  Unspecified  Unspecified  Unspecified                N                          NaN          NaN                  NaN                   NaN                 NaN                      NaN       NaN                    NaN             NaN             NaN                 NaN  40.721040535628305  -73.90945306791765  (40.721040535628305, -73.90945306791765)"
            ]
          },
          "metadata": {
            "tags": []
          },
          "execution_count": 4
        }
      ]
    },
    {
      "cell_type": "markdown",
      "metadata": {
        "id": "X1ge7T5hx8I5"
      },
      "source": [
        "Now we will try to find where descriptor is 'Load Talking'"
      ]
    },
    {
      "cell_type": "code",
      "metadata": {
        "id": "6Z-M0-9YyYLS"
      },
      "source": [
        "#filtering the descriptor section to Loud Talking only\n",
        "LoudTalk_complaints = complaints[complaints['Descriptor'] == 'Loud Talking']\n"
      ],
      "execution_count": 7,
      "outputs": []
    },
    {
      "cell_type": "code",
      "metadata": {
        "colab": {
          "base_uri": "https://localhost:8080/",
          "height": 313
        },
        "id": "G-y3N7LVzLB3",
        "outputId": "93dbf758-68b1-428b-ce86-69ff6f16246b"
      },
      "source": [
        "#quick look\n",
        "LoudTalk_complaints.head(3)"
      ],
      "execution_count": 8,
      "outputs": [
        {
          "output_type": "execute_result",
          "data": {
            "text/html": [
              "<div>\n",
              "<style scoped>\n",
              "    .dataframe tbody tr th:only-of-type {\n",
              "        vertical-align: middle;\n",
              "    }\n",
              "\n",
              "    .dataframe tbody tr th {\n",
              "        vertical-align: top;\n",
              "    }\n",
              "\n",
              "    .dataframe thead th {\n",
              "        text-align: right;\n",
              "    }\n",
              "</style>\n",
              "<table border=\"1\" class=\"dataframe\">\n",
              "  <thead>\n",
              "    <tr style=\"text-align: right;\">\n",
              "      <th></th>\n",
              "      <th>Unique Key</th>\n",
              "      <th>Created Date</th>\n",
              "      <th>Closed Date</th>\n",
              "      <th>Agency</th>\n",
              "      <th>Agency Name</th>\n",
              "      <th>Complaint Type</th>\n",
              "      <th>Descriptor</th>\n",
              "      <th>Location Type</th>\n",
              "      <th>Incident Zip</th>\n",
              "      <th>Incident Address</th>\n",
              "      <th>Street Name</th>\n",
              "      <th>Cross Street 1</th>\n",
              "      <th>Cross Street 2</th>\n",
              "      <th>Intersection Street 1</th>\n",
              "      <th>Intersection Street 2</th>\n",
              "      <th>Address Type</th>\n",
              "      <th>City</th>\n",
              "      <th>Landmark</th>\n",
              "      <th>Facility Type</th>\n",
              "      <th>Status</th>\n",
              "      <th>Due Date</th>\n",
              "      <th>Resolution Action Updated Date</th>\n",
              "      <th>Community Board</th>\n",
              "      <th>Borough</th>\n",
              "      <th>X Coordinate (State Plane)</th>\n",
              "      <th>Y Coordinate (State Plane)</th>\n",
              "      <th>Park Facility Name</th>\n",
              "      <th>Park Borough</th>\n",
              "      <th>School Name</th>\n",
              "      <th>School Number</th>\n",
              "      <th>School Region</th>\n",
              "      <th>School Code</th>\n",
              "      <th>School Phone Number</th>\n",
              "      <th>School Address</th>\n",
              "      <th>School City</th>\n",
              "      <th>School State</th>\n",
              "      <th>School Zip</th>\n",
              "      <th>School Not Found</th>\n",
              "      <th>School or Citywide Complaint</th>\n",
              "      <th>Vehicle Type</th>\n",
              "      <th>Taxi Company Borough</th>\n",
              "      <th>Taxi Pick Up Location</th>\n",
              "      <th>Bridge Highway Name</th>\n",
              "      <th>Bridge Highway Direction</th>\n",
              "      <th>Road Ramp</th>\n",
              "      <th>Bridge Highway Segment</th>\n",
              "      <th>Garage Lot Name</th>\n",
              "      <th>Ferry Direction</th>\n",
              "      <th>Ferry Terminal Name</th>\n",
              "      <th>Latitude</th>\n",
              "      <th>Longitude</th>\n",
              "      <th>Location</th>\n",
              "    </tr>\n",
              "  </thead>\n",
              "  <tbody>\n",
              "    <tr>\n",
              "      <th>0</th>\n",
              "      <td>26589651</td>\n",
              "      <td>10/31/2013 02:08:41 AM</td>\n",
              "      <td>NaN</td>\n",
              "      <td>NYPD</td>\n",
              "      <td>New York City Police Department</td>\n",
              "      <td>Noise - Street/Sidewalk</td>\n",
              "      <td>Loud Talking</td>\n",
              "      <td>Street/Sidewalk</td>\n",
              "      <td>11432</td>\n",
              "      <td>90-03 169 STREET</td>\n",
              "      <td>169 STREET</td>\n",
              "      <td>90 AVENUE</td>\n",
              "      <td>91 AVENUE</td>\n",
              "      <td>NaN</td>\n",
              "      <td>NaN</td>\n",
              "      <td>ADDRESS</td>\n",
              "      <td>JAMAICA</td>\n",
              "      <td>NaN</td>\n",
              "      <td>Precinct</td>\n",
              "      <td>Assigned</td>\n",
              "      <td>10/31/2013 10:08:41 AM</td>\n",
              "      <td>10/31/2013 02:35:17 AM</td>\n",
              "      <td>12 QUEENS</td>\n",
              "      <td>QUEENS</td>\n",
              "      <td>1042027</td>\n",
              "      <td>197389</td>\n",
              "      <td>Unspecified</td>\n",
              "      <td>QUEENS</td>\n",
              "      <td>Unspecified</td>\n",
              "      <td>Unspecified</td>\n",
              "      <td>Unspecified</td>\n",
              "      <td>Unspecified</td>\n",
              "      <td>Unspecified</td>\n",
              "      <td>Unspecified</td>\n",
              "      <td>Unspecified</td>\n",
              "      <td>Unspecified</td>\n",
              "      <td>Unspecified</td>\n",
              "      <td>N</td>\n",
              "      <td>NaN</td>\n",
              "      <td>NaN</td>\n",
              "      <td>NaN</td>\n",
              "      <td>NaN</td>\n",
              "      <td>NaN</td>\n",
              "      <td>NaN</td>\n",
              "      <td>NaN</td>\n",
              "      <td>NaN</td>\n",
              "      <td>NaN</td>\n",
              "      <td>NaN</td>\n",
              "      <td>NaN</td>\n",
              "      <td>40.70827532593202</td>\n",
              "      <td>-73.79160395779721</td>\n",
              "      <td>(40.70827532593202, -73.79160395779721)</td>\n",
              "    </tr>\n",
              "    <tr>\n",
              "      <th>8</th>\n",
              "      <td>26590540</td>\n",
              "      <td>10/31/2013 01:44:14 AM</td>\n",
              "      <td>10/31/2013 02:28:04 AM</td>\n",
              "      <td>NYPD</td>\n",
              "      <td>New York City Police Department</td>\n",
              "      <td>Noise - Commercial</td>\n",
              "      <td>Loud Talking</td>\n",
              "      <td>Club/Bar/Restaurant</td>\n",
              "      <td>10011</td>\n",
              "      <td>258 WEST 15 STREET</td>\n",
              "      <td>WEST 15 STREET</td>\n",
              "      <td>7 AVENUE</td>\n",
              "      <td>8 AVENUE</td>\n",
              "      <td>NaN</td>\n",
              "      <td>NaN</td>\n",
              "      <td>ADDRESS</td>\n",
              "      <td>NEW YORK</td>\n",
              "      <td>NaN</td>\n",
              "      <td>Precinct</td>\n",
              "      <td>Closed</td>\n",
              "      <td>10/31/2013 09:44:14 AM</td>\n",
              "      <td>10/31/2013 02:00:56 AM</td>\n",
              "      <td>04 MANHATTAN</td>\n",
              "      <td>MANHATTAN</td>\n",
              "      <td>984031</td>\n",
              "      <td>208847</td>\n",
              "      <td>Unspecified</td>\n",
              "      <td>MANHATTAN</td>\n",
              "      <td>Unspecified</td>\n",
              "      <td>Unspecified</td>\n",
              "      <td>Unspecified</td>\n",
              "      <td>Unspecified</td>\n",
              "      <td>Unspecified</td>\n",
              "      <td>Unspecified</td>\n",
              "      <td>Unspecified</td>\n",
              "      <td>Unspecified</td>\n",
              "      <td>Unspecified</td>\n",
              "      <td>N</td>\n",
              "      <td>NaN</td>\n",
              "      <td>NaN</td>\n",
              "      <td>NaN</td>\n",
              "      <td>NaN</td>\n",
              "      <td>NaN</td>\n",
              "      <td>NaN</td>\n",
              "      <td>NaN</td>\n",
              "      <td>NaN</td>\n",
              "      <td>NaN</td>\n",
              "      <td>NaN</td>\n",
              "      <td>NaN</td>\n",
              "      <td>40.73991339303542</td>\n",
              "      <td>-74.00079028612932</td>\n",
              "      <td>(40.73991339303542, -74.00079028612932)</td>\n",
              "    </tr>\n",
              "    <tr>\n",
              "      <th>25</th>\n",
              "      <td>26591573</td>\n",
              "      <td>10/31/2013 12:35:18 AM</td>\n",
              "      <td>10/31/2013 02:41:35 AM</td>\n",
              "      <td>NYPD</td>\n",
              "      <td>New York City Police Department</td>\n",
              "      <td>Noise - Street/Sidewalk</td>\n",
              "      <td>Loud Talking</td>\n",
              "      <td>Street/Sidewalk</td>\n",
              "      <td>10312</td>\n",
              "      <td>24 PRINCETON LANE</td>\n",
              "      <td>PRINCETON LANE</td>\n",
              "      <td>HAMPTON GREEN</td>\n",
              "      <td>DEAD END</td>\n",
              "      <td>NaN</td>\n",
              "      <td>NaN</td>\n",
              "      <td>ADDRESS</td>\n",
              "      <td>STATEN ISLAND</td>\n",
              "      <td>NaN</td>\n",
              "      <td>Precinct</td>\n",
              "      <td>Closed</td>\n",
              "      <td>10/31/2013 08:35:18 AM</td>\n",
              "      <td>10/31/2013 01:45:17 AM</td>\n",
              "      <td>03 STATEN ISLAND</td>\n",
              "      <td>STATEN ISLAND</td>\n",
              "      <td>929577</td>\n",
              "      <td>140964</td>\n",
              "      <td>Unspecified</td>\n",
              "      <td>STATEN ISLAND</td>\n",
              "      <td>Unspecified</td>\n",
              "      <td>Unspecified</td>\n",
              "      <td>Unspecified</td>\n",
              "      <td>Unspecified</td>\n",
              "      <td>Unspecified</td>\n",
              "      <td>Unspecified</td>\n",
              "      <td>Unspecified</td>\n",
              "      <td>Unspecified</td>\n",
              "      <td>Unspecified</td>\n",
              "      <td>N</td>\n",
              "      <td>NaN</td>\n",
              "      <td>NaN</td>\n",
              "      <td>NaN</td>\n",
              "      <td>NaN</td>\n",
              "      <td>NaN</td>\n",
              "      <td>NaN</td>\n",
              "      <td>NaN</td>\n",
              "      <td>NaN</td>\n",
              "      <td>NaN</td>\n",
              "      <td>NaN</td>\n",
              "      <td>NaN</td>\n",
              "      <td>40.55342078716953</td>\n",
              "      <td>-74.19674315017886</td>\n",
              "      <td>(40.55342078716953, -74.19674315017886)</td>\n",
              "    </tr>\n",
              "  </tbody>\n",
              "</table>\n",
              "</div>"
            ],
            "text/plain": [
              "   Unique Key            Created Date             Closed Date Agency                      Agency Name           Complaint Type    Descriptor        Location Type Incident Zip    Incident Address     Street Name Cross Street 1 Cross Street 2 Intersection Street 1 Intersection Street 2 Address Type           City Landmark Facility Type    Status                Due Date Resolution Action Updated Date   Community Board        Borough X Coordinate (State Plane) Y Coordinate (State Plane) Park Facility Name   Park Borough  School Name School Number School Region  School Code School Phone Number School Address  School City School State   School Zip School Not Found School or Citywide Complaint Vehicle Type Taxi Company Borough Taxi Pick Up Location Bridge Highway Name Bridge Highway Direction Road Ramp Bridge Highway Segment Garage Lot Name Ferry Direction Ferry Terminal Name           Latitude           Longitude                                 Location\n",
              "0    26589651  10/31/2013 02:08:41 AM                     NaN   NYPD  New York City Police Department  Noise - Street/Sidewalk  Loud Talking      Street/Sidewalk        11432    90-03 169 STREET      169 STREET      90 AVENUE      91 AVENUE                   NaN                   NaN      ADDRESS        JAMAICA      NaN      Precinct  Assigned  10/31/2013 10:08:41 AM         10/31/2013 02:35:17 AM         12 QUEENS         QUEENS                    1042027                     197389        Unspecified         QUEENS  Unspecified   Unspecified   Unspecified  Unspecified         Unspecified    Unspecified  Unspecified  Unspecified  Unspecified                N                          NaN          NaN                  NaN                   NaN                 NaN                      NaN       NaN                    NaN             NaN             NaN                 NaN  40.70827532593202  -73.79160395779721  (40.70827532593202, -73.79160395779721)\n",
              "8    26590540  10/31/2013 01:44:14 AM  10/31/2013 02:28:04 AM   NYPD  New York City Police Department       Noise - Commercial  Loud Talking  Club/Bar/Restaurant        10011  258 WEST 15 STREET  WEST 15 STREET       7 AVENUE       8 AVENUE                   NaN                   NaN      ADDRESS       NEW YORK      NaN      Precinct    Closed  10/31/2013 09:44:14 AM         10/31/2013 02:00:56 AM      04 MANHATTAN      MANHATTAN                     984031                     208847        Unspecified      MANHATTAN  Unspecified   Unspecified   Unspecified  Unspecified         Unspecified    Unspecified  Unspecified  Unspecified  Unspecified                N                          NaN          NaN                  NaN                   NaN                 NaN                      NaN       NaN                    NaN             NaN             NaN                 NaN  40.73991339303542  -74.00079028612932  (40.73991339303542, -74.00079028612932)\n",
              "25   26591573  10/31/2013 12:35:18 AM  10/31/2013 02:41:35 AM   NYPD  New York City Police Department  Noise - Street/Sidewalk  Loud Talking      Street/Sidewalk        10312   24 PRINCETON LANE  PRINCETON LANE  HAMPTON GREEN       DEAD END                   NaN                   NaN      ADDRESS  STATEN ISLAND      NaN      Precinct    Closed  10/31/2013 08:35:18 AM         10/31/2013 01:45:17 AM  03 STATEN ISLAND  STATEN ISLAND                     929577                     140964        Unspecified  STATEN ISLAND  Unspecified   Unspecified   Unspecified  Unspecified         Unspecified    Unspecified  Unspecified  Unspecified  Unspecified                N                          NaN          NaN                  NaN                   NaN                 NaN                      NaN       NaN                    NaN             NaN             NaN                 NaN  40.55342078716953  -74.19674315017886  (40.55342078716953, -74.19674315017886)"
            ]
          },
          "metadata": {
            "tags": []
          },
          "execution_count": 8
        }
      ]
    },
    {
      "cell_type": "code",
      "metadata": {
        "colab": {
          "base_uri": "https://localhost:8080/"
        },
        "id": "xjofSVzAzyDz",
        "outputId": "af96fb88-77e4-415d-86e6-e4079f00b2e0"
      },
      "source": [
        "#selecting only Descriptor & City columns to simplify things \n",
        "LoudTalk_complaints= LoudTalk_complaints[['Descriptor','City']]\n",
        "LoudTalk_complaints.info"
      ],
      "execution_count": 36,
      "outputs": [
        {
          "output_type": "execute_result",
          "data": {
            "text/plain": [
              "<bound method DataFrame.info of           Descriptor           City\n",
              "0       Loud Talking        JAMAICA\n",
              "8       Loud Talking       NEW YORK\n",
              "25      Loud Talking  STATEN ISLAND\n",
              "28      Loud Talking       NEW YORK\n",
              "44      Loud Talking          BRONX\n",
              "...              ...            ...\n",
              "111054  Loud Talking       BROOKLYN\n",
              "111055  Loud Talking       BROOKLYN\n",
              "111059  Loud Talking       NEW YORK\n",
              "111066  Loud Talking       NEW YORK\n",
              "111067  Loud Talking       BROOKLYN\n",
              "\n",
              "[1272 rows x 2 columns]>"
            ]
          },
          "metadata": {
            "tags": []
          },
          "execution_count": 36
        }
      ]
    },
    {
      "cell_type": "markdown",
      "metadata": {
        "id": "LiFNK33g-KnF"
      },
      "source": [
        "So, now we have a seperated dataset contains all the cities that complained about Loud Talking"
      ]
    },
    {
      "cell_type": "code",
      "metadata": {
        "colab": {
          "base_uri": "https://localhost:8080/"
        },
        "id": "g8EeRYj551Kf",
        "outputId": "0a83146a-1d1d-4a75-e9ab-4e43b6e917f4"
      },
      "source": [
        "# Counting How many each city complained about Loud Talking\n",
        "LoudTalk_complaints['City'].value_counts()"
      ],
      "execution_count": 38,
      "outputs": [
        {
          "output_type": "execute_result",
          "data": {
            "text/plain": [
              "NEW YORK               527\n",
              "BROOKLYN               318\n",
              "BRONX                  203\n",
              "ASTORIA                 40\n",
              "STATEN ISLAND           19\n",
              "FAR ROCKAWAY            14\n",
              "LONG ISLAND CITY        14\n",
              "WOODSIDE                13\n",
              "SUNNYSIDE               12\n",
              "WOODHAVEN               11\n",
              "JAMAICA                  9\n",
              "KEW GARDENS              8\n",
              "JACKSON HEIGHTS          7\n",
              "FLUSHING                 7\n",
              "RIDGEWOOD                7\n",
              "ELMHURST                 6\n",
              "RICHMOND HILL            5\n",
              "SOUTH OZONE PARK         5\n",
              "FOREST HILLS             5\n",
              "REGO PARK                3\n",
              "OAKLAND GARDENS          3\n",
              "CORONA                   3\n",
              "OZONE PARK               3\n",
              "QUEENS VILLAGE           3\n",
              "SPRINGFIELD GARDENS      3\n",
              "FRESH MEADOWS            3\n",
              "MASPETH                  2\n",
              "LITTLE NECK              2\n",
              "HOWARD BEACH             2\n",
              "EAST ELMHURST            2\n",
              "MIDDLE VILLAGE           2\n",
              "ROCKAWAY PARK            1\n",
              "CAMBRIA HEIGHTS          1\n",
              "HOLLIS                   1\n",
              "COLLEGE POINT            1\n",
              "BELLEROSE                1\n",
              "ARVERNE                  1\n",
              "GLEN OAKS                1\n",
              "BAYSIDE                  1\n",
              "NEW HYDE PARK            1\n",
              "CENTRAL PARK             1\n",
              "Name: City, dtype: int64"
            ]
          },
          "metadata": {
            "tags": []
          },
          "execution_count": 38
        }
      ]
    },
    {
      "cell_type": "markdown",
      "metadata": {
        "id": "ol_LXpv0-3R8"
      },
      "source": [
        "As we can see, the numbers differs from hundreds to ones, therefore we're selecting the cities with a high complains numbers"
      ]
    },
    {
      "cell_type": "code",
      "metadata": {
        "colab": {
          "base_uri": "https://localhost:8080/",
          "height": 326
        },
        "id": "gfmTtDcO7_Kv",
        "outputId": "4563d940-166f-46ba-d91f-69461dc1fcf9"
      },
      "source": [
        "# Plotting the most 3 whining cities\n",
        "LoudTalk_complaints['City'].value_counts()[:3].plot(kind='bar')\n"
      ],
      "execution_count": 41,
      "outputs": [
        {
          "output_type": "execute_result",
          "data": {
            "text/plain": [
              "<matplotlib.axes._subplots.AxesSubplot at 0x7f85efd88850>"
            ]
          },
          "metadata": {
            "tags": []
          },
          "execution_count": 41
        },
        {
          "output_type": "display_data",
          "data": {
            "image/png": "[encoded data removed]",
            "text/plain": [
              "<Figure size 432x288 with 1 Axes>"
            ]
          },
          "metadata": {
            "tags": [],
            "needs_background": "light"
          }
        }
      ]
    },
    {
      "cell_type": "markdown",
      "metadata": {
        "id": "jQmLeXdl_0Rc"
      },
      "source": [
        "As showen, the award of most complaining city goes to NY."
      ]
    }
  ]
}