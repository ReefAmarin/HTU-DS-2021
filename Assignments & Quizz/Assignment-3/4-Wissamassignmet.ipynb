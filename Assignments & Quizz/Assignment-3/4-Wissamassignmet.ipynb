{
  "nbformat": 4,
  "nbformat_minor": 0,
  "metadata": {
    "colab": {
      "name": "assignmet.ipynb",
      "provenance": [],
      "collapsed_sections": []
    },
    "kernelspec": {
      "name": "python3",
      "display_name": "Python 3"
    },
    "language_info": {
      "name": "python"
    }
  },
  "cells": [
    {
      "cell_type": "code",
      "metadata": {
        "id": "YSWpFfhadpr9"
      },
      "source": [
        "import pandas as pd\n",
        "import numpy as np\n",
        "import matplotlib.pyplot as plt\n",
        "df =  pd.read_csv('311-service-requests.csv')"
      ],
      "execution_count": null,
      "outputs": []
    },
    {
      "cell_type": "code",
      "metadata": {
        "colab": {
          "base_uri": "https://localhost:8080/",
          "height": 188
        },
        "id": "kjh7JFmJd-HA",
        "outputId": "844757fb-aa17-4fc1-b5e9-9f44c168970e"
      },
      "source": [
        "df.head(1)"
      ],
      "execution_count": null,
      "outputs": [
        {
          "output_type": "execute_result",
          "data": {
            "text/html": [
              "<div>\n",
              "<style scoped>\n",
              "    .dataframe tbody tr th:only-of-type {\n",
              "        vertical-align: middle;\n",
              "    }\n",
              "\n",
              "    .dataframe tbody tr th {\n",
              "        vertical-align: top;\n",
              "    }\n",
              "\n",
              "    .dataframe thead th {\n",
              "        text-align: right;\n",
              "    }\n",
              "</style>\n",
              "<table border=\"1\" class=\"dataframe\">\n",
              "  <thead>\n",
              "    <tr style=\"text-align: right;\">\n",
              "      <th></th>\n",
              "      <th>Unique Key</th>\n",
              "      <th>Created Date</th>\n",
              "      <th>Closed Date</th>\n",
              "      <th>Agency</th>\n",
              "      <th>Agency Name</th>\n",
              "      <th>Complaint Type</th>\n",
              "      <th>Descriptor</th>\n",
              "      <th>Location Type</th>\n",
              "      <th>Incident Zip</th>\n",
              "      <th>Incident Address</th>\n",
              "      <th>Street Name</th>\n",
              "      <th>Cross Street 1</th>\n",
              "      <th>Cross Street 2</th>\n",
              "      <th>Intersection Street 1</th>\n",
              "      <th>Intersection Street 2</th>\n",
              "      <th>Address Type</th>\n",
              "      <th>City</th>\n",
              "      <th>Landmark</th>\n",
              "      <th>Facility Type</th>\n",
              "      <th>Status</th>\n",
              "      <th>Due Date</th>\n",
              "      <th>Resolution Action Updated Date</th>\n",
              "      <th>Community Board</th>\n",
              "      <th>Borough</th>\n",
              "      <th>X Coordinate (State Plane)</th>\n",
              "      <th>Y Coordinate (State Plane)</th>\n",
              "      <th>Park Facility Name</th>\n",
              "      <th>Park Borough</th>\n",
              "      <th>School Name</th>\n",
              "      <th>School Number</th>\n",
              "      <th>School Region</th>\n",
              "      <th>School Code</th>\n",
              "      <th>School Phone Number</th>\n",
              "      <th>School Address</th>\n",
              "      <th>School City</th>\n",
              "      <th>School State</th>\n",
              "      <th>School Zip</th>\n",
              "      <th>School Not Found</th>\n",
              "      <th>School or Citywide Complaint</th>\n",
              "      <th>Vehicle Type</th>\n",
              "      <th>Taxi Company Borough</th>\n",
              "      <th>Taxi Pick Up Location</th>\n",
              "      <th>Bridge Highway Name</th>\n",
              "      <th>Bridge Highway Direction</th>\n",
              "      <th>Road Ramp</th>\n",
              "      <th>Bridge Highway Segment</th>\n",
              "      <th>Garage Lot Name</th>\n",
              "      <th>Ferry Direction</th>\n",
              "      <th>Ferry Terminal Name</th>\n",
              "      <th>Latitude</th>\n",
              "      <th>Longitude</th>\n",
              "      <th>Location</th>\n",
              "    </tr>\n",
              "  </thead>\n",
              "  <tbody>\n",
              "    <tr>\n",
              "      <th>0</th>\n",
              "      <td>26589651</td>\n",
              "      <td>10/31/2013 02:08:41 AM</td>\n",
              "      <td>NaN</td>\n",
              "      <td>NYPD</td>\n",
              "      <td>New York City Police Department</td>\n",
              "      <td>Noise - Street/Sidewalk</td>\n",
              "      <td>Loud Talking</td>\n",
              "      <td>Street/Sidewalk</td>\n",
              "      <td>11432.0</td>\n",
              "      <td>90-03 169 STREET</td>\n",
              "      <td>169 STREET</td>\n",
              "      <td>90 AVENUE</td>\n",
              "      <td>91 AVENUE</td>\n",
              "      <td>NaN</td>\n",
              "      <td>NaN</td>\n",
              "      <td>ADDRESS</td>\n",
              "      <td>JAMAICA</td>\n",
              "      <td>NaN</td>\n",
              "      <td>Precinct</td>\n",
              "      <td>Assigned</td>\n",
              "      <td>10/31/2013 10:08:41 AM</td>\n",
              "      <td>10/31/2013 02:35:17 AM</td>\n",
              "      <td>12 QUEENS</td>\n",
              "      <td>QUEENS</td>\n",
              "      <td>1042027.0</td>\n",
              "      <td>197389.0</td>\n",
              "      <td>Unspecified</td>\n",
              "      <td>QUEENS</td>\n",
              "      <td>Unspecified</td>\n",
              "      <td>Unspecified</td>\n",
              "      <td>Unspecified</td>\n",
              "      <td>Unspecified</td>\n",
              "      <td>Unspecified</td>\n",
              "      <td>Unspecified</td>\n",
              "      <td>Unspecified</td>\n",
              "      <td>Unspecified</td>\n",
              "      <td>Unspecified</td>\n",
              "      <td>N</td>\n",
              "      <td>NaN</td>\n",
              "      <td>NaN</td>\n",
              "      <td>NaN</td>\n",
              "      <td>NaN</td>\n",
              "      <td>NaN</td>\n",
              "      <td>NaN</td>\n",
              "      <td>NaN</td>\n",
              "      <td>NaN</td>\n",
              "      <td>NaN</td>\n",
              "      <td>NaN</td>\n",
              "      <td>NaN</td>\n",
              "      <td>40.708275</td>\n",
              "      <td>-73.791604</td>\n",
              "      <td>(40.70827532593202, -73.79160395779721)</td>\n",
              "    </tr>\n",
              "  </tbody>\n",
              "</table>\n",
              "</div>"
            ],
            "text/plain": [
              "   Unique Key  ...                                 Location\n",
              "0    26589651  ...  (40.70827532593202, -73.79160395779721)\n",
              "\n",
              "[1 rows x 52 columns]"
            ]
          },
          "metadata": {
            "tags": []
          },
          "execution_count": 24
        }
      ]
    },
    {
      "cell_type": "code",
      "metadata": {
        "colab": {
          "base_uri": "https://localhost:8080/",
          "height": 206
        },
        "id": "WTqfZgXQoMJI",
        "outputId": "64b39367-6753-4e10-f64e-09a3b08572be"
      },
      "source": [
        "x = df[['Borough','Complaint Type']]\n",
        "x.head(5)"
      ],
      "execution_count": null,
      "outputs": [
        {
          "output_type": "execute_result",
          "data": {
            "text/html": [
              "<div>\n",
              "<style scoped>\n",
              "    .dataframe tbody tr th:only-of-type {\n",
              "        vertical-align: middle;\n",
              "    }\n",
              "\n",
              "    .dataframe tbody tr th {\n",
              "        vertical-align: top;\n",
              "    }\n",
              "\n",
              "    .dataframe thead th {\n",
              "        text-align: right;\n",
              "    }\n",
              "</style>\n",
              "<table border=\"1\" class=\"dataframe\">\n",
              "  <thead>\n",
              "    <tr style=\"text-align: right;\">\n",
              "      <th></th>\n",
              "      <th>Borough</th>\n",
              "      <th>Complaint Type</th>\n",
              "    </tr>\n",
              "  </thead>\n",
              "  <tbody>\n",
              "    <tr>\n",
              "      <th>0</th>\n",
              "      <td>QUEENS</td>\n",
              "      <td>Noise - Street/Sidewalk</td>\n",
              "    </tr>\n",
              "    <tr>\n",
              "      <th>1</th>\n",
              "      <td>QUEENS</td>\n",
              "      <td>Illegal Parking</td>\n",
              "    </tr>\n",
              "    <tr>\n",
              "      <th>2</th>\n",
              "      <td>MANHATTAN</td>\n",
              "      <td>Noise - Commercial</td>\n",
              "    </tr>\n",
              "    <tr>\n",
              "      <th>3</th>\n",
              "      <td>MANHATTAN</td>\n",
              "      <td>Noise - Vehicle</td>\n",
              "    </tr>\n",
              "    <tr>\n",
              "      <th>4</th>\n",
              "      <td>MANHATTAN</td>\n",
              "      <td>Rodent</td>\n",
              "    </tr>\n",
              "  </tbody>\n",
              "</table>\n",
              "</div>"
            ],
            "text/plain": [
              "     Borough           Complaint Type\n",
              "0     QUEENS  Noise - Street/Sidewalk\n",
              "1     QUEENS          Illegal Parking\n",
              "2  MANHATTAN       Noise - Commercial\n",
              "3  MANHATTAN          Noise - Vehicle\n",
              "4  MANHATTAN                   Rodent"
            ]
          },
          "metadata": {
            "tags": []
          },
          "execution_count": 27
        }
      ]
    },
    {
      "cell_type": "code",
      "metadata": {
        "colab": {
          "base_uri": "https://localhost:8080/"
        },
        "id": "cQF7e5NLsZ0H",
        "outputId": "f31cf66b-3fb4-43db-9c6e-8a998d0788cd"
      },
      "source": [
        "x.shape"
      ],
      "execution_count": null,
      "outputs": [
        {
          "output_type": "execute_result",
          "data": {
            "text/plain": [
              "(23401, 2)"
            ]
          },
          "metadata": {
            "tags": []
          },
          "execution_count": 52
        }
      ]
    },
    {
      "cell_type": "code",
      "metadata": {
        "colab": {
          "base_uri": "https://localhost:8080/"
        },
        "id": "p4LY1J6EscXa",
        "outputId": "49e1e990-ee7c-4a35-b8f3-f258463393d3"
      },
      "source": [
        "x.info()"
      ],
      "execution_count": null,
      "outputs": [
        {
          "output_type": "stream",
          "text": [
            "<class 'pandas.core.frame.DataFrame'>\n",
            "RangeIndex: 23401 entries, 0 to 23400\n",
            "Data columns (total 2 columns):\n",
            " #   Column          Non-Null Count  Dtype \n",
            "---  ------          --------------  ----- \n",
            " 0   Borough         23401 non-null  object\n",
            " 1   Complaint Type  23401 non-null  object\n",
            "dtypes: object(2)\n",
            "memory usage: 365.8+ KB\n"
          ],
          "name": "stdout"
        }
      ]
    },
    {
      "cell_type": "code",
      "metadata": {
        "colab": {
          "base_uri": "https://localhost:8080/"
        },
        "id": "rWuiW62yovwN",
        "outputId": "8e132ff2-16f0-45f4-cb8f-4a5784ab794b"
      },
      "source": [
        "x['Borough'].unique()"
      ],
      "execution_count": null,
      "outputs": [
        {
          "output_type": "execute_result",
          "data": {
            "text/plain": [
              "array(['QUEENS', 'MANHATTAN', 'BROOKLYN', 'BRONX', 'STATEN ISLAND',\n",
              "       'Unspecified'], dtype=object)"
            ]
          },
          "metadata": {
            "tags": []
          },
          "execution_count": 29
        }
      ]
    },
    {
      "cell_type": "code",
      "metadata": {
        "colab": {
          "base_uri": "https://localhost:8080/"
        },
        "id": "b4IoT3yfsjpG",
        "outputId": "f72268fc-2437-48e6-a154-73ff478457c8"
      },
      "source": [
        "x['Complaint Type'].unique()"
      ],
      "execution_count": null,
      "outputs": [
        {
          "output_type": "execute_result",
          "data": {
            "text/plain": [
              "array(['Noise - Street/Sidewalk', 'Illegal Parking', 'Noise - Commercial',\n",
              "       'Noise - Vehicle', 'Rodent', 'Blocked Driveway',\n",
              "       'Noise - House of Worship', 'Street Light Condition',\n",
              "       'Harboring Bees/Wasps', 'Taxi Complaint', 'Homeless Encampment',\n",
              "       'Traffic Signal Condition', 'Food Establishment', 'Noise - Park',\n",
              "       'Broken Muni Meter', 'Benefit Card Replacement',\n",
              "       'Sanitation Condition', 'ELECTRIC', 'PLUMBING', 'HEATING',\n",
              "       'GENERAL CONSTRUCTION', 'Street Condition', 'Consumer Complaint',\n",
              "       'Derelict Vehicles', 'Noise', 'Drinking', 'Indoor Air Quality',\n",
              "       'Panhandling', 'Derelict Vehicle', 'Lead', 'Water System',\n",
              "       'Noise - Helicopter', 'Homeless Person Assistance',\n",
              "       'Root/Sewer/Sidewalk Condition', 'Sidewalk Condition', 'Graffiti',\n",
              "       'DOF Literature Request', 'Animal in a Park',\n",
              "       'Overgrown Tree/Branches', 'Air Quality', 'Dirty Conditions',\n",
              "       'Water Quality', 'Other Enforcement', 'Collection Truck Noise',\n",
              "       'Illegal Tree Damage', 'Litter Basket / Request',\n",
              "       'Violation of Park Rules', 'Maintenance or Facility', 'Sewer',\n",
              "       'Agency Issues', 'Beach/Pool/Sauna Complaint',\n",
              "       'Bike/Roller/Skate Chronic', 'School Maintenance', 'Animal Abuse',\n",
              "       'Water Conservation', 'Damaged Tree', 'Street Sign - Damaged',\n",
              "       'Taxi Compliment', 'Overflowing Litter Baskets', 'Asbestos',\n",
              "       'Indoor Sewage', 'Hazardous Materials', 'Dead Tree', 'Smoking',\n",
              "       'Missed Collection (All Materials)', 'Standing Water',\n",
              "       'Sweeping/Missed-Inadequate',\n",
              "       'DCA / DOH New License Application Request', 'Ferry Inquiry',\n",
              "       'For Hire Vehicle Complaint', 'Traffic', 'Plumbing',\n",
              "       'Building/Use', 'SCRIE', 'Boilers',\n",
              "       'General Construction/Plumbing', 'Construction',\n",
              "       'Special Projects Inspection Team (SPIT)', 'Elevator',\n",
              "       'DOT Literature Request', 'Fire Safety Director - F58',\n",
              "       'Highway Condition', 'Street Sign - Missing',\n",
              "       'Investigations and Discipline (IAD)', 'Non-Residential Heat',\n",
              "       'Electrical', 'DOF Parking - Tax Exemption', 'Special Enforcement',\n",
              "       'Street Sign - Dangling', 'Internal Code',\n",
              "       'Unsanitary Animal Pvt Property', 'Derelict Bicycle',\n",
              "       'Industrial Waste', 'Vacant Lot', 'Food Poisoning',\n",
              "       'Found Property', 'Bridge Condition', 'Bike Rack Condition',\n",
              "       'BEST/Site Safety', 'EAP Inspection - F59', 'Vending',\n",
              "       'Public Assembly', 'Public Payphone Complaint', 'Unleashed Dog',\n",
              "       'Curb Condition', 'Cranes and Derricks', 'DCA Literature Request',\n",
              "       'City Vehicle Placard Complaint',\n",
              "       'Legal Services Provider Complaint', 'Posting Advertisement',\n",
              "       'PAINT - PLASTER', 'NONCONST', 'APPLIANCE', 'CONSTRUCTION',\n",
              "       'Recycling Enforcement', 'Special Natural Area District (SNAD)',\n",
              "       'DPR Internal', 'Opinion for the Mayor', 'Mold', 'Snow',\n",
              "       'Complaint', 'Urinating in Public', 'Senior Center Complaint',\n",
              "       'Animal Facility - No Permit', 'Unsanitary Animal Facility',\n",
              "       'Parking Card', 'Fire Alarm - Reinspection',\n",
              "       'Request for Information', 'Miscellaneous Categories',\n",
              "       'Unsanitary Pigeon Condition', 'Plant', 'Fire Alarm - Replacement',\n",
              "       'DPR Literature Request', 'Invitation', 'Scaffold Safety',\n",
              "       'Transportation Provider Complaint', 'Ferry Complaint',\n",
              "       'STRUCTURAL', 'Bus Stop Shelter Placement', 'Compliment',\n",
              "       'Misc. Comments', 'Disorderly Youth', 'OEM Literature Request',\n",
              "       'Fire Alarm - New System'], dtype=object)"
            ]
          },
          "metadata": {
            "tags": []
          },
          "execution_count": 55
        }
      ]
    },
    {
      "cell_type": "code",
      "metadata": {
        "colab": {
          "base_uri": "https://localhost:8080/"
        },
        "id": "RuPk1o4Jo7Fg",
        "outputId": "809bd6e0-09f0-4f6d-c3ef-7faa1f1b3334"
      },
      "source": [
        "#Complaints by Borough\n",
        "x['Complaint Type'].groupby(x['Borough']).value_counts()\n"
      ],
      "execution_count": null,
      "outputs": [
        {
          "output_type": "execute_result",
          "data": {
            "text/plain": [
              "Borough      Complaint Type         \n",
              "BRONX        HEATING                    1432\n",
              "             GENERAL CONSTRUCTION        418\n",
              "             Street Light Condition      355\n",
              "             PLUMBING                    317\n",
              "             PAINT - PLASTER             283\n",
              "                                        ... \n",
              "Unspecified  Opinion for the Mayor         1\n",
              "             Sanitation Condition          1\n",
              "             School Maintenance            1\n",
              "             Senior Center Complaint       1\n",
              "             Water System                  1\n",
              "Name: Complaint Type, Length: 506, dtype: int64"
            ]
          },
          "metadata": {
            "tags": []
          },
          "execution_count": 51
        }
      ]
    },
    {
      "cell_type": "code",
      "metadata": {
        "colab": {
          "base_uri": "https://localhost:8080/"
        },
        "id": "hmaYKAgwqvb3",
        "outputId": "a40548b7-f476-415f-8e70-38c52d54c745"
      },
      "source": [
        "complaint_borough = x.groupby(['Borough']).agg({'Complaint Type': 'count'})['Complaint Type']\n",
        "complaint_borough"
      ],
      "execution_count": null,
      "outputs": [
        {
          "output_type": "execute_result",
          "data": {
            "text/plain": [
              "Borough\n",
              "BRONX            4394\n",
              "BROOKLYN         7083\n",
              "MANHATTAN        5227\n",
              "QUEENS           4611\n",
              "STATEN ISLAND     896\n",
              "Unspecified      1190\n",
              "Name: Complaint Type, dtype: int64"
            ]
          },
          "metadata": {
            "tags": []
          },
          "execution_count": 39
        }
      ]
    },
    {
      "cell_type": "code",
      "metadata": {
        "colab": {
          "base_uri": "https://localhost:8080/",
          "height": 265
        },
        "id": "b63ZAYAIrdqv",
        "outputId": "aafbddc3-caa1-41fc-b4fb-89a0bd4bb698"
      },
      "source": [
        "complaint_borough.plot(kind ='barh')\n",
        "plt.show()"
      ],
      "execution_count": null,
      "outputs": [
        {
          "output_type": "display_data",
          "data": {
            "image/png": "[encoded data removed]",
            "text/plain": [
              "<Figure size 432x288 with 1 Axes>"
            ]
          },
          "metadata": {
            "tags": [],
            "needs_background": "light"
          }
        }
      ]
    }
  ]
}