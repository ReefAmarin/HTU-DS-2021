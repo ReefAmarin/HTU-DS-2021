{
  "nbformat": 4,
  "nbformat_minor": 0,
  "metadata": {
    "colab": {
      "name": "PresidentHeights-Reef.Amarin.ipynb",
      "provenance": [],
      "collapsed_sections": [],
      "history_visible": true,
      "authorship_tag": "ABX9TyMSSeWl5tHMqPc3NwL5EJ4A",
      "include_colab_link": true
    },
    "kernelspec": {
      "name": "python3",
      "display_name": "Python 3"
    },
    "language_info": {
      "name": "python"
    }
  },
  "cells": [
    {
      "cell_type": "markdown",
      "metadata": {
        "id": "view-in-github",
        "colab_type": "text"
      },
      "source": [
        "<a href=\"https://colab.research.google.com/github/ReefAmarin/HTU-DS-2021/blob/main/PresidentHeights_Reef_Amarin.ipynb\" target=\"_parent\"><img src=\"https://colab.research.google.com/assets/colab-badge.svg\" alt=\"Open In Colab\"/></a>"
      ]
    },
    {
      "cell_type": "code",
      "metadata": {
        "colab": {
          "base_uri": "https://localhost:8080/"
        },
        "id": "GsXCAnJijHEH",
        "outputId": "261c705b-75e1-4df4-8e8c-31e437b3d364"
      },
      "source": [
        "!head -4 sample_data/president_heights.csv\n"
      ],
      "execution_count": null,
      "outputs": [
        {
          "output_type": "stream",
          "text": [
            "order,name,height(cm)\n",
            "1,George Washington,189\n",
            "2,John Adams,170\n",
            "3,Thomas Jefferson,189\n"
          ],
          "name": "stdout"
        }
      ]
    },
    {
      "cell_type": "code",
      "metadata": {
        "colab": {
          "base_uri": "https://localhost:8080/"
        },
        "id": "dYOY26Vbp-sS",
        "outputId": "8c08f359-1a04-43d6-d6db-cc53363fa4d6"
      },
      "source": [
        "print(\"Median:\", np.median(heights))"
      ],
      "execution_count": 31,
      "outputs": [
        {
          "output_type": "stream",
          "text": [
            "Median: 182.0\n"
          ],
          "name": "stdout"
        }
      ]
    },
    {
      "cell_type": "code",
      "metadata": {
        "id": "rz8aepkvqJWq"
      },
      "source": [
        ""
      ],
      "execution_count": null,
      "outputs": []
    },
    {
      "cell_type": "code",
      "metadata": {
        "colab": {
          "base_uri": "https://localhost:8080/"
        },
        "id": "ho-tWGfXis6v",
        "outputId": "70133038-5e6e-4032-ad9a-b29b49b89668"
      },
      "source": [
        "import pandas as pand\n",
        "import numpy as np\n",
        "data = pand.read_csv('sample_data/president_heights.csv')\n",
        "Harr = np.array(data['height(cm)'])\n",
        "print(Harr)"
      ],
      "execution_count": 38,
      "outputs": [
        {
          "output_type": "stream",
          "text": [
            "[189 170 189 163 183 171 185 168 173 183 173 173 175 178 183 193 178 173\n",
            " 174 183 183 168 170 178 182 180 183 178 182 188 175 179 183 193 182 183\n",
            " 177 185 188 188 182 185]\n"
          ],
          "name": "stdout"
        }
      ]
    },
    {
      "cell_type": "code",
      "metadata": {
        "colab": {
          "base_uri": "https://localhost:8080/"
        },
        "id": "te_hQYDOpjVt",
        "outputId": "f09cddd7-3891-482d-c569-9eea1dc2c0ae"
      },
      "source": [
        "print(\"Mean Value:\", Harr.mean())\n",
        "print(\"Std:\", Harr.std())\n",
        "print(\"min:    \", Harr.min())\n",
        "print(\"Max:    \", Harr.max())"
      ],
      "execution_count": null,
      "outputs": [
        {
          "output_type": "stream",
          "text": [
            "Mean Value: 179.73809523809524\n",
            "Std: 6.931843442745892\n",
            "min:     163\n",
            "Max:     193\n"
          ],
          "name": "stdout"
        }
      ]
    },
    {
      "cell_type": "code",
      "metadata": {
        "colab": {
          "base_uri": "https://localhost:8080/",
          "height": 318
        },
        "id": "97TxP_rLqRVk",
        "outputId": "96c58dec-be78-477e-e3a6-9c6bb7802fb8"
      },
      "source": [
        "import matplotlib.pyplot as plotting\n",
        "plotting.hist(heights,color='#880055',orientation='horizontal')\n",
        "plotting.title('Heights in (cm))')\n",
        "plotting.ylabel('president order');\n",
        "plotting.xlabel('height in Centimeters')\n"
      ],
      "execution_count": 46,
      "outputs": [
        {
          "output_type": "execute_result",
          "data": {
            "text/plain": [
              "Text(0.5, 0, 'height in Centimeters')"
            ]
          },
          "metadata": {
            "tags": []
          },
          "execution_count": 46
        },
        {
          "output_type": "display_data",
          "data": {
            "image/png": "[encoded data removed]",
            "text/plain": [
              "<Figure size 432x288 with 1 Axes>"
            ]
          },
          "metadata": {
            "tags": []
          }
        }
      ]
    }
  ]
}