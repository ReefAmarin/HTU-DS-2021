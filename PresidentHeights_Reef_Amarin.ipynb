{
  "nbformat": 4,
  "nbformat_minor": 0,
  "metadata": {
    "colab": {
      "name": "PresidentHeights-Reef.Amarin.ipynb",
      "provenance": [],
      "collapsed_sections": [],
      "history_visible": true,
      "authorship_tag": "ABX9TyN/UQuI2WyW6EW1hyZhKDEl",
      "include_colab_link": true
    },
    "kernelspec": {
      "name": "python3",
      "display_name": "Python 3"
    },
    "language_info": {
      "name": "python"
    }
  },
  "cells": [
    {
      "cell_type": "markdown",
      "metadata": {
        "id": "view-in-github",
        "colab_type": "text"
      },
      "source": [
        "<a href=\"https://colab.research.google.com/github/ReefAmarin/HTU-DS-2021/blob/main/PresidentHeights_Reef_Amarin.ipynb\" target=\"_parent\"><img src=\"https://colab.research.google.com/assets/colab-badge.svg\" alt=\"Open In Colab\"/></a>"
      ]
    },
    {
      "cell_type": "code",
      "metadata": {
        "colab": {
          "base_uri": "https://localhost:8080/"
        },
        "id": "GsXCAnJijHEH",
        "outputId": "cdece770-54dc-4378-9727-c6cc4b809577"
      },
      "source": [
        "!head -4 sample_data/president_heights.csv\n"
      ],
      "execution_count": 53,
      "outputs": [
        {
          "output_type": "stream",
          "text": [
            "order,name,height(cm)\n",
            "1,George Washington,189\n",
            "2,John Adams,170\n",
            "3,Thomas Jefferson,189\n"
          ],
          "name": "stdout"
        }
      ]
    },
    {
      "cell_type": "code",
      "metadata": {
        "colab": {
          "base_uri": "https://localhost:8080/"
        },
        "id": "dYOY26Vbp-sS",
        "outputId": "a335289d-ee82-4287-a3f4-5f870606cb02"
      },
      "source": [
        "print(\"Median:\", np.median(heights))"
      ],
      "execution_count": 52,
      "outputs": [
        {
          "output_type": "stream",
          "text": [
            "Median: 182.0\n"
          ],
          "name": "stdout"
        }
      ]
    },
    {
      "cell_type": "code",
      "metadata": {
        "id": "rz8aepkvqJWq"
      },
      "source": [
        ""
      ],
      "execution_count": null,
      "outputs": []
    },
    {
      "cell_type": "code",
      "metadata": {
        "colab": {
          "base_uri": "https://localhost:8080/"
        },
        "id": "ho-tWGfXis6v",
        "outputId": "5c7cd251-f667-4209-9163-f4e35db31b2a"
      },
      "source": [
        "import pandas as pand\n",
        "import numpy as np\n",
        "data = pand.read_csv('sample_data/president_heights.csv')\n",
        "Harr = np.array(data['height(cm)'])\n",
        "print(Harr)"
      ],
      "execution_count": 50,
      "outputs": [
        {
          "output_type": "stream",
          "text": [
            "[189 170 189 163 183 171 185 168 173 183 173 173 175 178 183 193 178 173\n",
            " 174 183 183 168 170 178 182 180 183 178 182 188 175 179 183 193 182 183\n",
            " 177 185 188 188 182 185]\n"
          ],
          "name": "stdout"
        }
      ]
    },
    {
      "cell_type": "code",
      "metadata": {
        "colab": {
          "base_uri": "https://localhost:8080/"
        },
        "id": "te_hQYDOpjVt",
        "outputId": "5e4df81a-e552-4a58-fe7c-34221ff1b5e7"
      },
      "source": [
        "print(\"Mean Value:\", Harr.mean())\n",
        "print(\"Std:\", Harr.std())\n",
        "print(\"min:    \", Harr.min())\n",
        "print(\"Max:    \", Harr.max())"
      ],
      "execution_count": 51,
      "outputs": [
        {
          "output_type": "stream",
          "text": [
            "Mean Value: 179.73809523809524\n",
            "Std: 6.931843442745892\n",
            "min:     163\n",
            "Max:     193\n"
          ],
          "name": "stdout"
        }
      ]
    },
    {
      "cell_type": "code",
      "metadata": {
        "colab": {
          "base_uri": "https://localhost:8080/",
          "height": 318
        },
        "id": "97TxP_rLqRVk",
        "outputId": "952b00a9-b23f-4d49-9d19-690b7ec75b5a"
      },
      "source": [
        "import matplotlib.pyplot as plotting\n",
        "plotting.hist(heights,color='#880055',orientation='horizontal')\n",
        "plotting.title('USA Prisdent Heights graph')\n",
        "plotting.ylabel('president order');\n",
        "plotting.xlabel('height in Centimeters')\n"
      ],
      "execution_count": 48,
      "outputs": [
        {
          "output_type": "execute_result",
          "data": {
            "text/plain": [
              "Text(0.5, 0, 'height in Centimeters')"
            ]
          },
          "metadata": {
            "tags": []
          },
          "execution_count": 48
        },
        {
          "output_type": "display_data",
          "data": {
            "image/png": "[encoded data removed]",
            "text/plain": [
              "<Figure size 432x288 with 1 Axes>"
            ]
          },
          "metadata": {
            "tags": []
          }
        }
      ]
    }
  ]
}