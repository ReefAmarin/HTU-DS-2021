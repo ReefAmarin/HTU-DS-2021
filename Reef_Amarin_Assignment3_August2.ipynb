{
  "nbformat": 4,
  "nbformat_minor": 0,
  "metadata": {
    "colab": {
      "name": "Reef_Amarin_Assignment3_August2.ipynb",
      "provenance": [],
      "collapsed_sections": [],
      "include_colab_link": true
    },
    "kernelspec": {
      "name": "python3",
      "display_name": "Python 3"
    },
    "language_info": {
      "name": "python"
    }
  },
  "cells": [
    {
      "cell_type": "markdown",
      "metadata": {
        "id": "view-in-github",
        "colab_type": "text"
      },
      "source": [
        "<a href=\"https://colab.research.google.com/github/ReefAmarin/HTU-DS-2021/blob/main/Reef_Amarin_Assignment3_August2.ipynb\" target=\"_parent\"><img src=\"https://colab.research.google.com/assets/colab-badge.svg\" alt=\"Open In Colab\"/></a>"
      ]
    },
    {
      "cell_type": "markdown",
      "metadata": {
        "id": "4Pfmh7vZzdFQ"
      },
      "source": [
        "<h1><center>DS Assignment</center></h1>\n",
        "\n",
        "<h3><center>Due Date: Tuesday, August 3rd, 2021</center></h3> \n",
        "\n",
        "**Instructions:**\n",
        "This is not a team work, each student should solve this assinment alone. Make a copy of this Notebook and name it:\n",
        "\n",
        "*firstName_LastName_Assignment3_August2*\n",
        "\n",
        "and then share it with me (email is preferred).\n"
      ]
    },
    {
      "cell_type": "markdown",
      "metadata": {
        "id": "kOczLr1TbpzD"
      },
      "source": [
        "## Question 1:\n",
        "\n",
        "**In train-test data split, are the splits always the same? If not, how can we make sure our splits are the same?**\n",
        "\n",
        "*Answer:*\n",
        "if we talk about different dataset , it will not be the same , it can be done by calling the same train_test_split function for all with same sample size and random state seed (i'm not sure about my answer)\n",
        "\n"
      ]
    },
    {
      "cell_type": "markdown",
      "metadata": {
        "id": "35yh9LF2b-xN"
      },
      "source": [
        "## Question 2:\n",
        "\n",
        "**How do you check for missing values in a pandas dataframe?**\n",
        "\n",
        "*Answer:*\n",
        "# dataframename.loc[dataframename[column_name].isna()]\n",
        "\n"
      ]
    },
    {
      "cell_type": "markdown",
      "metadata": {
        "id": "1wTCYkzUcHe3"
      },
      "source": [
        "## Question 3:\n",
        "\n",
        "**In df0 below, when we try to find the mean value of the column 'Salary', we get Inf. Why is that? and how can we fix it to get the correct numerical value?**\n",
        "#because it was converted to string  //added by Reef amarin\n",
        "*Answer:*\n",
        "For this question, you need to show your work in code & in writing"
      ]
    },
    {
      "cell_type": "code",
      "metadata": {
        "id": "ujMXT9KW00q7",
        "colab": {
          "base_uri": "https://localhost:8080/"
        },
        "outputId": "a8d345de-3994-4efb-b92f-31f1f2316ba7"
      },
      "source": [
        "import pandas as pd\n",
        "import numpy as np\n",
        "import random\n",
        "N = 200\n",
        "data = [str(random.randint(29,140)*1000) for i in range(N)]\n",
        "df0 = pd.DataFrame(data = data,columns = ['Salary'])\n",
        "df0\n",
        "#added by Reef amarin before editing\n",
        "df0['Salary'].mean()\n",
        "df0\n",
        "# added by Reef amarin remove the str function\n",
        "castedData = [random.randint(29,140)*1000 for i in range(N)]\n",
        "New_df= pd.DataFrame(data= castedData,columns = ['Salary'])\n",
        "New_df\n",
        "New_df['Salary'].mean()"
      ],
      "execution_count": 48,
      "outputs": [
        {
          "output_type": "execute_result",
          "data": {
            "text/plain": [
              "90410.0"
            ]
          },
          "metadata": {
            "tags": []
          },
          "execution_count": 48
        }
      ]
    },
    {
      "cell_type": "markdown",
      "metadata": {
        "id": "v_0IOhsVcbKc"
      },
      "source": [
        "## Qustion 4: \n",
        "\n",
        "**In df1 below, there are 10 rows with no values. Use SimpleImputer from Sklearn to fill in these missing values with the mean value of the column.**\n",
        "\n",
        "*Answer:*\n",
        "For this question, you need to show your work in code & in writing"
      ]
    },
    {
      "cell_type": "code",
      "metadata": {
        "colab": {
          "base_uri": "https://localhost:8080/",
          "height": 419
        },
        "id": "OP_-pJVZMDqL",
        "outputId": "df64b2c6-b7d0-4fe1-89b9-2019d3441ea2"
      },
      "source": [
        "data = [str(random.randint(29,140)*1000) for i in range(N)]\n",
        "df1 = pd.DataFrame(data = data,columns = ['Salary'])\n",
        "indices = [random.randint(0,df0.shape[0]) for i in range(10)]\n",
        "df1"
      ],
      "execution_count": 8,
      "outputs": [
        {
          "output_type": "execute_result",
          "data": {
            "text/html": [
              "<div>\n",
              "<style scoped>\n",
              "    .dataframe tbody tr th:only-of-type {\n",
              "        vertical-align: middle;\n",
              "    }\n",
              "\n",
              "    .dataframe tbody tr th {\n",
              "        vertical-align: top;\n",
              "    }\n",
              "\n",
              "    .dataframe thead th {\n",
              "        text-align: right;\n",
              "    }\n",
              "</style>\n",
              "<table border=\"1\" class=\"dataframe\">\n",
              "  <thead>\n",
              "    <tr style=\"text-align: right;\">\n",
              "      <th></th>\n",
              "      <th>Salary</th>\n",
              "    </tr>\n",
              "  </thead>\n",
              "  <tbody>\n",
              "    <tr>\n",
              "      <th>0</th>\n",
              "      <td>137000</td>\n",
              "    </tr>\n",
              "    <tr>\n",
              "      <th>1</th>\n",
              "      <td>88000</td>\n",
              "    </tr>\n",
              "    <tr>\n",
              "      <th>2</th>\n",
              "      <td>76000</td>\n",
              "    </tr>\n",
              "    <tr>\n",
              "      <th>3</th>\n",
              "      <td>98000</td>\n",
              "    </tr>\n",
              "    <tr>\n",
              "      <th>4</th>\n",
              "      <td>69000</td>\n",
              "    </tr>\n",
              "    <tr>\n",
              "      <th>...</th>\n",
              "      <td>...</td>\n",
              "    </tr>\n",
              "    <tr>\n",
              "      <th>195</th>\n",
              "      <td>56000</td>\n",
              "    </tr>\n",
              "    <tr>\n",
              "      <th>196</th>\n",
              "      <td>114000</td>\n",
              "    </tr>\n",
              "    <tr>\n",
              "      <th>197</th>\n",
              "      <td>82000</td>\n",
              "    </tr>\n",
              "    <tr>\n",
              "      <th>198</th>\n",
              "      <td>79000</td>\n",
              "    </tr>\n",
              "    <tr>\n",
              "      <th>199</th>\n",
              "      <td>84000</td>\n",
              "    </tr>\n",
              "  </tbody>\n",
              "</table>\n",
              "<p>200 rows × 1 columns</p>\n",
              "</div>"
            ],
            "text/plain": [
              "     Salary\n",
              "0    137000\n",
              "1     88000\n",
              "2     76000\n",
              "3     98000\n",
              "4     69000\n",
              "..      ...\n",
              "195   56000\n",
              "196  114000\n",
              "197   82000\n",
              "198   79000\n",
              "199   84000\n",
              "\n",
              "[200 rows x 1 columns]"
            ]
          },
          "metadata": {
            "tags": []
          },
          "execution_count": 8
        }
      ]
    },
    {
      "cell_type": "code",
      "metadata": {
        "colab": {
          "base_uri": "https://localhost:8080/"
        },
        "id": "Y5DK8r1QgCHp",
        "outputId": "7df4a1b3-8d55-42c0-a1e7-7166d21f7969"
      },
      "source": [
        "x_factor =df1.iloc[:,0].values\n",
        "x_factor\n",
        "from sklearn.impute import SimpleImputer\n",
        "from sklearn.compose import ColumnTransformer\n",
        "imputerObj= SimpleImputer(missing_values =np.nan, strategy='mean')\n",
        "x_factor.shape\n",
        "TransformedT=x_factor.reshape(10,20)\n",
        "TransformedT.shape\n",
        "TransformedT\n",
        "imputerObj.fit(TransformedT[:,1:20])\n",
        "TransformedT[:,1:20]=imputerObj.fit_transform(TransformedT[:,1:20])\n",
        "TransformedT"
      ],
      "execution_count": 105,
      "outputs": [
        {
          "output_type": "execute_result",
          "data": {
            "text/plain": [
              "array([[137000.0, 88000.0, 76000.0, 98000.0, 69000.0, 66000.0, 114000.0,\n",
              "        92000.0, 69000.0, 30000.0, 45000.0, 32000.0, 122000.0, 124000.0,\n",
              "        118000.0, 80000.0, 52000.0, 119000.0, 137000.0, 73000.0],\n",
              "       [77000.0, 68000.0, 135000.0, 39000.0, 103000.0, 64000.0, 107000.0,\n",
              "        33000.0, 34000.0, 106000.0, 106000.0, 82000.0, 73000.0, 58000.0,\n",
              "        136000.0, 125000.0, 30000.0, 113000.0, 121000.0, 129000.0],\n",
              "       [97000.0, 31000.0, 92000.0, 137000.0, 121000.0, 51000.0, 74000.0,\n",
              "        73000.0, 49000.0, 109000.0, 102000.0, 118000.0, 92000.0, 64000.0,\n",
              "        44000.0, 127000.0, 71000.0, 61000.0, 38000.0, 50000.0],\n",
              "       [84000.0, 109000.0, 70000.0, 110000.0, 89000.0, 87000.0, 95000.0,\n",
              "        115000.0, 77000.0, 37000.0, 103000.0, 74000.0, 36000.0, 120000.0,\n",
              "        119000.0, 50000.0, 101000.0, 33000.0, 87000.0, 35000.0],\n",
              "       [39000.0, 96000.0, 79000.0, 90000.0, 131000.0, 77000.0, 129000.0,\n",
              "        85000.0, 97000.0, 49000.0, 86000.0, 88000.0, 86000.0, 123000.0,\n",
              "        83000.0, 56000.0, 58000.0, 78000.0, 72000.0, 139000.0],\n",
              "       [137000.0, 94000.0, 39000.0, 35000.0, 98000.0, 31000.0, 66000.0,\n",
              "        57000.0, 126000.0, 30000.0, 89000.0, 139000.0, 136000.0, 65000.0,\n",
              "        63000.0, 84000.0, 55000.0, 112000.0, 93000.0, 113000.0],\n",
              "       [87000.0, 88000.0, 65000.0, 74000.0, 47000.0, 38000.0, 117000.0,\n",
              "        92000.0, 52000.0, 139000.0, 90000.0, 115000.0, 126000.0, 44000.0,\n",
              "        137000.0, 102000.0, 101000.0, 124000.0, 137000.0, 57000.0],\n",
              "       [82000.0, 60000.0, 118000.0, 89000.0, 110000.0, 51000.0, 138000.0,\n",
              "        115000.0, 101000.0, 39000.0, 75000.0, 76000.0, 33000.0, 130000.0,\n",
              "        118000.0, 135000.0, 134000.0, 35000.0, 77000.0, 58000.0],\n",
              "       [50000.0, 92000.0, 128000.0, 128000.0, 117000.0, 39000.0, 83000.0,\n",
              "        87000.0, 120000.0, 77000.0, 55000.0, 128000.0, 139000.0, 88000.0,\n",
              "        108000.0, 42000.0, 85000.0, 118000.0, 104000.0, 72000.0],\n",
              "       [124000.0, 65000.0, 124000.0, 111000.0, 137000.0, 37000.0,\n",
              "        66000.0, 111000.0, 45000.0, 51000.0, 110000.0, 31000.0, 112000.0,\n",
              "        68000.0, 115000.0, 56000.0, 114000.0, 82000.0, 79000.0, 84000.0]],\n",
              "      dtype=object)"
            ]
          },
          "metadata": {
            "tags": []
          },
          "execution_count": 105
        }
      ]
    }
  ]
}