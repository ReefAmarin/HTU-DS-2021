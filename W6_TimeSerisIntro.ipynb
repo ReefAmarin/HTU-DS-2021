{
  "nbformat": 4,
  "nbformat_minor": 0,
  "metadata": {
    "colab": {
      "name": "W6-TimeSerisIntro.ipynb",
      "provenance": [],
      "collapsed_sections": [],
      "include_colab_link": true
    },
    "kernelspec": {
      "name": "python3",
      "display_name": "Python 3"
    },
    "language_info": {
      "name": "python"
    }
  },
  "cells": [
    {
      "cell_type": "markdown",
      "metadata": {
        "id": "view-in-github",
        "colab_type": "text"
      },
      "source": [
        "<a href=\"https://colab.research.google.com/github/ReefAmarin/HTU-DS-2021/blob/main/W6_TimeSerisIntro.ipynb\" target=\"_parent\"><img src=\"https://colab.research.google.com/assets/colab-badge.svg\" alt=\"Open In Colab\"/></a>"
      ]
    },
    {
      "cell_type": "markdown",
      "metadata": {
        "id": "c5LJuoQQuLFG"
      },
      "source": [
        "**Presented by** : [Mohammad Abualhoul](https://www.linkedin.com/in/m-yakub/) \n"
      ]
    },
    {
      "cell_type": "markdown",
      "metadata": {
        "id": "f7lH_Q5FuDEo"
      },
      "source": [
        "Pandas was developed in the context of financial modeling, so as you might expect, it contains a fairly extensive set of tools for working with dates, times, and time-indexed data.\n",
        "Date and time data comes in a few flavors, which we will discuss here:\n",
        "\n",
        "- *Time stamps* reference particular moments in time (e.g., July 4th, 2015 at 7:00am).\n",
        "- *Time intervals* and *periods* reference a length of time between a particular beginning and end point; for example, the year 2015. Periods usually reference a special case of time intervals in which each interval is of uniform length and does not overlap (e.g., 24 hour-long periods comprising days).\n",
        "- *Time deltas* or *durations* reference an exact length of time (e.g., a duration of 22.56 seconds).\n",
        "\n",
        "In this section, we will introduce how to work with each of these types of date/time data in Pandas.\n",
        "**This short section is by no means a complete guide to the time series tools available in Python or Pandas, but instead is intended as a broad overview of how you as a user should approach working with time series**.\n",
        "We will start with a brief discussion of tools for dealing with dates and times in Python and commandLines, before moving more specifically to a discussion of the tools provided by Pandas.\n",
        "After listing some resources that go into more depth, we will review some short examples of working with time series data in Pandas."
      ]
    },
    {
      "cell_type": "markdown",
      "metadata": {
        "id": "q2RXfRAyt5Io"
      },
      "source": [
        "## Dates and Times in Python"
      ]
    },
    {
      "cell_type": "code",
      "metadata": {
        "id": "mOhKYY4ft6xK",
        "colab": {
          "base_uri": "https://localhost:8080/"
        },
        "outputId": "db0d50b9-6d0b-457c-b9b3-e889a228c958"
      },
      "source": [
        "!date"
      ],
      "execution_count": null,
      "outputs": [
        {
          "output_type": "stream",
          "text": [
            "Sun Aug  1 14:04:06 UTC 2021\n"
          ],
          "name": "stdout"
        }
      ]
    },
    {
      "cell_type": "code",
      "metadata": {
        "id": "Q0a0E-ujt65B"
      },
      "source": [
        "!hwclock "
      ],
      "execution_count": null,
      "outputs": []
    },
    {
      "cell_type": "markdown",
      "metadata": {
        "id": "MzEtYtkatnHt"
      },
      "source": [
        "## Native Python dates and times: datetime and dateutil"
      ]
    },
    {
      "cell_type": "code",
      "metadata": {
        "id": "fRL20AWht7d9"
      },
      "source": [
        "from dateutil import parser"
      ],
      "execution_count": null,
      "outputs": []
    },
    {
      "cell_type": "code",
      "metadata": {
        "colab": {
          "base_uri": "https://localhost:8080/"
        },
        "id": "mpyrKVW4CM3B",
        "outputId": "8b6b57e9-6768-4c1f-edf6-df7058587947"
      },
      "source": [
        "Date= parser.parse('6th of july 2012')\n",
        "Date"
      ],
      "execution_count": null,
      "outputs": [
        {
          "output_type": "execute_result",
          "data": {
            "text/plain": [
              "datetime.datetime(2012, 7, 6, 0, 0)"
            ]
          },
          "metadata": {
            "tags": []
          },
          "execution_count": 5
        }
      ]
    },
    {
      "cell_type": "code",
      "metadata": {
        "colab": {
          "base_uri": "https://localhost:8080/",
          "height": 35
        },
        "id": "_2Ya7xWSCm1A",
        "outputId": "bfcc6ed2-8184-4f3c-ac16-283e3c6af329"
      },
      "source": [
        "Date.strftime('%A')"
      ],
      "execution_count": null,
      "outputs": [
        {
          "output_type": "execute_result",
          "data": {
            "application/vnd.google.colaboratory.intrinsic+json": {
              "type": "string"
            },
            "text/plain": [
              "'Friday'"
            ]
          },
          "metadata": {
            "tags": []
          },
          "execution_count": 6
        }
      ]
    },
    {
      "cell_type": "code",
      "metadata": {
        "colab": {
          "base_uri": "https://localhost:8080/"
        },
        "id": "ZRlm_ZadCzXZ",
        "outputId": "604af5c1-09f9-4312-88b7-a9b8fef610ec"
      },
      "source": [
        "Date.isoweekday()"
      ],
      "execution_count": null,
      "outputs": [
        {
          "output_type": "execute_result",
          "data": {
            "text/plain": [
              "5"
            ]
          },
          "metadata": {
            "tags": []
          },
          "execution_count": 7
        }
      ]
    },
    {
      "cell_type": "code",
      "metadata": {
        "colab": {
          "base_uri": "https://localhost:8080/"
        },
        "id": "1FhtVUg4C_-q",
        "outputId": "4447adf4-9c53-4c15-d07d-525e5f390124"
      },
      "source": [
        "Date.timetuple()"
      ],
      "execution_count": null,
      "outputs": [
        {
          "output_type": "execute_result",
          "data": {
            "text/plain": [
              "time.struct_time(tm_year=2012, tm_mon=7, tm_mday=6, tm_hour=0, tm_min=0, tm_sec=0, tm_wday=4, tm_yday=188, tm_isdst=-1)"
            ]
          },
          "metadata": {
            "tags": []
          },
          "execution_count": 8
        }
      ]
    },
    {
      "cell_type": "code",
      "metadata": {
        "colab": {
          "base_uri": "https://localhost:8080/"
        },
        "id": "g1KftQSwDMC3",
        "outputId": "28d8154a-e718-449a-ebb5-61b7d3dbed96"
      },
      "source": [
        "Date.day"
      ],
      "execution_count": null,
      "outputs": [
        {
          "output_type": "execute_result",
          "data": {
            "text/plain": [
              "6"
            ]
          },
          "metadata": {
            "tags": []
          },
          "execution_count": 9
        }
      ]
    },
    {
      "cell_type": "code",
      "metadata": {
        "id": "i3QSXZ5st7k4",
        "colab": {
          "base_uri": "https://localhost:8080/"
        },
        "outputId": "39580f92-3d3e-449c-b21e-e96b288b9a88"
      },
      "source": [
        "Date.month"
      ],
      "execution_count": null,
      "outputs": [
        {
          "output_type": "execute_result",
          "data": {
            "text/plain": [
              "7"
            ]
          },
          "metadata": {
            "tags": []
          },
          "execution_count": 11
        }
      ]
    },
    {
      "cell_type": "code",
      "metadata": {
        "colab": {
          "base_uri": "https://localhost:8080/"
        },
        "id": "770dX1DdDPWt",
        "outputId": "fd341f5d-489e-432c-890c-db6901e9ccbf"
      },
      "source": [
        "Date.year"
      ],
      "execution_count": null,
      "outputs": [
        {
          "output_type": "execute_result",
          "data": {
            "text/plain": [
              "2012"
            ]
          },
          "metadata": {
            "tags": []
          },
          "execution_count": 13
        }
      ]
    },
    {
      "cell_type": "markdown",
      "metadata": {
        "id": "NVFr_jOdtnY1"
      },
      "source": [
        "## Typed arrays of times: NumPy's datetime64"
      ]
    },
    {
      "cell_type": "code",
      "metadata": {
        "id": "5uKFygu8t8IL"
      },
      "source": [
        "from datetime import *"
      ],
      "execution_count": null,
      "outputs": []
    },
    {
      "cell_type": "code",
      "metadata": {
        "id": "xZA2EjRct8NE",
        "colab": {
          "base_uri": "https://localhost:8080/"
        },
        "outputId": "576b6967-d7f5-42ce-faf1-a67157d633ae"
      },
      "source": [
        "Mydate= datetime(year=2020, month=12, day=5)\n",
        "Mydate"
      ],
      "execution_count": null,
      "outputs": [
        {
          "output_type": "execute_result",
          "data": {
            "text/plain": [
              "datetime.datetime(2020, 12, 5, 0, 0)"
            ]
          },
          "metadata": {
            "tags": []
          },
          "execution_count": 15
        }
      ]
    },
    {
      "cell_type": "code",
      "metadata": {
        "id": "Os3FDcw9ubm-"
      },
      "source": [
        "import numpy as np"
      ],
      "execution_count": null,
      "outputs": []
    },
    {
      "cell_type": "code",
      "metadata": {
        "id": "hMdUn0-aubqh",
        "colab": {
          "base_uri": "https://localhost:8080/"
        },
        "outputId": "605b87ef-2711-4e2b-bf67-cb967b43b119"
      },
      "source": [
        "Mydate = np.array('2012-12-01 12:12',dtype=np.datetime64)\n",
        "Mydate"
      ],
      "execution_count": null,
      "outputs": [
        {
          "output_type": "execute_result",
          "data": {
            "text/plain": [
              "array('2012-12-01T12:12', dtype='datetime64[m]')"
            ]
          },
          "metadata": {
            "tags": []
          },
          "execution_count": 19
        }
      ]
    },
    {
      "cell_type": "code",
      "metadata": {
        "colab": {
          "base_uri": "https://localhost:8080/"
        },
        "id": "Mz2rT89SHv2j",
        "outputId": "57935f97-b633-4935-a22b-3580cb54ec99"
      },
      "source": [
        "Mydata = np.datetime64('2012-01-01 12:00')\n",
        "Mydate"
      ],
      "execution_count": null,
      "outputs": [
        {
          "output_type": "execute_result",
          "data": {
            "text/plain": [
              "array('2012-12-01T12:12', dtype='datetime64[m]')"
            ]
          },
          "metadata": {
            "tags": []
          },
          "execution_count": 25
        }
      ]
    },
    {
      "cell_type": "code",
      "metadata": {
        "colab": {
          "base_uri": "https://localhost:8080/"
        },
        "id": "I87AUD_LIGDO",
        "outputId": "f264d40d-a3ac-4e92-f11f-666d7b5e86a1"
      },
      "source": [
        "Mydata + 1"
      ],
      "execution_count": null,
      "outputs": [
        {
          "output_type": "execute_result",
          "data": {
            "text/plain": [
              "numpy.datetime64('2012-01-01T12:01')"
            ]
          },
          "metadata": {
            "tags": []
          },
          "execution_count": 26
        }
      ]
    },
    {
      "cell_type": "code",
      "metadata": {
        "colab": {
          "base_uri": "https://localhost:8080/"
        },
        "id": "fAys2DqAIh8j",
        "outputId": "d69537c6-b3dc-4c54-bdba-bc99e5ca11d0"
      },
      "source": [
        "Mydata = np.datetime64('2012-01-01 12:00', 'ms')\n",
        "Mydata"
      ],
      "execution_count": null,
      "outputs": [
        {
          "output_type": "execute_result",
          "data": {
            "text/plain": [
              "numpy.datetime64('2012-01-01T12:00:00.000')"
            ]
          },
          "metadata": {
            "tags": []
          },
          "execution_count": 35
        }
      ]
    },
    {
      "cell_type": "code",
      "metadata": {
        "colab": {
          "base_uri": "https://localhost:8080/"
        },
        "id": "7ZqxzLP7J3ll",
        "outputId": "407afdcf-c39c-4444-8be5-384922ec4fc8"
      },
      "source": [
        "Mydata = np.arange('2018-02', '2019-01', dtype=np.datetime64)\n",
        "Mydata"
      ],
      "execution_count": null,
      "outputs": [
        {
          "output_type": "execute_result",
          "data": {
            "text/plain": [
              "array(['2018-02', '2018-03', '2018-04', '2018-05', '2018-06', '2018-07',\n",
              "       '2018-08', '2018-09', '2018-10', '2018-11', '2018-12'],\n",
              "      dtype='datetime64[M]')"
            ]
          },
          "metadata": {
            "tags": []
          },
          "execution_count": 41
        }
      ]
    },
    {
      "cell_type": "code",
      "metadata": {
        "colab": {
          "base_uri": "https://localhost:8080/"
        },
        "id": "Jg-YYfTgLDk2",
        "outputId": "167503b5-1e59-433d-fabd-f8604bed7dda"
      },
      "source": [
        "np.datetime64('2005-01')== np.datetime64('2005')"
      ],
      "execution_count": null,
      "outputs": [
        {
          "output_type": "execute_result",
          "data": {
            "text/plain": [
              "True"
            ]
          },
          "metadata": {
            "tags": []
          },
          "execution_count": 48
        }
      ]
    },
    {
      "cell_type": "markdown",
      "metadata": {
        "id": "f88wLwMxubyq"
      },
      "source": [
        "|Code    | Meaning     | Time span (relative) | Time span (absolute)   |\n",
        "|--------|-------------|----------------------|------------------------|\n",
        "| ``Y``  | Year\t       | ± 9.2e18 years       | [9.2e18 BC, 9.2e18 AD] |\n",
        "| ``M``  | Month       | ± 7.6e17 years       | [7.6e17 BC, 7.6e17 AD] |\n",
        "| ``W``  | Week\t       | ± 1.7e17 years       | [1.7e17 BC, 1.7e17 AD] |\n",
        "| ``D``  | Day         | ± 2.5e16 years       | [2.5e16 BC, 2.5e16 AD] |\n",
        "| ``h``  | Hour        | ± 1.0e15 years       | [1.0e15 BC, 1.0e15 AD] |\n",
        "| ``m``  | Minute      | ± 1.7e13 years       | [1.7e13 BC, 1.7e13 AD] |\n",
        "| ``s``  | Second      | ± 2.9e12 years       | [ 2.9e9 BC, 2.9e9 AD]  |\n",
        "| ``ms`` | Millisecond | ± 2.9e9 years        | [ 2.9e6 BC, 2.9e6 AD]  |\n",
        "| ``us`` | Microsecond | ± 2.9e6 years        | [290301 BC, 294241 AD] |\n",
        "| ``ns`` | Nanosecond  | ± 292 years          | [ 1678 AD, 2262 AD]    |\n",
        "| ``ps`` | Picosecond  | ± 106 days           | [ 1969 AD, 1970 AD]    |\n",
        "| ``fs`` | Femtosecond | ± 2.6 hours          | [ 1969 AD, 1970 AD]    |\n",
        "| ``as`` | Attosecond  | ± 9.2 seconds        | [ 1969 AD, 1970 AD]    |"
      ]
    },
    {
      "cell_type": "markdown",
      "metadata": {
        "id": "sOCXq-cTulO9"
      },
      "source": [
        "##Datetime and Timedelta Arithmetic"
      ]
    },
    {
      "cell_type": "code",
      "metadata": {
        "id": "6-8yWVpIurni",
        "colab": {
          "base_uri": "https://localhost:8080/"
        },
        "outputId": "e81be65a-c42a-44b9-b295-69ad39d3db51"
      },
      "source": [
        "np.timedelta64(11,'D')"
      ],
      "execution_count": null,
      "outputs": [
        {
          "output_type": "execute_result",
          "data": {
            "text/plain": [
              "numpy.timedelta64(11,'D')"
            ]
          },
          "metadata": {
            "tags": []
          },
          "execution_count": 49
        }
      ]
    },
    {
      "cell_type": "code",
      "metadata": {
        "id": "ng3UG_7zur0L",
        "colab": {
          "base_uri": "https://localhost:8080/"
        },
        "outputId": "7a98bc26-9a0a-42ff-98d5-5db504a6b8df"
      },
      "source": [
        "np.datetime64('2009-01-01') - np.datetime64('2008-01-01 12')"
      ],
      "execution_count": null,
      "outputs": [
        {
          "output_type": "execute_result",
          "data": {
            "text/plain": [
              "numpy.timedelta64(8772,'h')"
            ]
          },
          "metadata": {
            "tags": []
          },
          "execution_count": 53
        }
      ]
    },
    {
      "cell_type": "code",
      "metadata": {
        "colab": {
          "base_uri": "https://localhost:8080/"
        },
        "id": "c_etWeBPN_5E",
        "outputId": "e693f7f0-3bfe-45bf-962f-37650619e912"
      },
      "source": [
        "np.timedelta64('2009') + 5"
      ],
      "execution_count": null,
      "outputs": [
        {
          "output_type": "execute_result",
          "data": {
            "text/plain": [
              "numpy.timedelta64(2014)"
            ]
          },
          "metadata": {
            "tags": []
          },
          "execution_count": 56
        }
      ]
    },
    {
      "cell_type": "code",
      "metadata": {
        "id": "PdYvr19bur83",
        "colab": {
          "base_uri": "https://localhost:8080/"
        },
        "outputId": "119a0c1b-aa34-47a8-c42f-450b2dccd5e8"
      },
      "source": [
        "np.datetime64('2009') + np.timedelta64(20, 'Y')"
      ],
      "execution_count": null,
      "outputs": [
        {
          "output_type": "execute_result",
          "data": {
            "text/plain": [
              "numpy.datetime64('2029')"
            ]
          },
          "metadata": {
            "tags": []
          },
          "execution_count": 59
        }
      ]
    },
    {
      "cell_type": "code",
      "metadata": {
        "id": "ZaduqgIyuue2"
      },
      "source": [
        "np.timedelta64(2,'Y')"
      ],
      "execution_count": null,
      "outputs": []
    },
    {
      "cell_type": "code",
      "metadata": {
        "colab": {
          "base_uri": "https://localhost:8080/"
        },
        "id": "cahdLWBYOmge",
        "outputId": "346f8ba4-8ef2-4283-a50a-19a2f778d786"
      },
      "source": [
        "np.timedelta64(1,'Y')/np.timedelta64(1,'M')"
      ],
      "execution_count": null,
      "outputs": [
        {
          "output_type": "execute_result",
          "data": {
            "text/plain": [
              "12.0"
            ]
          },
          "metadata": {
            "tags": []
          },
          "execution_count": 61
        }
      ]
    },
    {
      "cell_type": "markdown",
      "metadata": {
        "id": "n0ftoUB_NTg-"
      },
      "source": [
        "\n",
        "-----------------\n",
        "<p><img alt=\"Colaboratory logo\" height=\"30px\" src=\"/img/colab_favicon.ico\" align=\"left\" hspace=\"10px\" vspace=\"0px\"></p>\n",
        "\n",
        "**Hands-on - 10m:**\n",
        "\n",
        "1. Find how many day we count from **2009-01-01** to **2008-09-24**\n",
        "2. Can we index the number of days\n",
        "3. Why the following returns Error\n",
        "\n",
        "\n",
        "```\n",
        "a = np.timedelta64(1, 'Y')\n",
        "-np.timedelta64(a, 'D') # Why you have error here!\n",
        "-np.timedelta64(1,'M') / np.timedelta64(1,'D') # Why you have error here!\n",
        "```\n",
        "\n"
      ]
    },
    {
      "cell_type": "markdown",
      "metadata": {
        "id": "KC_wdFRIuutI"
      },
      "source": [
        "## Dates and times in pandas: best of both worlds"
      ]
    },
    {
      "cell_type": "code",
      "metadata": {
        "id": "ky-grAinuwh-",
        "colab": {
          "base_uri": "https://localhost:8080/"
        },
        "outputId": "12e68a60-3a55-41f1-9b88-fea110c2f8ef"
      },
      "source": [
        "MyData = np.arange('2018-02','2019-01', dtype=np.datetime64)\n",
        "\n",
        "MyData"
      ],
      "execution_count": null,
      "outputs": [
        {
          "output_type": "execute_result",
          "data": {
            "text/plain": [
              "array(['2018-02', '2018-03', '2018-04', '2018-05', '2018-06', '2018-07',\n",
              "       '2018-08', '2018-09', '2018-10', '2018-11', '2018-12'],\n",
              "      dtype='datetime64[M]')"
            ]
          },
          "metadata": {
            "tags": []
          },
          "execution_count": 71
        }
      ]
    },
    {
      "cell_type": "code",
      "metadata": {
        "id": "wdYoVK9suwo-",
        "colab": {
          "base_uri": "https://localhost:8080/"
        },
        "outputId": "74af1e6d-92cb-4f47-bb9c-0614cfefbf58"
      },
      "source": [
        "DD =np.arange('2018-02','2019-01', dtype='datetime64[s]')\n",
        "len(DD)\n"
      ],
      "execution_count": null,
      "outputs": [
        {
          "output_type": "execute_result",
          "data": {
            "text/plain": [
              "28857600"
            ]
          },
          "metadata": {
            "tags": []
          },
          "execution_count": 74
        }
      ]
    },
    {
      "cell_type": "code",
      "metadata": {
        "id": "oZIVFrJxuws5",
        "colab": {
          "base_uri": "https://localhost:8080/"
        },
        "outputId": "73009787-14b7-4a0f-d806-4318b9facb92"
      },
      "source": [
        "a = np.datetime64('2009-01-01')\n",
        "b = np.datetime64('2008-07-24')\n",
        "A=np.arange(b, a, dtype='datetime64[D]')\n",
        "A"
      ],
      "execution_count": null,
      "outputs": [
        {
          "output_type": "execute_result",
          "data": {
            "text/plain": [
              "array(['2008-07-24', '2008-07-25', '2008-07-26', '2008-07-27',\n",
              "       '2008-07-28', '2008-07-29', '2008-07-30', '2008-07-31',\n",
              "       '2008-08-01', '2008-08-02', '2008-08-03', '2008-08-04',\n",
              "       '2008-08-05', '2008-08-06', '2008-08-07', '2008-08-08',\n",
              "       '2008-08-09', '2008-08-10', '2008-08-11', '2008-08-12',\n",
              "       '2008-08-13', '2008-08-14', '2008-08-15', '2008-08-16',\n",
              "       '2008-08-17', '2008-08-18', '2008-08-19', '2008-08-20',\n",
              "       '2008-08-21', '2008-08-22', '2008-08-23', '2008-08-24',\n",
              "       '2008-08-25', '2008-08-26', '2008-08-27', '2008-08-28',\n",
              "       '2008-08-29', '2008-08-30', '2008-08-31', '2008-09-01',\n",
              "       '2008-09-02', '2008-09-03', '2008-09-04', '2008-09-05',\n",
              "       '2008-09-06', '2008-09-07', '2008-09-08', '2008-09-09',\n",
              "       '2008-09-10', '2008-09-11', '2008-09-12', '2008-09-13',\n",
              "       '2008-09-14', '2008-09-15', '2008-09-16', '2008-09-17',\n",
              "       '2008-09-18', '2008-09-19', '2008-09-20', '2008-09-21',\n",
              "       '2008-09-22', '2008-09-23', '2008-09-24', '2008-09-25',\n",
              "       '2008-09-26', '2008-09-27', '2008-09-28', '2008-09-29',\n",
              "       '2008-09-30', '2008-10-01', '2008-10-02', '2008-10-03',\n",
              "       '2008-10-04', '2008-10-05', '2008-10-06', '2008-10-07',\n",
              "       '2008-10-08', '2008-10-09', '2008-10-10', '2008-10-11',\n",
              "       '2008-10-12', '2008-10-13', '2008-10-14', '2008-10-15',\n",
              "       '2008-10-16', '2008-10-17', '2008-10-18', '2008-10-19',\n",
              "       '2008-10-20', '2008-10-21', '2008-10-22', '2008-10-23',\n",
              "       '2008-10-24', '2008-10-25', '2008-10-26', '2008-10-27',\n",
              "       '2008-10-28', '2008-10-29', '2008-10-30', '2008-10-31',\n",
              "       '2008-11-01', '2008-11-02', '2008-11-03', '2008-11-04',\n",
              "       '2008-11-05', '2008-11-06', '2008-11-07', '2008-11-08',\n",
              "       '2008-11-09', '2008-11-10', '2008-11-11', '2008-11-12',\n",
              "       '2008-11-13', '2008-11-14', '2008-11-15', '2008-11-16',\n",
              "       '2008-11-17', '2008-11-18', '2008-11-19', '2008-11-20',\n",
              "       '2008-11-21', '2008-11-22', '2008-11-23', '2008-11-24',\n",
              "       '2008-11-25', '2008-11-26', '2008-11-27', '2008-11-28',\n",
              "       '2008-11-29', '2008-11-30', '2008-12-01', '2008-12-02',\n",
              "       '2008-12-03', '2008-12-04', '2008-12-05', '2008-12-06',\n",
              "       '2008-12-07', '2008-12-08', '2008-12-09', '2008-12-10',\n",
              "       '2008-12-11', '2008-12-12', '2008-12-13', '2008-12-14',\n",
              "       '2008-12-15', '2008-12-16', '2008-12-17', '2008-12-18',\n",
              "       '2008-12-19', '2008-12-20', '2008-12-21', '2008-12-22',\n",
              "       '2008-12-23', '2008-12-24', '2008-12-25', '2008-12-26',\n",
              "       '2008-12-27', '2008-12-28', '2008-12-29', '2008-12-30',\n",
              "       '2008-12-31'], dtype='datetime64[D]')"
            ]
          },
          "metadata": {
            "tags": []
          },
          "execution_count": 80
        }
      ]
    },
    {
      "cell_type": "code",
      "metadata": {
        "colab": {
          "base_uri": "https://localhost:8080/"
        },
        "id": "okO_pjYCTI-S",
        "outputId": "d7c657cb-4f4e-413f-df10-46f811039c56"
      },
      "source": [
        "len(A)"
      ],
      "execution_count": null,
      "outputs": [
        {
          "output_type": "execute_result",
          "data": {
            "text/plain": [
              "161"
            ]
          },
          "metadata": {
            "tags": []
          },
          "execution_count": 81
        }
      ]
    },
    {
      "cell_type": "markdown",
      "metadata": {
        "id": "1xAR_aZGuzjq"
      },
      "source": [
        "## Pandas Time Series: Indexing by Time"
      ]
    },
    {
      "cell_type": "code",
      "metadata": {
        "id": "XFsog2JUu3l2"
      },
      "source": [
        "import pandas as pd\n",
        "import numpy as np"
      ],
      "execution_count": null,
      "outputs": []
    },
    {
      "cell_type": "code",
      "metadata": {
        "id": "rgYDGDrYu3pz",
        "colab": {
          "base_uri": "https://localhost:8080/"
        },
        "outputId": "817600cd-277f-4a91-e6d5-e117131216fb"
      },
      "source": [
        "Mydata = pd.to_datetime('4th of July, 2020')\n",
        "Mydata"
      ],
      "execution_count": null,
      "outputs": [
        {
          "output_type": "execute_result",
          "data": {
            "text/plain": [
              "Timestamp('2020-07-04 00:00:00')"
            ]
          },
          "metadata": {
            "tags": []
          },
          "execution_count": 84
        }
      ]
    },
    {
      "cell_type": "code",
      "metadata": {
        "colab": {
          "base_uri": "https://localhost:8080/"
        },
        "id": "R7B5cANKUnXy",
        "outputId": "ad81e766-fdc4-4e60-c18e-79b558922819"
      },
      "source": [
        "type(Mydata)"
      ],
      "execution_count": null,
      "outputs": [
        {
          "output_type": "execute_result",
          "data": {
            "text/plain": [
              "pandas._libs.tslibs.timestamps.Timestamp"
            ]
          },
          "metadata": {
            "tags": []
          },
          "execution_count": 85
        }
      ]
    },
    {
      "cell_type": "code",
      "metadata": {
        "colab": {
          "base_uri": "https://localhost:8080/",
          "height": 35
        },
        "id": "j2GFuALmUxNk",
        "outputId": "395cd1e7-c5f5-43bc-f026-72f1001668fb"
      },
      "source": [
        "Mydata.strftime('%A')"
      ],
      "execution_count": null,
      "outputs": [
        {
          "output_type": "execute_result",
          "data": {
            "application/vnd.google.colaboratory.intrinsic+json": {
              "type": "string"
            },
            "text/plain": [
              "'Saturday'"
            ]
          },
          "metadata": {
            "tags": []
          },
          "execution_count": 86
        }
      ]
    },
    {
      "cell_type": "code",
      "metadata": {
        "colab": {
          "base_uri": "https://localhost:8080/"
        },
        "id": "GslaefqsVUZs",
        "outputId": "18032e0a-63bb-4b6a-d0d1-76cb5ee9b2c2"
      },
      "source": [
        "np.datetime64('2011-11') + 10"
      ],
      "execution_count": null,
      "outputs": [
        {
          "output_type": "execute_result",
          "data": {
            "text/plain": [
              "numpy.datetime64('2012-09')"
            ]
          },
          "metadata": {
            "tags": []
          },
          "execution_count": 87
        }
      ]
    },
    {
      "cell_type": "code",
      "metadata": {
        "id": "wMz6fvfku3tC",
        "colab": {
          "base_uri": "https://localhost:8080/"
        },
        "outputId": "a03f0194-bb7d-4621-8a2a-a061890cbc1b"
      },
      "source": [
        "Mydata "
      ],
      "execution_count": null,
      "outputs": [
        {
          "output_type": "execute_result",
          "data": {
            "text/plain": [
              "Timestamp('2020-07-04 00:00:00')"
            ]
          },
          "metadata": {
            "tags": []
          },
          "execution_count": 90
        }
      ]
    },
    {
      "cell_type": "code",
      "metadata": {
        "colab": {
          "base_uri": "https://localhost:8080/"
        },
        "id": "qC9GlYbPZ1aY",
        "outputId": "91a83058-c2c8-435b-c438-aaa5b78c0427"
      },
      "source": [
        "Mydata + pd.to_timedelta(np.arange(10))"
      ],
      "execution_count": null,
      "outputs": [
        {
          "output_type": "execute_result",
          "data": {
            "text/plain": [
              "DatetimeIndex([          '2020-07-04 00:00:00',\n",
              "               '2020-07-04 00:00:00.000000001',\n",
              "               '2020-07-04 00:00:00.000000002',\n",
              "               '2020-07-04 00:00:00.000000003',\n",
              "               '2020-07-04 00:00:00.000000004',\n",
              "               '2020-07-04 00:00:00.000000005',\n",
              "               '2020-07-04 00:00:00.000000006',\n",
              "               '2020-07-04 00:00:00.000000007',\n",
              "               '2020-07-04 00:00:00.000000008',\n",
              "               '2020-07-04 00:00:00.000000009'],\n",
              "              dtype='datetime64[ns]', freq=None)"
            ]
          },
          "metadata": {
            "tags": []
          },
          "execution_count": 91
        }
      ]
    },
    {
      "cell_type": "code",
      "metadata": {
        "colab": {
          "base_uri": "https://localhost:8080/"
        },
        "id": "NNwcGDk-aVfT",
        "outputId": "a7627db2-9fd4-42c4-cdd6-dea055c18f15"
      },
      "source": [
        "Mydata + pd.to_timedelta(np.arange(10), 's')"
      ],
      "execution_count": null,
      "outputs": [
        {
          "output_type": "execute_result",
          "data": {
            "text/plain": [
              "DatetimeIndex(['2020-07-04 00:00:00', '2020-07-04 00:00:01',\n",
              "               '2020-07-04 00:00:02', '2020-07-04 00:00:03',\n",
              "               '2020-07-04 00:00:04', '2020-07-04 00:00:05',\n",
              "               '2020-07-04 00:00:06', '2020-07-04 00:00:07',\n",
              "               '2020-07-04 00:00:08', '2020-07-04 00:00:09'],\n",
              "              dtype='datetime64[ns]', freq=None)"
            ]
          },
          "metadata": {
            "tags": []
          },
          "execution_count": 96
        }
      ]
    },
    {
      "cell_type": "code",
      "metadata": {
        "colab": {
          "base_uri": "https://localhost:8080/"
        },
        "id": "RCOlqFALbdYE",
        "outputId": "80000829-ee61-49b2-e02f-d01c0829f6ed"
      },
      "source": [
        "pd.timedelta_range(start='12 day', end='15 day', periods=10)"
      ],
      "execution_count": null,
      "outputs": [
        {
          "output_type": "execute_result",
          "data": {
            "text/plain": [
              "TimedeltaIndex(['12 days 00:00:00', '12 days 08:00:00', '12 days 16:00:00',\n",
              "                '13 days 00:00:00', '13 days 08:00:00', '13 days 16:00:00',\n",
              "                '14 days 00:00:00', '14 days 08:00:00', '14 days 16:00:00',\n",
              "                '15 days 00:00:00'],\n",
              "               dtype='timedelta64[ns]', freq=None)"
            ]
          },
          "metadata": {
            "tags": []
          },
          "execution_count": 98
        }
      ]
    },
    {
      "cell_type": "markdown",
      "metadata": {
        "id": "KwDvBOOIu4Nd"
      },
      "source": [
        "## Pandas Time Series Data Structures\n",
        "\n",
        "This section will introduce the fundamental Pandas data structures for working with time series data:\n",
        "\n",
        "- For ***time stamps***, Pandas provides the ``Timestamp`` type. As mentioned before, it is essentially a replacement for Python's native ``datetime``, but is based on the more efficient ``numpy.datetime64`` data type. **The associated Index structure is ``DatetimeIndex``.**\n",
        "- For ***time Periods***, Pandas provides the ``Period`` type. This encodes a fixed-frequency interval based on ``numpy.datetime64``. **The associated index structure is ``PeriodIndex``.**\n",
        "- For ***time deltas*** or *durations*, Pandas provides the ``Timedelta`` type. ``Timedelta`` is a more efficient replacement for Python's native ``datetime.timedelta`` type, and is based on ``numpy.timedelta64``. **The associated index structure is ``TimedeltaIndex``.**"
      ]
    },
    {
      "cell_type": "code",
      "metadata": {
        "id": "CLO6Bw4zvSUI"
      },
      "source": [
        "Myindex = pd.DatetimeIndex(['2012-12-12', '2012-10-10', '2017-10-10'])"
      ],
      "execution_count": null,
      "outputs": []
    },
    {
      "cell_type": "code",
      "metadata": {
        "colab": {
          "base_uri": "https://localhost:8080/"
        },
        "id": "CxQOjyJUdMc8",
        "outputId": "0a1ba8ee-828b-4d08-9696-920a7fcf4aa4"
      },
      "source": [
        "Myindex"
      ],
      "execution_count": null,
      "outputs": [
        {
          "output_type": "execute_result",
          "data": {
            "text/plain": [
              "DatetimeIndex(['2012-12-12', '2013-10-10', '2017-10-10'], dtype='datetime64[ns]', freq=None)"
            ]
          },
          "metadata": {
            "tags": []
          },
          "execution_count": 100
        }
      ]
    },
    {
      "cell_type": "code",
      "metadata": {
        "colab": {
          "base_uri": "https://localhost:8080/"
        },
        "id": "0RNZ0myUemBZ",
        "outputId": "c83f5cc1-7c11-4d3b-d177-ab93fa0184a6"
      },
      "source": [
        "Mydata = pd.to_datetime([datetime(2020,7,3), '4th of feb, 2018', '2015-Jul-06', '20150722' ])\n",
        "Mydata"
      ],
      "execution_count": null,
      "outputs": [
        {
          "output_type": "execute_result",
          "data": {
            "text/plain": [
              "DatetimeIndex(['2020-07-03', '2018-02-04', '2015-07-06', '2015-07-22'], dtype='datetime64[ns]', freq=None)"
            ]
          },
          "metadata": {
            "tags": []
          },
          "execution_count": 107
        }
      ]
    },
    {
      "cell_type": "code",
      "metadata": {
        "id": "vufceej4fKgJ"
      },
      "source": [
        ""
      ],
      "execution_count": null,
      "outputs": []
    },
    {
      "cell_type": "code",
      "metadata": {
        "id": "WMjwzbkXvSf7",
        "colab": {
          "base_uri": "https://localhost:8080/"
        },
        "outputId": "303d1f3d-cba3-49be-9859-531384fdfa99"
      },
      "source": [
        "data = pd.Series([0,1,2], index=Myindex)\n",
        "data"
      ],
      "execution_count": null,
      "outputs": [
        {
          "output_type": "execute_result",
          "data": {
            "text/plain": [
              "2012-12-12    0\n",
              "2012-10-10    1\n",
              "2017-10-10    2\n",
              "dtype: int64"
            ]
          },
          "metadata": {
            "tags": []
          },
          "execution_count": 103
        }
      ]
    },
    {
      "cell_type": "code",
      "metadata": {
        "id": "S1JpFvxSvSj1",
        "colab": {
          "base_uri": "https://localhost:8080/"
        },
        "outputId": "1750ad22-a62e-414d-809d-50db5c4de027"
      },
      "source": [
        "data['2017']"
      ],
      "execution_count": null,
      "outputs": [
        {
          "output_type": "execute_result",
          "data": {
            "text/plain": [
              "2017-10-10    2\n",
              "dtype: int64"
            ]
          },
          "metadata": {
            "tags": []
          },
          "execution_count": 105
        }
      ]
    },
    {
      "cell_type": "markdown",
      "metadata": {
        "id": "Ij1wK0jlZ96g"
      },
      "source": [
        "The most fundamental of these date/time objects are the ``Timestamp`` and ``DatetimeIndex`` objects.\n",
        "While these class objects can be invoked directly, it is more common to use the ``pd.to_datetime()`` function, which can parse a wide variety of formats.\n",
        "Passing a single date to ``pd.to_datetime()`` yields a ``Timestamp``; passing a series of dates by default yields a ``DatetimeIndex``:"
      ]
    },
    {
      "cell_type": "markdown",
      "metadata": {
        "id": "c9xfI_43vS7e"
      },
      "source": [
        "### Regular sequences: ``pd.date_range()``"
      ]
    },
    {
      "cell_type": "code",
      "metadata": {
        "id": "DYRjtgYevYFJ",
        "colab": {
          "base_uri": "https://localhost:8080/"
        },
        "outputId": "9eee4fc7-76bf-4ac8-f362-2a8c495f6bf1"
      },
      "source": [
        "Mydata = pd.to_datetime([datetime(2020,7,3), '4th of feb, 2018', '2015-Jul-06', '20150722' ])\n",
        "Mydata"
      ],
      "execution_count": null,
      "outputs": [
        {
          "output_type": "execute_result",
          "data": {
            "text/plain": [
              "DatetimeIndex(['2020-07-03', '2018-02-04', '2015-07-06', '2015-07-22'], dtype='datetime64[ns]', freq=None)"
            ]
          },
          "metadata": {
            "tags": []
          },
          "execution_count": 112
        }
      ]
    },
    {
      "cell_type": "code",
      "metadata": {
        "id": "8MN4Sx8ivYIO"
      },
      "source": [
        "A=Mydata.to_period('M')"
      ],
      "execution_count": null,
      "outputs": []
    },
    {
      "cell_type": "code",
      "metadata": {
        "colab": {
          "base_uri": "https://localhost:8080/"
        },
        "id": "a20MyQdyftcP",
        "outputId": "27ff9b31-188d-46fb-bc62-8c391017e6bb"
      },
      "source": [
        "A == '2015-Jul-06'"
      ],
      "execution_count": null,
      "outputs": [
        {
          "output_type": "execute_result",
          "data": {
            "text/plain": [
              "array([False, False,  True,  True])"
            ]
          },
          "metadata": {
            "tags": []
          },
          "execution_count": 114
        }
      ]
    },
    {
      "cell_type": "code",
      "metadata": {
        "id": "0ib9t-kRvYOw",
        "colab": {
          "base_uri": "https://localhost:8080/"
        },
        "outputId": "f4695869-43ce-425b-ea45-db83064fce96"
      },
      "source": [
        "Mydata"
      ],
      "execution_count": null,
      "outputs": [
        {
          "output_type": "execute_result",
          "data": {
            "text/plain": [
              "DatetimeIndex(['2020-07-03', '2018-02-04', '2015-07-06', '2015-07-22'], dtype='datetime64[ns]', freq=None)"
            ]
          },
          "metadata": {
            "tags": []
          },
          "execution_count": 115
        }
      ]
    },
    {
      "cell_type": "code",
      "metadata": {
        "colab": {
          "base_uri": "https://localhost:8080/",
          "height": 172
        },
        "id": "5K-cx_Fgguci",
        "outputId": "7fad6999-0e64-4ae3-fcc8-730937dc73b1"
      },
      "source": [
        "DF = pd.DataFrame(Mydata)\n",
        "DF"
      ],
      "execution_count": null,
      "outputs": [
        {
          "output_type": "execute_result",
          "data": {
            "text/html": [
              "<div>\n",
              "<style scoped>\n",
              "    .dataframe tbody tr th:only-of-type {\n",
              "        vertical-align: middle;\n",
              "    }\n",
              "\n",
              "    .dataframe tbody tr th {\n",
              "        vertical-align: top;\n",
              "    }\n",
              "\n",
              "    .dataframe thead th {\n",
              "        text-align: right;\n",
              "    }\n",
              "</style>\n",
              "<table border=\"1\" class=\"dataframe\">\n",
              "  <thead>\n",
              "    <tr style=\"text-align: right;\">\n",
              "      <th></th>\n",
              "      <th>0</th>\n",
              "    </tr>\n",
              "  </thead>\n",
              "  <tbody>\n",
              "    <tr>\n",
              "      <th>0</th>\n",
              "      <td>2020-07-03</td>\n",
              "    </tr>\n",
              "    <tr>\n",
              "      <th>1</th>\n",
              "      <td>2018-02-04</td>\n",
              "    </tr>\n",
              "    <tr>\n",
              "      <th>2</th>\n",
              "      <td>2015-07-06</td>\n",
              "    </tr>\n",
              "    <tr>\n",
              "      <th>3</th>\n",
              "      <td>2015-07-22</td>\n",
              "    </tr>\n",
              "  </tbody>\n",
              "</table>\n",
              "</div>"
            ],
            "text/plain": [
              "           0\n",
              "0 2020-07-03\n",
              "1 2018-02-04\n",
              "2 2015-07-06\n",
              "3 2015-07-22"
            ]
          },
          "metadata": {
            "tags": []
          },
          "execution_count": 116
        }
      ]
    },
    {
      "cell_type": "code",
      "metadata": {
        "id": "eT3J7mO_vYSD",
        "colab": {
          "base_uri": "https://localhost:8080/"
        },
        "outputId": "ddb3a05c-f354-4a93-8db7-0231e6a2e8d6"
      },
      "source": [
        "pd.period_range('2019-07-01', periods=15, freq='D')"
      ],
      "execution_count": null,
      "outputs": [
        {
          "output_type": "execute_result",
          "data": {
            "text/plain": [
              "PeriodIndex(['2019-07-01', '2019-07-02', '2019-07-03', '2019-07-04',\n",
              "             '2019-07-05', '2019-07-06', '2019-07-07', '2019-07-08',\n",
              "             '2019-07-09', '2019-07-10', '2019-07-11', '2019-07-12',\n",
              "             '2019-07-13', '2019-07-14', '2019-07-15'],\n",
              "            dtype='period[D]', freq='D')"
            ]
          },
          "metadata": {
            "tags": []
          },
          "execution_count": 117
        }
      ]
    },
    {
      "cell_type": "markdown",
      "metadata": {
        "id": "y6aGgSRevY8V"
      },
      "source": [
        "## Frequencies and Offsets"
      ]
    },
    {
      "cell_type": "markdown",
      "metadata": {
        "id": "Pd_WTTp6mKWx"
      },
      "source": [
        "\n",
        "Fundamental to these Pandas time series tools is the concept of a frequency or date offset.\n",
        "Just as we saw the ``D`` (day) and ``H`` (hour) codes above, we can use such codes to specify any desired frequency spacing.\n",
        "The following table summarizes the main codes available:"
      ]
    },
    {
      "cell_type": "markdown",
      "metadata": {
        "id": "eQkn49VvmKc_"
      },
      "source": [
        "| Code   | Description         | Code   | Description          |\n",
        "|--------|---------------------|--------|----------------------|\n",
        "| ``D``  | Calendar day        | ``B``  | Business day         |\n",
        "| ``W``  | Weekly              |        |                      |\n",
        "| ``M``  | Month end           | ``BM`` | Business month end   |\n",
        "| ``Q``  | Quarter end         | ``BQ`` | Business quarter end |\n",
        "| ``A``  | Year end            | ``BA`` | Business year end    |\n",
        "| ``H``  | Hours               | ``BH`` | Business hours       |\n",
        "| ``T``  | Minutes             |        |                      |\n",
        "| ``S``  | Seconds             |        |                      |\n",
        "| ``L``  | Milliseonds         |        |                      |\n",
        "| ``U``  | Microseconds        |        |                      |\n",
        "| ``N``  | nanoseconds         |        |                      |"
      ]
    },
    {
      "cell_type": "markdown",
      "metadata": {
        "id": "TvVAXLnzmSbK"
      },
      "source": [
        "The monthly, quarterly, and annual frequencies are all marked at the end of the specified period.\n",
        "By adding an ``S`` suffix to any of these, they instead will be marked at the beginning:"
      ]
    },
    {
      "cell_type": "markdown",
      "metadata": {
        "id": "GOq1AdEpmOSq"
      },
      "source": [
        "| Code    | Description            || Code    | Description            |\n",
        "|---------|------------------------||---------|------------------------|\n",
        "| ``MS``  | Month start            ||``BMS``  | Business month start   |\n",
        "| ``QS``  | Quarter start          ||``BQS``  | Business quarter start |\n",
        "| ``AS``  | Year start             ||``BAS``  | Business year start    |"
      ]
    },
    {
      "cell_type": "markdown",
      "metadata": {
        "id": "G116UB7mm8vt"
      },
      "source": [
        "Additionally, you can change the month used to mark any quarterly or annual code by adding a three-letter month code as a suffix:\n",
        "\n",
        "- ``Q-JAN``, ``BQ-FEB``, ``QS-MAR``, ``BQS-APR``, etc.\n",
        "- ``A-JAN``, ``BA-FEB``, ``AS-MAR``, ``BAS-APR``, etc.\n",
        "\n",
        "In the same way, the split-point of the weekly frequency can be modified by adding a three-letter weekday code:\n",
        "\n",
        "- ``W-SUN``, ``W-MON``, ``W-TUE``, ``W-WED``, etc.\n",
        "\n",
        "On top of this, codes can be combined with numbers to specify other frequencies.\n",
        "For example, for a frequency of 2 hours 30 minutes, we can combine the hour (``H``) and minute (``T``) codes as follows:"
      ]
    },
    {
      "cell_type": "code",
      "metadata": {
        "id": "Xd_jd0WYvZyI",
        "colab": {
          "base_uri": "https://localhost:8080/"
        },
        "outputId": "1ca97fac-d516-4258-f661-b6ad2f98a52f"
      },
      "source": [
        "pd.timedelta_range(0,periods=12, freq=\"2H30T\")"
      ],
      "execution_count": null,
      "outputs": [
        {
          "output_type": "execute_result",
          "data": {
            "text/plain": [
              "TimedeltaIndex(['0 days 00:00:00', '0 days 02:30:00', '0 days 05:00:00',\n",
              "                '0 days 07:30:00', '0 days 10:00:00', '0 days 12:30:00',\n",
              "                '0 days 15:00:00', '0 days 17:30:00', '0 days 20:00:00',\n",
              "                '0 days 22:30:00', '1 days 01:00:00', '1 days 03:30:00'],\n",
              "               dtype='timedelta64[ns]', freq='150T')"
            ]
          },
          "metadata": {
            "tags": []
          },
          "execution_count": 118
        }
      ]
    },
    {
      "cell_type": "code",
      "metadata": {
        "id": "kj3BBieIvZ7E"
      },
      "source": [
        "from pandas.tseries.offsets import BDay"
      ],
      "execution_count": null,
      "outputs": []
    },
    {
      "cell_type": "code",
      "metadata": {
        "id": "xfHkZmoTvZ98",
        "colab": {
          "base_uri": "https://localhost:8080/"
        },
        "outputId": "3641cd80-ea79-424b-f6bd-64e77e79e543"
      },
      "source": [
        "pd.date_range('2015-07-01', periods=12, freq='B')"
      ],
      "execution_count": null,
      "outputs": [
        {
          "output_type": "execute_result",
          "data": {
            "text/plain": [
              "DatetimeIndex(['2015-07-01', '2015-07-02', '2015-07-03', '2015-07-06',\n",
              "               '2015-07-07', '2015-07-08', '2015-07-09', '2015-07-10',\n",
              "               '2015-07-13', '2015-07-14', '2015-07-15', '2015-07-16'],\n",
              "              dtype='datetime64[ns]', freq='B')"
            ]
          },
          "metadata": {
            "tags": []
          },
          "execution_count": 121
        }
      ]
    },
    {
      "cell_type": "code",
      "metadata": {
        "id": "qiTzs0rSvaEy"
      },
      "source": [
        ""
      ],
      "execution_count": null,
      "outputs": []
    },
    {
      "cell_type": "markdown",
      "metadata": {
        "id": "9Ovpk6PloUkA"
      },
      "source": [
        "## Resampling, Shifting, and Windowing"
      ]
    },
    {
      "cell_type": "code",
      "metadata": {
        "id": "WfLdb-3qoWkG"
      },
      "source": [
        "from pandas_datareader import data\n",
        "goog = data.DataReader('YAHOO', start='2004', end='2020',\n",
        "                       data_source='yahoo')\n",
        "goog.head()"
      ],
      "execution_count": null,
      "outputs": []
    },
    {
      "cell_type": "code",
      "metadata": {
        "id": "AM-dpxPSpvU-"
      },
      "source": [
        "import yfinance as yf"
      ],
      "execution_count": null,
      "outputs": []
    },
    {
      "cell_type": "code",
      "metadata": {
        "id": "WhOtZTT-im__"
      },
      "source": [
        "import yfinance as yf"
      ],
      "execution_count": null,
      "outputs": []
    },
    {
      "cell_type": "code",
      "metadata": {
        "id": "CY9Zbc__igbV"
      },
      "source": [
        "! pip install yfinance"
      ],
      "execution_count": null,
      "outputs": []
    },
    {
      "cell_type": "code",
      "metadata": {
        "id": "nmd6sNZCpvb4",
        "colab": {
          "base_uri": "https://localhost:8080/"
        },
        "outputId": "df0c50d6-6233-496f-f81a-b333aab6388d"
      },
      "source": [
        "import yfinance as yf\n",
        "df = yf.download('MSFT', start = '2012-01-01', end='2020-01-01')"
      ],
      "execution_count": null,
      "outputs": [
        {
          "output_type": "stream",
          "text": [
            "\r[*********************100%***********************]  1 of 1 completed\n"
          ],
          "name": "stdout"
        }
      ]
    },
    {
      "cell_type": "code",
      "metadata": {
        "id": "R9RIbtoCpvr7",
        "colab": {
          "base_uri": "https://localhost:8080/",
          "height": 447
        },
        "outputId": "0179af2c-223c-433f-b93a-ad6bf7eac1ee"
      },
      "source": [
        "df"
      ],
      "execution_count": null,
      "outputs": [
        {
          "output_type": "execute_result",
          "data": {
            "text/html": [
              "<div>\n",
              "<style scoped>\n",
              "    .dataframe tbody tr th:only-of-type {\n",
              "        vertical-align: middle;\n",
              "    }\n",
              "\n",
              "    .dataframe tbody tr th {\n",
              "        vertical-align: top;\n",
              "    }\n",
              "\n",
              "    .dataframe thead th {\n",
              "        text-align: right;\n",
              "    }\n",
              "</style>\n",
              "<table border=\"1\" class=\"dataframe\">\n",
              "  <thead>\n",
              "    <tr style=\"text-align: right;\">\n",
              "      <th></th>\n",
              "      <th>Open</th>\n",
              "      <th>High</th>\n",
              "      <th>Low</th>\n",
              "      <th>Close</th>\n",
              "      <th>Adj Close</th>\n",
              "      <th>Volume</th>\n",
              "    </tr>\n",
              "    <tr>\n",
              "      <th>Date</th>\n",
              "      <th></th>\n",
              "      <th></th>\n",
              "      <th></th>\n",
              "      <th></th>\n",
              "      <th></th>\n",
              "      <th></th>\n",
              "    </tr>\n",
              "  </thead>\n",
              "  <tbody>\n",
              "    <tr>\n",
              "      <th>2012-01-03</th>\n",
              "      <td>26.549999</td>\n",
              "      <td>26.959999</td>\n",
              "      <td>26.389999</td>\n",
              "      <td>26.770000</td>\n",
              "      <td>21.749044</td>\n",
              "      <td>64731500</td>\n",
              "    </tr>\n",
              "    <tr>\n",
              "      <th>2012-01-04</th>\n",
              "      <td>26.820000</td>\n",
              "      <td>27.469999</td>\n",
              "      <td>26.780001</td>\n",
              "      <td>27.400000</td>\n",
              "      <td>22.260885</td>\n",
              "      <td>80516100</td>\n",
              "    </tr>\n",
              "    <tr>\n",
              "      <th>2012-01-05</th>\n",
              "      <td>27.379999</td>\n",
              "      <td>27.730000</td>\n",
              "      <td>27.290001</td>\n",
              "      <td>27.680000</td>\n",
              "      <td>22.488358</td>\n",
              "      <td>56081400</td>\n",
              "    </tr>\n",
              "    <tr>\n",
              "      <th>2012-01-06</th>\n",
              "      <td>27.530001</td>\n",
              "      <td>28.190001</td>\n",
              "      <td>27.530001</td>\n",
              "      <td>28.110001</td>\n",
              "      <td>22.837715</td>\n",
              "      <td>99455500</td>\n",
              "    </tr>\n",
              "    <tr>\n",
              "      <th>2012-01-09</th>\n",
              "      <td>28.049999</td>\n",
              "      <td>28.100000</td>\n",
              "      <td>27.719999</td>\n",
              "      <td>27.740000</td>\n",
              "      <td>22.537107</td>\n",
              "      <td>59706800</td>\n",
              "    </tr>\n",
              "    <tr>\n",
              "      <th>...</th>\n",
              "      <td>...</td>\n",
              "      <td>...</td>\n",
              "      <td>...</td>\n",
              "      <td>...</td>\n",
              "      <td>...</td>\n",
              "      <td>...</td>\n",
              "    </tr>\n",
              "    <tr>\n",
              "      <th>2019-12-24</th>\n",
              "      <td>157.479996</td>\n",
              "      <td>157.710007</td>\n",
              "      <td>157.119995</td>\n",
              "      <td>157.380005</td>\n",
              "      <td>155.014450</td>\n",
              "      <td>8989200</td>\n",
              "    </tr>\n",
              "    <tr>\n",
              "      <th>2019-12-26</th>\n",
              "      <td>157.559998</td>\n",
              "      <td>158.729996</td>\n",
              "      <td>157.399994</td>\n",
              "      <td>158.669998</td>\n",
              "      <td>156.285065</td>\n",
              "      <td>14520600</td>\n",
              "    </tr>\n",
              "    <tr>\n",
              "      <th>2019-12-27</th>\n",
              "      <td>159.449997</td>\n",
              "      <td>159.550003</td>\n",
              "      <td>158.220001</td>\n",
              "      <td>158.960007</td>\n",
              "      <td>156.570709</td>\n",
              "      <td>18412800</td>\n",
              "    </tr>\n",
              "    <tr>\n",
              "      <th>2019-12-30</th>\n",
              "      <td>158.990005</td>\n",
              "      <td>159.020004</td>\n",
              "      <td>156.729996</td>\n",
              "      <td>157.589996</td>\n",
              "      <td>155.221313</td>\n",
              "      <td>16348400</td>\n",
              "    </tr>\n",
              "    <tr>\n",
              "      <th>2019-12-31</th>\n",
              "      <td>156.770004</td>\n",
              "      <td>157.770004</td>\n",
              "      <td>156.449997</td>\n",
              "      <td>157.699997</td>\n",
              "      <td>155.329636</td>\n",
              "      <td>18369400</td>\n",
              "    </tr>\n",
              "  </tbody>\n",
              "</table>\n",
              "<p>2012 rows × 6 columns</p>\n",
              "</div>"
            ],
            "text/plain": [
              "                  Open        High  ...   Adj Close    Volume\n",
              "Date                                ...                      \n",
              "2012-01-03   26.549999   26.959999  ...   21.749044  64731500\n",
              "2012-01-04   26.820000   27.469999  ...   22.260885  80516100\n",
              "2012-01-05   27.379999   27.730000  ...   22.488358  56081400\n",
              "2012-01-06   27.530001   28.190001  ...   22.837715  99455500\n",
              "2012-01-09   28.049999   28.100000  ...   22.537107  59706800\n",
              "...                ...         ...  ...         ...       ...\n",
              "2019-12-24  157.479996  157.710007  ...  155.014450   8989200\n",
              "2019-12-26  157.559998  158.729996  ...  156.285065  14520600\n",
              "2019-12-27  159.449997  159.550003  ...  156.570709  18412800\n",
              "2019-12-30  158.990005  159.020004  ...  155.221313  16348400\n",
              "2019-12-31  156.770004  157.770004  ...  155.329636  18369400\n",
              "\n",
              "[2012 rows x 6 columns]"
            ]
          },
          "metadata": {
            "tags": []
          },
          "execution_count": 128
        }
      ]
    },
    {
      "cell_type": "code",
      "metadata": {
        "colab": {
          "base_uri": "https://localhost:8080/",
          "height": 447
        },
        "id": "ufWDha3TjJii",
        "outputId": "2dc76376-9d7d-443a-d16d-704179d28b3a"
      },
      "source": [
        "weekly = df.resample('W').sum()\n",
        "weekly"
      ],
      "execution_count": null,
      "outputs": [
        {
          "output_type": "execute_result",
          "data": {
            "text/html": [
              "<div>\n",
              "<style scoped>\n",
              "    .dataframe tbody tr th:only-of-type {\n",
              "        vertical-align: middle;\n",
              "    }\n",
              "\n",
              "    .dataframe tbody tr th {\n",
              "        vertical-align: top;\n",
              "    }\n",
              "\n",
              "    .dataframe thead th {\n",
              "        text-align: right;\n",
              "    }\n",
              "</style>\n",
              "<table border=\"1\" class=\"dataframe\">\n",
              "  <thead>\n",
              "    <tr style=\"text-align: right;\">\n",
              "      <th></th>\n",
              "      <th>Open</th>\n",
              "      <th>High</th>\n",
              "      <th>Low</th>\n",
              "      <th>Close</th>\n",
              "      <th>Adj Close</th>\n",
              "      <th>Volume</th>\n",
              "    </tr>\n",
              "    <tr>\n",
              "      <th>Date</th>\n",
              "      <th></th>\n",
              "      <th></th>\n",
              "      <th></th>\n",
              "      <th></th>\n",
              "      <th></th>\n",
              "      <th></th>\n",
              "    </tr>\n",
              "  </thead>\n",
              "  <tbody>\n",
              "    <tr>\n",
              "      <th>2012-01-08</th>\n",
              "      <td>108.279999</td>\n",
              "      <td>110.349998</td>\n",
              "      <td>107.990002</td>\n",
              "      <td>109.960001</td>\n",
              "      <td>89.336002</td>\n",
              "      <td>300784500</td>\n",
              "    </tr>\n",
              "    <tr>\n",
              "      <th>2012-01-15</th>\n",
              "      <td>139.210001</td>\n",
              "      <td>140.500000</td>\n",
              "      <td>138.280001</td>\n",
              "      <td>139.549999</td>\n",
              "      <td>113.376125</td>\n",
              "      <td>294870500</td>\n",
              "    </tr>\n",
              "    <tr>\n",
              "      <th>2012-01-22</th>\n",
              "      <td>113.689999</td>\n",
              "      <td>115.230000</td>\n",
              "      <td>112.920000</td>\n",
              "      <td>114.320000</td>\n",
              "      <td>92.878242</td>\n",
              "      <td>377212300</td>\n",
              "    </tr>\n",
              "    <tr>\n",
              "      <th>2012-01-29</th>\n",
              "      <td>147.150000</td>\n",
              "      <td>148.400002</td>\n",
              "      <td>146.170000</td>\n",
              "      <td>147.359999</td>\n",
              "      <td>119.721289</td>\n",
              "      <td>280303600</td>\n",
              "    </tr>\n",
              "    <tr>\n",
              "      <th>2012-02-05</th>\n",
              "      <td>148.459999</td>\n",
              "      <td>149.940001</td>\n",
              "      <td>147.619999</td>\n",
              "      <td>149.220001</td>\n",
              "      <td>121.232441</td>\n",
              "      <td>263158900</td>\n",
              "    </tr>\n",
              "    <tr>\n",
              "      <th>...</th>\n",
              "      <td>...</td>\n",
              "      <td>...</td>\n",
              "      <td>...</td>\n",
              "      <td>...</td>\n",
              "      <td>...</td>\n",
              "      <td>...</td>\n",
              "    </tr>\n",
              "    <tr>\n",
              "      <th>2019-12-08</th>\n",
              "      <td>750.480011</td>\n",
              "      <td>753.629990</td>\n",
              "      <td>743.919998</td>\n",
              "      <td>750.389999</td>\n",
              "      <td>739.111069</td>\n",
              "      <td>103331700</td>\n",
              "    </tr>\n",
              "    <tr>\n",
              "      <th>2019-12-15</th>\n",
              "      <td>758.549988</td>\n",
              "      <td>764.300003</td>\n",
              "      <td>755.850006</td>\n",
              "      <td>761.960007</td>\n",
              "      <td>750.507172</td>\n",
              "      <td>100477600</td>\n",
              "    </tr>\n",
              "    <tr>\n",
              "      <th>2019-12-22</th>\n",
              "      <td>776.210007</td>\n",
              "      <td>781.350006</td>\n",
              "      <td>773.489990</td>\n",
              "      <td>777.710007</td>\n",
              "      <td>766.020447</td>\n",
              "      <td>152135400</td>\n",
              "    </tr>\n",
              "    <tr>\n",
              "      <th>2019-12-29</th>\n",
              "      <td>632.609985</td>\n",
              "      <td>634.110001</td>\n",
              "      <td>630.009995</td>\n",
              "      <td>632.420013</td>\n",
              "      <td>622.914261</td>\n",
              "      <td>59640800</td>\n",
              "    </tr>\n",
              "    <tr>\n",
              "      <th>2020-01-05</th>\n",
              "      <td>315.760010</td>\n",
              "      <td>316.790009</td>\n",
              "      <td>313.179993</td>\n",
              "      <td>315.289993</td>\n",
              "      <td>310.550949</td>\n",
              "      <td>34717800</td>\n",
              "    </tr>\n",
              "  </tbody>\n",
              "</table>\n",
              "<p>418 rows × 6 columns</p>\n",
              "</div>"
            ],
            "text/plain": [
              "                  Open        High  ...   Adj Close     Volume\n",
              "Date                                ...                       \n",
              "2012-01-08  108.279999  110.349998  ...   89.336002  300784500\n",
              "2012-01-15  139.210001  140.500000  ...  113.376125  294870500\n",
              "2012-01-22  113.689999  115.230000  ...   92.878242  377212300\n",
              "2012-01-29  147.150000  148.400002  ...  119.721289  280303600\n",
              "2012-02-05  148.459999  149.940001  ...  121.232441  263158900\n",
              "...                ...         ...  ...         ...        ...\n",
              "2019-12-08  750.480011  753.629990  ...  739.111069  103331700\n",
              "2019-12-15  758.549988  764.300003  ...  750.507172  100477600\n",
              "2019-12-22  776.210007  781.350006  ...  766.020447  152135400\n",
              "2019-12-29  632.609985  634.110001  ...  622.914261   59640800\n",
              "2020-01-05  315.760010  316.790009  ...  310.550949   34717800\n",
              "\n",
              "[418 rows x 6 columns]"
            ]
          },
          "metadata": {
            "tags": []
          },
          "execution_count": 133
        }
      ]
    },
    {
      "cell_type": "code",
      "metadata": {
        "id": "JIt-vfGvj8O_"
      },
      "source": [
        "import pandas as pd\n",
        "import numpy as np\n",
        "%matplotlib inline\n",
        "import matplotlib.pyplot as plt\n",
        "#import seaborn; seaborn.set()\n"
      ],
      "execution_count": null,
      "outputs": []
    },
    {
      "cell_type": "code",
      "metadata": {
        "colab": {
          "base_uri": "https://localhost:8080/",
          "height": 110
        },
        "id": "84a-5ZSakSG2",
        "outputId": "974716c8-f57a-4071-f75b-5cdcf6547526"
      },
      "source": [
        "d = pd.DataFrame({\"animal\": [\"dog\", 'cat'], \"age\": [10, 20]})\n",
        "d"
      ],
      "execution_count": null,
      "outputs": [
        {
          "output_type": "execute_result",
          "data": {
            "text/html": [
              "<div>\n",
              "<style scoped>\n",
              "    .dataframe tbody tr th:only-of-type {\n",
              "        vertical-align: middle;\n",
              "    }\n",
              "\n",
              "    .dataframe tbody tr th {\n",
              "        vertical-align: top;\n",
              "    }\n",
              "\n",
              "    .dataframe thead th {\n",
              "        text-align: right;\n",
              "    }\n",
              "</style>\n",
              "<table border=\"1\" class=\"dataframe\">\n",
              "  <thead>\n",
              "    <tr style=\"text-align: right;\">\n",
              "      <th></th>\n",
              "      <th>animal</th>\n",
              "      <th>age</th>\n",
              "    </tr>\n",
              "  </thead>\n",
              "  <tbody>\n",
              "    <tr>\n",
              "      <th>0</th>\n",
              "      <td>dog</td>\n",
              "      <td>10</td>\n",
              "    </tr>\n",
              "    <tr>\n",
              "      <th>1</th>\n",
              "      <td>cat</td>\n",
              "      <td>20</td>\n",
              "    </tr>\n",
              "  </tbody>\n",
              "</table>\n",
              "</div>"
            ],
            "text/plain": [
              "  animal  age\n",
              "0    dog   10\n",
              "1    cat   20"
            ]
          },
          "metadata": {
            "tags": []
          },
          "execution_count": 134
        }
      ]
    },
    {
      "cell_type": "code",
      "metadata": {
        "colab": {
          "base_uri": "https://localhost:8080/"
        },
        "id": "_V5rtTm3kmZe",
        "outputId": "3750d8c4-bee3-4949-e341-8d88be4a640d"
      },
      "source": [
        "d.age"
      ],
      "execution_count": null,
      "outputs": [
        {
          "output_type": "execute_result",
          "data": {
            "text/plain": [
              "0    10\n",
              "1    20\n",
              "Name: age, dtype: int64"
            ]
          },
          "metadata": {
            "tags": []
          },
          "execution_count": 135
        }
      ]
    },
    {
      "cell_type": "code",
      "metadata": {
        "colab": {
          "base_uri": "https://localhost:8080/",
          "height": 110
        },
        "id": "ftsFoflTkcJ7",
        "outputId": "2b9e83fc-ffab-4d7c-f7de-fd73e4d9450e"
      },
      "source": [
        "pd.eval('Double_age = d.age *2', target=d)"
      ],
      "execution_count": null,
      "outputs": [
        {
          "output_type": "execute_result",
          "data": {
            "text/html": [
              "<div>\n",
              "<style scoped>\n",
              "    .dataframe tbody tr th:only-of-type {\n",
              "        vertical-align: middle;\n",
              "    }\n",
              "\n",
              "    .dataframe tbody tr th {\n",
              "        vertical-align: top;\n",
              "    }\n",
              "\n",
              "    .dataframe thead th {\n",
              "        text-align: right;\n",
              "    }\n",
              "</style>\n",
              "<table border=\"1\" class=\"dataframe\">\n",
              "  <thead>\n",
              "    <tr style=\"text-align: right;\">\n",
              "      <th></th>\n",
              "      <th>animal</th>\n",
              "      <th>age</th>\n",
              "      <th>Double_age</th>\n",
              "    </tr>\n",
              "  </thead>\n",
              "  <tbody>\n",
              "    <tr>\n",
              "      <th>0</th>\n",
              "      <td>dog</td>\n",
              "      <td>10</td>\n",
              "      <td>20</td>\n",
              "    </tr>\n",
              "    <tr>\n",
              "      <th>1</th>\n",
              "      <td>cat</td>\n",
              "      <td>20</td>\n",
              "      <td>40</td>\n",
              "    </tr>\n",
              "  </tbody>\n",
              "</table>\n",
              "</div>"
            ],
            "text/plain": [
              "  animal  age  Double_age\n",
              "0    dog   10          20\n",
              "1    cat   20          40"
            ]
          },
          "metadata": {
            "tags": []
          },
          "execution_count": 136
        }
      ]
    },
    {
      "cell_type": "code",
      "metadata": {
        "colab": {
          "base_uri": "https://localhost:8080/",
          "height": 447
        },
        "id": "DMJeVM4zk-bp",
        "outputId": "01ea8790-c180-4d35-fb2d-5f0140d76d2e"
      },
      "source": [
        "pd.eval('Diff = df.Close - df.Open ', target=df)"
      ],
      "execution_count": null,
      "outputs": [
        {
          "output_type": "execute_result",
          "data": {
            "text/html": [
              "<div>\n",
              "<style scoped>\n",
              "    .dataframe tbody tr th:only-of-type {\n",
              "        vertical-align: middle;\n",
              "    }\n",
              "\n",
              "    .dataframe tbody tr th {\n",
              "        vertical-align: top;\n",
              "    }\n",
              "\n",
              "    .dataframe thead th {\n",
              "        text-align: right;\n",
              "    }\n",
              "</style>\n",
              "<table border=\"1\" class=\"dataframe\">\n",
              "  <thead>\n",
              "    <tr style=\"text-align: right;\">\n",
              "      <th></th>\n",
              "      <th>Open</th>\n",
              "      <th>High</th>\n",
              "      <th>Low</th>\n",
              "      <th>Close</th>\n",
              "      <th>Adj Close</th>\n",
              "      <th>Volume</th>\n",
              "      <th>Diff</th>\n",
              "    </tr>\n",
              "    <tr>\n",
              "      <th>Date</th>\n",
              "      <th></th>\n",
              "      <th></th>\n",
              "      <th></th>\n",
              "      <th></th>\n",
              "      <th></th>\n",
              "      <th></th>\n",
              "      <th></th>\n",
              "    </tr>\n",
              "  </thead>\n",
              "  <tbody>\n",
              "    <tr>\n",
              "      <th>2012-01-03</th>\n",
              "      <td>26.549999</td>\n",
              "      <td>26.959999</td>\n",
              "      <td>26.389999</td>\n",
              "      <td>26.770000</td>\n",
              "      <td>21.749044</td>\n",
              "      <td>64731500</td>\n",
              "      <td>0.220001</td>\n",
              "    </tr>\n",
              "    <tr>\n",
              "      <th>2012-01-04</th>\n",
              "      <td>26.820000</td>\n",
              "      <td>27.469999</td>\n",
              "      <td>26.780001</td>\n",
              "      <td>27.400000</td>\n",
              "      <td>22.260885</td>\n",
              "      <td>80516100</td>\n",
              "      <td>0.580000</td>\n",
              "    </tr>\n",
              "    <tr>\n",
              "      <th>2012-01-05</th>\n",
              "      <td>27.379999</td>\n",
              "      <td>27.730000</td>\n",
              "      <td>27.290001</td>\n",
              "      <td>27.680000</td>\n",
              "      <td>22.488358</td>\n",
              "      <td>56081400</td>\n",
              "      <td>0.300001</td>\n",
              "    </tr>\n",
              "    <tr>\n",
              "      <th>2012-01-06</th>\n",
              "      <td>27.530001</td>\n",
              "      <td>28.190001</td>\n",
              "      <td>27.530001</td>\n",
              "      <td>28.110001</td>\n",
              "      <td>22.837715</td>\n",
              "      <td>99455500</td>\n",
              "      <td>0.580000</td>\n",
              "    </tr>\n",
              "    <tr>\n",
              "      <th>2012-01-09</th>\n",
              "      <td>28.049999</td>\n",
              "      <td>28.100000</td>\n",
              "      <td>27.719999</td>\n",
              "      <td>27.740000</td>\n",
              "      <td>22.537107</td>\n",
              "      <td>59706800</td>\n",
              "      <td>-0.309999</td>\n",
              "    </tr>\n",
              "    <tr>\n",
              "      <th>...</th>\n",
              "      <td>...</td>\n",
              "      <td>...</td>\n",
              "      <td>...</td>\n",
              "      <td>...</td>\n",
              "      <td>...</td>\n",
              "      <td>...</td>\n",
              "      <td>...</td>\n",
              "    </tr>\n",
              "    <tr>\n",
              "      <th>2019-12-24</th>\n",
              "      <td>157.479996</td>\n",
              "      <td>157.710007</td>\n",
              "      <td>157.119995</td>\n",
              "      <td>157.380005</td>\n",
              "      <td>155.014450</td>\n",
              "      <td>8989200</td>\n",
              "      <td>-0.099991</td>\n",
              "    </tr>\n",
              "    <tr>\n",
              "      <th>2019-12-26</th>\n",
              "      <td>157.559998</td>\n",
              "      <td>158.729996</td>\n",
              "      <td>157.399994</td>\n",
              "      <td>158.669998</td>\n",
              "      <td>156.285065</td>\n",
              "      <td>14520600</td>\n",
              "      <td>1.110001</td>\n",
              "    </tr>\n",
              "    <tr>\n",
              "      <th>2019-12-27</th>\n",
              "      <td>159.449997</td>\n",
              "      <td>159.550003</td>\n",
              "      <td>158.220001</td>\n",
              "      <td>158.960007</td>\n",
              "      <td>156.570709</td>\n",
              "      <td>18412800</td>\n",
              "      <td>-0.489990</td>\n",
              "    </tr>\n",
              "    <tr>\n",
              "      <th>2019-12-30</th>\n",
              "      <td>158.990005</td>\n",
              "      <td>159.020004</td>\n",
              "      <td>156.729996</td>\n",
              "      <td>157.589996</td>\n",
              "      <td>155.221313</td>\n",
              "      <td>16348400</td>\n",
              "      <td>-1.400009</td>\n",
              "    </tr>\n",
              "    <tr>\n",
              "      <th>2019-12-31</th>\n",
              "      <td>156.770004</td>\n",
              "      <td>157.770004</td>\n",
              "      <td>156.449997</td>\n",
              "      <td>157.699997</td>\n",
              "      <td>155.329636</td>\n",
              "      <td>18369400</td>\n",
              "      <td>0.929993</td>\n",
              "    </tr>\n",
              "  </tbody>\n",
              "</table>\n",
              "<p>2012 rows × 7 columns</p>\n",
              "</div>"
            ],
            "text/plain": [
              "                  Open        High         Low  ...   Adj Close    Volume      Diff\n",
              "Date                                            ...                                \n",
              "2012-01-03   26.549999   26.959999   26.389999  ...   21.749044  64731500  0.220001\n",
              "2012-01-04   26.820000   27.469999   26.780001  ...   22.260885  80516100  0.580000\n",
              "2012-01-05   27.379999   27.730000   27.290001  ...   22.488358  56081400  0.300001\n",
              "2012-01-06   27.530001   28.190001   27.530001  ...   22.837715  99455500  0.580000\n",
              "2012-01-09   28.049999   28.100000   27.719999  ...   22.537107  59706800 -0.309999\n",
              "...                ...         ...         ...  ...         ...       ...       ...\n",
              "2019-12-24  157.479996  157.710007  157.119995  ...  155.014450   8989200 -0.099991\n",
              "2019-12-26  157.559998  158.729996  157.399994  ...  156.285065  14520600  1.110001\n",
              "2019-12-27  159.449997  159.550003  158.220001  ...  156.570709  18412800 -0.489990\n",
              "2019-12-30  158.990005  159.020004  156.729996  ...  155.221313  16348400 -1.400009\n",
              "2019-12-31  156.770004  157.770004  156.449997  ...  155.329636  18369400  0.929993\n",
              "\n",
              "[2012 rows x 7 columns]"
            ]
          },
          "metadata": {
            "tags": []
          },
          "execution_count": 137
        }
      ]
    }
  ]
}