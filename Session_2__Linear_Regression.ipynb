{
  "nbformat": 4,
  "nbformat_minor": 0,
  "metadata": {
    "colab": {
      "name": "Session 2_ Linear Regression.ipynb",
      "provenance": [],
      "collapsed_sections": [],
      "include_colab_link": true
    },
    "kernelspec": {
      "name": "python3",
      "display_name": "Python 3"
    },
    "language_info": {
      "name": "python"
    }
  },
  "cells": [
    {
      "cell_type": "markdown",
      "metadata": {
        "id": "view-in-github",
        "colab_type": "text"
      },
      "source": [
        "<a href=\"https://colab.research.google.com/github/ReefAmarin/HTU-DS-2021/blob/main/Session_2__Linear_Regression.ipynb\" target=\"_parent\"><img src=\"https://colab.research.google.com/assets/colab-badge.svg\" alt=\"Open In Colab\"/></a>"
      ]
    },
    {
      "cell_type": "markdown",
      "metadata": {
        "id": "1of4GHD91al5"
      },
      "source": [
        "# Importing Libraries"
      ]
    },
    {
      "cell_type": "code",
      "metadata": {
        "id": "jyusC1Ku4xB6"
      },
      "source": [
        "import pandas as pd\n",
        "import numpy as np\n",
        "import matplotlib.pyplot as plt\n",
        "from sklearn.linear_model import LinearRegression\n",
        "from sklearn.metrics import r2_score"
      ],
      "execution_count": null,
      "outputs": []
    },
    {
      "cell_type": "markdown",
      "metadata": {
        "id": "Nt9wB1VF1gJI"
      },
      "source": [
        "# Loading Data"
      ]
    },
    {
      "cell_type": "code",
      "metadata": {
        "colab": {
          "base_uri": "https://localhost:8080/",
          "height": 204
        },
        "id": "3Wew3SDLmVpH",
        "outputId": "ab611fad-1079-4cbe-9d16-4417b293ad67"
      },
      "source": [
        "df0 = pd.read_csv('Salary_Data.csv')\n",
        "df0.head()"
      ],
      "execution_count": null,
      "outputs": [
        {
          "output_type": "execute_result",
          "data": {
            "text/html": [
              "<div>\n",
              "<style scoped>\n",
              "    .dataframe tbody tr th:only-of-type {\n",
              "        vertical-align: middle;\n",
              "    }\n",
              "\n",
              "    .dataframe tbody tr th {\n",
              "        vertical-align: top;\n",
              "    }\n",
              "\n",
              "    .dataframe thead th {\n",
              "        text-align: right;\n",
              "    }\n",
              "</style>\n",
              "<table border=\"1\" class=\"dataframe\">\n",
              "  <thead>\n",
              "    <tr style=\"text-align: right;\">\n",
              "      <th></th>\n",
              "      <th>YearsExperience</th>\n",
              "      <th>Salary</th>\n",
              "    </tr>\n",
              "  </thead>\n",
              "  <tbody>\n",
              "    <tr>\n",
              "      <th>0</th>\n",
              "      <td>1.1</td>\n",
              "      <td>39343.0</td>\n",
              "    </tr>\n",
              "    <tr>\n",
              "      <th>1</th>\n",
              "      <td>1.3</td>\n",
              "      <td>46205.0</td>\n",
              "    </tr>\n",
              "    <tr>\n",
              "      <th>2</th>\n",
              "      <td>1.5</td>\n",
              "      <td>37731.0</td>\n",
              "    </tr>\n",
              "    <tr>\n",
              "      <th>3</th>\n",
              "      <td>2.0</td>\n",
              "      <td>43525.0</td>\n",
              "    </tr>\n",
              "    <tr>\n",
              "      <th>4</th>\n",
              "      <td>2.2</td>\n",
              "      <td>39891.0</td>\n",
              "    </tr>\n",
              "  </tbody>\n",
              "</table>\n",
              "</div>"
            ],
            "text/plain": [
              "   YearsExperience   Salary\n",
              "0              1.1  39343.0\n",
              "1              1.3  46205.0\n",
              "2              1.5  37731.0\n",
              "3              2.0  43525.0\n",
              "4              2.2  39891.0"
            ]
          },
          "metadata": {
            "tags": []
          },
          "execution_count": 2
        }
      ]
    },
    {
      "cell_type": "markdown",
      "metadata": {
        "id": "KIm8cjCu1lDv"
      },
      "source": [
        "# Exploring the Data"
      ]
    },
    {
      "cell_type": "code",
      "metadata": {
        "colab": {
          "base_uri": "https://localhost:8080/"
        },
        "id": "Ff73gqSao1vF",
        "outputId": "52eccbc6-e237-42e3-952d-f17213fb7f02"
      },
      "source": [
        "df0['Salary'].max(),df0['Salary'].min(),df0['Salary'].mean(),df0['Salary'].median()"
      ],
      "execution_count": null,
      "outputs": [
        {
          "output_type": "execute_result",
          "data": {
            "text/plain": [
              "(122391.0, 37731.0, 76003.0, 65237.0)"
            ]
          },
          "metadata": {
            "tags": []
          },
          "execution_count": 3
        }
      ]
    },
    {
      "cell_type": "code",
      "metadata": {
        "colab": {
          "base_uri": "https://localhost:8080/"
        },
        "id": "GrrK6MYLpPLR",
        "outputId": "0ec0117c-7067-4a35-b592-ff37be6e7f13"
      },
      "source": [
        "df0['Salary'].describe()"
      ],
      "execution_count": null,
      "outputs": [
        {
          "output_type": "execute_result",
          "data": {
            "text/plain": [
              "count        30.000000\n",
              "mean      76003.000000\n",
              "std       27414.429785\n",
              "min       37731.000000\n",
              "25%       56720.750000\n",
              "50%       65237.000000\n",
              "75%      100544.750000\n",
              "max      122391.000000\n",
              "Name: Salary, dtype: float64"
            ]
          },
          "metadata": {
            "tags": []
          },
          "execution_count": 4
        }
      ]
    },
    {
      "cell_type": "markdown",
      "metadata": {
        "id": "rkeAOPcL1o-h"
      },
      "source": [
        "# Visualizing the Data"
      ]
    },
    {
      "cell_type": "code",
      "metadata": {
        "colab": {
          "base_uri": "https://localhost:8080/",
          "height": 279
        },
        "id": "ECSQTmA1pmVz",
        "outputId": "3439acb7-0769-45bb-9ef9-28aa725d8139"
      },
      "source": [
        "x = df0['YearsExperience'].values\n",
        "y = df0['Salary'].values\n",
        "\n",
        "plt.scatter(x,y,label = 'Real Data',color = 'r')\n",
        "plt.grid()\n",
        "plt.xlabel('Years of Experience')\n",
        "plt.ylabel('Salary ($)')\n",
        "plt.show()"
      ],
      "execution_count": null,
      "outputs": [
        {
          "output_type": "display_data",
          "data": {
            "image/png": "[encoded data removed]",
            "text/plain": [
              "<Figure size 432x288 with 1 Axes>"
            ]
          },
          "metadata": {
            "tags": [],
            "needs_background": "light"
          }
        }
      ]
    },
    {
      "cell_type": "markdown",
      "metadata": {
        "id": "I8181cyBNLFv"
      },
      "source": [
        "# Simple Linear Regression"
      ]
    },
    {
      "cell_type": "code",
      "metadata": {
        "id": "BoSXdoFCNQCE",
        "colab": {
          "base_uri": "https://localhost:8080/"
        },
        "outputId": "daef9e97-f9e7-485c-81ed-c4254571eb30"
      },
      "source": [
        "regressor = LinearRegression()\n",
        "# The linear regressor does not accept data frames, it accepts arrays. \n",
        "x = df0.iloc[:,:-1].values\n",
        "y = df0.iloc[:,-1].values\n",
        "regressor.fit(x,y)"
      ],
      "execution_count": null,
      "outputs": [
        {
          "output_type": "execute_result",
          "data": {
            "text/plain": [
              "LinearRegression(copy_X=True, fit_intercept=True, n_jobs=None, normalize=False)"
            ]
          },
          "metadata": {
            "tags": []
          },
          "execution_count": 6
        }
      ]
    },
    {
      "cell_type": "code",
      "metadata": {
        "colab": {
          "base_uri": "https://localhost:8080/"
        },
        "id": "0VTzv9y0vvlC",
        "outputId": "beb90d79-b488-4f35-c434-d48fb692096f"
      },
      "source": [
        "regressor.predict([[1.5],[0]])"
      ],
      "execution_count": null,
      "outputs": [
        {
          "output_type": "execute_result",
          "data": {
            "text/plain": [
              "array([39967.14368085, 25792.20019867])"
            ]
          },
          "metadata": {
            "tags": []
          },
          "execution_count": 7
        }
      ]
    },
    {
      "cell_type": "markdown",
      "metadata": {
        "id": "HMj3OlOm11TP"
      },
      "source": [
        "# Visualize the Trained Model"
      ]
    },
    {
      "cell_type": "code",
      "metadata": {
        "colab": {
          "base_uri": "https://localhost:8080/",
          "height": 279
        },
        "id": "PynHN4ClwV9J",
        "outputId": "1baf3a22-7982-40ba-9aff-7de28562ace5"
      },
      "source": [
        "x = df0['YearsExperience'].values\n",
        "y = df0['Salary'].values\n",
        "\n",
        "x = df0.iloc[:,:-1].values\n",
        "y_pred = regressor.predict(x)\n",
        "\n",
        "plt.scatter(x,y,label = 'Real Data',color = 'r')\n",
        "plt.plot(x,y_pred,label = 'Predicted Values',color = 'k')\n",
        "\n",
        "plt.grid()\n",
        "plt.xlabel('Years of Experience')\n",
        "plt.ylabel('Salary ($)')\n",
        "plt.show()"
      ],
      "execution_count": null,
      "outputs": [
        {
          "output_type": "display_data",
          "data": {
            "image/png": "[encoded data removed]",
            "text/plain": [
              "<Figure size 432x288 with 1 Axes>"
            ]
          },
          "metadata": {
            "tags": [],
            "needs_background": "light"
          }
        }
      ]
    },
    {
      "cell_type": "markdown",
      "metadata": {
        "id": "aMnOcBO216te"
      },
      "source": [
        "# Calculate the R-Squared"
      ]
    },
    {
      "cell_type": "code",
      "metadata": {
        "colab": {
          "base_uri": "https://localhost:8080/"
        },
        "id": "-8OJE4Fkx6Bo",
        "outputId": "85e38ccd-53b5-4dce-9ea7-7cce4812a94c"
      },
      "source": [
        "r2_score(y,y_pred)"
      ],
      "execution_count": null,
      "outputs": [
        {
          "output_type": "execute_result",
          "data": {
            "text/plain": [
              "0.9569566641435086"
            ]
          },
          "metadata": {
            "tags": []
          },
          "execution_count": 9
        }
      ]
    },
    {
      "cell_type": "markdown",
      "metadata": {
        "id": "r1ZPWSVNNQji"
      },
      "source": [
        "# Predicting new values\n",
        "\n",
        "\n"
      ]
    },
    {
      "cell_type": "code",
      "metadata": {
        "id": "_pmV59ZcNcBs",
        "colab": {
          "base_uri": "https://localhost:8080/"
        },
        "outputId": "55100ff7-9b44-45b7-c701-b9ace20b35e3"
      },
      "source": [
        "print(f'The model predicts that entry level salary is {regressor.predict([[0]])}.')"
      ],
      "execution_count": null,
      "outputs": [
        {
          "output_type": "stream",
          "text": [
            "The model predicts that entry level salary is [25792.20019867].\n"
          ],
          "name": "stdout"
        }
      ]
    }
  ]
}