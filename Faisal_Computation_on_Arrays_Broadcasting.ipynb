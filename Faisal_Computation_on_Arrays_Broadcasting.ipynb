{
  "nbformat": 4,
  "nbformat_minor": 0,
  "metadata": {
    "anaconda-cloud": {},
    "kernelspec": {
      "display_name": "Python 3",
      "language": "python",
      "name": "python3"
    },
    "language_info": {
      "codemirror_mode": {
        "name": "ipython",
        "version": 3
      },
      "file_extension": ".py",
      "mimetype": "text/x-python",
      "name": "python",
      "nbconvert_exporter": "python",
      "pygments_lexer": "ipython3",
      "version": "3.5.1"
    },
    "colab": {
      "name": "Faisal/Computation on Arrays: Broadcasting.ipynb",
      "provenance": [],
      "collapsed_sections": [],
      "include_colab_link": true
    }
  },
  "cells": [
    {
      "cell_type": "markdown",
      "metadata": {
        "id": "view-in-github",
        "colab_type": "text"
      },
      "source": [
        "<a href=\"https://colab.research.google.com/github/ReefAmarin/HTU-DS-2021/blob/main/Faisal_Computation_on_Arrays_Broadcasting.ipynb\" target=\"_parent\"><img src=\"https://colab.research.google.com/assets/colab-badge.svg\" alt=\"Open In Colab\"/></a>"
      ]
    },
    {
      "cell_type": "markdown",
      "metadata": {
        "id": "1umsvSXHrIDk"
      },
      "source": [
        " ***The term broadcasting refers to how numpy treats arrays with different Dimension during arithmetic operations which lead to certain constraints, the smaller array is broadcast across the larger array so that they have compatible shapes***"
      ]
    },
    {
      "cell_type": "code",
      "metadata": {
        "id": "kG8DI_YBnEmr"
      },
      "source": [
        "import numpy as np"
      ],
      "execution_count": null,
      "outputs": []
    },
    {
      "cell_type": "code",
      "metadata": {
        "id": "rG3fLmxEqsu8",
        "colab": {
          "base_uri": "https://localhost:8080/"
        },
        "outputId": "70704b7f-1738-4679-9205-da5f16716269"
      },
      "source": [
        "a = np.array([1, 2, 3])\n",
        "b = np.array([2, 2, 2]) \n",
        "a * b"
      ],
      "execution_count": null,
      "outputs": [
        {
          "output_type": "execute_result",
          "data": {
            "text/plain": [
              "array([2, 4, 6])"
            ]
          },
          "metadata": {
            "tags": []
          },
          "execution_count": 58
        }
      ]
    },
    {
      "cell_type": "code",
      "metadata": {
        "id": "9bEBfcnSsAug",
        "colab": {
          "base_uri": "https://localhost:8080/"
        },
        "outputId": "49e52c3a-9708-4d99-9bc4-e21ed9d74589"
      },
      "source": [
        "a1 = np.array([1,2 ,3])\n",
        "b1 = np.array([4,5,6])\n",
        "\n",
        "a1 + b1"
      ],
      "execution_count": null,
      "outputs": [
        {
          "output_type": "execute_result",
          "data": {
            "text/plain": [
              "array([5, 7, 9])"
            ]
          },
          "metadata": {
            "tags": []
          },
          "execution_count": 59
        }
      ]
    },
    {
      "cell_type": "markdown",
      "metadata": {
        "id": "5vhole_3nEmv"
      },
      "source": [
        " **Illustrate the Broadcasting**"
      ]
    },
    {
      "cell_type": "code",
      "metadata": {
        "id": "-tXQlqedvU7b",
        "colab": {
          "base_uri": "https://localhost:8080/"
        },
        "outputId": "f6b2467a-07ed-4593-d201-477800d5b1a4"
      },
      "source": [
        "np.arange(3) + 5"
      ],
      "execution_count": null,
      "outputs": [
        {
          "output_type": "execute_result",
          "data": {
            "text/plain": [
              "array([5, 6, 7])"
            ]
          },
          "metadata": {
            "tags": []
          },
          "execution_count": 60
        }
      ]
    },
    {
      "cell_type": "code",
      "metadata": {
        "id": "KOLaASSnvZij",
        "colab": {
          "base_uri": "https://localhost:8080/"
        },
        "outputId": "67591b7b-4dfb-4a4b-f8f2-a8a66441ba2e"
      },
      "source": [
        "np.ones((3,3)) + np.arange(3)"
      ],
      "execution_count": null,
      "outputs": [
        {
          "output_type": "execute_result",
          "data": {
            "text/plain": [
              "array([[1., 2., 3.],\n",
              "       [1., 2., 3.],\n",
              "       [1., 2., 3.]])"
            ]
          },
          "metadata": {
            "tags": []
          },
          "execution_count": 61
        }
      ]
    },
    {
      "cell_type": "code",
      "metadata": {
        "id": "kU-b_jsinEmv"
      },
      "source": [
        "np.arange(3).reshape(3,1) + np.arange(3)"
      ],
      "execution_count": null,
      "outputs": []
    },
    {
      "cell_type": "markdown",
      "metadata": {
        "id": "7qpXzlOknEmw"
      },
      "source": [
        "![Broadcasting Visual](https://github.com/jakevdp/PythonDataScienceHandbook/blob/master/notebooks/figures/02.05-broadcasting.png?raw=1)"
      ]
    },
    {
      "cell_type": "markdown",
      "metadata": {
        "id": "MGT5eBjj7hyF"
      },
      "source": [
        "**Rules:**\n",
        "\n",
        "1.   Having the same number of shape\n",
        "2.   Having the same number of rows or columns AND the other rows or columns equal to one\n",
        "3.   Number one can match with any number\n",
        "\n",
        "\n",
        "\n"
      ]
    },
    {
      "cell_type": "markdown",
      "metadata": {
        "id": "1AgwInL31T9F"
      },
      "source": [
        "**Reshape & Newaxis**"
      ]
    },
    {
      "cell_type": "markdown",
      "metadata": {
        "id": "ZlsYS9OieK1p"
      },
      "source": [
        "**np.reshape:\n",
        "It is used to reshape the array to the desired layout**\n"
      ]
    },
    {
      "cell_type": "markdown",
      "metadata": {
        "id": "2MfJKphZek4L"
      },
      "source": [
        "**np.newaxis:\n",
        "It is used to increase the dimension of the existing array**"
      ]
    },
    {
      "cell_type": "code",
      "metadata": {
        "id": "QkUY9UNLgYqK",
        "colab": {
          "base_uri": "https://localhost:8080/"
        },
        "outputId": "804ca23b-be9a-4baf-d260-4b03d34223ca"
      },
      "source": [
        "y = np.arange(8)\n",
        "y.shape"
      ],
      "execution_count": 9,
      "outputs": [
        {
          "output_type": "execute_result",
          "data": {
            "text/plain": [
              "(8,)"
            ]
          },
          "metadata": {
            "tags": []
          },
          "execution_count": 9
        }
      ]
    },
    {
      "cell_type": "code",
      "metadata": {
        "id": "ZfJITUWMggo-",
        "colab": {
          "base_uri": "https://localhost:8080/"
        },
        "outputId": "657dbdb4-4d0c-4569-c0ec-02b22a6e20ef"
      },
      "source": [
        "y = y.reshape(4,2)\n",
        "y.shape"
      ],
      "execution_count": 10,
      "outputs": [
        {
          "output_type": "execute_result",
          "data": {
            "text/plain": [
              "(4, 2)"
            ]
          },
          "metadata": {
            "tags": []
          },
          "execution_count": 10
        }
      ]
    },
    {
      "cell_type": "code",
      "metadata": {
        "id": "oBYdCUXi1hsE",
        "colab": {
          "base_uri": "https://localhost:8080/"
        },
        "outputId": "2d1c7298-9eec-4cb5-b930-4206059ea12e"
      },
      "source": [
        "z = np.arange(6)\n",
        "z.shape"
      ],
      "execution_count": 11,
      "outputs": [
        {
          "output_type": "execute_result",
          "data": {
            "text/plain": [
              "(6,)"
            ]
          },
          "metadata": {
            "tags": []
          },
          "execution_count": 11
        }
      ]
    },
    {
      "cell_type": "code",
      "metadata": {
        "id": "ndTBlwNeW6SD"
      },
      "source": [
        ""
      ],
      "execution_count": null,
      "outputs": []
    },
    {
      "cell_type": "code",
      "metadata": {
        "id": "YJudHrM2e9g9",
        "colab": {
          "base_uri": "https://localhost:8080/"
        },
        "outputId": "fb1b262f-478e-48e2-915a-58d9d71d2507"
      },
      "source": [
        "z.shape"
      ],
      "execution_count": 12,
      "outputs": [
        {
          "output_type": "execute_result",
          "data": {
            "text/plain": [
              "(6,)"
            ]
          },
          "metadata": {
            "tags": []
          },
          "execution_count": 12
        }
      ]
    },
    {
      "cell_type": "code",
      "metadata": {
        "id": "ZLUhXj0i1lsO",
        "colab": {
          "base_uri": "https://localhost:8080/"
        },
        "outputId": "921c9f8e-da11-421c-e934-5436310efd97"
      },
      "source": [
        "z = z[:,np.newaxis]\n",
        "z.shape"
      ],
      "execution_count": 13,
      "outputs": [
        {
          "output_type": "execute_result",
          "data": {
            "text/plain": [
              "(6, 1)"
            ]
          },
          "metadata": {
            "tags": []
          },
          "execution_count": 13
        }
      ]
    },
    {
      "cell_type": "code",
      "metadata": {
        "id": "Y1aOlrQ_fBgo",
        "outputId": "790660e1-928a-4b23-deca-7fecc7421acd",
        "colab": {
          "base_uri": "https://localhost:8080/"
        }
      },
      "source": [
        "z"
      ],
      "execution_count": 14,
      "outputs": [
        {
          "output_type": "execute_result",
          "data": {
            "text/plain": [
              "array([[0],\n",
              "       [1],\n",
              "       [2],\n",
              "       [3],\n",
              "       [4],\n",
              "       [5]])"
            ]
          },
          "metadata": {
            "tags": []
          },
          "execution_count": 14
        }
      ]
    },
    {
      "cell_type": "markdown",
      "metadata": {
        "id": "Lwq3QXbp4r22"
      },
      "source": [
        "![Broadcasting Visual](https://i.stack.imgur.com/zkMBy.png)"
      ]
    },
    {
      "cell_type": "markdown",
      "metadata": {
        "id": "vgXGehwN8T8V"
      },
      "source": [
        "**Example 1**"
      ]
    },
    {
      "cell_type": "code",
      "metadata": {
        "id": "31rn321X8Qq4"
      },
      "source": [
        "x = np.arange(6).reshape(2,3)\n",
        "\n",
        "y1 = np.arange(6).reshape(2,3) # compatible\n",
        "y2 = np.arange(8).reshape(2,4) # compatible\n",
        "y3 = np.arange(3).reshape(1,3) # compatible\n",
        "y4 = np.arange(3) # compatible\n",
        "\n",
        "\n",
        "y5 = np.arange(6).reshape(3,2) # NOT compatible\n",
        "y6 = np.arange(2) # NOT compatible\n",
        "y7 = np.arange(3).reshape(3,1) # NOT compatible"
      ],
      "execution_count": 15,
      "outputs": []
    },
    {
      "cell_type": "code",
      "metadata": {
        "id": "kTA0VBIU9d2Q",
        "colab": {
          "base_uri": "https://localhost:8080/",
          "height": 163
        },
        "outputId": "7cc44b65-4f4d-4f38-bbe7-193adfc11ece"
      },
      "source": [
        "x + y2"
      ],
      "execution_count": 19,
      "outputs": [
        {
          "output_type": "error",
          "ename": "ValueError",
          "evalue": "ignored",
          "traceback": [
            "\u001b[0;31m---------------------------------------------------------------------------\u001b[0m",
            "\u001b[0;31mValueError\u001b[0m                                Traceback (most recent call last)",
            "\u001b[0;32m<ipython-input-19-f76c5dfdae89>\u001b[0m in \u001b[0;36m<module>\u001b[0;34m()\u001b[0m\n\u001b[0;32m----> 1\u001b[0;31m \u001b[0mx\u001b[0m \u001b[0;34m+\u001b[0m \u001b[0my2\u001b[0m\u001b[0;34m\u001b[0m\u001b[0;34m\u001b[0m\u001b[0m\n\u001b[0m",
            "\u001b[0;31mValueError\u001b[0m: operands could not be broadcast together with shapes (2,3) (2,4) "
          ]
        }
      ]
    },
    {
      "cell_type": "markdown",
      "metadata": {
        "id": "h5JxfSiw9Btk"
      },
      "source": [
        "**This rule is exclusive for ND Arrays for broadcasting check the  match dimensions number from right to left (Number one can match with any number)**\n",
        "\n",
        "**Example 2 & 3 ilustrate the rule**"
      ]
    },
    {
      "cell_type": "markdown",
      "metadata": {
        "id": "M_fuXz-IFu9t"
      },
      "source": [
        "**Example 2 (3D,2D) Arrays**"
      ]
    },
    {
      "cell_type": "code",
      "metadata": {
        "id": "x8S9Ab2AF0OT"
      },
      "source": [
        "y = np.arange(60).reshape(4,3,5)\n",
        "\n",
        "x1 = np.arange(60).reshape(4,3,5) # compatible\n",
        "x2 = np.arange(4).reshape(4,1,1) # compatible\n",
        "x3 = np.arange(20).reshape(4,1,5) # compatible\n",
        "x4 = np.arange(5).reshape(1,1,5) # compatible\n",
        "x5 = np.arange(12).reshape(4,3)[:,:,np.newaxis] # compatible\n",
        "x6 = np.arange(15).reshape(3,5) # compatible\n",
        "x7 = np.arange(5)\n",
        "\n",
        "x8 = np.arange(12).reshape(4,3) # NOT compatible\n",
        "x9 = np.arange(60).reshape(5,4,3) # NOT compatible\n",
        "x10 = np.arange(4).reshape(1,4,1) # NOT compatible\n",
        "\n",
        "\n"
      ],
      "execution_count": null,
      "outputs": []
    },
    {
      "cell_type": "code",
      "metadata": {
        "id": "jGlcN4H1Gz58"
      },
      "source": [
        "y+x1"
      ],
      "execution_count": null,
      "outputs": []
    },
    {
      "cell_type": "markdown",
      "metadata": {
        "id": "n15DToM5hJeQ"
      },
      "source": [
        "**Example 3 (More Than 3D)**"
      ]
    },
    {
      "cell_type": "code",
      "metadata": {
        "id": "5BEGpZH8Jk9_"
      },
      "source": [
        "Z = np.arange(120).reshape(5,3,4,2)\n",
        "R = np.arange(24).reshape(3,4,2)\n",
        "Z + R"
      ],
      "execution_count": null,
      "outputs": []
    },
    {
      "cell_type": "code",
      "metadata": {
        "id": "vemCZkk9byHJ"
      },
      "source": [
        "V = np.arange(48).reshape(2,4,3,2)\n",
        "N = np.arange(6).reshape(3,2)\n",
        "V + N"
      ],
      "execution_count": null,
      "outputs": []
    },
    {
      "cell_type": "code",
      "metadata": {
        "id": "07NIWB-UKSXg"
      },
      "source": [
        "U = np.arange(90).reshape(3,2,5,3)\n",
        "Q = np.arange(30).reshape(2,5,3)\n",
        "U + Q"
      ],
      "execution_count": null,
      "outputs": []
    },
    {
      "cell_type": "code",
      "metadata": {
        "id": "fZVr6hi5fFVy"
      },
      "source": [
        "L = np.arange(720).reshape(6,5,4,3,2)\n",
        "\n",
        "M1 = np.arange(2) # compatible\n",
        "M2 = np.arange(6).reshape(3,2) # compatible\n",
        "M3 = np.arange(24).reshape(4,3,2,) # compatible\n",
        "M4 = np.arange(120).reshape(5,4,3,2) # compatible\n",
        "M5 = np.arange(720).reshape(6,5,4,3,2)# compatible\n",
        "\n",
        "M6 = np.arange(6) # NOT compatible\n",
        "M7 = np.arange(30).reshape(6,5) # NOT compatible\n",
        "M8 = np.arange(120).reshape(6,5,4) # NOT compatible"
      ],
      "execution_count": null,
      "outputs": []
    },
    {
      "cell_type": "code",
      "metadata": {
        "id": "WmHhi0qijJjH"
      },
      "source": [
        "L + M1"
      ],
      "execution_count": null,
      "outputs": []
    },
    {
      "cell_type": "code",
      "metadata": {
        "id": "8I0D8JAv9cck"
      },
      "source": [
        "# G = np.random.random(5,3,6,9,7,4,1,2,5)\n",
        "# K = np.random.random()\n"
      ],
      "execution_count": null,
      "outputs": []
    },
    {
      "cell_type": "markdown",
      "metadata": {
        "id": "2_XBNs0RnEm4"
      },
      "source": [
        " **Centering an Array :**\n",
        "In mathematics the centering array is the subtracting the mean of the components of the vector from every component of that vector."
      ]
    },
    {
      "cell_type": "code",
      "metadata": {
        "id": "2gGXPaegnEm4"
      },
      "source": [
        "X = np.random.random((10,3))\n",
        "X"
      ],
      "execution_count": null,
      "outputs": []
    },
    {
      "cell_type": "markdown",
      "metadata": {
        "id": "ludTu6jEnEm4"
      },
      "source": [
        "Compute the mean of each feature using the ``mean`` aggregate across the first dimension:"
      ]
    },
    {
      "cell_type": "code",
      "metadata": {
        "id": "U9jLB0munEm4"
      },
      "source": [
        "Xmean = X.mean(0)\n",
        "Xmean"
      ],
      "execution_count": null,
      "outputs": []
    },
    {
      "cell_type": "markdown",
      "metadata": {
        "id": "s7ovYuqUnEm5"
      },
      "source": [
        "And now we can center the ``X`` array by subtracting the mean (this is a broadcasting operation):"
      ]
    },
    {
      "cell_type": "code",
      "metadata": {
        "id": "5xIKmW5VnEm5"
      },
      "source": [
        "X_centered = X - Xmean\n",
        "X_centered"
      ],
      "execution_count": null,
      "outputs": []
    },
    {
      "cell_type": "markdown",
      "metadata": {
        "id": "DbKPTu39nEm5"
      },
      "source": [
        "To double-check that we've done this correctly, we can check that the centered array has near zero mean:"
      ]
    },
    {
      "cell_type": "code",
      "metadata": {
        "id": "2-wqrMrknEm5"
      },
      "source": [
        "X_centered.mean(0)"
      ],
      "execution_count": null,
      "outputs": []
    },
    {
      "cell_type": "markdown",
      "metadata": {
        "id": "RxUzI1AgnEm6"
      },
      "source": [
        "### Plotting a two-dimensional function"
      ]
    },
    {
      "cell_type": "markdown",
      "metadata": {
        "id": "5ii7JcRdnEm6"
      },
      "source": [
        "One place that broadcasting is very useful is in displaying images based on two-dimensional functions.\n",
        "If we want to define a function $z = f(x, y)$, broadcasting can be used to compute the function across the grid:"
      ]
    },
    {
      "cell_type": "code",
      "metadata": {
        "id": "1c1t8mWQnEm6"
      },
      "source": [
        "# x and y have 50 steps from 0 to 5\n",
        "x = np.linspace(0, 5, 50)\n",
        "y = np.linspace(0, 5, 50)[:, np.newaxis]\n",
        "\n",
        "z = np.sin(x) ** 10 + np.cos(10 + y * x) * np.cos(x)"
      ],
      "execution_count": null,
      "outputs": []
    },
    {
      "cell_type": "code",
      "metadata": {
        "id": "-rBG-XFJBwkO"
      },
      "source": [
        "x"
      ],
      "execution_count": null,
      "outputs": []
    },
    {
      "cell_type": "code",
      "metadata": {
        "id": "T3LRB4NeB8MD"
      },
      "source": [
        "y"
      ],
      "execution_count": null,
      "outputs": []
    },
    {
      "cell_type": "code",
      "metadata": {
        "id": "0YRFPq4NB-Xn"
      },
      "source": [
        "z"
      ],
      "execution_count": null,
      "outputs": []
    },
    {
      "cell_type": "markdown",
      "metadata": {
        "id": "0o5w1X1UnEm6"
      },
      "source": [
        "We'll use Matplotlib to plot this two-dimensional array (these tools will be discussed in full in [Density and Contour Plots](04.04-Density-and-Contour-Plots.ipynb)):"
      ]
    },
    {
      "cell_type": "code",
      "metadata": {
        "id": "rZPlUC3ZnEm6"
      },
      "source": [
        "%matplotlib inline\n",
        "import matplotlib.pyplot as plt"
      ],
      "execution_count": null,
      "outputs": []
    },
    {
      "cell_type": "code",
      "metadata": {
        "id": "kubSdaZOnEm7"
      },
      "source": [
        "plt.imshow(z, origin='lower', extent=[0, 5, 0, 5],\n",
        "           cmap='viridis')\n",
        "plt.colorbar();"
      ],
      "execution_count": null,
      "outputs": []
    },
    {
      "cell_type": "markdown",
      "metadata": {
        "id": "6uza3GRxnEm7"
      },
      "source": [
        "The result is a compelling visualization of the two-dimensional function."
      ]
    },
    {
      "cell_type": "markdown",
      "metadata": {
        "id": "FpHU6K3CnEm7"
      },
      "source": [
        "<!--NAVIGATION-->\n",
        "< [Aggregations: Min, Max, and Everything In Between](02.04-Computation-on-arrays-aggregates.ipynb) | [Contents](Index.ipynb) | [Comparisons, Masks, and Boolean Logic](02.06-Boolean-Arrays-and-Masks.ipynb) >\n",
        "\n",
        "<a href=\"https://colab.research.google.com/github/jakevdp/PythonDataScienceHandbook/blob/master/notebooks/02.05-Computation-on-arrays-broadcasting.ipynb\"><img align=\"left\" src=\"https://colab.research.google.com/assets/colab-badge.svg\" alt=\"Open in Colab\" title=\"Open and Execute in Google Colaboratory\"></a>\n"
      ]
    }
  ]
}