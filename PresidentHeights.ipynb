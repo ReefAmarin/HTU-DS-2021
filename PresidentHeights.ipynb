{
  "nbformat": 4,
  "nbformat_minor": 0,
  "metadata": {
    "colab": {
      "name": "PresidentHeights.ipynb",
      "provenance": [],
      "authorship_tag": "ABX9TyMquM9sVqR3/VCnDnWKqZHK",
      "include_colab_link": true
    },
    "kernelspec": {
      "name": "python3",
      "display_name": "Python 3"
    },
    "language_info": {
      "name": "python"
    }
  },
  "cells": [
    {
      "cell_type": "markdown",
      "metadata": {
        "id": "view-in-github",
        "colab_type": "text"
      },
      "source": [
        "<a href=\"https://colab.research.google.com/github/ReefAmarin/HTU-DS-2021/blob/main/PresidentHeights.ipynb\" target=\"_parent\"><img src=\"https://colab.research.google.com/assets/colab-badge.svg\" alt=\"Open In Colab\"/></a>"
      ]
    },
    {
      "cell_type": "code",
      "metadata": {
        "colab": {
          "base_uri": "https://localhost:8080/"
        },
        "id": "ho-tWGfXis6v",
        "outputId": "75459a91-2e79-4300-ed6f-7de0f26cc63b"
      },
      "source": [
        "!head -4 data/president_heights.csv\n"
      ],
      "execution_count": 1,
      "outputs": [
        {
          "output_type": "stream",
          "text": [
            "head: cannot open 'data/president_heights.csv' for reading: No such file or directory\n"
          ],
          "name": "stdout"
        }
      ]
    }
  ]
}