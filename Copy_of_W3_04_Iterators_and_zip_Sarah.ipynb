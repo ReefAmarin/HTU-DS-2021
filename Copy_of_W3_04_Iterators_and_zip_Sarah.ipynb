{
  "nbformat": 4,
  "nbformat_minor": 0,
  "metadata": {
    "colab": {
      "name": "Copy of W3_04_Iterators_and_zip_Sarah.ipynb",
      "provenance": [],
      "collapsed_sections": [],
      "toc_visible": true,
      "include_colab_link": true
    },
    "kernelspec": {
      "name": "python3",
      "display_name": "Python 3"
    },
    "language_info": {
      "name": "python"
    }
  },
  "cells": [
    {
      "cell_type": "markdown",
      "metadata": {
        "id": "view-in-github",
        "colab_type": "text"
      },
      "source": [
        "<a href=\"https://colab.research.google.com/github/ReefAmarin/HTU-DS-2021/blob/main/Copy_of_W3_04_Iterators_and_zip_Sarah.ipynb\" target=\"_parent\"><img src=\"https://colab.research.google.com/assets/colab-badge.svg\" alt=\"Open In Colab\"/></a>"
      ]
    },
    {
      "cell_type": "markdown",
      "metadata": {
        "id": "51XBdLuGu4ZX"
      },
      "source": [
        "# Iterable vs Iterator ?\n",
        "**Iterables**\n",
        "\n",
        "\n",
        "*   Are obejects contain data that can be iterated upon,\n",
        " like: string, sets, tuples, lists and dicts.\n",
        "\n",
        "*   We can check if an object is iterable or not just by typing `dir(object_name)` and find if `__iter__` method is mentioned in the list.\n",
        "\n",
        "\n",
        " \n",
        "**Iterator**\n",
        "\n",
        "*   We can generate iterator from iterable using `iter( )` method.\n",
        "\n",
        "*   Is an object that we can use to loop over iterable objects. Using `next( )` method to return one element at a time.\n",
        "*   when there no elements left it gives `StopIteration` error.\n",
        "\n",
        "\n",
        "\n",
        " \n",
        "\n"
      ]
    },
    {
      "cell_type": "markdown",
      "metadata": {
        "id": "NsKuoZo3ycss"
      },
      "source": [
        "![iterate.png](data:image/png;base64,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)"
      ]
    },
    {
      "cell_type": "code",
      "metadata": {
        "id": "_dCzBUOE2s06"
      },
      "source": [
        "L = [1,5,'i']\n",
        "#dir(L)"
      ],
      "execution_count": null,
      "outputs": []
    },
    {
      "cell_type": "code",
      "metadata": {
        "id": "0bvWHlUB3iJT"
      },
      "source": [
        "#dir(int)"
      ],
      "execution_count": null,
      "outputs": []
    },
    {
      "cell_type": "markdown",
      "metadata": {
        "id": "eqctnqzE4q9m"
      },
      "source": [
        "let's try to iterate a tuple for example"
      ]
    },
    {
      "cell_type": "code",
      "metadata": {
        "id": "CUqzaEWK43UT"
      },
      "source": [
        "a=(1,2,'3')\n",
        "x = iter(a)\n",
        "#print(next(x))\n",
        "#print(next(x))\n",
        "#print(next(x))\n",
        "#print(next(x))  # this line will make 'StopIteration' error! cauase there is no more elements left!\n"
      ],
      "execution_count": null,
      "outputs": []
    },
    {
      "cell_type": "markdown",
      "metadata": {
        "id": "_1n-8EWB3v14"
      },
      "source": [
        "`for` loop actually uses iter and next methods back-stage!"
      ]
    },
    {
      "cell_type": "code",
      "metadata": {
        "id": "hntEc9A43_Mw"
      },
      "source": [
        "for i in 'python':\n",
        "  print(i,end=' ')"
      ],
      "execution_count": null,
      "outputs": []
    },
    {
      "cell_type": "code",
      "metadata": {
        "id": "0YU6vmbJ4F3_"
      },
      "source": [
        "# this is actually what happens back-stage! but when there is no more elements the loop breaks\n",
        "for i in iter('python'):\n",
        "  print(i,end=' ')"
      ],
      "execution_count": null,
      "outputs": []
    },
    {
      "cell_type": "markdown",
      "metadata": {
        "id": "X-fUKksfAJqZ"
      },
      "source": [
        "# ``range( )``: A List Is Not Always a List\n",
        "Perhaps the most common example of this indirect iteration is the ``range()`` function in Python 3 , which returns not a list, but a special ``range()`` object:"
      ]
    },
    {
      "cell_type": "code",
      "metadata": {
        "colab": {
          "base_uri": "https://localhost:8080/"
        },
        "id": "r_dn3HR9Ad-y",
        "outputId": "2ac9809c-a614-496b-a8eb-9d0582f98e64"
      },
      "source": [
        "L1= [1,2]\n",
        "print('L1 type :',type(L1))\n",
        "x = iter(L1)\n",
        "print('x type :', type(x))"
      ],
      "execution_count": null,
      "outputs": [
        {
          "output_type": "stream",
          "text": [
            "L1 type : <class 'list'>\n",
            "x type : <class 'list_iterator'>\n"
          ],
          "name": "stdout"
        }
      ]
    },
    {
      "cell_type": "code",
      "metadata": {
        "colab": {
          "base_uri": "https://localhost:8080/"
        },
        "id": "H9pnnxpgCf5N",
        "outputId": "e93332f1-e404-43a2-979f-b0b9ee131cac"
      },
      "source": [
        "range (10)\n",
        "print( 'range type: ', type(range))\n",
        "y = iter(range(10))\n",
        "print('y type: ', type(y) )"
      ],
      "execution_count": null,
      "outputs": [
        {
          "output_type": "stream",
          "text": [
            "range type:  <class 'type'>\n",
            "y type:  <class 'range_iterator'>\n"
          ],
          "name": "stdout"
        }
      ]
    },
    {
      "cell_type": "code",
      "metadata": {
        "colab": {
          "base_uri": "https://localhost:8080/"
        },
        "id": "onQhlViyD1QJ",
        "outputId": "ed12a407-cf2f-4f45-b8ef-9fc3b80121d2"
      },
      "source": [
        "for i in y: #same as in iter(range(10) as range(10))\n",
        "  print(i,end=' ')"
      ],
      "execution_count": null,
      "outputs": [
        {
          "output_type": "stream",
          "text": [
            "0 1 2 3 4 5 6 7 8 9 "
          ],
          "name": "stdout"
        }
      ]
    },
    {
      "cell_type": "markdown",
      "metadata": {
        "id": "9GuqrQYJEN5C"
      },
      "source": [
        "So Python knows to treat it *as if* it's a list!"
      ]
    },
    {
      "cell_type": "markdown",
      "metadata": {
        "id": "Vb6aVYL7Ec6g"
      },
      "source": [
        "-----------------\n",
        "<p><img alt=\"Colaboratory logo\" height=\"30px\" src=\"/img/colab_favicon.ico\" align=\"left\" hspace=\"10px\" vspace=\"0px\"></p>\n",
        "\n",
        "\n",
        "**Hands-on:**\n",
        "  - Use range to print the numbers from 85 to 99\n",
        "---------"
      ]
    },
    {
      "cell_type": "code",
      "metadata": {
        "id": "RJef9QylEqvd"
      },
      "source": [
        "#solve it here!"
      ],
      "execution_count": null,
      "outputs": []
    },
    {
      "cell_type": "markdown",
      "metadata": {
        "id": "E4Ry2SqGFL_w"
      },
      "source": [
        "The benefit of the iterator indirection is that *the full list is never explicitly created!*\n",
        "We can see this by doing a range calculation that would overwhelm our system memory if we actually instantiated it (note that in Python 2, ``range`` creates a list, so running the following will not lead to good things!):"
      ]
    },
    {
      "cell_type": "code",
      "metadata": {
        "id": "WxKTy1yZFUjJ"
      },
      "source": [
        "N = 10 ** 12\n",
        "for i in range(N):\n",
        "    if i >= 10: break\n",
        "    print(i, end=' ')"
      ],
      "execution_count": null,
      "outputs": []
    },
    {
      "cell_type": "markdown",
      "metadata": {
        "id": "1X06HBnzGZwh"
      },
      "source": [
        "If ``range`` were to actually create that list of one trillion values, it would occupy tens of terabytes of machine memory: a waste, given the fact that we're ignoring all but the first 10 values!\n",
        "\n",
        "In fact, there's no reason that iterators ever have to end at all!\n",
        "Python's ``itertools`` library contains a ``count`` function that acts as an infinite range:"
      ]
    },
    {
      "cell_type": "code",
      "metadata": {
        "id": "FJCyCiqEGmZT"
      },
      "source": [
        "from itertools import count  #this will make the for loop acts as while True until a Break condition is satisfied!\n",
        "\n",
        "for i in count():\n",
        "    if i >= 1000:\n",
        "        break                #try to remove the break and you will have an infinite loop ;) \n",
        "    print(i, end=', ')"
      ],
      "execution_count": null,
      "outputs": []
    },
    {
      "cell_type": "code",
      "metadata": {
        "id": "XUpGP6g5HCCT"
      },
      "source": [
        "#from itertools import count       # this will lead to a KeyboardInterrupt error due to infinite loop\n",
        "\n",
        "#for i in count():\n",
        "   # print(i, end=', ')"
      ],
      "execution_count": null,
      "outputs": []
    },
    {
      "cell_type": "markdown",
      "metadata": {
        "id": "_pvhH47zIuDK"
      },
      "source": [
        "#Useful Iterators:"
      ]
    },
    {
      "cell_type": "markdown",
      "metadata": {
        "id": "kRC03LFZPcVn"
      },
      "source": [
        "## ``enumerate``:\n",
        "The `enumerate()` method assigns an index to each item in an iterable object that can be used to reference the item later. ... It makes it easier to keep track of the content of an iterable object"
      ]
    },
    {
      "cell_type": "markdown",
      "metadata": {
        "id": "Xub-GBxHSgpZ"
      },
      "source": [
        "![enu.gif](data:image/gif;base64,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)"
      ]
    },
    {
      "cell_type": "code",
      "metadata": {
        "id": "xgzf3I1rP--7"
      },
      "source": [
        "# a clean pythonic code to apply enumerate!\n",
        "s1 = \"geeks\"                      \n",
        "#obj1 = list(enumerate(s1,0))     #try to change 0 to 2 and see the difference!\n",
        "print(list(enumerate(s1)))"
      ],
      "execution_count": null,
      "outputs": []
    },
    {
      "cell_type": "code",
      "metadata": {
        "id": "MCOPCDkmTknK"
      },
      "source": [
        "#let's try to use enumerate in for loop!\n",
        "L = [2,4,6,8,10]"
      ],
      "execution_count": null,
      "outputs": []
    },
    {
      "cell_type": "code",
      "metadata": {
        "id": "am1iUEbqTpmy"
      },
      "source": [
        "for i, val in enumerate(L):   # i for index , val  for value\n",
        "    print(i, val)"
      ],
      "execution_count": null,
      "outputs": []
    },
    {
      "cell_type": "code",
      "metadata": {
        "id": "64Kx4I2EUUKY"
      },
      "source": [
        "for ele in enumerate(L):\n",
        "    print (ele)      #it will return them as tuples!"
      ],
      "execution_count": null,
      "outputs": []
    },
    {
      "cell_type": "markdown",
      "metadata": {
        "id": "NWwKvxjnVJ9B"
      },
      "source": [
        "-----------------\n",
        "<p><img alt=\"Colaboratory logo\" height=\"30px\" src=\"/img/colab_favicon.ico\" align=\"left\" hspace=\"10px\" vspace=\"0px\"></p>\n",
        "\n",
        "\n",
        "**Hands-on:**\n",
        "  - Use enumerate to print the index of `range(10)` starting from 10. The output should look like this example\n",
        "```\n",
        "  10 --> 0\n",
        "  11 --> 1\n",
        "    .\n",
        "    .\n",
        "  19--> 9\n",
        "```\n",
        "---------"
      ]
    },
    {
      "cell_type": "code",
      "metadata": {
        "id": "NIwfkKagWGO2"
      },
      "source": [
        "# try to solve it here!"
      ],
      "execution_count": null,
      "outputs": []
    },
    {
      "cell_type": "code",
      "metadata": {
        "id": "J8tQOnMrcGwc"
      },
      "source": [
        "for i, val in enumerate(range(10),10):\n",
        "    print(i,'-->', val)"
      ],
      "execution_count": null,
      "outputs": []
    },
    {
      "cell_type": "markdown",
      "metadata": {
        "id": "pbn1-WGyWMuA"
      },
      "source": [
        "## ``zip``\n",
        "Other times, you may have multiple lists that you want to iterate over simultaneously.\n",
        "You could certainly iterate over the index as in the non-Pythonic example we looked at previously, but it is better to use the ``zip`` iterator, which zips together iterables:"
      ]
    },
    {
      "cell_type": "code",
      "metadata": {
        "id": "9ZmelDy3ZXWB"
      },
      "source": [
        "NAME = ['jack', 'ali', 'murad', 'sami', 'samar']\n",
        "AGE = [3, 6, 9, 12, 15]\n",
        "for name, age in zip(NAME,AGE):\n",
        "    print(f'NAME IS = {name}  ,    And THE AGE IS = {age}')"
      ],
      "execution_count": null,
      "outputs": []
    },
    {
      "cell_type": "code",
      "metadata": {
        "id": "Qj1erfZDaVQF"
      },
      "source": [
        "L= [1,2,3,4,5]\n",
        "R= [5,6,7,8,9,10,11]\n",
        "list(zip(L, R))     #the shortest list will decide the length of the zip!"
      ],
      "execution_count": null,
      "outputs": []
    },
    {
      "cell_type": "markdown",
      "metadata": {
        "id": "Y-F_nHRwbAI8"
      },
      "source": [
        "-----------------\n",
        "<p><img alt=\"Colaboratory logo\" height=\"30px\" src=\"/img/colab_favicon.ico\" align=\"left\" hspace=\"10px\" vspace=\"0px\"></p>\n",
        "\n",
        "\n",
        "**Hands-on:**\n",
        "  - Use `zip` and `range` to generate the follwoing output \n",
        "```\n",
        "  5 --> 6\n",
        "  6 --> 8\n",
        "  8 --> 9\n",
        "```\n",
        "Hint: note that 7 is eleminated in each range! \n",
        "---------"
      ]
    },
    {
      "cell_type": "code",
      "metadata": {
        "id": "n6qYRnTGbUPM"
      },
      "source": [
        "#try to solve it here!"
      ],
      "execution_count": null,
      "outputs": []
    },
    {
      "cell_type": "code",
      "metadata": {
        "id": "7lt9YvgOb7Rw"
      },
      "source": [
        "L1=range(5,9)\n",
        "L2=range(6,10)\n",
        "for i,j in zip(L1,L2):\n",
        "  if j==7:\n",
        "    continue \n",
        "  if i==7:\n",
        "    print(i-1,'-->',j)\n",
        "  else:\n",
        "    print(i,'-->',j)"
      ],
      "execution_count": null,
      "outputs": []
    },
    {
      "cell_type": "markdown",
      "metadata": {
        "id": "tIlOV9NrbX3i"
      },
      "source": [
        ""
      ]
    }
  ]
}